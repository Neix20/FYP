{
 "cells": [
  {
   "cell_type": "markdown",
   "id": "developed-keyboard",
   "metadata": {},
   "source": [
    "# Title: CORRELATION MODEL IN THE ADOPTION OF E-PAYMENT SERVICES"
   ]
  },
  {
   "cell_type": "markdown",
   "id": "vulnerable-nomination",
   "metadata": {},
   "source": [
    "## Load Libraries"
   ]
  },
  {
   "cell_type": "code",
   "execution_count": 26,
   "id": "molecular-party",
   "metadata": {},
   "outputs": [],
   "source": [
    "import time\n",
    "import numpy as np\n",
    "import pandas as pd\n",
    "import seaborn as sns\n",
    "import matplotlib.pyplot as plt\n",
    "import scipy.stats as stats\n",
    "\n",
    "from sklearn import svm, tree\n",
    "from sklearn.tree import DecisionTreeClassifier\n",
    "from sklearn.ensemble import RandomForestClassifier\n",
    "\n",
    "from sklearn.model_selection import train_test_split, KFold\n",
    "from sklearn.metrics import accuracy_score, classification_report, confusion_matrix, matthews_corrcoef, precision_recall_curve, roc_curve\n",
    "\n",
    "from scipy.stats import pearsonr, spearmanr, kendalltau, pointbiserialr, chi2, chi2_contingency\n",
    "\n",
    "from xgboost import XGBClassifier\n",
    "\n",
    "%matplotlib inline"
   ]
  },
  {
   "cell_type": "markdown",
   "id": "suspected-manual",
   "metadata": {},
   "source": [
    "## Load Custom Made Libraries"
   ]
  },
  {
   "cell_type": "code",
   "execution_count": 2,
   "id": "executed-costume",
   "metadata": {},
   "outputs": [],
   "source": [
    "from Utilities.CFS import *\n",
    "from Utilities.reliefF import *\n",
    "from Utilities.accuracy import *\n",
    "from Utilities.corr_matrix import *\n",
    "from Utilities.forward_selection import *\n",
    "from Utilities.backward_elimination import *\n",
    "\n",
    "from Visualization.model_graph import *\n",
    "from Visualization.network_graph import *\n",
    "\n",
    "from skfeature.utility.mutual_information import *"
   ]
  },
  {
   "cell_type": "markdown",
   "id": "driven-frederick",
   "metadata": {},
   "source": [
    "## Load Dataset"
   ]
  },
  {
   "cell_type": "code",
   "execution_count": 3,
   "id": "interior-windows",
   "metadata": {},
   "outputs": [],
   "source": [
    "df = pd.read_csv(\"Dataset/E-payment Cryptocurrency Coin.csv\")"
   ]
  },
  {
   "cell_type": "markdown",
   "id": "reflected-specification",
   "metadata": {},
   "source": [
    "## Label Binarizer"
   ]
  },
  {
   "cell_type": "code",
   "execution_count": 4,
   "id": "cardiovascular-colleague",
   "metadata": {},
   "outputs": [],
   "source": [
    "def convert_nominal(arr, term_arr):\n",
    "    tmp_dict = {val:ind for (ind, val) in enumerate(term_arr)}\n",
    "    return arr.map(lambda x : tmp_dict[x])"
   ]
  },
  {
   "cell_type": "markdown",
   "id": "widespread-exploration",
   "metadata": {},
   "source": [
    "## Split Dataset"
   ]
  },
  {
   "cell_type": "code",
   "execution_count": 5,
   "id": "steady-power",
   "metadata": {},
   "outputs": [],
   "source": [
    "mod_fac_df = pd.DataFrame()\n",
    "\n",
    "column_arr = [\"Age\", \"Gender\", \"Marital Status\", \"Education Level\", \"Work Industry\", \"Work Position\"]\n",
    "\n",
    "for (ind, col_name) in enumerate(column_arr):\n",
    "    mod_fac_df[col_name] = df.iloc[:, 6 + ind]\n",
    "    \n",
    "# Replace Values in Work Industry\n",
    "mod_fac_df = mod_fac_df.replace(\"Baking / Finance\", \"Banking / Finance\")\n",
    "\n",
    "# Label Binarize all columns\n",
    "# Age\n",
    "mod_fac_df[\"Age\"] = convert_nominal(mod_fac_df[\"Age\"], [\"< 25 years\", \"26 - 40 years\", \"41 - 55 years\", \"above 55 years\"])\n",
    "\n",
    "# Gender\n",
    "mod_fac_df[\"Gender\"] = convert_nominal(mod_fac_df[\"Gender\"], [\"Male\", \"Female\"])\n",
    "\n",
    "# Marital Status\n",
    "mod_fac_df[\"Marital Status\"] = convert_nominal(mod_fac_df[\"Marital Status\"], [\"Single\", \"Married\", \"Other\"])\n",
    "\n",
    "# Education Level\n",
    "mod_fac_df[\"Education Level\"] = convert_nominal(mod_fac_df[\"Education Level\"], ['Primary school', 'Secondary/High school', 'College/university', 'Graduate school', 'Other'])\n",
    "\n",
    "# Work Industry\n",
    "mod_fac_df[\"Work Industry\"] = convert_nominal(mod_fac_df[\"Work Industry\"], ['Banking / Finance', 'Education', 'Healthcare', 'Manufacturing', 'Retail / Hypermarket', 'Other'])\n",
    "\n",
    "# Work Position\n",
    "mod_fac_df[\"Work Position\"] = convert_nominal(mod_fac_df[\"Work Position\"], ['Junior management', 'Middle management', 'Top management', 'Professional', 'Other'])\n"
   ]
  },
  {
   "cell_type": "code",
   "execution_count": 6,
   "id": "finnish-demand",
   "metadata": {},
   "outputs": [],
   "source": [
    "utaut_fac_df = pd.DataFrame()\n",
    "\n",
    "column_arr = df.iloc[:, 28:].columns\n",
    "column_arr = [col.split(\": \")[0] for col in column_arr]\n",
    "\n",
    "for (ind, col_name) in enumerate(column_arr):\n",
    "    utaut_fac_df[col_name] = df.iloc[:, 28 + ind]\n",
    "    utaut_fac_df[col_name] = utaut_fac_df[col_name].map(lambda x : x - 1)\n",
    "    \n",
    "# Change Data Type to int\n",
    "utaut_fac_df = utaut_fac_df.astype(int)"
   ]
  },
  {
   "cell_type": "markdown",
   "id": "underlying-registrar",
   "metadata": {},
   "source": [
    "## Target Variables"
   ]
  },
  {
   "cell_type": "markdown",
   "id": "private-supplier",
   "metadata": {},
   "source": [
    "### BI1: I intend to use Blockchain / Cryptocurrency Coin."
   ]
  },
  {
   "cell_type": "code",
   "execution_count": 7,
   "id": "professional-brown",
   "metadata": {},
   "outputs": [],
   "source": [
    "arr_df = [mod_fac_df, utaut_fac_df.drop([\"BI1\", \"BI2\", \"BI3\", \"BI4\"], axis = 1)]\n",
    "\n",
    "df_X = pd.concat(arr_df, axis = 1)\n",
    "df_Y = utaut_fac_df.loc[:, \"BI1\"]\n",
    "\n",
    "# Convert Values to Int\n",
    "df_X = df_X.astype(int)\n",
    "df_Y = df_Y.astype(int)"
   ]
  },
  {
   "cell_type": "markdown",
   "id": "accepted-birmingham",
   "metadata": {},
   "source": [
    "#### Moderated Variables"
   ]
  },
  {
   "cell_type": "code",
   "execution_count": 8,
   "id": "imposed-meter",
   "metadata": {},
   "outputs": [
    {
     "data": {
      "text/html": [
       "<style  type=\"text/css\" >\n",
       "</style><table id=\"T_802c9_\" ><thead>    <tr>        <th class=\"col_heading level0 col0\" >Moderated Variable</th>        <th class=\"col_heading level0 col1\" >P-Value</th>    </tr></thead><tbody>\n",
       "                <tr>\n",
       "                                <td id=\"T_802c9_row0_col0\" class=\"data row0 col0\" >Gender</td>\n",
       "                        <td id=\"T_802c9_row0_col1\" class=\"data row0 col1\" >0.014702</td>\n",
       "            </tr>\n",
       "            <tr>\n",
       "                                <td id=\"T_802c9_row1_col0\" class=\"data row1 col0\" >Work Position</td>\n",
       "                        <td id=\"T_802c9_row1_col1\" class=\"data row1 col1\" >0.002541</td>\n",
       "            </tr>\n",
       "    </tbody></table>"
      ],
      "text/plain": [
       "<pandas.io.formats.style.Styler at 0x1b1152cd640>"
      ]
     },
     "execution_count": 8,
     "metadata": {},
     "output_type": "execute_result"
    }
   ],
   "source": [
    "# Use SpearmanR as df_Y is an ordinal variable\n",
    "arr_list = []\n",
    "\n",
    "for col in mod_fac_df.columns:\n",
    "    corr, p_val = spearmanr(mod_fac_df.loc[:, col], df_Y)\n",
    "    if p_val <= 0.05:\n",
    "        arr_list.append((col, p_val))\n",
    "        \n",
    "tmp_df = pd.DataFrame(arr_list, columns = [\"Moderated Variable\", \"P-Value\"])\n",
    "\n",
    "tmp_df.style.hide_index()"
   ]
  },
  {
   "cell_type": "markdown",
   "id": "micro-might",
   "metadata": {},
   "source": [
    "### CFS"
   ]
  },
  {
   "cell_type": "code",
   "execution_count": 9,
   "id": "future-graham",
   "metadata": {},
   "outputs": [
    {
     "data": {
      "text/plain": [
       "['PE1', 'AT1', 'FC4', 'SE4', 'AX4', 'T1', 'T2', 'T4']"
      ]
     },
     "execution_count": 9,
     "metadata": {},
     "output_type": "execute_result"
    }
   ],
   "source": [
    "arr_df = [mod_fac_df, utaut_fac_df.drop([\"BI1\", \"BI2\", \"BI3\", \"BI4\"], axis = 1)]\n",
    "\n",
    "tmp_X = pd.concat(arr_df, axis = 1)\n",
    "tmp_Y = df_Y\n",
    "\n",
    "feature_set = CFS(tmp_X, tmp_Y, spearmanr)\n",
    "\n",
    "feature_set"
   ]
  },
  {
   "cell_type": "markdown",
   "id": "occasional-affair",
   "metadata": {},
   "source": [
    "### Weka Based Calculation"
   ]
  },
  {
   "cell_type": "code",
   "execution_count": 22,
   "id": "coupled-great",
   "metadata": {
    "scrolled": true
   },
   "outputs": [],
   "source": [
    "arr_df = [mod_fac_df, utaut_fac_df.drop([\"BI1\", \"BI2\", \"BI3\", \"BI4\"], axis = 1)]\n",
    "\n",
    "tmp_X = pd.concat(arr_df, axis = 1)\n",
    "tmp_Y = df_Y\n",
    "\n",
    "tmp_df = pd.DataFrame()\n",
    "\n",
    "# Chi Square\n",
    "corr, p_val = chi2(tmp_X, tmp_Y)\n",
    "tmp_df[\"Chi-Square\"] = corr\n",
    "tmp_df[\"Chi-Square (Rank)\"] = [*stats.rankdata(tmp_df[\"Chi-Square\"] * -1).astype(int)]\n",
    "\n",
    "# Information Gain\n",
    "info_gain_arr = []\n",
    "\n",
    "for col in tmp_X.columns:\n",
    "    # Information Gain\n",
    "    val = information_gain(tmp_X.loc[:, col], tmp_Y)\n",
    "    info_gain_arr.append(val)\n",
    "    \n",
    "tmp_df[\"Info Gain\"] = np.array(info_gain_arr)\n",
    "tmp_df[\"Info Gain (Rank)\"] = [*stats.rankdata(tmp_df[\"Info Gain\"] * -1).astype(int)]\n",
    "\n",
    "# ReliefF Algorithm\n",
    "tmp_df[\"ReliefF\"] = reliefF(tmp_X, tmp_Y)\n",
    "tmp_df[\"ReliefF (Rank)\"] = [*stats.rankdata(tmp_df[\"ReliefF\"] * -1).astype(int)]\n",
    "\n",
    "tmp_df.index = tmp_X.columns\n",
    "\n",
    "tmp_df = tmp_df.sort_values(\"Chi-Square (Rank)\")"
   ]
  },
  {
   "cell_type": "code",
   "execution_count": 23,
   "id": "loving-priest",
   "metadata": {},
   "outputs": [
    {
     "data": {
      "text/html": [
       "<div>\n",
       "<style scoped>\n",
       "    .dataframe tbody tr th:only-of-type {\n",
       "        vertical-align: middle;\n",
       "    }\n",
       "\n",
       "    .dataframe tbody tr th {\n",
       "        vertical-align: top;\n",
       "    }\n",
       "\n",
       "    .dataframe thead th {\n",
       "        text-align: right;\n",
       "    }\n",
       "</style>\n",
       "<table border=\"1\" class=\"dataframe\">\n",
       "  <thead>\n",
       "    <tr style=\"text-align: right;\">\n",
       "      <th></th>\n",
       "      <th>Chi-Square</th>\n",
       "      <th>Chi-Square (Rank)</th>\n",
       "      <th>Info Gain</th>\n",
       "      <th>Info Gain (Rank)</th>\n",
       "      <th>ReliefF</th>\n",
       "      <th>ReliefF (Rank)</th>\n",
       "    </tr>\n",
       "  </thead>\n",
       "  <tbody>\n",
       "    <tr>\n",
       "      <th>T2</th>\n",
       "      <td>66.851217</td>\n",
       "      <td>1</td>\n",
       "      <td>0.668622</td>\n",
       "      <td>4</td>\n",
       "      <td>6737.745900</td>\n",
       "      <td>31</td>\n",
       "    </tr>\n",
       "    <tr>\n",
       "      <th>T1</th>\n",
       "      <td>64.886247</td>\n",
       "      <td>2</td>\n",
       "      <td>0.747780</td>\n",
       "      <td>1</td>\n",
       "      <td>7500.583892</td>\n",
       "      <td>16</td>\n",
       "    </tr>\n",
       "    <tr>\n",
       "      <th>AT1</th>\n",
       "      <td>63.584937</td>\n",
       "      <td>3</td>\n",
       "      <td>0.697494</td>\n",
       "      <td>2</td>\n",
       "      <td>8446.916456</td>\n",
       "      <td>7</td>\n",
       "    </tr>\n",
       "    <tr>\n",
       "      <th>FC2</th>\n",
       "      <td>60.895975</td>\n",
       "      <td>4</td>\n",
       "      <td>0.588340</td>\n",
       "      <td>10</td>\n",
       "      <td>6970.816418</td>\n",
       "      <td>25</td>\n",
       "    </tr>\n",
       "    <tr>\n",
       "      <th>PE1</th>\n",
       "      <td>59.070364</td>\n",
       "      <td>5</td>\n",
       "      <td>0.628796</td>\n",
       "      <td>7</td>\n",
       "      <td>8304.271269</td>\n",
       "      <td>9</td>\n",
       "    </tr>\n",
       "    <tr>\n",
       "      <th>EE2</th>\n",
       "      <td>58.100144</td>\n",
       "      <td>6</td>\n",
       "      <td>0.501494</td>\n",
       "      <td>20</td>\n",
       "      <td>6810.772602</td>\n",
       "      <td>30</td>\n",
       "    </tr>\n",
       "    <tr>\n",
       "      <th>EE3</th>\n",
       "      <td>56.785521</td>\n",
       "      <td>7</td>\n",
       "      <td>0.541375</td>\n",
       "      <td>14</td>\n",
       "      <td>7210.201191</td>\n",
       "      <td>21</td>\n",
       "    </tr>\n",
       "    <tr>\n",
       "      <th>T3</th>\n",
       "      <td>56.684381</td>\n",
       "      <td>8</td>\n",
       "      <td>0.655675</td>\n",
       "      <td>5</td>\n",
       "      <td>6820.147232</td>\n",
       "      <td>28</td>\n",
       "    </tr>\n",
       "    <tr>\n",
       "      <th>EE4</th>\n",
       "      <td>56.108935</td>\n",
       "      <td>9</td>\n",
       "      <td>0.522568</td>\n",
       "      <td>17</td>\n",
       "      <td>7860.855077</td>\n",
       "      <td>11</td>\n",
       "    </tr>\n",
       "    <tr>\n",
       "      <th>AT2</th>\n",
       "      <td>54.604721</td>\n",
       "      <td>10</td>\n",
       "      <td>0.520198</td>\n",
       "      <td>18</td>\n",
       "      <td>7163.301746</td>\n",
       "      <td>22</td>\n",
       "    </tr>\n",
       "    <tr>\n",
       "      <th>EE1</th>\n",
       "      <td>54.552768</td>\n",
       "      <td>11</td>\n",
       "      <td>0.634559</td>\n",
       "      <td>6</td>\n",
       "      <td>7567.238488</td>\n",
       "      <td>14</td>\n",
       "    </tr>\n",
       "    <tr>\n",
       "      <th>AT4</th>\n",
       "      <td>53.306284</td>\n",
       "      <td>12</td>\n",
       "      <td>0.539115</td>\n",
       "      <td>15</td>\n",
       "      <td>7042.564366</td>\n",
       "      <td>24</td>\n",
       "    </tr>\n",
       "    <tr>\n",
       "      <th>PE4</th>\n",
       "      <td>52.369311</td>\n",
       "      <td>13</td>\n",
       "      <td>0.618219</td>\n",
       "      <td>9</td>\n",
       "      <td>7339.331277</td>\n",
       "      <td>18</td>\n",
       "    </tr>\n",
       "    <tr>\n",
       "      <th>PE2</th>\n",
       "      <td>51.576485</td>\n",
       "      <td>14</td>\n",
       "      <td>0.551689</td>\n",
       "      <td>13</td>\n",
       "      <td>7561.242894</td>\n",
       "      <td>15</td>\n",
       "    </tr>\n",
       "    <tr>\n",
       "      <th>FC4</th>\n",
       "      <td>51.531117</td>\n",
       "      <td>15</td>\n",
       "      <td>0.623971</td>\n",
       "      <td>8</td>\n",
       "      <td>8506.627162</td>\n",
       "      <td>6</td>\n",
       "    </tr>\n",
       "    <tr>\n",
       "      <th>AT3</th>\n",
       "      <td>51.391520</td>\n",
       "      <td>16</td>\n",
       "      <td>0.428183</td>\n",
       "      <td>25</td>\n",
       "      <td>7255.348606</td>\n",
       "      <td>19</td>\n",
       "    </tr>\n",
       "    <tr>\n",
       "      <th>PE3</th>\n",
       "      <td>49.418523</td>\n",
       "      <td>17</td>\n",
       "      <td>0.419676</td>\n",
       "      <td>26</td>\n",
       "      <td>6904.036559</td>\n",
       "      <td>27</td>\n",
       "    </tr>\n",
       "    <tr>\n",
       "      <th>SI2</th>\n",
       "      <td>48.613291</td>\n",
       "      <td>18</td>\n",
       "      <td>0.472365</td>\n",
       "      <td>24</td>\n",
       "      <td>8629.854832</td>\n",
       "      <td>5</td>\n",
       "    </tr>\n",
       "    <tr>\n",
       "      <th>T4</th>\n",
       "      <td>48.071646</td>\n",
       "      <td>19</td>\n",
       "      <td>0.669935</td>\n",
       "      <td>3</td>\n",
       "      <td>8304.780324</td>\n",
       "      <td>8</td>\n",
       "    </tr>\n",
       "    <tr>\n",
       "      <th>SE1</th>\n",
       "      <td>47.076568</td>\n",
       "      <td>20</td>\n",
       "      <td>0.486446</td>\n",
       "      <td>22</td>\n",
       "      <td>8109.370058</td>\n",
       "      <td>10</td>\n",
       "    </tr>\n",
       "    <tr>\n",
       "      <th>SE3</th>\n",
       "      <td>46.167132</td>\n",
       "      <td>21</td>\n",
       "      <td>0.555203</td>\n",
       "      <td>12</td>\n",
       "      <td>7423.772058</td>\n",
       "      <td>17</td>\n",
       "    </tr>\n",
       "    <tr>\n",
       "      <th>SE4</th>\n",
       "      <td>44.831489</td>\n",
       "      <td>22</td>\n",
       "      <td>0.567174</td>\n",
       "      <td>11</td>\n",
       "      <td>7226.474391</td>\n",
       "      <td>20</td>\n",
       "    </tr>\n",
       "    <tr>\n",
       "      <th>SI1</th>\n",
       "      <td>43.873970</td>\n",
       "      <td>23</td>\n",
       "      <td>0.361103</td>\n",
       "      <td>28</td>\n",
       "      <td>8899.716437</td>\n",
       "      <td>3</td>\n",
       "    </tr>\n",
       "    <tr>\n",
       "      <th>SI3</th>\n",
       "      <td>42.442737</td>\n",
       "      <td>24</td>\n",
       "      <td>0.504604</td>\n",
       "      <td>19</td>\n",
       "      <td>7855.423794</td>\n",
       "      <td>12</td>\n",
       "    </tr>\n",
       "    <tr>\n",
       "      <th>FC1</th>\n",
       "      <td>42.250372</td>\n",
       "      <td>25</td>\n",
       "      <td>0.496719</td>\n",
       "      <td>21</td>\n",
       "      <td>6685.554731</td>\n",
       "      <td>32</td>\n",
       "    </tr>\n",
       "    <tr>\n",
       "      <th>SI4</th>\n",
       "      <td>41.823214</td>\n",
       "      <td>26</td>\n",
       "      <td>0.481036</td>\n",
       "      <td>23</td>\n",
       "      <td>6818.693273</td>\n",
       "      <td>29</td>\n",
       "    </tr>\n",
       "    <tr>\n",
       "      <th>SE2</th>\n",
       "      <td>41.739964</td>\n",
       "      <td>27</td>\n",
       "      <td>0.538026</td>\n",
       "      <td>16</td>\n",
       "      <td>6672.578558</td>\n",
       "      <td>33</td>\n",
       "    </tr>\n",
       "    <tr>\n",
       "      <th>FC3</th>\n",
       "      <td>38.394478</td>\n",
       "      <td>28</td>\n",
       "      <td>0.404001</td>\n",
       "      <td>27</td>\n",
       "      <td>6943.661621</td>\n",
       "      <td>26</td>\n",
       "    </tr>\n",
       "    <tr>\n",
       "      <th>Work Position</th>\n",
       "      <td>13.059262</td>\n",
       "      <td>29</td>\n",
       "      <td>0.071345</td>\n",
       "      <td>35</td>\n",
       "      <td>10371.950632</td>\n",
       "      <td>2</td>\n",
       "    </tr>\n",
       "    <tr>\n",
       "      <th>Work Industry</th>\n",
       "      <td>8.805376</td>\n",
       "      <td>30</td>\n",
       "      <td>0.088987</td>\n",
       "      <td>33</td>\n",
       "      <td>12397.681213</td>\n",
       "      <td>1</td>\n",
       "    </tr>\n",
       "    <tr>\n",
       "      <th>Age</th>\n",
       "      <td>8.768078</td>\n",
       "      <td>31</td>\n",
       "      <td>0.065235</td>\n",
       "      <td>36</td>\n",
       "      <td>6639.640985</td>\n",
       "      <td>34</td>\n",
       "    </tr>\n",
       "    <tr>\n",
       "      <th>Gender</th>\n",
       "      <td>6.409058</td>\n",
       "      <td>32</td>\n",
       "      <td>0.027816</td>\n",
       "      <td>38</td>\n",
       "      <td>3225.221349</td>\n",
       "      <td>38</td>\n",
       "    </tr>\n",
       "    <tr>\n",
       "      <th>AX1</th>\n",
       "      <td>2.490908</td>\n",
       "      <td>33</td>\n",
       "      <td>0.228151</td>\n",
       "      <td>32</td>\n",
       "      <td>5158.508826</td>\n",
       "      <td>35</td>\n",
       "    </tr>\n",
       "    <tr>\n",
       "      <th>Education Level</th>\n",
       "      <td>2.321679</td>\n",
       "      <td>34</td>\n",
       "      <td>0.079576</td>\n",
       "      <td>34</td>\n",
       "      <td>4035.274802</td>\n",
       "      <td>36</td>\n",
       "    </tr>\n",
       "    <tr>\n",
       "      <th>Marital Status</th>\n",
       "      <td>2.298715</td>\n",
       "      <td>35</td>\n",
       "      <td>0.034583</td>\n",
       "      <td>37</td>\n",
       "      <td>3477.073703</td>\n",
       "      <td>37</td>\n",
       "    </tr>\n",
       "    <tr>\n",
       "      <th>AX4</th>\n",
       "      <td>2.055620</td>\n",
       "      <td>36</td>\n",
       "      <td>0.323791</td>\n",
       "      <td>29</td>\n",
       "      <td>7066.597500</td>\n",
       "      <td>23</td>\n",
       "    </tr>\n",
       "    <tr>\n",
       "      <th>AX2</th>\n",
       "      <td>0.953752</td>\n",
       "      <td>37</td>\n",
       "      <td>0.230603</td>\n",
       "      <td>31</td>\n",
       "      <td>8754.429958</td>\n",
       "      <td>4</td>\n",
       "    </tr>\n",
       "    <tr>\n",
       "      <th>AX3</th>\n",
       "      <td>0.445321</td>\n",
       "      <td>38</td>\n",
       "      <td>0.269301</td>\n",
       "      <td>30</td>\n",
       "      <td>7768.120373</td>\n",
       "      <td>13</td>\n",
       "    </tr>\n",
       "  </tbody>\n",
       "</table>\n",
       "</div>"
      ],
      "text/plain": [
       "                 Chi-Square  Chi-Square (Rank)  Info Gain  Info Gain (Rank)  \\\n",
       "T2                66.851217                  1   0.668622                 4   \n",
       "T1                64.886247                  2   0.747780                 1   \n",
       "AT1               63.584937                  3   0.697494                 2   \n",
       "FC2               60.895975                  4   0.588340                10   \n",
       "PE1               59.070364                  5   0.628796                 7   \n",
       "EE2               58.100144                  6   0.501494                20   \n",
       "EE3               56.785521                  7   0.541375                14   \n",
       "T3                56.684381                  8   0.655675                 5   \n",
       "EE4               56.108935                  9   0.522568                17   \n",
       "AT2               54.604721                 10   0.520198                18   \n",
       "EE1               54.552768                 11   0.634559                 6   \n",
       "AT4               53.306284                 12   0.539115                15   \n",
       "PE4               52.369311                 13   0.618219                 9   \n",
       "PE2               51.576485                 14   0.551689                13   \n",
       "FC4               51.531117                 15   0.623971                 8   \n",
       "AT3               51.391520                 16   0.428183                25   \n",
       "PE3               49.418523                 17   0.419676                26   \n",
       "SI2               48.613291                 18   0.472365                24   \n",
       "T4                48.071646                 19   0.669935                 3   \n",
       "SE1               47.076568                 20   0.486446                22   \n",
       "SE3               46.167132                 21   0.555203                12   \n",
       "SE4               44.831489                 22   0.567174                11   \n",
       "SI1               43.873970                 23   0.361103                28   \n",
       "SI3               42.442737                 24   0.504604                19   \n",
       "FC1               42.250372                 25   0.496719                21   \n",
       "SI4               41.823214                 26   0.481036                23   \n",
       "SE2               41.739964                 27   0.538026                16   \n",
       "FC3               38.394478                 28   0.404001                27   \n",
       "Work Position     13.059262                 29   0.071345                35   \n",
       "Work Industry      8.805376                 30   0.088987                33   \n",
       "Age                8.768078                 31   0.065235                36   \n",
       "Gender             6.409058                 32   0.027816                38   \n",
       "AX1                2.490908                 33   0.228151                32   \n",
       "Education Level    2.321679                 34   0.079576                34   \n",
       "Marital Status     2.298715                 35   0.034583                37   \n",
       "AX4                2.055620                 36   0.323791                29   \n",
       "AX2                0.953752                 37   0.230603                31   \n",
       "AX3                0.445321                 38   0.269301                30   \n",
       "\n",
       "                      ReliefF  ReliefF (Rank)  \n",
       "T2                6737.745900              31  \n",
       "T1                7500.583892              16  \n",
       "AT1               8446.916456               7  \n",
       "FC2               6970.816418              25  \n",
       "PE1               8304.271269               9  \n",
       "EE2               6810.772602              30  \n",
       "EE3               7210.201191              21  \n",
       "T3                6820.147232              28  \n",
       "EE4               7860.855077              11  \n",
       "AT2               7163.301746              22  \n",
       "EE1               7567.238488              14  \n",
       "AT4               7042.564366              24  \n",
       "PE4               7339.331277              18  \n",
       "PE2               7561.242894              15  \n",
       "FC4               8506.627162               6  \n",
       "AT3               7255.348606              19  \n",
       "PE3               6904.036559              27  \n",
       "SI2               8629.854832               5  \n",
       "T4                8304.780324               8  \n",
       "SE1               8109.370058              10  \n",
       "SE3               7423.772058              17  \n",
       "SE4               7226.474391              20  \n",
       "SI1               8899.716437               3  \n",
       "SI3               7855.423794              12  \n",
       "FC1               6685.554731              32  \n",
       "SI4               6818.693273              29  \n",
       "SE2               6672.578558              33  \n",
       "FC3               6943.661621              26  \n",
       "Work Position    10371.950632               2  \n",
       "Work Industry    12397.681213               1  \n",
       "Age               6639.640985              34  \n",
       "Gender            3225.221349              38  \n",
       "AX1               5158.508826              35  \n",
       "Education Level   4035.274802              36  \n",
       "Marital Status    3477.073703              37  \n",
       "AX4               7066.597500              23  \n",
       "AX2               8754.429958               4  \n",
       "AX3               7768.120373              13  "
      ]
     },
     "execution_count": 23,
     "metadata": {},
     "output_type": "execute_result"
    }
   ],
   "source": [
    "tmp_df"
   ]
  },
  {
   "cell_type": "markdown",
   "id": "sitting-techno",
   "metadata": {},
   "source": [
    "### Wrapper Based Methods"
   ]
  },
  {
   "cell_type": "code",
   "execution_count": 44,
   "id": "initial-taiwan",
   "metadata": {},
   "outputs": [
    {
     "data": {
      "text/plain": [
       "['PE2', 'EE1', 'EE4', 'AT1', 'SE1', 'T1', 'T3', 'T4']"
      ]
     },
     "execution_count": 44,
     "metadata": {},
     "output_type": "execute_result"
    }
   ],
   "source": [
    "arr_df = [mod_fac_df, utaut_fac_df.drop([\"BI1\", \"BI2\", \"BI3\", \"BI4\"], axis = 1)]\n",
    "\n",
    "tmp_X = pd.concat(arr_df, axis = 1)\n",
    "tmp_Y = df_Y\n",
    "\n",
    "model = DecisionTreeClassifier()\n",
    "\n",
    "feature_set = backward_selection(tmp_X, tmp_Y, model, 8)\n",
    "\n",
    "feature_set"
   ]
  },
  {
   "cell_type": "markdown",
   "id": "amateur-entry",
   "metadata": {},
   "source": [
    "#### Remove Features that are not significant with Target Variable"
   ]
  },
  {
   "cell_type": "code",
   "execution_count": null,
   "id": "understood-crown",
   "metadata": {},
   "outputs": [],
   "source": [
    "arr_list = []\n",
    "\n",
    "# Get List of P_Values\n",
    "for col in df_X.columns:\n",
    "    corr, p_val = spearmanr(df_X.loc[:, col], df_Y)\n",
    "    # Threshold => Only append variables that have a p_value smaller than 0.05\n",
    "    if p_val <= 0.05:\n",
    "        arr_list.append((col, p_val))\n",
    "        \n",
    "# Sort Variables Ascending by P_val\n",
    "arr_list = sorted(arr_list, key = lambda x : x[1])\n",
    "\n",
    "arr_df = pd.DataFrame(arr_list, columns = [\"Variables\", \"P Value\"])\n",
    "\n",
    "arr_df.style.hide_index()"
   ]
  },
  {
   "cell_type": "markdown",
   "id": "gothic-state",
   "metadata": {},
   "source": [
    "### Model Object"
   ]
  },
  {
   "cell_type": "code",
   "execution_count": null,
   "id": "wired-atmosphere",
   "metadata": {},
   "outputs": [],
   "source": [
    "class ModelObj:\n",
    "    def __init__(self, model, name, accuracy, clf_report, confusion_matrix, mcc):\n",
    "        self.model = model\n",
    "        self.name = name\n",
    "        self.accuracy = accuracy\n",
    "        self.clf_report = clf_report\n",
    "        self.confusion_matrix = confusion_matrix\n",
    "        self.mcc = mcc"
   ]
  },
  {
   "cell_type": "code",
   "execution_count": null,
   "id": "silver-inspiration",
   "metadata": {},
   "outputs": [],
   "source": [
    "def create_ModelObj(model, name, X, Y, class_arr):\n",
    "    # Train Test Split\n",
    "    X_train, X_test, y_train, y_test = train_test_split(X, Y, test_size = 0.2)\n",
    "    \n",
    "    # Train Model\n",
    "    model.fit(X_train, y_train)\n",
    "    \n",
    "    # Get Y Predict\n",
    "    y_pred = model.predict(X_test)\n",
    "    \n",
    "    # Accuracy\n",
    "    acc_score = accuracy_score(y_pred, y_test) * 100.0\n",
    "\n",
    "    # Classification Report\n",
    "    tf_dict = { str(ind):val for ind, val in enumerate(class_arr)}\n",
    "    clf_report = pd.DataFrame(classification_report(y_test, y_pred, output_dict = True))\n",
    "    clf_report.rename(tf_dict, axis = 1, inplace=True)\n",
    "    clf_report = clf_report.T\n",
    "\n",
    "    # Confusion Matrix\n",
    "    tf_dict = { ind:val for ind, val in enumerate(class_arr)}\n",
    "    confusion_matrix_df = pd.DataFrame(confusion_matrix(y_test, y_pred))\n",
    "    confusion_matrix_df.rename(tf_dict, axis = 0, inplace=True)\n",
    "    confusion_matrix_df.rename(tf_dict, axis = 1, inplace=True)\n",
    "    \n",
    "    # Matthew Correlation Coefficient\n",
    "    mcc = matthews_corrcoef(y_test, y_pred)\n",
    "    \n",
    "    return ModelObj(model, name, acc_score, clf_report, confusion_matrix_df, mcc)"
   ]
  },
  {
   "cell_type": "code",
   "execution_count": null,
   "id": "pending-mountain",
   "metadata": {},
   "outputs": [],
   "source": [
    "model_dict = {}"
   ]
  },
  {
   "cell_type": "markdown",
   "id": "gentle-assault",
   "metadata": {},
   "source": [
    "### Decision Tree"
   ]
  },
  {
   "cell_type": "markdown",
   "id": "alleged-purple",
   "metadata": {},
   "source": [
    "#### Without Feature Selection"
   ]
  },
  {
   "cell_type": "code",
   "execution_count": null,
   "id": "chemical-speech",
   "metadata": {},
   "outputs": [],
   "source": [
    "tmp_X = df_X.loc[:, arr_df[\"Variables\"]]\n",
    "tmp_Y = df_Y\n",
    "\n",
    "model = DecisionTreeClassifier()\n",
    "name = \"Decision Tree\"\n",
    "\n",
    "acc_score = get_acc_score_kcv(tmp_X, tmp_Y, model)\n",
    "\n",
    "print(f\"Accuracy Score: {round(acc_score, 2)}%\")\n",
    "\n",
    "model_dict[name] = create_ModelObj(model, name, tmp_X, tmp_Y, [\"Strongly Disagree\", \"Disagree\", \"Neutral\", \"Agree\", \"Strongly Agree\"])"
   ]
  },
  {
   "cell_type": "markdown",
   "id": "intensive-integrity",
   "metadata": {},
   "source": [
    "#### Decision Tree Visualization"
   ]
  },
  {
   "cell_type": "code",
   "execution_count": null,
   "id": "solar-rapid",
   "metadata": {},
   "outputs": [],
   "source": [
    "viz = dtreeviz(\n",
    "    model_dict[\"Decision Tree\"].model, \n",
    "    tmp_X, \n",
    "    tmp_Y, \n",
    "    feature_names = tmp_X.columns, \n",
    "    class_names = [\"Strongly Disagree\", \"Disagree\", \"Neutral\", \"Agree\", \"Strongly Agree\"],\n",
    "    fancy = False)"
   ]
  },
  {
   "cell_type": "code",
   "execution_count": null,
   "id": "outer-experience",
   "metadata": {},
   "outputs": [],
   "source": [
    "viz"
   ]
  },
  {
   "cell_type": "markdown",
   "id": "thick-hypothesis",
   "metadata": {},
   "source": [
    "#### With Feature Selection (Wrapper Based Method)"
   ]
  },
  {
   "cell_type": "code",
   "execution_count": null,
   "id": "under-ensemble",
   "metadata": {},
   "outputs": [],
   "source": [
    "tmp_X = df_X.loc[:, feature_set]\n",
    "tmp_Y = df_Y\n",
    "\n",
    "model = DecisionTreeClassifier()\n",
    "name = \"Decision Tree (CFS)\"\n",
    "\n",
    "acc_score = get_acc_score_kcv(tmp_X, tmp_Y, model)\n",
    "\n",
    "print(f\"Accuracy Score: {round(acc_score, 2)}%\")\n",
    "\n",
    "model_dict[name] = create_ModelObj(model, name, tmp_X, tmp_Y, [\"Strongly Disagree\", \"Disagree\", \"Neutral\", \"Agree\", \"Strongly Agree\"])"
   ]
  },
  {
   "cell_type": "markdown",
   "id": "sudden-metro",
   "metadata": {},
   "source": [
    "### Random Forest (Bagging Method)"
   ]
  },
  {
   "cell_type": "markdown",
   "id": "wireless-norman",
   "metadata": {},
   "source": [
    "#### Without Feature Selection"
   ]
  },
  {
   "cell_type": "code",
   "execution_count": null,
   "id": "developing-rental",
   "metadata": {},
   "outputs": [],
   "source": [
    "tmp_X = df_X.loc[:, arr_df[\"Variables\"]]\n",
    "tmp_Y = df_Y\n",
    "\n",
    "model = RandomForestClassifier()\n",
    "name = \"Random Forest\"\n",
    "\n",
    "acc_score = get_acc_score_kcv(tmp_X, tmp_Y, model)\n",
    "\n",
    "print(f\"Accuracy Score: {round(acc_score, 2)}%\")\n",
    "\n",
    "model_dict[name] = create_ModelObj(model, name, tmp_X, tmp_Y, [\"Strongly Disagree\", \"Disagree\", \"Neutral\", \"Agree\", \"Strongly Agree\"])"
   ]
  },
  {
   "cell_type": "markdown",
   "id": "distinct-thanksgiving",
   "metadata": {},
   "source": [
    "#### With Feature Selection (CFS Based)"
   ]
  },
  {
   "cell_type": "code",
   "execution_count": null,
   "id": "global-basin",
   "metadata": {},
   "outputs": [],
   "source": [
    "tmp_X = df_X.loc[:, feature_set]\n",
    "tmp_Y = df_Y\n",
    "\n",
    "model = RandomForestClassifier()\n",
    "name = \"Random Forest (CFS)\"\n",
    "\n",
    "acc_score = get_acc_score_kcv(tmp_X, tmp_Y, model)\n",
    "\n",
    "print(f\"Accuracy Score: {round(acc_score, 2)}%\")\n",
    "\n",
    "model_dict[name] = create_ModelObj(model, name, tmp_X, tmp_Y, [\"Strongly Disagree\", \"Disagree\", \"Neutral\", \"Agree\", \"Strongly Agree\"])"
   ]
  },
  {
   "cell_type": "markdown",
   "id": "anonymous-stone",
   "metadata": {},
   "source": [
    "### XGBoost (Boosting Method)"
   ]
  },
  {
   "cell_type": "markdown",
   "id": "comprehensive-rendering",
   "metadata": {},
   "source": [
    "#### Without Feature Selection"
   ]
  },
  {
   "cell_type": "code",
   "execution_count": null,
   "id": "dental-palestinian",
   "metadata": {},
   "outputs": [],
   "source": [
    "tmp_X = df_X.loc[:, arr_df[\"Variables\"]]\n",
    "tmp_Y = df_Y\n",
    "\n",
    "model = XGBClassifier(eval_metric='error', use_label_encoder=False)\n",
    "name = \"XGBoost\"\n",
    "\n",
    "acc_score = get_acc_score_kcv(tmp_X, tmp_Y, model)\n",
    "\n",
    "print(f\"Accuracy Score: {round(acc_score, 2)}%\")\n",
    "\n",
    "model_dict[name] = create_ModelObj(model, name, tmp_X, tmp_Y, [\"Strongly Disagree\", \"Disagree\", \"Neutral\", \"Agree\", \"Strongly Agree\"])"
   ]
  },
  {
   "cell_type": "markdown",
   "id": "standard-qatar",
   "metadata": {},
   "source": [
    "#### With Feature Selection (CFS Based)"
   ]
  },
  {
   "cell_type": "code",
   "execution_count": null,
   "id": "surrounded-grain",
   "metadata": {},
   "outputs": [],
   "source": [
    "tmp_X = df_X.loc[:, feature_set]\n",
    "tmp_Y = df_Y\n",
    "\n",
    "model = XGBClassifier(eval_metric='error', use_label_encoder=False)\n",
    "name = \"XGBoost (CFS)\"\n",
    "\n",
    "acc_score = get_acc_score_kcv(tmp_X, tmp_Y, model)\n",
    "\n",
    "print(f\"Accuracy Score: {round(acc_score, 2)}%\")\n",
    "\n",
    "model_dict[name] = create_ModelObj(model, name, tmp_X, tmp_Y, [\"Strongly Disagree\", \"Disagree\", \"Neutral\", \"Agree\", \"Strongly Agree\"])"
   ]
  },
  {
   "cell_type": "markdown",
   "id": "popular-infrastructure",
   "metadata": {},
   "source": [
    "## Plot Graph"
   ]
  },
  {
   "cell_type": "code",
   "execution_count": null,
   "id": "functioning-thesaurus",
   "metadata": {},
   "outputs": [],
   "source": [
    "# Train Test Split\n",
    "X_train, X_test, y_train, y_test = train_test_split(df_X.loc[:, arr_df[\"Variables\"]], df_Y, test_size = 0.2)"
   ]
  },
  {
   "cell_type": "markdown",
   "id": "dynamic-honor",
   "metadata": {},
   "source": [
    "### Result"
   ]
  },
  {
   "cell_type": "code",
   "execution_count": null,
   "id": "artificial-license",
   "metadata": {},
   "outputs": [],
   "source": [
    "m_arr = [(name, model_dict[name].clf_report, model_dict[name].mcc) for name in model_dict]\n",
    "cmp_result_tbl(m_arr, \"weighted avg\")"
   ]
  },
  {
   "cell_type": "markdown",
   "id": "norwegian-thumb",
   "metadata": {},
   "source": [
    "### Precision"
   ]
  },
  {
   "cell_type": "code",
   "execution_count": null,
   "id": "capital-amount",
   "metadata": {},
   "outputs": [],
   "source": [
    "clf_report_arr = [(name, model_dict[name].clf_report) for name in model_dict]\n",
    "tmp_df = get_df_type(clf_report_arr, \"Precision\")\n",
    "pfr_graph(tmp_df, \"Model\", \"Score\", \"Precison Comparison\")"
   ]
  },
  {
   "cell_type": "markdown",
   "id": "smaller-letters",
   "metadata": {},
   "source": [
    "### Recall"
   ]
  },
  {
   "cell_type": "code",
   "execution_count": null,
   "id": "swedish-candy",
   "metadata": {},
   "outputs": [],
   "source": [
    "clf_report_arr = [(name, model_dict[name].clf_report) for name in model_dict]\n",
    "tmp_df = get_df_type(clf_report_arr, \"Recall\")\n",
    "pfr_graph(tmp_df, \"Model\", \"Score\", \"Recall Comparison\")"
   ]
  },
  {
   "cell_type": "markdown",
   "id": "boolean-penguin",
   "metadata": {},
   "source": [
    "### F1-Score"
   ]
  },
  {
   "cell_type": "code",
   "execution_count": null,
   "id": "grateful-definition",
   "metadata": {},
   "outputs": [],
   "source": [
    "clf_report_arr = [(name, model_dict[name].clf_report) for name in model_dict]\n",
    "tmp_df = get_df_type(clf_report_arr, \"F1-Score\")\n",
    "pfr_graph(tmp_df, \"Model\", \"Score\", \"F1-Score Comparison\")"
   ]
  },
  {
   "cell_type": "markdown",
   "id": "vertical-feeding",
   "metadata": {},
   "source": [
    "### Accuracy"
   ]
  },
  {
   "cell_type": "code",
   "execution_count": null,
   "id": "linear-texture",
   "metadata": {},
   "outputs": [],
   "source": [
    "acc_arr = [(key, model_dict[key].accuracy) for key in model_dict]\n",
    "acc_graph(acc_arr, \"Accuracy Score Comparison\", \"Accuracy Score\", \"Types of Model\")"
   ]
  }
 ],
 "metadata": {
  "kernelspec": {
   "display_name": "Python 3",
   "language": "python",
   "name": "python3"
  },
  "language_info": {
   "codemirror_mode": {
    "name": "ipython",
    "version": 3
   },
   "file_extension": ".py",
   "mimetype": "text/x-python",
   "name": "python",
   "nbconvert_exporter": "python",
   "pygments_lexer": "ipython3",
   "version": "3.9.1"
  }
 },
 "nbformat": 4,
 "nbformat_minor": 5
}
