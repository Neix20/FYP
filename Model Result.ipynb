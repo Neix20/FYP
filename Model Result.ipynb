{
 "cells": [
  {
   "cell_type": "markdown",
   "id": "developed-keyboard",
   "metadata": {},
   "source": [
    "# Title: CORRELATION MODEL IN THE ADOPTION OF E-PAYMENT SERVICES"
   ]
  },
  {
   "cell_type": "markdown",
   "id": "vulnerable-nomination",
   "metadata": {},
   "source": [
    "## Load Libraries"
   ]
  },
  {
   "cell_type": "code",
   "execution_count": 1,
   "id": "molecular-party",
   "metadata": {},
   "outputs": [],
   "source": [
    "import time\n",
    "import numpy as np\n",
    "import pandas as pd\n",
    "\n",
    "from sklearn import svm\n",
    "from sklearn.tree import DecisionTreeClassifier\n",
    "from sklearn.neighbors import KNeighborsClassifier\n",
    "from sklearn.ensemble import RandomForestClassifier\n",
    "\n",
    "from sklearn.model_selection import train_test_split, KFold\n",
    "from scipy.stats import pearsonr, spearmanr, kendalltau, pointbiserialr\n",
    "from sklearn.metrics import accuracy_score, classification_report, confusion_matrix"
   ]
  },
  {
   "cell_type": "markdown",
   "id": "suspected-manual",
   "metadata": {},
   "source": [
    "## Load Custom Made Libraries"
   ]
  },
  {
   "cell_type": "code",
   "execution_count": 20,
   "id": "executed-costume",
   "metadata": {},
   "outputs": [],
   "source": [
    "from Utilities.CFS import *\n",
    "from Utilities.accuracy import *\n",
    "from Utilities.corr_matrix import *\n",
    "from Utilities.forward_selection import *\n",
    "from Utilities.backward_elimination import *\n",
    "\n",
    "from Visualization.model_graph import *\n",
    "from Visualization.network_graph import *"
   ]
  },
  {
   "cell_type": "markdown",
   "id": "driven-frederick",
   "metadata": {},
   "source": [
    "## Load Dataset"
   ]
  },
  {
   "cell_type": "code",
   "execution_count": 21,
   "id": "interior-windows",
   "metadata": {},
   "outputs": [],
   "source": [
    "df = pd.read_csv(\"Dataset/E-payment Cryptocurrency Coin.csv\")"
   ]
  },
  {
   "cell_type": "markdown",
   "id": "reflected-specification",
   "metadata": {},
   "source": [
    "## Label Binarizer"
   ]
  },
  {
   "cell_type": "code",
   "execution_count": 22,
   "id": "cardiovascular-colleague",
   "metadata": {},
   "outputs": [],
   "source": [
    "def convert_nominal(arr, term_arr):\n",
    "    tmp_dict = {val:ind for (ind, val) in enumerate(term_arr)}\n",
    "    return arr.map(lambda x : tmp_dict[x])"
   ]
  },
  {
   "cell_type": "markdown",
   "id": "widespread-exploration",
   "metadata": {},
   "source": [
    "## Split Dataset"
   ]
  },
  {
   "cell_type": "code",
   "execution_count": 23,
   "id": "steady-power",
   "metadata": {},
   "outputs": [],
   "source": [
    "mod_fac_df = pd.DataFrame()\n",
    "\n",
    "column_arr = [\"Age\", \"Gender\", \"Marital Status\", \"Education Level\", \"Work Industry\", \"Work Position\"]\n",
    "\n",
    "for (ind, col_name) in enumerate(column_arr):\n",
    "    mod_fac_df[col_name] = df.iloc[:, 6 + ind]\n",
    "    \n",
    "# Replace Values in Work Industry\n",
    "mod_fac_df = mod_fac_df.replace(\"Baking / Finance\", \"Banking / Finance\")\n",
    "\n",
    "# Label Binarize all columns\n",
    "# Age\n",
    "mod_fac_df[\"Age\"] = convert_nominal(mod_fac_df[\"Age\"], [\"< 25 years\", \"26 - 40 years\", \"41 - 55 years\", \"above 55 years\"])\n",
    "\n",
    "# Gender\n",
    "mod_fac_df[\"Gender\"] = convert_nominal(mod_fac_df[\"Gender\"], [\"Male\", \"Female\"])\n",
    "\n",
    "# Marital Status\n",
    "mod_fac_df[\"Marital Status\"] = convert_nominal(mod_fac_df[\"Marital Status\"], [\"Single\", \"Married\", \"Other\"])\n",
    "\n",
    "# Education Level\n",
    "mod_fac_df[\"Education Level\"] = convert_nominal(mod_fac_df[\"Education Level\"], ['Primary school', 'Secondary/High school', 'College/university', 'Graduate school', 'Other'])\n",
    "\n",
    "# Work Industry\n",
    "mod_fac_df[\"Work Industry\"] = convert_nominal(mod_fac_df[\"Work Industry\"], ['Banking / Finance', 'Education', 'Healthcare', 'Manufacturing', 'Retail / Hypermarket', 'Other'])\n",
    "\n",
    "# Work Position\n",
    "mod_fac_df[\"Work Position\"] = convert_nominal(mod_fac_df[\"Work Position\"], ['Junior management', 'Middle management', 'Top management', 'Professional', 'Other'])\n"
   ]
  },
  {
   "cell_type": "code",
   "execution_count": 24,
   "id": "finnish-demand",
   "metadata": {},
   "outputs": [],
   "source": [
    "utaut_fac_df = pd.DataFrame()\n",
    "\n",
    "column_arr = df.iloc[:, 28:].columns\n",
    "column_arr = [col.split(\": \")[0] for col in column_arr]\n",
    "\n",
    "for (ind, col_name) in enumerate(column_arr):\n",
    "    utaut_fac_df[col_name] = df.iloc[:, 28 + ind]\n",
    "    \n",
    "# Change Data Type to int\n",
    "utaut_fac_df = utaut_fac_df.astype(int)"
   ]
  },
  {
   "cell_type": "markdown",
   "id": "environmental-mills",
   "metadata": {},
   "source": [
    "## Target Variables"
   ]
  },
  {
   "cell_type": "markdown",
   "id": "ahead-inclusion",
   "metadata": {},
   "source": [
    "## BI1"
   ]
  },
  {
   "cell_type": "code",
   "execution_count": 65,
   "id": "protected-circulation",
   "metadata": {},
   "outputs": [],
   "source": [
    "# BI3 as Target Variable\n",
    "df_X = pd.DataFrame()\n",
    "df_X = pd.concat([df_X, mod_fac_df], axis = 1)\n",
    "df_X = pd.concat([df_X, utaut_fac_df.drop([\"BI1\", \"BI2\", \"BI3\", \"BI4\"], axis = 1)], axis = 1)\n",
    "df_Y = utaut_fac_df.loc[:, \"BI1\"]"
   ]
  },
  {
   "cell_type": "code",
   "execution_count": 66,
   "id": "directed-metro",
   "metadata": {
    "scrolled": false
   },
   "outputs": [
    {
     "data": {
      "text/html": [
       "<style  type=\"text/css\" >\n",
       "</style><table id=\"T_5aa69_\" ><thead>    <tr>        <th class=\"col_heading level0 col0\" >Variables</th>        <th class=\"col_heading level0 col1\" >P Value</th>    </tr></thead><tbody>\n",
       "                <tr>\n",
       "                                <td id=\"T_5aa69_row0_col0\" class=\"data row0 col0\" >T1</td>\n",
       "                        <td id=\"T_5aa69_row0_col1\" class=\"data row0 col1\" >0.000000</td>\n",
       "            </tr>\n",
       "            <tr>\n",
       "                                <td id=\"T_5aa69_row1_col0\" class=\"data row1 col0\" >AT1</td>\n",
       "                        <td id=\"T_5aa69_row1_col1\" class=\"data row1 col1\" >0.000000</td>\n",
       "            </tr>\n",
       "            <tr>\n",
       "                                <td id=\"T_5aa69_row2_col0\" class=\"data row2 col0\" >T2</td>\n",
       "                        <td id=\"T_5aa69_row2_col1\" class=\"data row2 col1\" >0.000000</td>\n",
       "            </tr>\n",
       "            <tr>\n",
       "                                <td id=\"T_5aa69_row3_col0\" class=\"data row3 col0\" >PE1</td>\n",
       "                        <td id=\"T_5aa69_row3_col1\" class=\"data row3 col1\" >0.000000</td>\n",
       "            </tr>\n",
       "            <tr>\n",
       "                                <td id=\"T_5aa69_row4_col0\" class=\"data row4 col0\" >T3</td>\n",
       "                        <td id=\"T_5aa69_row4_col1\" class=\"data row4 col1\" >0.000000</td>\n",
       "            </tr>\n",
       "            <tr>\n",
       "                                <td id=\"T_5aa69_row5_col0\" class=\"data row5 col0\" >T4</td>\n",
       "                        <td id=\"T_5aa69_row5_col1\" class=\"data row5 col1\" >0.000000</td>\n",
       "            </tr>\n",
       "            <tr>\n",
       "                                <td id=\"T_5aa69_row6_col0\" class=\"data row6 col0\" >FC2</td>\n",
       "                        <td id=\"T_5aa69_row6_col1\" class=\"data row6 col1\" >0.000000</td>\n",
       "            </tr>\n",
       "            <tr>\n",
       "                                <td id=\"T_5aa69_row7_col0\" class=\"data row7 col0\" >EE3</td>\n",
       "                        <td id=\"T_5aa69_row7_col1\" class=\"data row7 col1\" >0.000000</td>\n",
       "            </tr>\n",
       "            <tr>\n",
       "                                <td id=\"T_5aa69_row8_col0\" class=\"data row8 col0\" >PE4</td>\n",
       "                        <td id=\"T_5aa69_row8_col1\" class=\"data row8 col1\" >0.000000</td>\n",
       "            </tr>\n",
       "            <tr>\n",
       "                                <td id=\"T_5aa69_row9_col0\" class=\"data row9 col0\" >AT4</td>\n",
       "                        <td id=\"T_5aa69_row9_col1\" class=\"data row9 col1\" >0.000000</td>\n",
       "            </tr>\n",
       "            <tr>\n",
       "                                <td id=\"T_5aa69_row10_col0\" class=\"data row10 col0\" >AT2</td>\n",
       "                        <td id=\"T_5aa69_row10_col1\" class=\"data row10 col1\" >0.000000</td>\n",
       "            </tr>\n",
       "            <tr>\n",
       "                                <td id=\"T_5aa69_row11_col0\" class=\"data row11 col0\" >SE4</td>\n",
       "                        <td id=\"T_5aa69_row11_col1\" class=\"data row11 col1\" >0.000000</td>\n",
       "            </tr>\n",
       "            <tr>\n",
       "                                <td id=\"T_5aa69_row12_col0\" class=\"data row12 col0\" >PE2</td>\n",
       "                        <td id=\"T_5aa69_row12_col1\" class=\"data row12 col1\" >0.000000</td>\n",
       "            </tr>\n",
       "            <tr>\n",
       "                                <td id=\"T_5aa69_row13_col0\" class=\"data row13 col0\" >EE1</td>\n",
       "                        <td id=\"T_5aa69_row13_col1\" class=\"data row13 col1\" >0.000000</td>\n",
       "            </tr>\n",
       "            <tr>\n",
       "                                <td id=\"T_5aa69_row14_col0\" class=\"data row14 col0\" >EE4</td>\n",
       "                        <td id=\"T_5aa69_row14_col1\" class=\"data row14 col1\" >0.000000</td>\n",
       "            </tr>\n",
       "            <tr>\n",
       "                                <td id=\"T_5aa69_row15_col0\" class=\"data row15 col0\" >FC4</td>\n",
       "                        <td id=\"T_5aa69_row15_col1\" class=\"data row15 col1\" >0.000000</td>\n",
       "            </tr>\n",
       "            <tr>\n",
       "                                <td id=\"T_5aa69_row16_col0\" class=\"data row16 col0\" >EE2</td>\n",
       "                        <td id=\"T_5aa69_row16_col1\" class=\"data row16 col1\" >0.000000</td>\n",
       "            </tr>\n",
       "            <tr>\n",
       "                                <td id=\"T_5aa69_row17_col0\" class=\"data row17 col0\" >SE3</td>\n",
       "                        <td id=\"T_5aa69_row17_col1\" class=\"data row17 col1\" >0.000000</td>\n",
       "            </tr>\n",
       "            <tr>\n",
       "                                <td id=\"T_5aa69_row18_col0\" class=\"data row18 col0\" >SE2</td>\n",
       "                        <td id=\"T_5aa69_row18_col1\" class=\"data row18 col1\" >0.000000</td>\n",
       "            </tr>\n",
       "            <tr>\n",
       "                                <td id=\"T_5aa69_row19_col0\" class=\"data row19 col0\" >SI4</td>\n",
       "                        <td id=\"T_5aa69_row19_col1\" class=\"data row19 col1\" >0.000000</td>\n",
       "            </tr>\n",
       "            <tr>\n",
       "                                <td id=\"T_5aa69_row20_col0\" class=\"data row20 col0\" >SE1</td>\n",
       "                        <td id=\"T_5aa69_row20_col1\" class=\"data row20 col1\" >0.000000</td>\n",
       "            </tr>\n",
       "            <tr>\n",
       "                                <td id=\"T_5aa69_row21_col0\" class=\"data row21 col0\" >PE3</td>\n",
       "                        <td id=\"T_5aa69_row21_col1\" class=\"data row21 col1\" >0.000000</td>\n",
       "            </tr>\n",
       "            <tr>\n",
       "                                <td id=\"T_5aa69_row22_col0\" class=\"data row22 col0\" >SI2</td>\n",
       "                        <td id=\"T_5aa69_row22_col1\" class=\"data row22 col1\" >0.000000</td>\n",
       "            </tr>\n",
       "            <tr>\n",
       "                                <td id=\"T_5aa69_row23_col0\" class=\"data row23 col0\" >FC1</td>\n",
       "                        <td id=\"T_5aa69_row23_col1\" class=\"data row23 col1\" >0.000000</td>\n",
       "            </tr>\n",
       "            <tr>\n",
       "                                <td id=\"T_5aa69_row24_col0\" class=\"data row24 col0\" >SI3</td>\n",
       "                        <td id=\"T_5aa69_row24_col1\" class=\"data row24 col1\" >0.000000</td>\n",
       "            </tr>\n",
       "            <tr>\n",
       "                                <td id=\"T_5aa69_row25_col0\" class=\"data row25 col0\" >AT3</td>\n",
       "                        <td id=\"T_5aa69_row25_col1\" class=\"data row25 col1\" >0.000000</td>\n",
       "            </tr>\n",
       "            <tr>\n",
       "                                <td id=\"T_5aa69_row26_col0\" class=\"data row26 col0\" >FC3</td>\n",
       "                        <td id=\"T_5aa69_row26_col1\" class=\"data row26 col1\" >0.000000</td>\n",
       "            </tr>\n",
       "            <tr>\n",
       "                                <td id=\"T_5aa69_row27_col0\" class=\"data row27 col0\" >SI1</td>\n",
       "                        <td id=\"T_5aa69_row27_col1\" class=\"data row27 col1\" >0.000000</td>\n",
       "            </tr>\n",
       "            <tr>\n",
       "                                <td id=\"T_5aa69_row28_col0\" class=\"data row28 col0\" >Work Position</td>\n",
       "                        <td id=\"T_5aa69_row28_col1\" class=\"data row28 col1\" >0.002541</td>\n",
       "            </tr>\n",
       "            <tr>\n",
       "                                <td id=\"T_5aa69_row29_col0\" class=\"data row29 col0\" >AX4</td>\n",
       "                        <td id=\"T_5aa69_row29_col1\" class=\"data row29 col1\" >0.002938</td>\n",
       "            </tr>\n",
       "            <tr>\n",
       "                                <td id=\"T_5aa69_row30_col0\" class=\"data row30 col0\" >Gender</td>\n",
       "                        <td id=\"T_5aa69_row30_col1\" class=\"data row30 col1\" >0.014702</td>\n",
       "            </tr>\n",
       "            <tr>\n",
       "                                <td id=\"T_5aa69_row31_col0\" class=\"data row31 col0\" >AX1</td>\n",
       "                        <td id=\"T_5aa69_row31_col1\" class=\"data row31 col1\" >0.038868</td>\n",
       "            </tr>\n",
       "    </tbody></table>"
      ],
      "text/plain": [
       "<pandas.io.formats.style.Styler at 0x2a009906dc0>"
      ]
     },
     "execution_count": 66,
     "metadata": {},
     "output_type": "execute_result"
    }
   ],
   "source": [
    "# Correlation Function\n",
    "func = spearmanr\n",
    "\n",
    "arr_list = []\n",
    "\n",
    "threshold = 0.05\n",
    "\n",
    "# Get List of P_Values\n",
    "for col in df_X.columns:\n",
    "    corr, p_val = func(df_X.loc[:, col], df_Y)\n",
    "    # Threshold => Only append variables that have a p_value smaller than 0.05\n",
    "    if p_val <= threshold:\n",
    "        arr_list.append((col, p_val))\n",
    "        \n",
    "# Sort Variables Descending by P_val\n",
    "arr_list = sorted(arr_list, key = lambda x : x[1])\n",
    "\n",
    "arr_df = pd.DataFrame(arr_list, columns = [\"Variables\", \"P Value\"])\n",
    "\n",
    "arr_df.style.hide_index()"
   ]
  },
  {
   "cell_type": "code",
   "execution_count": 67,
   "id": "improved-inspector",
   "metadata": {},
   "outputs": [
    {
     "data": {
      "text/plain": [
       "['T1', 'AT1', 'T3', 'EE3', 'AT2', 'PE2', 'FC4', 'Work Position']"
      ]
     },
     "execution_count": 67,
     "metadata": {},
     "output_type": "execute_result"
    }
   ],
   "source": [
    "model = DecisionTreeClassifier()\n",
    "\n",
    "feature_set = backward_selection(df_X.loc[:, arr_df[\"Variables\"]], df_Y, model, 8)\n",
    "\n",
    "feature_set"
   ]
  },
  {
   "cell_type": "code",
   "execution_count": 68,
   "id": "qualified-underground",
   "metadata": {},
   "outputs": [
    {
     "name": "stdout",
     "output_type": "stream",
     "text": [
      "Accuracy Score (Without Selective Features): 69.15\n",
      "Accuracy Score (With Selective Features): 76.56\n"
     ]
    }
   ],
   "source": [
    "model = DecisionTreeClassifier()\n",
    "\n",
    "acc_score = get_acc_score_kcv(df_X, df_Y, model)\n",
    "\n",
    "print(f\"Accuracy Score (Without Selective Features): {acc_score:.2f}\")\n",
    "\n",
    "acc_score = get_acc_score_kcv(df_X.loc[:, feature_set], df_Y, model)\n",
    "\n",
    "print(f\"Accuracy Score (With Selective Features): {acc_score:.2f}\")"
   ]
  },
  {
   "cell_type": "markdown",
   "id": "rental-american",
   "metadata": {},
   "source": [
    "### BI3"
   ]
  },
  {
   "cell_type": "code",
   "execution_count": 69,
   "id": "emotional-lafayette",
   "metadata": {},
   "outputs": [],
   "source": [
    "# BI3 as Target Variable\n",
    "df_X = pd.DataFrame()\n",
    "df_X = pd.concat([df_X, mod_fac_df], axis = 1)\n",
    "df_X = pd.concat([df_X, utaut_fac_df.drop([\"BI1\", \"BI2\", \"BI3\", \"BI4\"], axis = 1)], axis = 1)\n",
    "df_Y = utaut_fac_df.loc[:, \"BI3\"]"
   ]
  },
  {
   "cell_type": "markdown",
   "id": "authentic-prophet",
   "metadata": {},
   "source": [
    "#### Get List of Variables that are significant"
   ]
  },
  {
   "cell_type": "code",
   "execution_count": 70,
   "id": "sapphire-lambda",
   "metadata": {
    "scrolled": false
   },
   "outputs": [
    {
     "data": {
      "text/html": [
       "<style  type=\"text/css\" >\n",
       "</style><table id=\"T_57161_\" ><thead>    <tr>        <th class=\"col_heading level0 col0\" >Variables</th>        <th class=\"col_heading level0 col1\" >P Value</th>    </tr></thead><tbody>\n",
       "                <tr>\n",
       "                                <td id=\"T_57161_row0_col0\" class=\"data row0 col0\" >PE1</td>\n",
       "                        <td id=\"T_57161_row0_col1\" class=\"data row0 col1\" >0.000000</td>\n",
       "            </tr>\n",
       "            <tr>\n",
       "                                <td id=\"T_57161_row1_col0\" class=\"data row1 col0\" >PE4</td>\n",
       "                        <td id=\"T_57161_row1_col1\" class=\"data row1 col1\" >0.000000</td>\n",
       "            </tr>\n",
       "            <tr>\n",
       "                                <td id=\"T_57161_row2_col0\" class=\"data row2 col0\" >T4</td>\n",
       "                        <td id=\"T_57161_row2_col1\" class=\"data row2 col1\" >0.000000</td>\n",
       "            </tr>\n",
       "            <tr>\n",
       "                                <td id=\"T_57161_row3_col0\" class=\"data row3 col0\" >AT1</td>\n",
       "                        <td id=\"T_57161_row3_col1\" class=\"data row3 col1\" >0.000000</td>\n",
       "            </tr>\n",
       "            <tr>\n",
       "                                <td id=\"T_57161_row4_col0\" class=\"data row4 col0\" >PE2</td>\n",
       "                        <td id=\"T_57161_row4_col1\" class=\"data row4 col1\" >0.000000</td>\n",
       "            </tr>\n",
       "            <tr>\n",
       "                                <td id=\"T_57161_row5_col0\" class=\"data row5 col0\" >T2</td>\n",
       "                        <td id=\"T_57161_row5_col1\" class=\"data row5 col1\" >0.000000</td>\n",
       "            </tr>\n",
       "            <tr>\n",
       "                                <td id=\"T_57161_row6_col0\" class=\"data row6 col0\" >AT2</td>\n",
       "                        <td id=\"T_57161_row6_col1\" class=\"data row6 col1\" >0.000000</td>\n",
       "            </tr>\n",
       "            <tr>\n",
       "                                <td id=\"T_57161_row7_col0\" class=\"data row7 col0\" >T1</td>\n",
       "                        <td id=\"T_57161_row7_col1\" class=\"data row7 col1\" >0.000000</td>\n",
       "            </tr>\n",
       "            <tr>\n",
       "                                <td id=\"T_57161_row8_col0\" class=\"data row8 col0\" >PE3</td>\n",
       "                        <td id=\"T_57161_row8_col1\" class=\"data row8 col1\" >0.000000</td>\n",
       "            </tr>\n",
       "            <tr>\n",
       "                                <td id=\"T_57161_row9_col0\" class=\"data row9 col0\" >AT4</td>\n",
       "                        <td id=\"T_57161_row9_col1\" class=\"data row9 col1\" >0.000000</td>\n",
       "            </tr>\n",
       "            <tr>\n",
       "                                <td id=\"T_57161_row10_col0\" class=\"data row10 col0\" >EE2</td>\n",
       "                        <td id=\"T_57161_row10_col1\" class=\"data row10 col1\" >0.000000</td>\n",
       "            </tr>\n",
       "            <tr>\n",
       "                                <td id=\"T_57161_row11_col0\" class=\"data row11 col0\" >EE1</td>\n",
       "                        <td id=\"T_57161_row11_col1\" class=\"data row11 col1\" >0.000000</td>\n",
       "            </tr>\n",
       "            <tr>\n",
       "                                <td id=\"T_57161_row12_col0\" class=\"data row12 col0\" >SE4</td>\n",
       "                        <td id=\"T_57161_row12_col1\" class=\"data row12 col1\" >0.000000</td>\n",
       "            </tr>\n",
       "            <tr>\n",
       "                                <td id=\"T_57161_row13_col0\" class=\"data row13 col0\" >T3</td>\n",
       "                        <td id=\"T_57161_row13_col1\" class=\"data row13 col1\" >0.000000</td>\n",
       "            </tr>\n",
       "            <tr>\n",
       "                                <td id=\"T_57161_row14_col0\" class=\"data row14 col0\" >FC4</td>\n",
       "                        <td id=\"T_57161_row14_col1\" class=\"data row14 col1\" >0.000000</td>\n",
       "            </tr>\n",
       "            <tr>\n",
       "                                <td id=\"T_57161_row15_col0\" class=\"data row15 col0\" >EE3</td>\n",
       "                        <td id=\"T_57161_row15_col1\" class=\"data row15 col1\" >0.000000</td>\n",
       "            </tr>\n",
       "            <tr>\n",
       "                                <td id=\"T_57161_row16_col0\" class=\"data row16 col0\" >SE3</td>\n",
       "                        <td id=\"T_57161_row16_col1\" class=\"data row16 col1\" >0.000000</td>\n",
       "            </tr>\n",
       "            <tr>\n",
       "                                <td id=\"T_57161_row17_col0\" class=\"data row17 col0\" >FC2</td>\n",
       "                        <td id=\"T_57161_row17_col1\" class=\"data row17 col1\" >0.000000</td>\n",
       "            </tr>\n",
       "            <tr>\n",
       "                                <td id=\"T_57161_row18_col0\" class=\"data row18 col0\" >EE4</td>\n",
       "                        <td id=\"T_57161_row18_col1\" class=\"data row18 col1\" >0.000000</td>\n",
       "            </tr>\n",
       "            <tr>\n",
       "                                <td id=\"T_57161_row19_col0\" class=\"data row19 col0\" >SI4</td>\n",
       "                        <td id=\"T_57161_row19_col1\" class=\"data row19 col1\" >0.000000</td>\n",
       "            </tr>\n",
       "            <tr>\n",
       "                                <td id=\"T_57161_row20_col0\" class=\"data row20 col0\" >SI3</td>\n",
       "                        <td id=\"T_57161_row20_col1\" class=\"data row20 col1\" >0.000000</td>\n",
       "            </tr>\n",
       "            <tr>\n",
       "                                <td id=\"T_57161_row21_col0\" class=\"data row21 col0\" >AT3</td>\n",
       "                        <td id=\"T_57161_row21_col1\" class=\"data row21 col1\" >0.000000</td>\n",
       "            </tr>\n",
       "            <tr>\n",
       "                                <td id=\"T_57161_row22_col0\" class=\"data row22 col0\" >SE1</td>\n",
       "                        <td id=\"T_57161_row22_col1\" class=\"data row22 col1\" >0.000000</td>\n",
       "            </tr>\n",
       "            <tr>\n",
       "                                <td id=\"T_57161_row23_col0\" class=\"data row23 col0\" >SE2</td>\n",
       "                        <td id=\"T_57161_row23_col1\" class=\"data row23 col1\" >0.000000</td>\n",
       "            </tr>\n",
       "            <tr>\n",
       "                                <td id=\"T_57161_row24_col0\" class=\"data row24 col0\" >FC1</td>\n",
       "                        <td id=\"T_57161_row24_col1\" class=\"data row24 col1\" >0.000000</td>\n",
       "            </tr>\n",
       "            <tr>\n",
       "                                <td id=\"T_57161_row25_col0\" class=\"data row25 col0\" >SI2</td>\n",
       "                        <td id=\"T_57161_row25_col1\" class=\"data row25 col1\" >0.000000</td>\n",
       "            </tr>\n",
       "            <tr>\n",
       "                                <td id=\"T_57161_row26_col0\" class=\"data row26 col0\" >FC3</td>\n",
       "                        <td id=\"T_57161_row26_col1\" class=\"data row26 col1\" >0.000000</td>\n",
       "            </tr>\n",
       "            <tr>\n",
       "                                <td id=\"T_57161_row27_col0\" class=\"data row27 col0\" >SI1</td>\n",
       "                        <td id=\"T_57161_row27_col1\" class=\"data row27 col1\" >0.000000</td>\n",
       "            </tr>\n",
       "            <tr>\n",
       "                                <td id=\"T_57161_row28_col0\" class=\"data row28 col0\" >AX1</td>\n",
       "                        <td id=\"T_57161_row28_col1\" class=\"data row28 col1\" >0.002294</td>\n",
       "            </tr>\n",
       "            <tr>\n",
       "                                <td id=\"T_57161_row29_col0\" class=\"data row29 col0\" >Work Position</td>\n",
       "                        <td id=\"T_57161_row29_col1\" class=\"data row29 col1\" >0.003093</td>\n",
       "            </tr>\n",
       "            <tr>\n",
       "                                <td id=\"T_57161_row30_col0\" class=\"data row30 col0\" >Education Level</td>\n",
       "                        <td id=\"T_57161_row30_col1\" class=\"data row30 col1\" >0.021565</td>\n",
       "            </tr>\n",
       "            <tr>\n",
       "                                <td id=\"T_57161_row31_col0\" class=\"data row31 col0\" >Gender</td>\n",
       "                        <td id=\"T_57161_row31_col1\" class=\"data row31 col1\" >0.028952</td>\n",
       "            </tr>\n",
       "    </tbody></table>"
      ],
      "text/plain": [
       "<pandas.io.formats.style.Styler at 0x2a00993fd00>"
      ]
     },
     "execution_count": 70,
     "metadata": {},
     "output_type": "execute_result"
    }
   ],
   "source": [
    "# Correlation Function\n",
    "func = spearmanr\n",
    "\n",
    "arr_list = []\n",
    "\n",
    "threshold = 0.05\n",
    "\n",
    "# Get List of P_Values\n",
    "for col in df_X.columns:\n",
    "    corr, p_val = func(df_X.loc[:, col], df_Y)\n",
    "    # Threshold => Only append variables that have a p_value smaller than 0.05\n",
    "    if p_val <= threshold:\n",
    "        arr_list.append((col, p_val))\n",
    "        \n",
    "# Sort Variables Descending by P_val\n",
    "arr_list = sorted(arr_list, key = lambda x : x[1])\n",
    "\n",
    "arr_df = pd.DataFrame(arr_list, columns = [\"Variables\", \"P Value\"])\n",
    "\n",
    "arr_df.style.hide_index()"
   ]
  },
  {
   "cell_type": "markdown",
   "id": "sufficient-defendant",
   "metadata": {},
   "source": [
    "We Can Observe that Work Position, Education Level and Gender have a significant relationship with Behavioral Intention  to have Blockchain / Cryptocurrency Coin as an E-Wallet."
   ]
  },
  {
   "cell_type": "code",
   "execution_count": 71,
   "id": "neural-argentina",
   "metadata": {},
   "outputs": [
    {
     "data": {
      "text/plain": [
       "['PE1', 'PE4', 'T4', 'AT2', 'FC4', 'SE2', 'SI2', 'SI1']"
      ]
     },
     "execution_count": 71,
     "metadata": {},
     "output_type": "execute_result"
    }
   ],
   "source": [
    "model = DecisionTreeClassifier()\n",
    "\n",
    "feature_set = backward_selection(df_X.loc[:, arr_df[\"Variables\"]], df_Y, model, 8)\n",
    "\n",
    "feature_set"
   ]
  },
  {
   "cell_type": "code",
   "execution_count": 72,
   "id": "random-indie",
   "metadata": {},
   "outputs": [
    {
     "name": "stdout",
     "output_type": "stream",
     "text": [
      "Accuracy Score (Without Selective Features): 73.44\n",
      "Accuracy Score (With Selective Features): 76.58\n"
     ]
    }
   ],
   "source": [
    "model = DecisionTreeClassifier()\n",
    "\n",
    "acc_score = get_acc_score_kcv(df_X, df_Y, model)\n",
    "\n",
    "print(f\"Accuracy Score (Without Selective Features): {acc_score:.2f}\")\n",
    "\n",
    "acc_score = get_acc_score_kcv(df_X.loc[:, feature_set], df_Y, model)\n",
    "\n",
    "print(f\"Accuracy Score (With Selective Features): {acc_score:.2f}\")"
   ]
  },
  {
   "cell_type": "markdown",
   "id": "contained-frederick",
   "metadata": {},
   "source": [
    "## BI4"
   ]
  },
  {
   "cell_type": "code",
   "execution_count": 73,
   "id": "extreme-curve",
   "metadata": {},
   "outputs": [],
   "source": [
    "# BI3 as Target Variable\n",
    "df_X = pd.DataFrame()\n",
    "df_X = pd.concat([df_X, mod_fac_df], axis = 1)\n",
    "df_X = pd.concat([df_X, utaut_fac_df.drop([\"BI1\", \"BI2\", \"BI3\", \"BI4\"], axis = 1)], axis = 1)\n",
    "df_Y = utaut_fac_df.loc[:, \"BI4\"]"
   ]
  },
  {
   "cell_type": "code",
   "execution_count": 74,
   "id": "solar-option",
   "metadata": {
    "scrolled": false
   },
   "outputs": [
    {
     "data": {
      "text/html": [
       "<style  type=\"text/css\" >\n",
       "</style><table id=\"T_a608a_\" ><thead>    <tr>        <th class=\"col_heading level0 col0\" >Variables</th>        <th class=\"col_heading level0 col1\" >P Value</th>    </tr></thead><tbody>\n",
       "                <tr>\n",
       "                                <td id=\"T_a608a_row0_col0\" class=\"data row0 col0\" >T3</td>\n",
       "                        <td id=\"T_a608a_row0_col1\" class=\"data row0 col1\" >0.000000</td>\n",
       "            </tr>\n",
       "            <tr>\n",
       "                                <td id=\"T_a608a_row1_col0\" class=\"data row1 col0\" >PE4</td>\n",
       "                        <td id=\"T_a608a_row1_col1\" class=\"data row1 col1\" >0.000000</td>\n",
       "            </tr>\n",
       "            <tr>\n",
       "                                <td id=\"T_a608a_row2_col0\" class=\"data row2 col0\" >PE1</td>\n",
       "                        <td id=\"T_a608a_row2_col1\" class=\"data row2 col1\" >0.000000</td>\n",
       "            </tr>\n",
       "            <tr>\n",
       "                                <td id=\"T_a608a_row3_col0\" class=\"data row3 col0\" >T1</td>\n",
       "                        <td id=\"T_a608a_row3_col1\" class=\"data row3 col1\" >0.000000</td>\n",
       "            </tr>\n",
       "            <tr>\n",
       "                                <td id=\"T_a608a_row4_col0\" class=\"data row4 col0\" >PE2</td>\n",
       "                        <td id=\"T_a608a_row4_col1\" class=\"data row4 col1\" >0.000000</td>\n",
       "            </tr>\n",
       "            <tr>\n",
       "                                <td id=\"T_a608a_row5_col0\" class=\"data row5 col0\" >T2</td>\n",
       "                        <td id=\"T_a608a_row5_col1\" class=\"data row5 col1\" >0.000000</td>\n",
       "            </tr>\n",
       "            <tr>\n",
       "                                <td id=\"T_a608a_row6_col0\" class=\"data row6 col0\" >AT1</td>\n",
       "                        <td id=\"T_a608a_row6_col1\" class=\"data row6 col1\" >0.000000</td>\n",
       "            </tr>\n",
       "            <tr>\n",
       "                                <td id=\"T_a608a_row7_col0\" class=\"data row7 col0\" >AT2</td>\n",
       "                        <td id=\"T_a608a_row7_col1\" class=\"data row7 col1\" >0.000000</td>\n",
       "            </tr>\n",
       "            <tr>\n",
       "                                <td id=\"T_a608a_row8_col0\" class=\"data row8 col0\" >T4</td>\n",
       "                        <td id=\"T_a608a_row8_col1\" class=\"data row8 col1\" >0.000000</td>\n",
       "            </tr>\n",
       "            <tr>\n",
       "                                <td id=\"T_a608a_row9_col0\" class=\"data row9 col0\" >EE3</td>\n",
       "                        <td id=\"T_a608a_row9_col1\" class=\"data row9 col1\" >0.000000</td>\n",
       "            </tr>\n",
       "            <tr>\n",
       "                                <td id=\"T_a608a_row10_col0\" class=\"data row10 col0\" >EE4</td>\n",
       "                        <td id=\"T_a608a_row10_col1\" class=\"data row10 col1\" >0.000000</td>\n",
       "            </tr>\n",
       "            <tr>\n",
       "                                <td id=\"T_a608a_row11_col0\" class=\"data row11 col0\" >SE4</td>\n",
       "                        <td id=\"T_a608a_row11_col1\" class=\"data row11 col1\" >0.000000</td>\n",
       "            </tr>\n",
       "            <tr>\n",
       "                                <td id=\"T_a608a_row12_col0\" class=\"data row12 col0\" >EE1</td>\n",
       "                        <td id=\"T_a608a_row12_col1\" class=\"data row12 col1\" >0.000000</td>\n",
       "            </tr>\n",
       "            <tr>\n",
       "                                <td id=\"T_a608a_row13_col0\" class=\"data row13 col0\" >AT4</td>\n",
       "                        <td id=\"T_a608a_row13_col1\" class=\"data row13 col1\" >0.000000</td>\n",
       "            </tr>\n",
       "            <tr>\n",
       "                                <td id=\"T_a608a_row14_col0\" class=\"data row14 col0\" >PE3</td>\n",
       "                        <td id=\"T_a608a_row14_col1\" class=\"data row14 col1\" >0.000000</td>\n",
       "            </tr>\n",
       "            <tr>\n",
       "                                <td id=\"T_a608a_row15_col0\" class=\"data row15 col0\" >FC2</td>\n",
       "                        <td id=\"T_a608a_row15_col1\" class=\"data row15 col1\" >0.000000</td>\n",
       "            </tr>\n",
       "            <tr>\n",
       "                                <td id=\"T_a608a_row16_col0\" class=\"data row16 col0\" >FC4</td>\n",
       "                        <td id=\"T_a608a_row16_col1\" class=\"data row16 col1\" >0.000000</td>\n",
       "            </tr>\n",
       "            <tr>\n",
       "                                <td id=\"T_a608a_row17_col0\" class=\"data row17 col0\" >SE3</td>\n",
       "                        <td id=\"T_a608a_row17_col1\" class=\"data row17 col1\" >0.000000</td>\n",
       "            </tr>\n",
       "            <tr>\n",
       "                                <td id=\"T_a608a_row18_col0\" class=\"data row18 col0\" >EE2</td>\n",
       "                        <td id=\"T_a608a_row18_col1\" class=\"data row18 col1\" >0.000000</td>\n",
       "            </tr>\n",
       "            <tr>\n",
       "                                <td id=\"T_a608a_row19_col0\" class=\"data row19 col0\" >SI4</td>\n",
       "                        <td id=\"T_a608a_row19_col1\" class=\"data row19 col1\" >0.000000</td>\n",
       "            </tr>\n",
       "            <tr>\n",
       "                                <td id=\"T_a608a_row20_col0\" class=\"data row20 col0\" >AT3</td>\n",
       "                        <td id=\"T_a608a_row20_col1\" class=\"data row20 col1\" >0.000000</td>\n",
       "            </tr>\n",
       "            <tr>\n",
       "                                <td id=\"T_a608a_row21_col0\" class=\"data row21 col0\" >SE2</td>\n",
       "                        <td id=\"T_a608a_row21_col1\" class=\"data row21 col1\" >0.000000</td>\n",
       "            </tr>\n",
       "            <tr>\n",
       "                                <td id=\"T_a608a_row22_col0\" class=\"data row22 col0\" >SI3</td>\n",
       "                        <td id=\"T_a608a_row22_col1\" class=\"data row22 col1\" >0.000000</td>\n",
       "            </tr>\n",
       "            <tr>\n",
       "                                <td id=\"T_a608a_row23_col0\" class=\"data row23 col0\" >SE1</td>\n",
       "                        <td id=\"T_a608a_row23_col1\" class=\"data row23 col1\" >0.000000</td>\n",
       "            </tr>\n",
       "            <tr>\n",
       "                                <td id=\"T_a608a_row24_col0\" class=\"data row24 col0\" >FC1</td>\n",
       "                        <td id=\"T_a608a_row24_col1\" class=\"data row24 col1\" >0.000000</td>\n",
       "            </tr>\n",
       "            <tr>\n",
       "                                <td id=\"T_a608a_row25_col0\" class=\"data row25 col0\" >SI2</td>\n",
       "                        <td id=\"T_a608a_row25_col1\" class=\"data row25 col1\" >0.000000</td>\n",
       "            </tr>\n",
       "            <tr>\n",
       "                                <td id=\"T_a608a_row26_col0\" class=\"data row26 col0\" >FC3</td>\n",
       "                        <td id=\"T_a608a_row26_col1\" class=\"data row26 col1\" >0.000000</td>\n",
       "            </tr>\n",
       "            <tr>\n",
       "                                <td id=\"T_a608a_row27_col0\" class=\"data row27 col0\" >SI1</td>\n",
       "                        <td id=\"T_a608a_row27_col1\" class=\"data row27 col1\" >0.000000</td>\n",
       "            </tr>\n",
       "            <tr>\n",
       "                                <td id=\"T_a608a_row28_col0\" class=\"data row28 col0\" >Work Position</td>\n",
       "                        <td id=\"T_a608a_row28_col1\" class=\"data row28 col1\" >0.007286</td>\n",
       "            </tr>\n",
       "            <tr>\n",
       "                                <td id=\"T_a608a_row29_col0\" class=\"data row29 col0\" >AX1</td>\n",
       "                        <td id=\"T_a608a_row29_col1\" class=\"data row29 col1\" >0.010209</td>\n",
       "            </tr>\n",
       "            <tr>\n",
       "                                <td id=\"T_a608a_row30_col0\" class=\"data row30 col0\" >Gender</td>\n",
       "                        <td id=\"T_a608a_row30_col1\" class=\"data row30 col1\" >0.030587</td>\n",
       "            </tr>\n",
       "    </tbody></table>"
      ],
      "text/plain": [
       "<pandas.io.formats.style.Styler at 0x2a009944d60>"
      ]
     },
     "execution_count": 74,
     "metadata": {},
     "output_type": "execute_result"
    }
   ],
   "source": [
    "# Correlation Function\n",
    "func = spearmanr\n",
    "\n",
    "arr_list = []\n",
    "\n",
    "threshold = 0.05\n",
    "\n",
    "# Get List of P_Values\n",
    "for col in df_X.columns:\n",
    "    corr, p_val = func(df_X.loc[:, col], df_Y)\n",
    "    # Threshold => Only append variables that have a p_value smaller than 0.05\n",
    "    if p_val <= threshold:\n",
    "        arr_list.append((col, p_val))\n",
    "        \n",
    "# Sort Variables Descending by P_val\n",
    "arr_list = sorted(arr_list, key = lambda x : x[1])\n",
    "\n",
    "arr_df = pd.DataFrame(arr_list, columns = [\"Variables\", \"P Value\"])\n",
    "\n",
    "arr_df.style.hide_index()"
   ]
  },
  {
   "cell_type": "code",
   "execution_count": 75,
   "id": "awful-services",
   "metadata": {},
   "outputs": [
    {
     "data": {
      "text/plain": [
       "['PE4', 'T2', 'AT1', 'AT2', 'SE4', 'FC2', 'SI4', 'AT3']"
      ]
     },
     "execution_count": 75,
     "metadata": {},
     "output_type": "execute_result"
    }
   ],
   "source": [
    "model = DecisionTreeClassifier()\n",
    "\n",
    "feature_set = backward_selection(df_X.loc[:, arr_df[\"Variables\"]], df_Y, model, 8)\n",
    "\n",
    "feature_set"
   ]
  },
  {
   "cell_type": "code",
   "execution_count": 76,
   "id": "greater-bracelet",
   "metadata": {},
   "outputs": [
    {
     "name": "stdout",
     "output_type": "stream",
     "text": [
      "Accuracy Score (Without Selective Features): 71.66\n",
      "Accuracy Score (With Selective Features): 76.61\n"
     ]
    }
   ],
   "source": [
    "model = DecisionTreeClassifier()\n",
    "\n",
    "acc_score = get_acc_score_kcv(df_X, df_Y, model)\n",
    "\n",
    "print(f\"Accuracy Score (Without Selective Features): {acc_score:.2f}\")\n",
    "\n",
    "acc_score = get_acc_score_kcv(df_X.loc[:, feature_set], df_Y, model)\n",
    "\n",
    "print(f\"Accuracy Score (With Selective Features): {acc_score:.2f}\")"
   ]
  },
  {
   "cell_type": "markdown",
   "id": "liable-agency",
   "metadata": {},
   "source": [
    "### 6. E-payment purchasing, Loyalty Points and Crypto Coin [(1) Have you ever purchased anything using the E-payment mode?"
   ]
  },
  {
   "cell_type": "code",
   "execution_count": 87,
   "id": "affecting-purpose",
   "metadata": {},
   "outputs": [],
   "source": [
    "# BI3 as Target Variable\n",
    "df_X = pd.DataFrame()\n",
    "df_X = pd.concat([df_X, mod_fac_df], axis = 1)\n",
    "df_X = pd.concat([df_X, utaut_fac_df.drop([\"BI1\", \"BI2\", \"BI3\", \"BI4\"], axis = 1)], axis = 1)\n",
    "df_Y = df.iloc[:, 17]\n",
    "\n",
    "df_Y = df_Y.replace(\"Yes\", 1)\n",
    "df_Y = df_Y.replace(\"No\", 0)\n",
    "df_Y = df_Y.astype(int)"
   ]
  },
  {
   "cell_type": "code",
   "execution_count": 89,
   "id": "numeric-blocking",
   "metadata": {},
   "outputs": [
    {
     "data": {
      "text/html": [
       "<style  type=\"text/css\" >\n",
       "</style><table id=\"T_48191_\" ><thead>    <tr>        <th class=\"col_heading level0 col0\" >Variables</th>        <th class=\"col_heading level0 col1\" >P Value</th>    </tr></thead><tbody>\n",
       "                <tr>\n",
       "                                <td id=\"T_48191_row0_col0\" class=\"data row0 col0\" >Education Level</td>\n",
       "                        <td id=\"T_48191_row0_col1\" class=\"data row0 col1\" >0.000754</td>\n",
       "            </tr>\n",
       "            <tr>\n",
       "                                <td id=\"T_48191_row1_col0\" class=\"data row1 col0\" >T4</td>\n",
       "                        <td id=\"T_48191_row1_col1\" class=\"data row1 col1\" >0.003072</td>\n",
       "            </tr>\n",
       "            <tr>\n",
       "                                <td id=\"T_48191_row2_col0\" class=\"data row2 col0\" >SE4</td>\n",
       "                        <td id=\"T_48191_row2_col1\" class=\"data row2 col1\" >0.012958</td>\n",
       "            </tr>\n",
       "            <tr>\n",
       "                                <td id=\"T_48191_row3_col0\" class=\"data row3 col0\" >T2</td>\n",
       "                        <td id=\"T_48191_row3_col1\" class=\"data row3 col1\" >0.019329</td>\n",
       "            </tr>\n",
       "            <tr>\n",
       "                                <td id=\"T_48191_row4_col0\" class=\"data row4 col0\" >SE3</td>\n",
       "                        <td id=\"T_48191_row4_col1\" class=\"data row4 col1\" >0.027324</td>\n",
       "            </tr>\n",
       "            <tr>\n",
       "                                <td id=\"T_48191_row5_col0\" class=\"data row5 col0\" >SE2</td>\n",
       "                        <td id=\"T_48191_row5_col1\" class=\"data row5 col1\" >0.029958</td>\n",
       "            </tr>\n",
       "            <tr>\n",
       "                                <td id=\"T_48191_row6_col0\" class=\"data row6 col0\" >T3</td>\n",
       "                        <td id=\"T_48191_row6_col1\" class=\"data row6 col1\" >0.030066</td>\n",
       "            </tr>\n",
       "            <tr>\n",
       "                                <td id=\"T_48191_row7_col0\" class=\"data row7 col0\" >FC4</td>\n",
       "                        <td id=\"T_48191_row7_col1\" class=\"data row7 col1\" >0.032270</td>\n",
       "            </tr>\n",
       "            <tr>\n",
       "                                <td id=\"T_48191_row8_col0\" class=\"data row8 col0\" >AT1</td>\n",
       "                        <td id=\"T_48191_row8_col1\" class=\"data row8 col1\" >0.037820</td>\n",
       "            </tr>\n",
       "            <tr>\n",
       "                                <td id=\"T_48191_row9_col0\" class=\"data row9 col0\" >T1</td>\n",
       "                        <td id=\"T_48191_row9_col1\" class=\"data row9 col1\" >0.046191</td>\n",
       "            </tr>\n",
       "    </tbody></table>"
      ],
      "text/plain": [
       "<pandas.io.formats.style.Styler at 0x2a009a221f0>"
      ]
     },
     "execution_count": 89,
     "metadata": {},
     "output_type": "execute_result"
    }
   ],
   "source": [
    "# Correlation Function\n",
    "func = pointbiserialr\n",
    "\n",
    "arr_list = []\n",
    "\n",
    "threshold = 0.05\n",
    "\n",
    "# Get List of P_Values\n",
    "for col in df_X.columns:\n",
    "    corr, p_val = func(df_X.loc[:, col], df_Y)\n",
    "    # Threshold => Only append variables that have a p_value smaller than 0.05\n",
    "    if p_val <= threshold:\n",
    "        arr_list.append((col, p_val))\n",
    "        \n",
    "# Sort Variables Descending by P_val\n",
    "arr_list = sorted(arr_list, key = lambda x : x[1])\n",
    "\n",
    "arr_df = pd.DataFrame(arr_list, columns = [\"Variables\", \"P Value\"])\n",
    "\n",
    "arr_df.style.hide_index()"
   ]
  },
  {
   "cell_type": "code",
   "execution_count": 90,
   "id": "norwegian-chess",
   "metadata": {},
   "outputs": [
    {
     "data": {
      "text/plain": [
       "['T4', 'SE4', 'T2', 'SE3', 'SE2', 'T3', 'AT1', 'T1']"
      ]
     },
     "execution_count": 90,
     "metadata": {},
     "output_type": "execute_result"
    }
   ],
   "source": [
    "model = DecisionTreeClassifier()\n",
    "\n",
    "feature_set = backward_selection(df_X.loc[:, arr_df[\"Variables\"]], df_Y, model, 8)\n",
    "\n",
    "feature_set"
   ]
  },
  {
   "cell_type": "code",
   "execution_count": 91,
   "id": "fantastic-reliance",
   "metadata": {},
   "outputs": [
    {
     "name": "stdout",
     "output_type": "stream",
     "text": [
      "Accuracy Score (Without Selective Features): 76.51\n",
      "Accuracy Score (With Selective Features): 85.69\n"
     ]
    }
   ],
   "source": [
    "model = DecisionTreeClassifier()\n",
    "\n",
    "acc_score = get_acc_score_kcv(df_X, df_Y, model)\n",
    "\n",
    "print(f\"Accuracy Score (Without Selective Features): {acc_score:.2f}\")\n",
    "\n",
    "acc_score = get_acc_score_kcv(df_X.loc[:, feature_set], df_Y, model)\n",
    "\n",
    "print(f\"Accuracy Score (With Selective Features): {acc_score:.2f}\")"
   ]
  },
  {
   "cell_type": "markdown",
   "id": "blind-switzerland",
   "metadata": {},
   "source": [
    "### 6. E-payment purchasing, Loyalty Points and Crypto Coin [(4) Do you have the Investment in Crypto?]"
   ]
  },
  {
   "cell_type": "code",
   "execution_count": 94,
   "id": "competitive-clearing",
   "metadata": {},
   "outputs": [],
   "source": [
    "# BI3 as Target Variable\n",
    "df_X = pd.DataFrame()\n",
    "df_X = pd.concat([df_X, mod_fac_df], axis = 1)\n",
    "df_X = pd.concat([df_X, utaut_fac_df.drop([\"BI1\", \"BI2\", \"BI3\", \"BI4\"], axis = 1)], axis = 1)\n",
    "df_Y = df.iloc[:, 20]\n",
    "\n",
    "df_Y = df_Y.replace(\"Yes\", 1)\n",
    "df_Y = df_Y.replace(\"No\", 0)\n",
    "df_Y = df_Y.astype(int)"
   ]
  },
  {
   "cell_type": "code",
   "execution_count": 96,
   "id": "technical-contribution",
   "metadata": {},
   "outputs": [
    {
     "data": {
      "text/html": [
       "<style  type=\"text/css\" >\n",
       "</style><table id=\"T_9fce3_\" ><thead>    <tr>        <th class=\"col_heading level0 col0\" >Variables</th>        <th class=\"col_heading level0 col1\" >P Value</th>    </tr></thead><tbody>\n",
       "                <tr>\n",
       "                                <td id=\"T_9fce3_row0_col0\" class=\"data row0 col0\" >FC2</td>\n",
       "                        <td id=\"T_9fce3_row0_col1\" class=\"data row0 col1\" >0.000000</td>\n",
       "            </tr>\n",
       "            <tr>\n",
       "                                <td id=\"T_9fce3_row1_col0\" class=\"data row1 col0\" >EE1</td>\n",
       "                        <td id=\"T_9fce3_row1_col1\" class=\"data row1 col1\" >0.000000</td>\n",
       "            </tr>\n",
       "            <tr>\n",
       "                                <td id=\"T_9fce3_row2_col0\" class=\"data row2 col0\" >T1</td>\n",
       "                        <td id=\"T_9fce3_row2_col1\" class=\"data row2 col1\" >0.000000</td>\n",
       "            </tr>\n",
       "            <tr>\n",
       "                                <td id=\"T_9fce3_row3_col0\" class=\"data row3 col0\" >PE1</td>\n",
       "                        <td id=\"T_9fce3_row3_col1\" class=\"data row3 col1\" >0.000000</td>\n",
       "            </tr>\n",
       "            <tr>\n",
       "                                <td id=\"T_9fce3_row4_col0\" class=\"data row4 col0\" >SE4</td>\n",
       "                        <td id=\"T_9fce3_row4_col1\" class=\"data row4 col1\" >0.000000</td>\n",
       "            </tr>\n",
       "            <tr>\n",
       "                                <td id=\"T_9fce3_row5_col0\" class=\"data row5 col0\" >SE2</td>\n",
       "                        <td id=\"T_9fce3_row5_col1\" class=\"data row5 col1\" >0.000000</td>\n",
       "            </tr>\n",
       "            <tr>\n",
       "                                <td id=\"T_9fce3_row6_col0\" class=\"data row6 col0\" >FC1</td>\n",
       "                        <td id=\"T_9fce3_row6_col1\" class=\"data row6 col1\" >0.000000</td>\n",
       "            </tr>\n",
       "            <tr>\n",
       "                                <td id=\"T_9fce3_row7_col0\" class=\"data row7 col0\" >FC4</td>\n",
       "                        <td id=\"T_9fce3_row7_col1\" class=\"data row7 col1\" >0.000000</td>\n",
       "            </tr>\n",
       "            <tr>\n",
       "                                <td id=\"T_9fce3_row8_col0\" class=\"data row8 col0\" >T4</td>\n",
       "                        <td id=\"T_9fce3_row8_col1\" class=\"data row8 col1\" >0.000000</td>\n",
       "            </tr>\n",
       "            <tr>\n",
       "                                <td id=\"T_9fce3_row9_col0\" class=\"data row9 col0\" >EE2</td>\n",
       "                        <td id=\"T_9fce3_row9_col1\" class=\"data row9 col1\" >0.000000</td>\n",
       "            </tr>\n",
       "            <tr>\n",
       "                                <td id=\"T_9fce3_row10_col0\" class=\"data row10 col0\" >PE2</td>\n",
       "                        <td id=\"T_9fce3_row10_col1\" class=\"data row10 col1\" >0.000000</td>\n",
       "            </tr>\n",
       "            <tr>\n",
       "                                <td id=\"T_9fce3_row11_col0\" class=\"data row11 col0\" >PE4</td>\n",
       "                        <td id=\"T_9fce3_row11_col1\" class=\"data row11 col1\" >0.000000</td>\n",
       "            </tr>\n",
       "            <tr>\n",
       "                                <td id=\"T_9fce3_row12_col0\" class=\"data row12 col0\" >T2</td>\n",
       "                        <td id=\"T_9fce3_row12_col1\" class=\"data row12 col1\" >0.000000</td>\n",
       "            </tr>\n",
       "            <tr>\n",
       "                                <td id=\"T_9fce3_row13_col0\" class=\"data row13 col0\" >AT4</td>\n",
       "                        <td id=\"T_9fce3_row13_col1\" class=\"data row13 col1\" >0.000000</td>\n",
       "            </tr>\n",
       "            <tr>\n",
       "                                <td id=\"T_9fce3_row14_col0\" class=\"data row14 col0\" >SI4</td>\n",
       "                        <td id=\"T_9fce3_row14_col1\" class=\"data row14 col1\" >0.000000</td>\n",
       "            </tr>\n",
       "            <tr>\n",
       "                                <td id=\"T_9fce3_row15_col0\" class=\"data row15 col0\" >EE3</td>\n",
       "                        <td id=\"T_9fce3_row15_col1\" class=\"data row15 col1\" >0.000000</td>\n",
       "            </tr>\n",
       "            <tr>\n",
       "                                <td id=\"T_9fce3_row16_col0\" class=\"data row16 col0\" >SE3</td>\n",
       "                        <td id=\"T_9fce3_row16_col1\" class=\"data row16 col1\" >0.000000</td>\n",
       "            </tr>\n",
       "            <tr>\n",
       "                                <td id=\"T_9fce3_row17_col0\" class=\"data row17 col0\" >SE1</td>\n",
       "                        <td id=\"T_9fce3_row17_col1\" class=\"data row17 col1\" >0.000000</td>\n",
       "            </tr>\n",
       "            <tr>\n",
       "                                <td id=\"T_9fce3_row18_col0\" class=\"data row18 col0\" >AT1</td>\n",
       "                        <td id=\"T_9fce3_row18_col1\" class=\"data row18 col1\" >0.000000</td>\n",
       "            </tr>\n",
       "            <tr>\n",
       "                                <td id=\"T_9fce3_row19_col0\" class=\"data row19 col0\" >T3</td>\n",
       "                        <td id=\"T_9fce3_row19_col1\" class=\"data row19 col1\" >0.000000</td>\n",
       "            </tr>\n",
       "            <tr>\n",
       "                                <td id=\"T_9fce3_row20_col0\" class=\"data row20 col0\" >FC3</td>\n",
       "                        <td id=\"T_9fce3_row20_col1\" class=\"data row20 col1\" >0.000000</td>\n",
       "            </tr>\n",
       "            <tr>\n",
       "                                <td id=\"T_9fce3_row21_col0\" class=\"data row21 col0\" >EE4</td>\n",
       "                        <td id=\"T_9fce3_row21_col1\" class=\"data row21 col1\" >0.000001</td>\n",
       "            </tr>\n",
       "            <tr>\n",
       "                                <td id=\"T_9fce3_row22_col0\" class=\"data row22 col0\" >AT2</td>\n",
       "                        <td id=\"T_9fce3_row22_col1\" class=\"data row22 col1\" >0.000001</td>\n",
       "            </tr>\n",
       "            <tr>\n",
       "                                <td id=\"T_9fce3_row23_col0\" class=\"data row23 col0\" >SI2</td>\n",
       "                        <td id=\"T_9fce3_row23_col1\" class=\"data row23 col1\" >0.000001</td>\n",
       "            </tr>\n",
       "            <tr>\n",
       "                                <td id=\"T_9fce3_row24_col0\" class=\"data row24 col0\" >Work Position</td>\n",
       "                        <td id=\"T_9fce3_row24_col1\" class=\"data row24 col1\" >0.000005</td>\n",
       "            </tr>\n",
       "            <tr>\n",
       "                                <td id=\"T_9fce3_row25_col0\" class=\"data row25 col0\" >PE3</td>\n",
       "                        <td id=\"T_9fce3_row25_col1\" class=\"data row25 col1\" >0.000012</td>\n",
       "            </tr>\n",
       "            <tr>\n",
       "                                <td id=\"T_9fce3_row26_col0\" class=\"data row26 col0\" >Work Industry</td>\n",
       "                        <td id=\"T_9fce3_row26_col1\" class=\"data row26 col1\" >0.000107</td>\n",
       "            </tr>\n",
       "            <tr>\n",
       "                                <td id=\"T_9fce3_row27_col0\" class=\"data row27 col0\" >SI3</td>\n",
       "                        <td id=\"T_9fce3_row27_col1\" class=\"data row27 col1\" >0.000148</td>\n",
       "            </tr>\n",
       "            <tr>\n",
       "                                <td id=\"T_9fce3_row28_col0\" class=\"data row28 col0\" >AX4</td>\n",
       "                        <td id=\"T_9fce3_row28_col1\" class=\"data row28 col1\" >0.000452</td>\n",
       "            </tr>\n",
       "            <tr>\n",
       "                                <td id=\"T_9fce3_row29_col0\" class=\"data row29 col0\" >SI1</td>\n",
       "                        <td id=\"T_9fce3_row29_col1\" class=\"data row29 col1\" >0.001019</td>\n",
       "            </tr>\n",
       "            <tr>\n",
       "                                <td id=\"T_9fce3_row30_col0\" class=\"data row30 col0\" >AT3</td>\n",
       "                        <td id=\"T_9fce3_row30_col1\" class=\"data row30 col1\" >0.002143</td>\n",
       "            </tr>\n",
       "            <tr>\n",
       "                                <td id=\"T_9fce3_row31_col0\" class=\"data row31 col0\" >Education Level</td>\n",
       "                        <td id=\"T_9fce3_row31_col1\" class=\"data row31 col1\" >0.010238</td>\n",
       "            </tr>\n",
       "            <tr>\n",
       "                                <td id=\"T_9fce3_row32_col0\" class=\"data row32 col0\" >Gender</td>\n",
       "                        <td id=\"T_9fce3_row32_col1\" class=\"data row32 col1\" >0.044936</td>\n",
       "            </tr>\n",
       "    </tbody></table>"
      ],
      "text/plain": [
       "<pandas.io.formats.style.Styler at 0x2a0099069d0>"
      ]
     },
     "execution_count": 96,
     "metadata": {},
     "output_type": "execute_result"
    }
   ],
   "source": [
    "# Correlation Function\n",
    "func = pointbiserialr\n",
    "\n",
    "arr_list = []\n",
    "\n",
    "threshold = 0.05\n",
    "\n",
    "# Get List of P_Values\n",
    "for col in df_X.columns:\n",
    "    corr, p_val = func(df_X.loc[:, col], df_Y)\n",
    "    # Threshold => Only append variables that have a p_value smaller than 0.05\n",
    "    if p_val <= threshold:\n",
    "        arr_list.append((col, p_val))\n",
    "        \n",
    "# Sort Variables Descending by P_val\n",
    "arr_list = sorted(arr_list, key = lambda x : x[1])\n",
    "\n",
    "arr_df = pd.DataFrame(arr_list, columns = [\"Variables\", \"P Value\"])\n",
    "\n",
    "arr_df.style.hide_index()"
   ]
  },
  {
   "cell_type": "code",
   "execution_count": 97,
   "id": "ultimate-recording",
   "metadata": {},
   "outputs": [
    {
     "data": {
      "text/plain": [
       "['T1', 'SE2', 'FC1', 'PE2', 'SE3', 'T3', 'AX4', 'Education Level']"
      ]
     },
     "execution_count": 97,
     "metadata": {},
     "output_type": "execute_result"
    }
   ],
   "source": [
    "model = DecisionTreeClassifier()\n",
    "\n",
    "feature_set = backward_selection(df_X.loc[:, arr_df[\"Variables\"]], df_Y, model, 8)\n",
    "\n",
    "feature_set"
   ]
  },
  {
   "cell_type": "code",
   "execution_count": 98,
   "id": "coordinated-spine",
   "metadata": {},
   "outputs": [
    {
     "name": "stdout",
     "output_type": "stream",
     "text": [
      "Accuracy Score (Without Selective Features): 79.70\n",
      "Accuracy Score (With Selective Features): 80.73\n"
     ]
    }
   ],
   "source": [
    "model = DecisionTreeClassifier()\n",
    "\n",
    "acc_score = get_acc_score_kcv(df_X, df_Y, model)\n",
    "\n",
    "print(f\"Accuracy Score (Without Selective Features): {acc_score:.2f}\")\n",
    "\n",
    "acc_score = get_acc_score_kcv(df_X.loc[:, feature_set], df_Y, model)\n",
    "\n",
    "print(f\"Accuracy Score (With Selective Features): {acc_score:.2f}\")"
   ]
  }
 ],
 "metadata": {
  "kernelspec": {
   "display_name": "Python 3",
   "language": "python",
   "name": "python3"
  },
  "language_info": {
   "codemirror_mode": {
    "name": "ipython",
    "version": 3
   },
   "file_extension": ".py",
   "mimetype": "text/x-python",
   "name": "python",
   "nbconvert_exporter": "python",
   "pygments_lexer": "ipython3",
   "version": "3.9.1"
  }
 },
 "nbformat": 4,
 "nbformat_minor": 5
}
