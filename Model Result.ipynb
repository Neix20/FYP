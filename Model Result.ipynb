{
 "cells": [
  {
   "cell_type": "markdown",
   "id": "developed-keyboard",
   "metadata": {},
   "source": [
    "# Title: CORRELATION MODEL IN THE ADOPTION OF E-PAYMENT SERVICES"
   ]
  },
  {
   "cell_type": "markdown",
   "id": "vulnerable-nomination",
   "metadata": {},
   "source": [
    "## Load Libraries"
   ]
  },
  {
   "cell_type": "code",
   "execution_count": 46,
   "id": "molecular-party",
   "metadata": {},
   "outputs": [],
   "source": [
    "import time\n",
    "import numpy as np\n",
    "import pandas as pd\n",
    "import matplotlib.pyplot as plt\n",
    "\n",
    "from sklearn import svm, tree\n",
    "from sklearn.tree import DecisionTreeClassifier\n",
    "from sklearn.neighbors import KNeighborsClassifier\n",
    "from sklearn.ensemble import RandomForestClassifier\n",
    "\n",
    "from sklearn.model_selection import train_test_split, KFold\n",
    "from scipy.stats import pearsonr, spearmanr, kendalltau, pointbiserialr\n",
    "from sklearn.metrics import accuracy_score, classification_report, confusion_matrix, matthews_corrcoef\n",
    "\n",
    "%matplotlib inline"
   ]
  },
  {
   "cell_type": "markdown",
   "id": "suspected-manual",
   "metadata": {},
   "source": [
    "## Load Custom Made Libraries"
   ]
  },
  {
   "cell_type": "code",
   "execution_count": 2,
   "id": "executed-costume",
   "metadata": {},
   "outputs": [],
   "source": [
    "from Utilities.CFS import *\n",
    "from Utilities.accuracy import *\n",
    "from Utilities.corr_matrix import *\n",
    "from Utilities.forward_selection import *\n",
    "from Utilities.backward_elimination import *\n",
    "\n",
    "from Visualization.model_graph import *\n",
    "from Visualization.network_graph import *"
   ]
  },
  {
   "cell_type": "markdown",
   "id": "driven-frederick",
   "metadata": {},
   "source": [
    "## Load Dataset"
   ]
  },
  {
   "cell_type": "code",
   "execution_count": 3,
   "id": "interior-windows",
   "metadata": {},
   "outputs": [],
   "source": [
    "df = pd.read_csv(\"Dataset/E-payment Cryptocurrency Coin.csv\")"
   ]
  },
  {
   "cell_type": "markdown",
   "id": "reflected-specification",
   "metadata": {},
   "source": [
    "## Label Binarizer"
   ]
  },
  {
   "cell_type": "code",
   "execution_count": 4,
   "id": "cardiovascular-colleague",
   "metadata": {},
   "outputs": [],
   "source": [
    "def convert_nominal(arr, term_arr):\n",
    "    tmp_dict = {val:ind for (ind, val) in enumerate(term_arr)}\n",
    "    return arr.map(lambda x : tmp_dict[x])"
   ]
  },
  {
   "cell_type": "markdown",
   "id": "widespread-exploration",
   "metadata": {},
   "source": [
    "## Split Dataset"
   ]
  },
  {
   "cell_type": "code",
   "execution_count": 5,
   "id": "steady-power",
   "metadata": {},
   "outputs": [],
   "source": [
    "mod_fac_df = pd.DataFrame()\n",
    "\n",
    "column_arr = [\"Age\", \"Gender\", \"Marital Status\", \"Education Level\", \"Work Industry\", \"Work Position\"]\n",
    "\n",
    "for (ind, col_name) in enumerate(column_arr):\n",
    "    mod_fac_df[col_name] = df.iloc[:, 6 + ind]\n",
    "    \n",
    "# Replace Values in Work Industry\n",
    "mod_fac_df = mod_fac_df.replace(\"Baking / Finance\", \"Banking / Finance\")\n",
    "\n",
    "# Label Binarize all columns\n",
    "# Age\n",
    "mod_fac_df[\"Age\"] = convert_nominal(mod_fac_df[\"Age\"], [\"< 25 years\", \"26 - 40 years\", \"41 - 55 years\", \"above 55 years\"])\n",
    "\n",
    "# Gender\n",
    "mod_fac_df[\"Gender\"] = convert_nominal(mod_fac_df[\"Gender\"], [\"Male\", \"Female\"])\n",
    "\n",
    "# Marital Status\n",
    "mod_fac_df[\"Marital Status\"] = convert_nominal(mod_fac_df[\"Marital Status\"], [\"Single\", \"Married\", \"Other\"])\n",
    "\n",
    "# Education Level\n",
    "mod_fac_df[\"Education Level\"] = convert_nominal(mod_fac_df[\"Education Level\"], ['Primary school', 'Secondary/High school', 'College/university', 'Graduate school', 'Other'])\n",
    "\n",
    "# Work Industry\n",
    "mod_fac_df[\"Work Industry\"] = convert_nominal(mod_fac_df[\"Work Industry\"], ['Banking / Finance', 'Education', 'Healthcare', 'Manufacturing', 'Retail / Hypermarket', 'Other'])\n",
    "\n",
    "# Work Position\n",
    "mod_fac_df[\"Work Position\"] = convert_nominal(mod_fac_df[\"Work Position\"], ['Junior management', 'Middle management', 'Top management', 'Professional', 'Other'])\n"
   ]
  },
  {
   "cell_type": "code",
   "execution_count": 6,
   "id": "finnish-demand",
   "metadata": {},
   "outputs": [],
   "source": [
    "utaut_fac_df = pd.DataFrame()\n",
    "\n",
    "column_arr = df.iloc[:, 28:].columns\n",
    "column_arr = [col.split(\": \")[0] for col in column_arr]\n",
    "\n",
    "for (ind, col_name) in enumerate(column_arr):\n",
    "    utaut_fac_df[col_name] = df.iloc[:, 28 + ind]\n",
    "    \n",
    "# Change Data Type to int\n",
    "utaut_fac_df = utaut_fac_df.astype(int)"
   ]
  },
  {
   "cell_type": "markdown",
   "id": "balanced-buffalo",
   "metadata": {},
   "source": [
    "## Correlation Network Graph"
   ]
  },
  {
   "cell_type": "code",
   "execution_count": 27,
   "id": "married-algebra",
   "metadata": {},
   "outputs": [
    {
     "data": {
      "application/vnd.plotly.v1+json": {
       "config": {
        "plotlyServerURL": "https://plot.ly"
       },
       "data": [
        {
         "hoverinfo": "none",
         "line": {
          "color": "#DCDCDC",
          "width": 1
         },
         "mode": "lines",
         "showlegend": false,
         "type": "scatter",
         "x": [
          0.1667435709804112,
          0.24641941198883383,
          null,
          0.1667435709804112,
          0.3525577417112579,
          null,
          0.1667435709804112,
          0.49240330410248107,
          null,
          0.1667435709804112,
          -0.14663555710928478,
          null,
          0.1667435709804112,
          0.5433808585360024,
          null,
          0.1667435709804112,
          0.2105284318431482,
          null,
          0.1667435709804112,
          -0.29014428403451353,
          null,
          0.49240330410248107,
          0.7430227300205805,
          null,
          -0.14663555710928478,
          -0.0556282478921601,
          null,
          -0.14663555710928478,
          -0.3675828347993298,
          null,
          -0.14663555710928478,
          -0.23301477792382339,
          null,
          -0.14663555710928478,
          -0.40778448039934034,
          null,
          0.5433808585360024,
          0.7089353448376258,
          null,
          0.5433808585360024,
          0.8236488092161381,
          null,
          0.2105284318431482,
          0.1427269581625706,
          null,
          0.2105284318431482,
          0.3429122465772704,
          null,
          -0.29014428403451353,
          -0.7355059014172499,
          null,
          -0.40778448039934034,
          -0.551594623775386,
          null,
          -0.7355059014172499,
          -0.9853887006252326,
          null,
          -0.7355059014172499,
          -1,
          null
         ],
         "y": [
          -0.0365089858631067,
          0.15844109507547852,
          null,
          -0.0365089858631067,
          -0.08807872837629951,
          null,
          -0.0365089858631067,
          -0.2284281092617071,
          null,
          -0.0365089858631067,
          0.31727472857951433,
          null,
          -0.0365089858631067,
          0.2115934373764386,
          null,
          -0.0365089858631067,
          -0.46249100751573535,
          null,
          -0.0365089858631067,
          -0.11556004415373049,
          null,
          -0.2284281092617071,
          -0.36750000451765824,
          null,
          0.31727472857951433,
          0.5721035796136311,
          null,
          0.31727472857951433,
          0.4811932565376312,
          null,
          0.31727472857951433,
          0.5981857933416179,
          null,
          0.31727472857951433,
          0.15381581270940697,
          null,
          0.2115934373764386,
          0.4436932258980251,
          null,
          0.2115934373764386,
          0.27036931751757304,
          null,
          -0.46249100751573535,
          -0.731306564988176,
          null,
          -0.46249100751573535,
          -0.7120638210553558,
          null,
          -0.11556004415373049,
          -0.1256726645195331,
          null,
          0.15381581270940697,
          -0.07199401729859056,
          null,
          -0.1256726645195331,
          -0.24297180466119842,
          null,
          -0.1256726645195331,
          -0.024094494438227684,
          null
         ]
        },
        {
         "marker": {
          "color": [
           "#9eccb7",
           "#9eccb7",
           "#9eccb7",
           "#9eccb7",
           "#9eccb7",
           "#9eccb7",
           "#9eccb7",
           "#9eccb7",
           "#9eccb7",
           "#9eccb7",
           "#9eccb7",
           "#9eccb7",
           "#9eccb7",
           "#9eccb7",
           "#9eccb7",
           "#9eccb7",
           "#9eccb7",
           "#9eccb7",
           "#9eccb7",
           "#9eccb7"
          ],
          "line": {
           "width": 1
          },
          "size": [
           35,
           5,
           5,
           10,
           25,
           15,
           15,
           10,
           5,
           5,
           5,
           5,
           10,
           15,
           5,
           5,
           5,
           5,
           5,
           5,
           5
          ]
         },
         "mode": "markers+text",
         "showlegend": false,
         "text": [
          "PE1",
          "PE2",
          "PE3",
          "PE4",
          "EE1",
          "AT4",
          "BI3",
          "BI4",
          "AT2",
          "EE2",
          "EE3",
          "EE4",
          "FC2",
          "T3",
          "AT1",
          "AT3",
          "BI1",
          "FC1",
          "T1",
          "T2",
          "BI2"
         ],
         "textfont": {
          "size": 7
         },
         "textposition": "top center",
         "type": "scatter",
         "x": [
          0.1667435709804112,
          0.24641941198883383,
          0.3525577417112579,
          0.49240330410248107,
          -0.14663555710928478,
          0.5433808585360024,
          0.2105284318431482,
          -0.29014428403451353,
          0.7430227300205805,
          -0.0556282478921601,
          -0.3675828347993298,
          -0.23301477792382339,
          -0.40778448039934034,
          -0.7355059014172499,
          0.7089353448376258,
          0.8236488092161381,
          0.1427269581625706,
          -0.551594623775386,
          -0.9853887006252326,
          -1,
          0.3429122465772704
         ],
         "y": [
          -0.0365089858631067,
          0.15844109507547852,
          -0.08807872837629951,
          -0.2284281092617071,
          0.31727472857951433,
          0.2115934373764386,
          -0.46249100751573535,
          -0.11556004415373049,
          -0.36750000451765824,
          0.5721035796136311,
          0.4811932565376312,
          0.5981857933416179,
          0.15381581270940697,
          -0.1256726645195331,
          0.4436932258980251,
          0.27036931751757304,
          -0.731306564988176,
          -0.07199401729859056,
          -0.24297180466119842,
          -0.024094494438227684,
          -0.7120638210553558
         ]
        }
       ],
       "layout": {
        "autosize": false,
        "height": 800,
        "hovermode": "closest",
        "plot_bgcolor": "#fff",
        "showlegend": false,
        "template": {
         "data": {
          "bar": [
           {
            "error_x": {
             "color": "#2a3f5f"
            },
            "error_y": {
             "color": "#2a3f5f"
            },
            "marker": {
             "line": {
              "color": "#E5ECF6",
              "width": 0.5
             },
             "pattern": {
              "fillmode": "overlay",
              "size": 10,
              "solidity": 0.2
             }
            },
            "type": "bar"
           }
          ],
          "barpolar": [
           {
            "marker": {
             "line": {
              "color": "#E5ECF6",
              "width": 0.5
             },
             "pattern": {
              "fillmode": "overlay",
              "size": 10,
              "solidity": 0.2
             }
            },
            "type": "barpolar"
           }
          ],
          "carpet": [
           {
            "aaxis": {
             "endlinecolor": "#2a3f5f",
             "gridcolor": "white",
             "linecolor": "white",
             "minorgridcolor": "white",
             "startlinecolor": "#2a3f5f"
            },
            "baxis": {
             "endlinecolor": "#2a3f5f",
             "gridcolor": "white",
             "linecolor": "white",
             "minorgridcolor": "white",
             "startlinecolor": "#2a3f5f"
            },
            "type": "carpet"
           }
          ],
          "choropleth": [
           {
            "colorbar": {
             "outlinewidth": 0,
             "ticks": ""
            },
            "type": "choropleth"
           }
          ],
          "contour": [
           {
            "colorbar": {
             "outlinewidth": 0,
             "ticks": ""
            },
            "colorscale": [
             [
              0,
              "#0d0887"
             ],
             [
              0.1111111111111111,
              "#46039f"
             ],
             [
              0.2222222222222222,
              "#7201a8"
             ],
             [
              0.3333333333333333,
              "#9c179e"
             ],
             [
              0.4444444444444444,
              "#bd3786"
             ],
             [
              0.5555555555555556,
              "#d8576b"
             ],
             [
              0.6666666666666666,
              "#ed7953"
             ],
             [
              0.7777777777777778,
              "#fb9f3a"
             ],
             [
              0.8888888888888888,
              "#fdca26"
             ],
             [
              1,
              "#f0f921"
             ]
            ],
            "type": "contour"
           }
          ],
          "contourcarpet": [
           {
            "colorbar": {
             "outlinewidth": 0,
             "ticks": ""
            },
            "type": "contourcarpet"
           }
          ],
          "heatmap": [
           {
            "colorbar": {
             "outlinewidth": 0,
             "ticks": ""
            },
            "colorscale": [
             [
              0,
              "#0d0887"
             ],
             [
              0.1111111111111111,
              "#46039f"
             ],
             [
              0.2222222222222222,
              "#7201a8"
             ],
             [
              0.3333333333333333,
              "#9c179e"
             ],
             [
              0.4444444444444444,
              "#bd3786"
             ],
             [
              0.5555555555555556,
              "#d8576b"
             ],
             [
              0.6666666666666666,
              "#ed7953"
             ],
             [
              0.7777777777777778,
              "#fb9f3a"
             ],
             [
              0.8888888888888888,
              "#fdca26"
             ],
             [
              1,
              "#f0f921"
             ]
            ],
            "type": "heatmap"
           }
          ],
          "heatmapgl": [
           {
            "colorbar": {
             "outlinewidth": 0,
             "ticks": ""
            },
            "colorscale": [
             [
              0,
              "#0d0887"
             ],
             [
              0.1111111111111111,
              "#46039f"
             ],
             [
              0.2222222222222222,
              "#7201a8"
             ],
             [
              0.3333333333333333,
              "#9c179e"
             ],
             [
              0.4444444444444444,
              "#bd3786"
             ],
             [
              0.5555555555555556,
              "#d8576b"
             ],
             [
              0.6666666666666666,
              "#ed7953"
             ],
             [
              0.7777777777777778,
              "#fb9f3a"
             ],
             [
              0.8888888888888888,
              "#fdca26"
             ],
             [
              1,
              "#f0f921"
             ]
            ],
            "type": "heatmapgl"
           }
          ],
          "histogram": [
           {
            "marker": {
             "pattern": {
              "fillmode": "overlay",
              "size": 10,
              "solidity": 0.2
             }
            },
            "type": "histogram"
           }
          ],
          "histogram2d": [
           {
            "colorbar": {
             "outlinewidth": 0,
             "ticks": ""
            },
            "colorscale": [
             [
              0,
              "#0d0887"
             ],
             [
              0.1111111111111111,
              "#46039f"
             ],
             [
              0.2222222222222222,
              "#7201a8"
             ],
             [
              0.3333333333333333,
              "#9c179e"
             ],
             [
              0.4444444444444444,
              "#bd3786"
             ],
             [
              0.5555555555555556,
              "#d8576b"
             ],
             [
              0.6666666666666666,
              "#ed7953"
             ],
             [
              0.7777777777777778,
              "#fb9f3a"
             ],
             [
              0.8888888888888888,
              "#fdca26"
             ],
             [
              1,
              "#f0f921"
             ]
            ],
            "type": "histogram2d"
           }
          ],
          "histogram2dcontour": [
           {
            "colorbar": {
             "outlinewidth": 0,
             "ticks": ""
            },
            "colorscale": [
             [
              0,
              "#0d0887"
             ],
             [
              0.1111111111111111,
              "#46039f"
             ],
             [
              0.2222222222222222,
              "#7201a8"
             ],
             [
              0.3333333333333333,
              "#9c179e"
             ],
             [
              0.4444444444444444,
              "#bd3786"
             ],
             [
              0.5555555555555556,
              "#d8576b"
             ],
             [
              0.6666666666666666,
              "#ed7953"
             ],
             [
              0.7777777777777778,
              "#fb9f3a"
             ],
             [
              0.8888888888888888,
              "#fdca26"
             ],
             [
              1,
              "#f0f921"
             ]
            ],
            "type": "histogram2dcontour"
           }
          ],
          "mesh3d": [
           {
            "colorbar": {
             "outlinewidth": 0,
             "ticks": ""
            },
            "type": "mesh3d"
           }
          ],
          "parcoords": [
           {
            "line": {
             "colorbar": {
              "outlinewidth": 0,
              "ticks": ""
             }
            },
            "type": "parcoords"
           }
          ],
          "pie": [
           {
            "automargin": true,
            "type": "pie"
           }
          ],
          "scatter": [
           {
            "marker": {
             "colorbar": {
              "outlinewidth": 0,
              "ticks": ""
             }
            },
            "type": "scatter"
           }
          ],
          "scatter3d": [
           {
            "line": {
             "colorbar": {
              "outlinewidth": 0,
              "ticks": ""
             }
            },
            "marker": {
             "colorbar": {
              "outlinewidth": 0,
              "ticks": ""
             }
            },
            "type": "scatter3d"
           }
          ],
          "scattercarpet": [
           {
            "marker": {
             "colorbar": {
              "outlinewidth": 0,
              "ticks": ""
             }
            },
            "type": "scattercarpet"
           }
          ],
          "scattergeo": [
           {
            "marker": {
             "colorbar": {
              "outlinewidth": 0,
              "ticks": ""
             }
            },
            "type": "scattergeo"
           }
          ],
          "scattergl": [
           {
            "marker": {
             "colorbar": {
              "outlinewidth": 0,
              "ticks": ""
             }
            },
            "type": "scattergl"
           }
          ],
          "scattermapbox": [
           {
            "marker": {
             "colorbar": {
              "outlinewidth": 0,
              "ticks": ""
             }
            },
            "type": "scattermapbox"
           }
          ],
          "scatterpolar": [
           {
            "marker": {
             "colorbar": {
              "outlinewidth": 0,
              "ticks": ""
             }
            },
            "type": "scatterpolar"
           }
          ],
          "scatterpolargl": [
           {
            "marker": {
             "colorbar": {
              "outlinewidth": 0,
              "ticks": ""
             }
            },
            "type": "scatterpolargl"
           }
          ],
          "scatterternary": [
           {
            "marker": {
             "colorbar": {
              "outlinewidth": 0,
              "ticks": ""
             }
            },
            "type": "scatterternary"
           }
          ],
          "surface": [
           {
            "colorbar": {
             "outlinewidth": 0,
             "ticks": ""
            },
            "colorscale": [
             [
              0,
              "#0d0887"
             ],
             [
              0.1111111111111111,
              "#46039f"
             ],
             [
              0.2222222222222222,
              "#7201a8"
             ],
             [
              0.3333333333333333,
              "#9c179e"
             ],
             [
              0.4444444444444444,
              "#bd3786"
             ],
             [
              0.5555555555555556,
              "#d8576b"
             ],
             [
              0.6666666666666666,
              "#ed7953"
             ],
             [
              0.7777777777777778,
              "#fb9f3a"
             ],
             [
              0.8888888888888888,
              "#fdca26"
             ],
             [
              1,
              "#f0f921"
             ]
            ],
            "type": "surface"
           }
          ],
          "table": [
           {
            "cells": {
             "fill": {
              "color": "#EBF0F8"
             },
             "line": {
              "color": "white"
             }
            },
            "header": {
             "fill": {
              "color": "#C8D4E3"
             },
             "line": {
              "color": "white"
             }
            },
            "type": "table"
           }
          ]
         },
         "layout": {
          "annotationdefaults": {
           "arrowcolor": "#2a3f5f",
           "arrowhead": 0,
           "arrowwidth": 1
          },
          "autotypenumbers": "strict",
          "coloraxis": {
           "colorbar": {
            "outlinewidth": 0,
            "ticks": ""
           }
          },
          "colorscale": {
           "diverging": [
            [
             0,
             "#8e0152"
            ],
            [
             0.1,
             "#c51b7d"
            ],
            [
             0.2,
             "#de77ae"
            ],
            [
             0.3,
             "#f1b6da"
            ],
            [
             0.4,
             "#fde0ef"
            ],
            [
             0.5,
             "#f7f7f7"
            ],
            [
             0.6,
             "#e6f5d0"
            ],
            [
             0.7,
             "#b8e186"
            ],
            [
             0.8,
             "#7fbc41"
            ],
            [
             0.9,
             "#4d9221"
            ],
            [
             1,
             "#276419"
            ]
           ],
           "sequential": [
            [
             0,
             "#0d0887"
            ],
            [
             0.1111111111111111,
             "#46039f"
            ],
            [
             0.2222222222222222,
             "#7201a8"
            ],
            [
             0.3333333333333333,
             "#9c179e"
            ],
            [
             0.4444444444444444,
             "#bd3786"
            ],
            [
             0.5555555555555556,
             "#d8576b"
            ],
            [
             0.6666666666666666,
             "#ed7953"
            ],
            [
             0.7777777777777778,
             "#fb9f3a"
            ],
            [
             0.8888888888888888,
             "#fdca26"
            ],
            [
             1,
             "#f0f921"
            ]
           ],
           "sequentialminus": [
            [
             0,
             "#0d0887"
            ],
            [
             0.1111111111111111,
             "#46039f"
            ],
            [
             0.2222222222222222,
             "#7201a8"
            ],
            [
             0.3333333333333333,
             "#9c179e"
            ],
            [
             0.4444444444444444,
             "#bd3786"
            ],
            [
             0.5555555555555556,
             "#d8576b"
            ],
            [
             0.6666666666666666,
             "#ed7953"
            ],
            [
             0.7777777777777778,
             "#fb9f3a"
            ],
            [
             0.8888888888888888,
             "#fdca26"
            ],
            [
             1,
             "#f0f921"
            ]
           ]
          },
          "colorway": [
           "#636efa",
           "#EF553B",
           "#00cc96",
           "#ab63fa",
           "#FFA15A",
           "#19d3f3",
           "#FF6692",
           "#B6E880",
           "#FF97FF",
           "#FECB52"
          ],
          "font": {
           "color": "#2a3f5f"
          },
          "geo": {
           "bgcolor": "white",
           "lakecolor": "white",
           "landcolor": "#E5ECF6",
           "showlakes": true,
           "showland": true,
           "subunitcolor": "white"
          },
          "hoverlabel": {
           "align": "left"
          },
          "hovermode": "closest",
          "mapbox": {
           "style": "light"
          },
          "paper_bgcolor": "white",
          "plot_bgcolor": "#E5ECF6",
          "polar": {
           "angularaxis": {
            "gridcolor": "white",
            "linecolor": "white",
            "ticks": ""
           },
           "bgcolor": "#E5ECF6",
           "radialaxis": {
            "gridcolor": "white",
            "linecolor": "white",
            "ticks": ""
           }
          },
          "scene": {
           "xaxis": {
            "backgroundcolor": "#E5ECF6",
            "gridcolor": "white",
            "gridwidth": 2,
            "linecolor": "white",
            "showbackground": true,
            "ticks": "",
            "zerolinecolor": "white"
           },
           "yaxis": {
            "backgroundcolor": "#E5ECF6",
            "gridcolor": "white",
            "gridwidth": 2,
            "linecolor": "white",
            "showbackground": true,
            "ticks": "",
            "zerolinecolor": "white"
           },
           "zaxis": {
            "backgroundcolor": "#E5ECF6",
            "gridcolor": "white",
            "gridwidth": 2,
            "linecolor": "white",
            "showbackground": true,
            "ticks": "",
            "zerolinecolor": "white"
           }
          },
          "shapedefaults": {
           "line": {
            "color": "#2a3f5f"
           }
          },
          "ternary": {
           "aaxis": {
            "gridcolor": "white",
            "linecolor": "white",
            "ticks": ""
           },
           "baxis": {
            "gridcolor": "white",
            "linecolor": "white",
            "ticks": ""
           },
           "bgcolor": "#E5ECF6",
           "caxis": {
            "gridcolor": "white",
            "linecolor": "white",
            "ticks": ""
           }
          },
          "title": {
           "x": 0.05
          },
          "xaxis": {
           "automargin": true,
           "gridcolor": "white",
           "linecolor": "white",
           "ticks": "",
           "title": {
            "standoff": 15
           },
           "zerolinecolor": "white",
           "zerolinewidth": 2
          },
          "yaxis": {
           "automargin": true,
           "gridcolor": "white",
           "linecolor": "white",
           "ticks": "",
           "title": {
            "standoff": 15
           },
           "zerolinecolor": "white",
           "zerolinewidth": 2
          }
         }
        },
        "title": {
         "text": "Important Features"
        },
        "width": 800,
        "xaxis": {
         "showgrid": false,
         "showline": false,
         "showticklabels": false,
         "ticks": "",
         "title": {
          "font": {
           "size": 20
          },
          "text": ""
         },
         "zeroline": false
        },
        "yaxis": {
         "showgrid": false,
         "showline": false,
         "showticklabels": false,
         "ticks": "",
         "title": {
          "font": {
           "size": 20
          },
          "text": ""
         },
         "zeroline": false
        }
       }
      },
      "text/html": [
       "<div>                            <div id=\"1c97896c-1bdb-4406-9819-90eedb2f667e\" class=\"plotly-graph-div\" style=\"height:800px; width:800px;\"></div>            <script type=\"text/javascript\">                require([\"plotly\"], function(Plotly) {                    window.PLOTLYENV=window.PLOTLYENV || {};                                    if (document.getElementById(\"1c97896c-1bdb-4406-9819-90eedb2f667e\")) {                    Plotly.newPlot(                        \"1c97896c-1bdb-4406-9819-90eedb2f667e\",                        [{\"hoverinfo\":\"none\",\"line\":{\"color\":\"#DCDCDC\",\"width\":1},\"mode\":\"lines\",\"showlegend\":false,\"x\":[0.1667435709804112,0.24641941198883383,null,0.1667435709804112,0.3525577417112579,null,0.1667435709804112,0.49240330410248107,null,0.1667435709804112,-0.14663555710928478,null,0.1667435709804112,0.5433808585360024,null,0.1667435709804112,0.2105284318431482,null,0.1667435709804112,-0.29014428403451353,null,0.49240330410248107,0.7430227300205805,null,-0.14663555710928478,-0.0556282478921601,null,-0.14663555710928478,-0.3675828347993298,null,-0.14663555710928478,-0.23301477792382339,null,-0.14663555710928478,-0.40778448039934034,null,0.5433808585360024,0.7089353448376258,null,0.5433808585360024,0.8236488092161381,null,0.2105284318431482,0.1427269581625706,null,0.2105284318431482,0.3429122465772704,null,-0.29014428403451353,-0.7355059014172499,null,-0.40778448039934034,-0.551594623775386,null,-0.7355059014172499,-0.9853887006252326,null,-0.7355059014172499,-1.0,null],\"y\":[-0.0365089858631067,0.15844109507547852,null,-0.0365089858631067,-0.08807872837629951,null,-0.0365089858631067,-0.2284281092617071,null,-0.0365089858631067,0.31727472857951433,null,-0.0365089858631067,0.2115934373764386,null,-0.0365089858631067,-0.46249100751573535,null,-0.0365089858631067,-0.11556004415373049,null,-0.2284281092617071,-0.36750000451765824,null,0.31727472857951433,0.5721035796136311,null,0.31727472857951433,0.4811932565376312,null,0.31727472857951433,0.5981857933416179,null,0.31727472857951433,0.15381581270940697,null,0.2115934373764386,0.4436932258980251,null,0.2115934373764386,0.27036931751757304,null,-0.46249100751573535,-0.731306564988176,null,-0.46249100751573535,-0.7120638210553558,null,-0.11556004415373049,-0.1256726645195331,null,0.15381581270940697,-0.07199401729859056,null,-0.1256726645195331,-0.24297180466119842,null,-0.1256726645195331,-0.024094494438227684,null],\"type\":\"scatter\"},{\"marker\":{\"color\":[\"#9eccb7\",\"#9eccb7\",\"#9eccb7\",\"#9eccb7\",\"#9eccb7\",\"#9eccb7\",\"#9eccb7\",\"#9eccb7\",\"#9eccb7\",\"#9eccb7\",\"#9eccb7\",\"#9eccb7\",\"#9eccb7\",\"#9eccb7\",\"#9eccb7\",\"#9eccb7\",\"#9eccb7\",\"#9eccb7\",\"#9eccb7\",\"#9eccb7\"],\"line\":{\"width\":1},\"size\":[35,5,5,10,25,15,15,10,5,5,5,5,10,15,5,5,5,5,5,5,5]},\"mode\":\"markers+text\",\"showlegend\":false,\"text\":[\"PE1\",\"PE2\",\"PE3\",\"PE4\",\"EE1\",\"AT4\",\"BI3\",\"BI4\",\"AT2\",\"EE2\",\"EE3\",\"EE4\",\"FC2\",\"T3\",\"AT1\",\"AT3\",\"BI1\",\"FC1\",\"T1\",\"T2\",\"BI2\"],\"textfont\":{\"size\":7},\"textposition\":\"top center\",\"x\":[0.1667435709804112,0.24641941198883383,0.3525577417112579,0.49240330410248107,-0.14663555710928478,0.5433808585360024,0.2105284318431482,-0.29014428403451353,0.7430227300205805,-0.0556282478921601,-0.3675828347993298,-0.23301477792382339,-0.40778448039934034,-0.7355059014172499,0.7089353448376258,0.8236488092161381,0.1427269581625706,-0.551594623775386,-0.9853887006252326,-1.0,0.3429122465772704],\"y\":[-0.0365089858631067,0.15844109507547852,-0.08807872837629951,-0.2284281092617071,0.31727472857951433,0.2115934373764386,-0.46249100751573535,-0.11556004415373049,-0.36750000451765824,0.5721035796136311,0.4811932565376312,0.5981857933416179,0.15381581270940697,-0.1256726645195331,0.4436932258980251,0.27036931751757304,-0.731306564988176,-0.07199401729859056,-0.24297180466119842,-0.024094494438227684,-0.7120638210553558],\"type\":\"scatter\"}],                        {\"template\":{\"data\":{\"bar\":[{\"error_x\":{\"color\":\"#2a3f5f\"},\"error_y\":{\"color\":\"#2a3f5f\"},\"marker\":{\"line\":{\"color\":\"#E5ECF6\",\"width\":0.5},\"pattern\":{\"fillmode\":\"overlay\",\"size\":10,\"solidity\":0.2}},\"type\":\"bar\"}],\"barpolar\":[{\"marker\":{\"line\":{\"color\":\"#E5ECF6\",\"width\":0.5},\"pattern\":{\"fillmode\":\"overlay\",\"size\":10,\"solidity\":0.2}},\"type\":\"barpolar\"}],\"carpet\":[{\"aaxis\":{\"endlinecolor\":\"#2a3f5f\",\"gridcolor\":\"white\",\"linecolor\":\"white\",\"minorgridcolor\":\"white\",\"startlinecolor\":\"#2a3f5f\"},\"baxis\":{\"endlinecolor\":\"#2a3f5f\",\"gridcolor\":\"white\",\"linecolor\":\"white\",\"minorgridcolor\":\"white\",\"startlinecolor\":\"#2a3f5f\"},\"type\":\"carpet\"}],\"choropleth\":[{\"colorbar\":{\"outlinewidth\":0,\"ticks\":\"\"},\"type\":\"choropleth\"}],\"contour\":[{\"colorbar\":{\"outlinewidth\":0,\"ticks\":\"\"},\"colorscale\":[[0.0,\"#0d0887\"],[0.1111111111111111,\"#46039f\"],[0.2222222222222222,\"#7201a8\"],[0.3333333333333333,\"#9c179e\"],[0.4444444444444444,\"#bd3786\"],[0.5555555555555556,\"#d8576b\"],[0.6666666666666666,\"#ed7953\"],[0.7777777777777778,\"#fb9f3a\"],[0.8888888888888888,\"#fdca26\"],[1.0,\"#f0f921\"]],\"type\":\"contour\"}],\"contourcarpet\":[{\"colorbar\":{\"outlinewidth\":0,\"ticks\":\"\"},\"type\":\"contourcarpet\"}],\"heatmap\":[{\"colorbar\":{\"outlinewidth\":0,\"ticks\":\"\"},\"colorscale\":[[0.0,\"#0d0887\"],[0.1111111111111111,\"#46039f\"],[0.2222222222222222,\"#7201a8\"],[0.3333333333333333,\"#9c179e\"],[0.4444444444444444,\"#bd3786\"],[0.5555555555555556,\"#d8576b\"],[0.6666666666666666,\"#ed7953\"],[0.7777777777777778,\"#fb9f3a\"],[0.8888888888888888,\"#fdca26\"],[1.0,\"#f0f921\"]],\"type\":\"heatmap\"}],\"heatmapgl\":[{\"colorbar\":{\"outlinewidth\":0,\"ticks\":\"\"},\"colorscale\":[[0.0,\"#0d0887\"],[0.1111111111111111,\"#46039f\"],[0.2222222222222222,\"#7201a8\"],[0.3333333333333333,\"#9c179e\"],[0.4444444444444444,\"#bd3786\"],[0.5555555555555556,\"#d8576b\"],[0.6666666666666666,\"#ed7953\"],[0.7777777777777778,\"#fb9f3a\"],[0.8888888888888888,\"#fdca26\"],[1.0,\"#f0f921\"]],\"type\":\"heatmapgl\"}],\"histogram\":[{\"marker\":{\"pattern\":{\"fillmode\":\"overlay\",\"size\":10,\"solidity\":0.2}},\"type\":\"histogram\"}],\"histogram2d\":[{\"colorbar\":{\"outlinewidth\":0,\"ticks\":\"\"},\"colorscale\":[[0.0,\"#0d0887\"],[0.1111111111111111,\"#46039f\"],[0.2222222222222222,\"#7201a8\"],[0.3333333333333333,\"#9c179e\"],[0.4444444444444444,\"#bd3786\"],[0.5555555555555556,\"#d8576b\"],[0.6666666666666666,\"#ed7953\"],[0.7777777777777778,\"#fb9f3a\"],[0.8888888888888888,\"#fdca26\"],[1.0,\"#f0f921\"]],\"type\":\"histogram2d\"}],\"histogram2dcontour\":[{\"colorbar\":{\"outlinewidth\":0,\"ticks\":\"\"},\"colorscale\":[[0.0,\"#0d0887\"],[0.1111111111111111,\"#46039f\"],[0.2222222222222222,\"#7201a8\"],[0.3333333333333333,\"#9c179e\"],[0.4444444444444444,\"#bd3786\"],[0.5555555555555556,\"#d8576b\"],[0.6666666666666666,\"#ed7953\"],[0.7777777777777778,\"#fb9f3a\"],[0.8888888888888888,\"#fdca26\"],[1.0,\"#f0f921\"]],\"type\":\"histogram2dcontour\"}],\"mesh3d\":[{\"colorbar\":{\"outlinewidth\":0,\"ticks\":\"\"},\"type\":\"mesh3d\"}],\"parcoords\":[{\"line\":{\"colorbar\":{\"outlinewidth\":0,\"ticks\":\"\"}},\"type\":\"parcoords\"}],\"pie\":[{\"automargin\":true,\"type\":\"pie\"}],\"scatter\":[{\"marker\":{\"colorbar\":{\"outlinewidth\":0,\"ticks\":\"\"}},\"type\":\"scatter\"}],\"scatter3d\":[{\"line\":{\"colorbar\":{\"outlinewidth\":0,\"ticks\":\"\"}},\"marker\":{\"colorbar\":{\"outlinewidth\":0,\"ticks\":\"\"}},\"type\":\"scatter3d\"}],\"scattercarpet\":[{\"marker\":{\"colorbar\":{\"outlinewidth\":0,\"ticks\":\"\"}},\"type\":\"scattercarpet\"}],\"scattergeo\":[{\"marker\":{\"colorbar\":{\"outlinewidth\":0,\"ticks\":\"\"}},\"type\":\"scattergeo\"}],\"scattergl\":[{\"marker\":{\"colorbar\":{\"outlinewidth\":0,\"ticks\":\"\"}},\"type\":\"scattergl\"}],\"scattermapbox\":[{\"marker\":{\"colorbar\":{\"outlinewidth\":0,\"ticks\":\"\"}},\"type\":\"scattermapbox\"}],\"scatterpolar\":[{\"marker\":{\"colorbar\":{\"outlinewidth\":0,\"ticks\":\"\"}},\"type\":\"scatterpolar\"}],\"scatterpolargl\":[{\"marker\":{\"colorbar\":{\"outlinewidth\":0,\"ticks\":\"\"}},\"type\":\"scatterpolargl\"}],\"scatterternary\":[{\"marker\":{\"colorbar\":{\"outlinewidth\":0,\"ticks\":\"\"}},\"type\":\"scatterternary\"}],\"surface\":[{\"colorbar\":{\"outlinewidth\":0,\"ticks\":\"\"},\"colorscale\":[[0.0,\"#0d0887\"],[0.1111111111111111,\"#46039f\"],[0.2222222222222222,\"#7201a8\"],[0.3333333333333333,\"#9c179e\"],[0.4444444444444444,\"#bd3786\"],[0.5555555555555556,\"#d8576b\"],[0.6666666666666666,\"#ed7953\"],[0.7777777777777778,\"#fb9f3a\"],[0.8888888888888888,\"#fdca26\"],[1.0,\"#f0f921\"]],\"type\":\"surface\"}],\"table\":[{\"cells\":{\"fill\":{\"color\":\"#EBF0F8\"},\"line\":{\"color\":\"white\"}},\"header\":{\"fill\":{\"color\":\"#C8D4E3\"},\"line\":{\"color\":\"white\"}},\"type\":\"table\"}]},\"layout\":{\"annotationdefaults\":{\"arrowcolor\":\"#2a3f5f\",\"arrowhead\":0,\"arrowwidth\":1},\"autotypenumbers\":\"strict\",\"coloraxis\":{\"colorbar\":{\"outlinewidth\":0,\"ticks\":\"\"}},\"colorscale\":{\"diverging\":[[0,\"#8e0152\"],[0.1,\"#c51b7d\"],[0.2,\"#de77ae\"],[0.3,\"#f1b6da\"],[0.4,\"#fde0ef\"],[0.5,\"#f7f7f7\"],[0.6,\"#e6f5d0\"],[0.7,\"#b8e186\"],[0.8,\"#7fbc41\"],[0.9,\"#4d9221\"],[1,\"#276419\"]],\"sequential\":[[0.0,\"#0d0887\"],[0.1111111111111111,\"#46039f\"],[0.2222222222222222,\"#7201a8\"],[0.3333333333333333,\"#9c179e\"],[0.4444444444444444,\"#bd3786\"],[0.5555555555555556,\"#d8576b\"],[0.6666666666666666,\"#ed7953\"],[0.7777777777777778,\"#fb9f3a\"],[0.8888888888888888,\"#fdca26\"],[1.0,\"#f0f921\"]],\"sequentialminus\":[[0.0,\"#0d0887\"],[0.1111111111111111,\"#46039f\"],[0.2222222222222222,\"#7201a8\"],[0.3333333333333333,\"#9c179e\"],[0.4444444444444444,\"#bd3786\"],[0.5555555555555556,\"#d8576b\"],[0.6666666666666666,\"#ed7953\"],[0.7777777777777778,\"#fb9f3a\"],[0.8888888888888888,\"#fdca26\"],[1.0,\"#f0f921\"]]},\"colorway\":[\"#636efa\",\"#EF553B\",\"#00cc96\",\"#ab63fa\",\"#FFA15A\",\"#19d3f3\",\"#FF6692\",\"#B6E880\",\"#FF97FF\",\"#FECB52\"],\"font\":{\"color\":\"#2a3f5f\"},\"geo\":{\"bgcolor\":\"white\",\"lakecolor\":\"white\",\"landcolor\":\"#E5ECF6\",\"showlakes\":true,\"showland\":true,\"subunitcolor\":\"white\"},\"hoverlabel\":{\"align\":\"left\"},\"hovermode\":\"closest\",\"mapbox\":{\"style\":\"light\"},\"paper_bgcolor\":\"white\",\"plot_bgcolor\":\"#E5ECF6\",\"polar\":{\"angularaxis\":{\"gridcolor\":\"white\",\"linecolor\":\"white\",\"ticks\":\"\"},\"bgcolor\":\"#E5ECF6\",\"radialaxis\":{\"gridcolor\":\"white\",\"linecolor\":\"white\",\"ticks\":\"\"}},\"scene\":{\"xaxis\":{\"backgroundcolor\":\"#E5ECF6\",\"gridcolor\":\"white\",\"gridwidth\":2,\"linecolor\":\"white\",\"showbackground\":true,\"ticks\":\"\",\"zerolinecolor\":\"white\"},\"yaxis\":{\"backgroundcolor\":\"#E5ECF6\",\"gridcolor\":\"white\",\"gridwidth\":2,\"linecolor\":\"white\",\"showbackground\":true,\"ticks\":\"\",\"zerolinecolor\":\"white\"},\"zaxis\":{\"backgroundcolor\":\"#E5ECF6\",\"gridcolor\":\"white\",\"gridwidth\":2,\"linecolor\":\"white\",\"showbackground\":true,\"ticks\":\"\",\"zerolinecolor\":\"white\"}},\"shapedefaults\":{\"line\":{\"color\":\"#2a3f5f\"}},\"ternary\":{\"aaxis\":{\"gridcolor\":\"white\",\"linecolor\":\"white\",\"ticks\":\"\"},\"baxis\":{\"gridcolor\":\"white\",\"linecolor\":\"white\",\"ticks\":\"\"},\"bgcolor\":\"#E5ECF6\",\"caxis\":{\"gridcolor\":\"white\",\"linecolor\":\"white\",\"ticks\":\"\"}},\"title\":{\"x\":0.05},\"xaxis\":{\"automargin\":true,\"gridcolor\":\"white\",\"linecolor\":\"white\",\"ticks\":\"\",\"title\":{\"standoff\":15},\"zerolinecolor\":\"white\",\"zerolinewidth\":2},\"yaxis\":{\"automargin\":true,\"gridcolor\":\"white\",\"linecolor\":\"white\",\"ticks\":\"\",\"title\":{\"standoff\":15},\"zerolinecolor\":\"white\",\"zerolinewidth\":2}}},\"xaxis\":{\"title\":{\"text\":\"\",\"font\":{\"size\":20}},\"showgrid\":false,\"zeroline\":false,\"showline\":false,\"ticks\":\"\",\"showticklabels\":false},\"yaxis\":{\"title\":{\"text\":\"\",\"font\":{\"size\":20}},\"showgrid\":false,\"zeroline\":false,\"showline\":false,\"ticks\":\"\",\"showticklabels\":false},\"title\":{\"text\":\"Important Features\"},\"width\":800,\"height\":800,\"autosize\":false,\"showlegend\":false,\"hovermode\":\"closest\",\"plot_bgcolor\":\"#fff\"},                        {\"responsive\": true}                    ).then(function(){\n",
       "                            \n",
       "var gd = document.getElementById('1c97896c-1bdb-4406-9819-90eedb2f667e');\n",
       "var x = new MutationObserver(function (mutations, observer) {{\n",
       "        var display = window.getComputedStyle(gd).display;\n",
       "        if (!display || display === 'none') {{\n",
       "            console.log([gd, 'removed!']);\n",
       "            Plotly.purge(gd);\n",
       "            observer.disconnect();\n",
       "        }}\n",
       "}});\n",
       "\n",
       "// Listen for the removal of the full notebook cells\n",
       "var notebookContainer = gd.closest('#notebook-container');\n",
       "if (notebookContainer) {{\n",
       "    x.observe(notebookContainer, {childList: true});\n",
       "}}\n",
       "\n",
       "// Listen for the clearing of the current output cell\n",
       "var outputEl = gd.closest('.output');\n",
       "if (outputEl) {{\n",
       "    x.observe(outputEl, {childList: true});\n",
       "}}\n",
       "\n",
       "                        })                };                });            </script>        </div>"
      ]
     },
     "metadata": {},
     "output_type": "display_data"
    }
   ],
   "source": [
    "# Create Pairwise Correlation Matrix\n",
    "corr_df = pairwise_correlation(utaut_fac_df, pearsonr)\n",
    "\n",
    "# \"Winner Takes All Method\"\n",
    "threshold = 0.75\n",
    "\n",
    "# Retain Features where correlation is above threshold\n",
    "corr_df = corr_df.loc[abs(corr_df[\"correlation\"]) >= threshold]\n",
    "\n",
    "network_graph(corr_df, \"Important Features\")"
   ]
  },
  {
   "cell_type": "markdown",
   "id": "underlying-registrar",
   "metadata": {},
   "source": [
    "## Target Variables"
   ]
  },
  {
   "cell_type": "markdown",
   "id": "acoustic-instrument",
   "metadata": {},
   "source": [
    "### Have you ever purchased anything using the E-payment mode?"
   ]
  },
  {
   "cell_type": "code",
   "execution_count": 94,
   "id": "subjective-hours",
   "metadata": {},
   "outputs": [
    {
     "data": {
      "text/plain": [
       "'6. E-payment purchasing, Loyalty Points and Crypto Coin [(1) Have you ever purchased anything using the E-payment mode?]'"
      ]
     },
     "execution_count": 94,
     "metadata": {},
     "output_type": "execute_result"
    }
   ],
   "source": [
    "df_Y = df.iloc[:, 17]\n",
    "\n",
    "# Replace Values\n",
    "df_Y = df_Y.replace(\"Yes\", 1)\n",
    "df_Y = df_Y.replace(\"No\", 0)\n",
    "\n",
    "# Convert Values to Int\n",
    "df_Y = df_Y.astype(int)\n",
    "\n",
    "df_Y.name"
   ]
  },
  {
   "cell_type": "markdown",
   "id": "accepted-birmingham",
   "metadata": {},
   "source": [
    "#### Moderated Variables"
   ]
  },
  {
   "cell_type": "code",
   "execution_count": 95,
   "id": "imposed-meter",
   "metadata": {},
   "outputs": [
    {
     "data": {
      "text/html": [
       "<style  type=\"text/css\" >\n",
       "</style><table id=\"T_edec1_\" ><thead>    <tr>        <th class=\"col_heading level0 col0\" >Moderated Variable</th>        <th class=\"col_heading level0 col1\" >P-Value</th>    </tr></thead><tbody>\n",
       "                <tr>\n",
       "                                <td id=\"T_edec1_row0_col0\" class=\"data row0 col0\" >Education Level</td>\n",
       "                        <td id=\"T_edec1_row0_col1\" class=\"data row0 col1\" >0.000754</td>\n",
       "            </tr>\n",
       "    </tbody></table>"
      ],
      "text/plain": [
       "<pandas.io.formats.style.Styler at 0x1e3912feee0>"
      ]
     },
     "execution_count": 95,
     "metadata": {},
     "output_type": "execute_result"
    }
   ],
   "source": [
    "# Use PointBiserialR as there are only 2 Classes\n",
    "arr_list = []\n",
    "\n",
    "for col in mod_fac_df.columns:\n",
    "    corr, p_val = pointbiserialr(mod_fac_df.loc[:, col], df_Y)\n",
    "    if p_val <= 0.05:\n",
    "        arr_list.append((col, p_val))\n",
    "        \n",
    "tmp_df = pd.DataFrame(arr_list, columns = [\"Moderated Variable\", \"P-Value\"])\n",
    "\n",
    "tmp_df.style.hide_index()"
   ]
  },
  {
   "cell_type": "markdown",
   "id": "amateur-entry",
   "metadata": {},
   "source": [
    "#### Remove Features that are not significant with Target Variable"
   ]
  },
  {
   "cell_type": "code",
   "execution_count": 96,
   "id": "understood-crown",
   "metadata": {},
   "outputs": [
    {
     "data": {
      "text/html": [
       "<style  type=\"text/css\" >\n",
       "</style><table id=\"T_f88a1_\" ><thead>    <tr>        <th class=\"col_heading level0 col0\" >Variables</th>        <th class=\"col_heading level0 col1\" >P Value</th>    </tr></thead><tbody>\n",
       "                <tr>\n",
       "                                <td id=\"T_f88a1_row0_col0\" class=\"data row0 col0\" >Education Level</td>\n",
       "                        <td id=\"T_f88a1_row0_col1\" class=\"data row0 col1\" >0.000360</td>\n",
       "            </tr>\n",
       "            <tr>\n",
       "                                <td id=\"T_f88a1_row1_col0\" class=\"data row1 col0\" >T4</td>\n",
       "                        <td id=\"T_f88a1_row1_col1\" class=\"data row1 col1\" >0.001337</td>\n",
       "            </tr>\n",
       "            <tr>\n",
       "                                <td id=\"T_f88a1_row2_col0\" class=\"data row2 col0\" >BI1</td>\n",
       "                        <td id=\"T_f88a1_row2_col1\" class=\"data row2 col1\" >0.002021</td>\n",
       "            </tr>\n",
       "            <tr>\n",
       "                                <td id=\"T_f88a1_row3_col0\" class=\"data row3 col0\" >FC4</td>\n",
       "                        <td id=\"T_f88a1_row3_col1\" class=\"data row3 col1\" >0.009788</td>\n",
       "            </tr>\n",
       "            <tr>\n",
       "                                <td id=\"T_f88a1_row4_col0\" class=\"data row4 col0\" >SE4</td>\n",
       "                        <td id=\"T_f88a1_row4_col1\" class=\"data row4 col1\" >0.010777</td>\n",
       "            </tr>\n",
       "            <tr>\n",
       "                                <td id=\"T_f88a1_row5_col0\" class=\"data row5 col0\" >T2</td>\n",
       "                        <td id=\"T_f88a1_row5_col1\" class=\"data row5 col1\" >0.015056</td>\n",
       "            </tr>\n",
       "            <tr>\n",
       "                                <td id=\"T_f88a1_row6_col0\" class=\"data row6 col0\" >T1</td>\n",
       "                        <td id=\"T_f88a1_row6_col1\" class=\"data row6 col1\" >0.018241</td>\n",
       "            </tr>\n",
       "            <tr>\n",
       "                                <td id=\"T_f88a1_row7_col0\" class=\"data row7 col0\" >SE3</td>\n",
       "                        <td id=\"T_f88a1_row7_col1\" class=\"data row7 col1\" >0.020097</td>\n",
       "            </tr>\n",
       "            <tr>\n",
       "                                <td id=\"T_f88a1_row8_col0\" class=\"data row8 col0\" >SE2</td>\n",
       "                        <td id=\"T_f88a1_row8_col1\" class=\"data row8 col1\" >0.028713</td>\n",
       "            </tr>\n",
       "            <tr>\n",
       "                                <td id=\"T_f88a1_row9_col0\" class=\"data row9 col0\" >AT1</td>\n",
       "                        <td id=\"T_f88a1_row9_col1\" class=\"data row9 col1\" >0.039143</td>\n",
       "            </tr>\n",
       "            <tr>\n",
       "                                <td id=\"T_f88a1_row10_col0\" class=\"data row10 col0\" >T3</td>\n",
       "                        <td id=\"T_f88a1_row10_col1\" class=\"data row10 col1\" >0.039644</td>\n",
       "            </tr>\n",
       "            <tr>\n",
       "                                <td id=\"T_f88a1_row11_col0\" class=\"data row11 col0\" >AT2</td>\n",
       "                        <td id=\"T_f88a1_row11_col1\" class=\"data row11 col1\" >0.043149</td>\n",
       "            </tr>\n",
       "            <tr>\n",
       "                                <td id=\"T_f88a1_row12_col0\" class=\"data row12 col0\" >BI4</td>\n",
       "                        <td id=\"T_f88a1_row12_col1\" class=\"data row12 col1\" >0.048395</td>\n",
       "            </tr>\n",
       "    </tbody></table>"
      ],
      "text/plain": [
       "<pandas.io.formats.style.Styler at 0x1e3912de460>"
      ]
     },
     "execution_count": 96,
     "metadata": {},
     "output_type": "execute_result"
    }
   ],
   "source": [
    "pd_arr = [mod_fac_df.loc[:, [\"Education Level\", \"Work Position\", \"Gender\"]], utaut_fac_df]\n",
    "df_X = pd.concat(pd_arr, axis = 1)\n",
    "\n",
    "# Correlation Function\n",
    "arr_list = []\n",
    "\n",
    "# Get List of P_Values\n",
    "for col in df_X.columns:\n",
    "    corr, p_val = pointbiserialr(df_X.loc[:, col], df_Y)\n",
    "    # Threshold => Only append variables that have a p_value smaller than 0.05\n",
    "    if p_val <= 0.05:\n",
    "        arr_list.append((col, p_val))\n",
    "        \n",
    "# Sort Variables Descending by P_val\n",
    "arr_list = sorted(arr_list, key = lambda x : x[1])\n",
    "\n",
    "arr_df = pd.DataFrame(arr_list, columns = [\"Variables\", \"P Value\"])\n",
    "\n",
    "arr_df.style.hide_index()"
   ]
  },
  {
   "cell_type": "markdown",
   "id": "interpreted-literature",
   "metadata": {},
   "source": [
    "#### Decision Tree"
   ]
  },
  {
   "cell_type": "code",
   "execution_count": 97,
   "id": "knowing-willow",
   "metadata": {},
   "outputs": [
    {
     "name": "stdout",
     "output_type": "stream",
     "text": [
      "Accuracy Score: 79.68%\n"
     ]
    }
   ],
   "source": [
    "df_X = df_X.loc[:, arr_df[\"Variables\"]]\n",
    "df_Y = df_Y\n",
    "\n",
    "model = DecisionTreeClassifier()\n",
    "\n",
    "acc_score = get_acc_score_kcv(df_X, df_Y, model)\n",
    "\n",
    "print(f\"Accuracy Score: {round(acc_score, 2)}%\")"
   ]
  },
  {
   "cell_type": "markdown",
   "id": "thick-hypothesis",
   "metadata": {},
   "source": [
    "#### Decision Tree (With Feature Selection)"
   ]
  },
  {
   "cell_type": "code",
   "execution_count": 98,
   "id": "pleased-vienna",
   "metadata": {},
   "outputs": [
    {
     "data": {
      "text/html": [
       "<style  type=\"text/css\" >\n",
       "</style><table id=\"T_8b215_\" ><thead>    <tr>        <th class=\"col_heading level0 col0\" >Features Num</th>        <th class=\"col_heading level0 col1\" >Feature Set</th>        <th class=\"col_heading level0 col2\" >Accuracy</th>    </tr></thead><tbody>\n",
       "                <tr>\n",
       "                                <td id=\"T_8b215_row0_col0\" class=\"data row0 col0\" >5</td>\n",
       "                        <td id=\"T_8b215_row0_col1\" class=\"data row0 col1\" >BI1, SE4, T1, SE2, AT1</td>\n",
       "                        <td id=\"T_8b215_row0_col2\" class=\"data row0 col2\" >82.512315</td>\n",
       "            </tr>\n",
       "            <tr>\n",
       "                                <td id=\"T_8b215_row1_col0\" class=\"data row1 col0\" >6</td>\n",
       "                        <td id=\"T_8b215_row1_col1\" class=\"data row1 col1\" >T4, BI1, T1, AT1, T3, AT2</td>\n",
       "                        <td id=\"T_8b215_row1_col2\" class=\"data row1 col2\" >84.975369</td>\n",
       "            </tr>\n",
       "            <tr>\n",
       "                                <td id=\"T_8b215_row2_col0\" class=\"data row2 col0\" >7</td>\n",
       "                        <td id=\"T_8b215_row2_col1\" class=\"data row2 col1\" >T4, BI1, SE4, T1, SE3, T3, AT2</td>\n",
       "                        <td id=\"T_8b215_row2_col2\" class=\"data row2 col2\" >83.953202</td>\n",
       "            </tr>\n",
       "            <tr>\n",
       "                                <td id=\"T_8b215_row3_col0\" class=\"data row3 col0\" >8</td>\n",
       "                        <td id=\"T_8b215_row3_col1\" class=\"data row3 col1\" >BI1, SE4, T2, T1, SE3, AT1, AT2, BI4</td>\n",
       "                        <td id=\"T_8b215_row3_col2\" class=\"data row3 col2\" >84.642857</td>\n",
       "            </tr>\n",
       "            <tr>\n",
       "                                <td id=\"T_8b215_row4_col0\" class=\"data row4 col0\" >9</td>\n",
       "                        <td id=\"T_8b215_row4_col1\" class=\"data row4 col1\" >T4, FC4, SE4, T2, T1, SE3, AT1, T3, AT2</td>\n",
       "                        <td id=\"T_8b215_row4_col2\" class=\"data row4 col2\" >82.130542</td>\n",
       "            </tr>\n",
       "            <tr>\n",
       "                                <td id=\"T_8b215_row5_col0\" class=\"data row5 col0\" >10</td>\n",
       "                        <td id=\"T_8b215_row5_col1\" class=\"data row5 col1\" >T4, BI1, FC4, T2, T1, SE3, AT1, T3, AT2, BI4</td>\n",
       "                        <td id=\"T_8b215_row5_col2\" class=\"data row5 col2\" >81.182266</td>\n",
       "            </tr>\n",
       "            <tr>\n",
       "                                <td id=\"T_8b215_row6_col0\" class=\"data row6 col0\" >11</td>\n",
       "                        <td id=\"T_8b215_row6_col1\" class=\"data row6 col1\" >T4, BI1, FC4, SE4, T2, T1, SE3, AT1, T3, AT2, BI4</td>\n",
       "                        <td id=\"T_8b215_row6_col2\" class=\"data row6 col2\" >82.487685</td>\n",
       "            </tr>\n",
       "            <tr>\n",
       "                                <td id=\"T_8b215_row7_col0\" class=\"data row7 col0\" >12</td>\n",
       "                        <td id=\"T_8b215_row7_col1\" class=\"data row7 col1\" >Education Level, T4, BI1, FC4, SE4, T2, T1, SE3, SE2, AT1, AT2, BI4</td>\n",
       "                        <td id=\"T_8b215_row7_col2\" class=\"data row7 col2\" >80.049261</td>\n",
       "            </tr>\n",
       "    </tbody></table>"
      ],
      "text/plain": [
       "<pandas.io.formats.style.Styler at 0x1e3912c89a0>"
      ]
     },
     "execution_count": 98,
     "metadata": {},
     "output_type": "execute_result"
    }
   ],
   "source": [
    "# Default Value\n",
    "num_of_features = [*range(5, df_X.shape[1])]\n",
    "arr_list = []\n",
    "\n",
    "# Declare Model\n",
    "model = DecisionTreeClassifier()\n",
    "\n",
    "for num in num_of_features:\n",
    "    # Get Number of Features\n",
    "    feature_set = backward_selection(df_X.loc[:, arr_df[\"Variables\"]], df_Y, model, num)\n",
    "    \n",
    "    # Get Accuracy Score From Cross Validation\n",
    "    acc_score = get_acc_score_kcv(df_X.loc[:, feature_set], df_Y, model)\n",
    "    \n",
    "    arr_list.append((num, \", \".join(feature_set), acc_score))\n",
    "    \n",
    "tmp_df = pd.DataFrame(arr_list, columns = [\"Features Num\", \"Feature Set\", \"Accuracy\"])\n",
    "\n",
    "tmp_df.style.hide_index()"
   ]
  },
  {
   "cell_type": "markdown",
   "id": "assigned-democrat",
   "metadata": {},
   "source": [
    "### In the next six months, do you plan to purchase anything using the E-payment mode?"
   ]
  },
  {
   "cell_type": "code",
   "execution_count": 105,
   "id": "difficult-footwear",
   "metadata": {},
   "outputs": [
    {
     "data": {
      "text/plain": [
       "'6. E-payment purchasing, Loyalty Points and Crypto Coin [(2) In the next six months, do you plan to purchase anything using the E-payment mode?]'"
      ]
     },
     "execution_count": 105,
     "metadata": {},
     "output_type": "execute_result"
    }
   ],
   "source": [
    "df_Y = df.iloc[:, 18]\n",
    "\n",
    "# Replace Values\n",
    "df_Y = df_Y.replace(\"Yes\", 1)\n",
    "df_Y = df_Y.replace(\"No\", 0)\n",
    "\n",
    "# Convert Values to Int\n",
    "df_Y = df_Y.astype(int)\n",
    "\n",
    "df_Y.name"
   ]
  },
  {
   "cell_type": "markdown",
   "id": "missing-mattress",
   "metadata": {},
   "source": [
    "#### Moderated Variables"
   ]
  },
  {
   "cell_type": "code",
   "execution_count": 106,
   "id": "light-variation",
   "metadata": {},
   "outputs": [
    {
     "data": {
      "text/html": [
       "<style  type=\"text/css\" >\n",
       "</style><table id=\"T_d9d33_\" ><thead>    <tr>        <th class=\"col_heading level0 col0\" >Moderated Variable</th>        <th class=\"col_heading level0 col1\" >P-Value</th>    </tr></thead><tbody>\n",
       "                <tr>\n",
       "                                <td id=\"T_d9d33_row0_col0\" class=\"data row0 col0\" >Education Level</td>\n",
       "                        <td id=\"T_d9d33_row0_col1\" class=\"data row0 col1\" >0.000652</td>\n",
       "            </tr>\n",
       "            <tr>\n",
       "                                <td id=\"T_d9d33_row1_col0\" class=\"data row1 col0\" >Work Position</td>\n",
       "                        <td id=\"T_d9d33_row1_col1\" class=\"data row1 col1\" >0.000884</td>\n",
       "            </tr>\n",
       "    </tbody></table>"
      ],
      "text/plain": [
       "<pandas.io.formats.style.Styler at 0x1e390b7ff10>"
      ]
     },
     "execution_count": 106,
     "metadata": {},
     "output_type": "execute_result"
    }
   ],
   "source": [
    "# Use PointBiserialR as there are only 2 Classes\n",
    "arr_list = []\n",
    "\n",
    "for col in mod_fac_df.columns:\n",
    "    corr, p_val = pointbiserialr(mod_fac_df.loc[:, col], df_Y)\n",
    "    if p_val <= 0.05:\n",
    "        arr_list.append((col, p_val))\n",
    "        \n",
    "tmp_df = pd.DataFrame(arr_list, columns = [\"Moderated Variable\", \"P-Value\"])\n",
    "\n",
    "tmp_df.style.hide_index()"
   ]
  },
  {
   "cell_type": "markdown",
   "id": "expanded-charles",
   "metadata": {},
   "source": [
    "#### Remove Features that are not significant with Target Variable"
   ]
  },
  {
   "cell_type": "code",
   "execution_count": 107,
   "id": "polar-fraction",
   "metadata": {},
   "outputs": [
    {
     "data": {
      "text/html": [
       "<style  type=\"text/css\" >\n",
       "</style><table id=\"T_1c782_\" ><thead>    <tr>        <th class=\"col_heading level0 col0\" >Variables</th>        <th class=\"col_heading level0 col1\" >P Value</th>    </tr></thead><tbody>\n",
       "                <tr>\n",
       "                                <td id=\"T_1c782_row0_col0\" class=\"data row0 col0\" >BI1</td>\n",
       "                        <td id=\"T_1c782_row0_col1\" class=\"data row0 col1\" >0.000569</td>\n",
       "            </tr>\n",
       "            <tr>\n",
       "                                <td id=\"T_1c782_row1_col0\" class=\"data row1 col0\" >Education Level</td>\n",
       "                        <td id=\"T_1c782_row1_col1\" class=\"data row1 col1\" >0.000652</td>\n",
       "            </tr>\n",
       "            <tr>\n",
       "                                <td id=\"T_1c782_row2_col0\" class=\"data row2 col0\" >Work Position</td>\n",
       "                        <td id=\"T_1c782_row2_col1\" class=\"data row2 col1\" >0.000884</td>\n",
       "            </tr>\n",
       "            <tr>\n",
       "                                <td id=\"T_1c782_row3_col0\" class=\"data row3 col0\" >T4</td>\n",
       "                        <td id=\"T_1c782_row3_col1\" class=\"data row3 col1\" >0.001688</td>\n",
       "            </tr>\n",
       "            <tr>\n",
       "                                <td id=\"T_1c782_row4_col0\" class=\"data row4 col0\" >FC4</td>\n",
       "                        <td id=\"T_1c782_row4_col1\" class=\"data row4 col1\" >0.001691</td>\n",
       "            </tr>\n",
       "            <tr>\n",
       "                                <td id=\"T_1c782_row5_col0\" class=\"data row5 col0\" >SE2</td>\n",
       "                        <td id=\"T_1c782_row5_col1\" class=\"data row5 col1\" >0.003561</td>\n",
       "            </tr>\n",
       "            <tr>\n",
       "                                <td id=\"T_1c782_row6_col0\" class=\"data row6 col0\" >BI2</td>\n",
       "                        <td id=\"T_1c782_row6_col1\" class=\"data row6 col1\" >0.004325</td>\n",
       "            </tr>\n",
       "            <tr>\n",
       "                                <td id=\"T_1c782_row7_col0\" class=\"data row7 col0\" >SE4</td>\n",
       "                        <td id=\"T_1c782_row7_col1\" class=\"data row7 col1\" >0.008342</td>\n",
       "            </tr>\n",
       "            <tr>\n",
       "                                <td id=\"T_1c782_row8_col0\" class=\"data row8 col0\" >T2</td>\n",
       "                        <td id=\"T_1c782_row8_col1\" class=\"data row8 col1\" >0.011223</td>\n",
       "            </tr>\n",
       "            <tr>\n",
       "                                <td id=\"T_1c782_row9_col0\" class=\"data row9 col0\" >AT1</td>\n",
       "                        <td id=\"T_1c782_row9_col1\" class=\"data row9 col1\" >0.016137</td>\n",
       "            </tr>\n",
       "            <tr>\n",
       "                                <td id=\"T_1c782_row10_col0\" class=\"data row10 col0\" >SE3</td>\n",
       "                        <td id=\"T_1c782_row10_col1\" class=\"data row10 col1\" >0.017219</td>\n",
       "            </tr>\n",
       "            <tr>\n",
       "                                <td id=\"T_1c782_row11_col0\" class=\"data row11 col0\" >PE2</td>\n",
       "                        <td id=\"T_1c782_row11_col1\" class=\"data row11 col1\" >0.023488</td>\n",
       "            </tr>\n",
       "            <tr>\n",
       "                                <td id=\"T_1c782_row12_col0\" class=\"data row12 col0\" >AT2</td>\n",
       "                        <td id=\"T_1c782_row12_col1\" class=\"data row12 col1\" >0.025072</td>\n",
       "            </tr>\n",
       "            <tr>\n",
       "                                <td id=\"T_1c782_row13_col0\" class=\"data row13 col0\" >SE1</td>\n",
       "                        <td id=\"T_1c782_row13_col1\" class=\"data row13 col1\" >0.029266</td>\n",
       "            </tr>\n",
       "            <tr>\n",
       "                                <td id=\"T_1c782_row14_col0\" class=\"data row14 col0\" >PE4</td>\n",
       "                        <td id=\"T_1c782_row14_col1\" class=\"data row14 col1\" >0.032043</td>\n",
       "            </tr>\n",
       "            <tr>\n",
       "                                <td id=\"T_1c782_row15_col0\" class=\"data row15 col0\" >AT4</td>\n",
       "                        <td id=\"T_1c782_row15_col1\" class=\"data row15 col1\" >0.036993</td>\n",
       "            </tr>\n",
       "            <tr>\n",
       "                                <td id=\"T_1c782_row16_col0\" class=\"data row16 col0\" >PE1</td>\n",
       "                        <td id=\"T_1c782_row16_col1\" class=\"data row16 col1\" >0.040482</td>\n",
       "            </tr>\n",
       "            <tr>\n",
       "                                <td id=\"T_1c782_row17_col0\" class=\"data row17 col0\" >SI2</td>\n",
       "                        <td id=\"T_1c782_row17_col1\" class=\"data row17 col1\" >0.041108</td>\n",
       "            </tr>\n",
       "            <tr>\n",
       "                                <td id=\"T_1c782_row18_col0\" class=\"data row18 col0\" >BI4</td>\n",
       "                        <td id=\"T_1c782_row18_col1\" class=\"data row18 col1\" >0.046875</td>\n",
       "            </tr>\n",
       "            <tr>\n",
       "                                <td id=\"T_1c782_row19_col0\" class=\"data row19 col0\" >T1</td>\n",
       "                        <td id=\"T_1c782_row19_col1\" class=\"data row19 col1\" >0.047986</td>\n",
       "            </tr>\n",
       "            <tr>\n",
       "                                <td id=\"T_1c782_row20_col0\" class=\"data row20 col0\" >AX2</td>\n",
       "                        <td id=\"T_1c782_row20_col1\" class=\"data row20 col1\" >0.048404</td>\n",
       "            </tr>\n",
       "    </tbody></table>"
      ],
      "text/plain": [
       "<pandas.io.formats.style.Styler at 0x1e3912fefd0>"
      ]
     },
     "execution_count": 107,
     "metadata": {},
     "output_type": "execute_result"
    }
   ],
   "source": [
    "pd_arr = [mod_fac_df.loc[:, [\"Education Level\", \"Work Position\", \"Gender\"]], utaut_fac_df]\n",
    "df_X = pd.concat(pd_arr, axis = 1)\n",
    "\n",
    "# Correlation Function\n",
    "arr_list = []\n",
    "\n",
    "# Get List of P_Values\n",
    "for col in df_X.columns:\n",
    "    corr, p_val = pointbiserialr(df_X.loc[:, col], df_Y)\n",
    "    # Threshold => Only append variables that have a p_value smaller than 0.05\n",
    "    if p_val <= 0.05:\n",
    "        arr_list.append((col, p_val))\n",
    "        \n",
    "# Sort Variables Descending by P_val\n",
    "arr_list = sorted(arr_list, key = lambda x : x[1])\n",
    "\n",
    "arr_df = pd.DataFrame(arr_list, columns = [\"Variables\", \"P Value\"])\n",
    "\n",
    "arr_df.style.hide_index()"
   ]
  },
  {
   "cell_type": "markdown",
   "id": "comprehensive-statistics",
   "metadata": {},
   "source": [
    "#### Decision Tree"
   ]
  },
  {
   "cell_type": "code",
   "execution_count": 108,
   "id": "robust-split",
   "metadata": {},
   "outputs": [
    {
     "name": "stdout",
     "output_type": "stream",
     "text": [
      "Accuracy Score: 80.46%\n"
     ]
    }
   ],
   "source": [
    "df_X = df_X.loc[:, arr_df[\"Variables\"]]\n",
    "df_Y = df_Y\n",
    "\n",
    "model = DecisionTreeClassifier()\n",
    "\n",
    "acc_score = get_acc_score_kcv(df_X, df_Y, model)\n",
    "\n",
    "print(f\"Accuracy Score: {round(acc_score, 2)}%\")"
   ]
  },
  {
   "cell_type": "markdown",
   "id": "stock-calibration",
   "metadata": {},
   "source": [
    "#### Decision Tree (With Feature Selection)"
   ]
  },
  {
   "cell_type": "code",
   "execution_count": 109,
   "id": "standard-blink",
   "metadata": {},
   "outputs": [
    {
     "data": {
      "text/html": [
       "<style  type=\"text/css\" >\n",
       "</style><table id=\"T_7fb72_\" ><thead>    <tr>        <th class=\"col_heading level0 col0\" >Features Num</th>        <th class=\"col_heading level0 col1\" >Feature Set</th>        <th class=\"col_heading level0 col2\" >Accuracy</th>    </tr></thead><tbody>\n",
       "                <tr>\n",
       "                                <td id=\"T_7fb72_row0_col0\" class=\"data row0 col0\" >5</td>\n",
       "                        <td id=\"T_7fb72_row0_col1\" class=\"data row0 col1\" >BI1, FC4, SI2, BI4, T1</td>\n",
       "                        <td id=\"T_7fb72_row0_col2\" class=\"data row0 col2\" >83.633005</td>\n",
       "            </tr>\n",
       "            <tr>\n",
       "                                <td id=\"T_7fb72_row1_col0\" class=\"data row1 col0\" >6</td>\n",
       "                        <td id=\"T_7fb72_row1_col1\" class=\"data row1 col1\" >T4, SE2, BI2, SE3, PE2, AT2</td>\n",
       "                        <td id=\"T_7fb72_row1_col2\" class=\"data row1 col2\" >85.012315</td>\n",
       "            </tr>\n",
       "            <tr>\n",
       "                                <td id=\"T_7fb72_row2_col0\" class=\"data row2 col0\" >7</td>\n",
       "                        <td id=\"T_7fb72_row2_col1\" class=\"data row2 col1\" >T4, SE2, BI2, T2, AT1, PE2, PE4</td>\n",
       "                        <td id=\"T_7fb72_row2_col2\" class=\"data row2 col2\" >86.009852</td>\n",
       "            </tr>\n",
       "            <tr>\n",
       "                                <td id=\"T_7fb72_row3_col0\" class=\"data row3 col0\" >8</td>\n",
       "                        <td id=\"T_7fb72_row3_col1\" class=\"data row3 col1\" >Work Position, FC4, SE2, BI2, SE1, AT4, SI2, T1</td>\n",
       "                        <td id=\"T_7fb72_row3_col2\" class=\"data row3 col2\" >84.519704</td>\n",
       "            </tr>\n",
       "            <tr>\n",
       "                                <td id=\"T_7fb72_row4_col0\" class=\"data row4 col0\" >9</td>\n",
       "                        <td id=\"T_7fb72_row4_col1\" class=\"data row4 col1\" >BI1, FC4, BI2, PE2, PE4, PE1, SI2, T1, AX2</td>\n",
       "                        <td id=\"T_7fb72_row4_col2\" class=\"data row4 col2\" >81.083744</td>\n",
       "            </tr>\n",
       "            <tr>\n",
       "                                <td id=\"T_7fb72_row5_col0\" class=\"data row5 col0\" >10</td>\n",
       "                        <td id=\"T_7fb72_row5_col1\" class=\"data row5 col1\" >Work Position, T4, SE4, AT1, SE1, PE4, SI2, BI4, T1, AX2</td>\n",
       "                        <td id=\"T_7fb72_row5_col2\" class=\"data row5 col2\" >83.288177</td>\n",
       "            </tr>\n",
       "            <tr>\n",
       "                                <td id=\"T_7fb72_row6_col0\" class=\"data row6 col0\" >11</td>\n",
       "                        <td id=\"T_7fb72_row6_col1\" class=\"data row6 col1\" >BI1, Work Position, FC4, SE3, AT2, SE1, PE4, PE1, SI2, BI4, T1</td>\n",
       "                        <td id=\"T_7fb72_row6_col2\" class=\"data row6 col2\" >86.687192</td>\n",
       "            </tr>\n",
       "            <tr>\n",
       "                                <td id=\"T_7fb72_row7_col0\" class=\"data row7 col0\" >12</td>\n",
       "                        <td id=\"T_7fb72_row7_col1\" class=\"data row7 col1\" >T4, FC4, SE2, BI2, SE4, T2, AT1, AT4, PE1, BI4, T1, AX2</td>\n",
       "                        <td id=\"T_7fb72_row7_col2\" class=\"data row7 col2\" >80.751232</td>\n",
       "            </tr>\n",
       "            <tr>\n",
       "                                <td id=\"T_7fb72_row8_col0\" class=\"data row8 col0\" >13</td>\n",
       "                        <td id=\"T_7fb72_row8_col1\" class=\"data row8 col1\" >Education Level, Work Position, FC4, SE2, BI2, T2, SE3, AT2, SE1, PE4, PE1, SI2, BI4</td>\n",
       "                        <td id=\"T_7fb72_row8_col2\" class=\"data row8 col2\" >81.810345</td>\n",
       "            </tr>\n",
       "            <tr>\n",
       "                                <td id=\"T_7fb72_row9_col0\" class=\"data row9 col0\" >14</td>\n",
       "                        <td id=\"T_7fb72_row9_col1\" class=\"data row9 col1\" >BI1, Work Position, T4, FC4, T2, AT1, SE3, AT2, SE1, PE4, AT4, SI2, BI4, T1</td>\n",
       "                        <td id=\"T_7fb72_row9_col2\" class=\"data row9 col2\" >83.928571</td>\n",
       "            </tr>\n",
       "            <tr>\n",
       "                                <td id=\"T_7fb72_row10_col0\" class=\"data row10 col0\" >15</td>\n",
       "                        <td id=\"T_7fb72_row10_col1\" class=\"data row10 col1\" >BI1, Work Position, T4, FC4, SE4, AT1, SE3, PE2, AT2, SE1, PE4, AT4, SI2, BI4, T1</td>\n",
       "                        <td id=\"T_7fb72_row10_col2\" class=\"data row10 col2\" >84.926108</td>\n",
       "            </tr>\n",
       "            <tr>\n",
       "                                <td id=\"T_7fb72_row11_col0\" class=\"data row11 col0\" >16</td>\n",
       "                        <td id=\"T_7fb72_row11_col1\" class=\"data row11 col1\" >BI1, T4, BI2, SE4, T2, AT1, SE3, PE2, AT2, SE1, PE4, AT4, PE1, BI4, T1, AX2</td>\n",
       "                        <td id=\"T_7fb72_row11_col2\" class=\"data row11 col2\" >82.894089</td>\n",
       "            </tr>\n",
       "            <tr>\n",
       "                                <td id=\"T_7fb72_row12_col0\" class=\"data row12 col0\" >17</td>\n",
       "                        <td id=\"T_7fb72_row12_col1\" class=\"data row12 col1\" >BI1, Work Position, T4, FC4, SE2, BI2, SE4, T2, SE3, PE2, AT2, SE1, PE4, AT4, SI2, BI4, T1</td>\n",
       "                        <td id=\"T_7fb72_row12_col2\" class=\"data row12 col2\" >84.568966</td>\n",
       "            </tr>\n",
       "            <tr>\n",
       "                                <td id=\"T_7fb72_row13_col0\" class=\"data row13 col0\" >18</td>\n",
       "                        <td id=\"T_7fb72_row13_col1\" class=\"data row13 col1\" >BI1, Education Level, Work Position, T4, FC4, SE2, BI2, SE4, T2, PE2, AT2, SE1, PE4, AT4, PE1, SI2, BI4, T1</td>\n",
       "                        <td id=\"T_7fb72_row13_col2\" class=\"data row13 col2\" >81.884236</td>\n",
       "            </tr>\n",
       "            <tr>\n",
       "                                <td id=\"T_7fb72_row14_col0\" class=\"data row14 col0\" >19</td>\n",
       "                        <td id=\"T_7fb72_row14_col1\" class=\"data row14 col1\" >BI1, Work Position, T4, FC4, SE2, BI2, SE4, T2, AT1, SE3, PE2, AT2, SE1, PE4, AT4, PE1, BI4, T1, AX2</td>\n",
       "                        <td id=\"T_7fb72_row14_col2\" class=\"data row14 col2\" >82.290640</td>\n",
       "            </tr>\n",
       "            <tr>\n",
       "                                <td id=\"T_7fb72_row15_col0\" class=\"data row15 col0\" >20</td>\n",
       "                        <td id=\"T_7fb72_row15_col1\" class=\"data row15 col1\" >BI1, Education Level, Work Position, T4, FC4, SE2, BI2, SE4, T2, AT1, SE3, PE2, AT2, SE1, PE4, PE1, SI2, BI4, T1, AX2</td>\n",
       "                        <td id=\"T_7fb72_row15_col2\" class=\"data row15 col2\" >80.073892</td>\n",
       "            </tr>\n",
       "    </tbody></table>"
      ],
      "text/plain": [
       "<pandas.io.formats.style.Styler at 0x1e3912fedc0>"
      ]
     },
     "execution_count": 109,
     "metadata": {},
     "output_type": "execute_result"
    }
   ],
   "source": [
    "# Default Value\n",
    "num_of_features = [*range(5, df_X.shape[1])]\n",
    "arr_list = []\n",
    "\n",
    "# Declare Model\n",
    "model = DecisionTreeClassifier()\n",
    "\n",
    "for num in num_of_features:\n",
    "    # Get Number of Features\n",
    "    feature_set = backward_selection(df_X.loc[:, arr_df[\"Variables\"]], df_Y, model, num)\n",
    "    \n",
    "    # Get Accuracy Score From Cross Validation\n",
    "    acc_score = get_acc_score_kcv(df_X.loc[:, feature_set], df_Y, model)\n",
    "    \n",
    "    arr_list.append((num, \", \".join(feature_set), acc_score))\n",
    "    \n",
    "tmp_df = pd.DataFrame(arr_list, columns = [\"Features Num\", \"Feature Set\", \"Accuracy\"])\n",
    "\n",
    "tmp_df.style.hide_index()"
   ]
  },
  {
   "cell_type": "code",
   "execution_count": null,
   "id": "harmful-guitar",
   "metadata": {},
   "outputs": [],
   "source": []
  }
 ],
 "metadata": {
  "kernelspec": {
   "display_name": "Python 3",
   "language": "python",
   "name": "python3"
  },
  "language_info": {
   "codemirror_mode": {
    "name": "ipython",
    "version": 3
   },
   "file_extension": ".py",
   "mimetype": "text/x-python",
   "name": "python",
   "nbconvert_exporter": "python",
   "pygments_lexer": "ipython3",
   "version": "3.9.1"
  }
 },
 "nbformat": 4,
 "nbformat_minor": 5
}
