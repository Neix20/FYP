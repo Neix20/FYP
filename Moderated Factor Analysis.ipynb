{
 "cells": [
  {
   "cell_type": "markdown",
   "id": "developed-keyboard",
   "metadata": {},
   "source": [
    "# Title: CORRELATION MODEL IN THE ADOPTION OF E-PAYMENT SERVICES"
   ]
  },
  {
   "cell_type": "markdown",
   "id": "vulnerable-nomination",
   "metadata": {},
   "source": [
    "## Load Libraries"
   ]
  },
  {
   "cell_type": "code",
   "execution_count": 3,
   "id": "molecular-party",
   "metadata": {},
   "outputs": [],
   "source": [
    "import time\n",
    "import numpy as np\n",
    "import pandas as pd\n",
    "import seaborn as sns\n",
    "import ipywidgets as ipw\n",
    "import plotly.express as px\n",
    "import matplotlib.pyplot as plt\n",
    "import plotly.graph_objects as go\n",
    "\n",
    "from plotly.subplots import make_subplots\n",
    "\n",
    "from sklearn import svm, tree\n",
    "from sklearn.tree import DecisionTreeClassifier\n",
    "from sklearn.ensemble import RandomForestClassifier\n",
    "\n",
    "from sklearn.model_selection import train_test_split, KFold\n",
    "from sklearn.metrics import accuracy_score, classification_report, confusion_matrix, matthews_corrcoef, precision_recall_curve, roc_curve\n",
    "\n",
    "import scipy.stats as stats\n",
    "from scipy.stats import pearsonr, spearmanr, kendalltau, pointbiserialr, chi2, chi2_contingency\n",
    "\n",
    "from xgboost import XGBClassifier\n",
    "\n",
    "%matplotlib inline"
   ]
  },
  {
   "cell_type": "markdown",
   "id": "suspected-manual",
   "metadata": {},
   "source": [
    "## Load Custom Made Libraries"
   ]
  },
  {
   "cell_type": "code",
   "execution_count": 4,
   "id": "executed-costume",
   "metadata": {},
   "outputs": [],
   "source": [
    "from Utilities.CFS import *\n",
    "from Utilities.accuracy import *\n",
    "from Utilities.corr_matrix import *\n",
    "from Utilities.forward_selection import *\n",
    "from Utilities.backward_elimination import *\n",
    "\n",
    "from Visualization.model_graph import *\n",
    "from Visualization.network_graph import *"
   ]
  },
  {
   "cell_type": "markdown",
   "id": "driven-frederick",
   "metadata": {},
   "source": [
    "## Load Dataset"
   ]
  },
  {
   "cell_type": "code",
   "execution_count": 5,
   "id": "interior-windows",
   "metadata": {},
   "outputs": [],
   "source": [
    "df = pd.read_csv(\"Dataset/E-payment Cryptocurrency Coin.csv\")"
   ]
  },
  {
   "cell_type": "markdown",
   "id": "reflected-specification",
   "metadata": {},
   "source": [
    "## Label Binarizer"
   ]
  },
  {
   "cell_type": "code",
   "execution_count": 6,
   "id": "cardiovascular-colleague",
   "metadata": {},
   "outputs": [],
   "source": [
    "def convert_nominal(arr, term_arr):\n",
    "    tmp_dict = {val:ind for (ind, val) in enumerate(term_arr)}\n",
    "    return arr.map(lambda x : tmp_dict[x])"
   ]
  },
  {
   "cell_type": "markdown",
   "id": "widespread-exploration",
   "metadata": {},
   "source": [
    "## Split Dataset"
   ]
  },
  {
   "cell_type": "code",
   "execution_count": 7,
   "id": "cloudy-witness",
   "metadata": {},
   "outputs": [],
   "source": [
    "index_dict = {\n",
    "    \"Age\": [\"< 25 years\", \"26 - 40 years\", \"41 - 55 years\", \"above 55 years\"],\n",
    "    \"Gender\": [\"Male\", \"Female\"],\n",
    "    \"Marital Status\": [\"Single\", \"Married\", \"Other\"],\n",
    "    \"Education Level\": ['Primary school', 'Secondary/High school', 'College/university', 'Graduate school', 'Other'],\n",
    "    \"Work Industry\": ['Banking / Finance', 'Education', 'Healthcare', 'Manufacturing', 'Retail / Hypermarket', 'Other'],\n",
    "    \"Work Position\": ['Junior management', 'Middle management', 'Top management', 'Professional', 'Other']\n",
    "}"
   ]
  },
  {
   "cell_type": "code",
   "execution_count": 8,
   "id": "steady-power",
   "metadata": {},
   "outputs": [],
   "source": [
    "mod_fac_df = pd.DataFrame()\n",
    "\n",
    "column_arr = [\"Age\", \"Gender\", \"Marital Status\", \"Education Level\", \"Work Industry\", \"Work Position\"]\n",
    "\n",
    "for (ind, col_name) in enumerate(column_arr):\n",
    "    mod_fac_df[col_name] = df.iloc[:, 6 + ind]\n",
    "    \n",
    "# Replace Values in Work Industry\n",
    "mod_fac_df = mod_fac_df.replace(\"Baking / Finance\", \"Banking / Finance\")\n",
    "\n",
    "# Label Binarize all columns\n",
    "for col in column_arr:\n",
    "    mod_fac_df[col] = convert_nominal(mod_fac_df[col], index_dict[col])"
   ]
  },
  {
   "cell_type": "code",
   "execution_count": 9,
   "id": "finnish-demand",
   "metadata": {},
   "outputs": [],
   "source": [
    "utaut_fac_df = pd.DataFrame()\n",
    "\n",
    "column_arr = df.iloc[:, 28:].columns\n",
    "column_arr = [col.split(\": \")[0] for col in column_arr]\n",
    "\n",
    "for (ind, col_name) in enumerate(column_arr):\n",
    "    utaut_fac_df[col_name] = df.iloc[:, 28 + ind]\n",
    "    \n",
    "# Change Data Type to int\n",
    "utaut_fac_df = utaut_fac_df.astype(int)"
   ]
  },
  {
   "cell_type": "code",
   "execution_count": 11,
   "id": "fresh-settlement",
   "metadata": {},
   "outputs": [
    {
     "data": {
      "text/html": [
       "<div>\n",
       "<style scoped>\n",
       "    .dataframe tbody tr th:only-of-type {\n",
       "        vertical-align: middle;\n",
       "    }\n",
       "\n",
       "    .dataframe tbody tr th {\n",
       "        vertical-align: top;\n",
       "    }\n",
       "\n",
       "    .dataframe thead th {\n",
       "        text-align: right;\n",
       "    }\n",
       "</style>\n",
       "<table border=\"1\" class=\"dataframe\">\n",
       "  <thead>\n",
       "    <tr style=\"text-align: right;\">\n",
       "      <th></th>\n",
       "      <th>Age</th>\n",
       "      <th>Gender</th>\n",
       "      <th>Marital Status</th>\n",
       "      <th>Education Level</th>\n",
       "      <th>Work Industry</th>\n",
       "      <th>Work Position</th>\n",
       "      <th>PE1</th>\n",
       "      <th>PE2</th>\n",
       "      <th>PE3</th>\n",
       "      <th>PE4</th>\n",
       "      <th>...</th>\n",
       "      <th>T1</th>\n",
       "      <th>T2</th>\n",
       "      <th>T3</th>\n",
       "      <th>T4</th>\n",
       "      <th>BI1</th>\n",
       "      <th>BI2</th>\n",
       "      <th>BI3</th>\n",
       "      <th>BI4</th>\n",
       "      <th>Have you ever purchased anything using the E-payment mode?</th>\n",
       "      <th>In the next six months, do you plan to purchase anything using the E-payment mode?</th>\n",
       "    </tr>\n",
       "  </thead>\n",
       "  <tbody>\n",
       "    <tr>\n",
       "      <th>0</th>\n",
       "      <td>&lt; 25 years</td>\n",
       "      <td>Female</td>\n",
       "      <td>Single</td>\n",
       "      <td>College/university</td>\n",
       "      <td>Banking / Finance</td>\n",
       "      <td>Other</td>\n",
       "      <td>2</td>\n",
       "      <td>2</td>\n",
       "      <td>2</td>\n",
       "      <td>2</td>\n",
       "      <td>...</td>\n",
       "      <td>2</td>\n",
       "      <td>1</td>\n",
       "      <td>2</td>\n",
       "      <td>3</td>\n",
       "      <td>3</td>\n",
       "      <td>3</td>\n",
       "      <td>3</td>\n",
       "      <td>3</td>\n",
       "      <td>Yes</td>\n",
       "      <td>Yes</td>\n",
       "    </tr>\n",
       "    <tr>\n",
       "      <th>1</th>\n",
       "      <td>&lt; 25 years</td>\n",
       "      <td>Female</td>\n",
       "      <td>Single</td>\n",
       "      <td>College/university</td>\n",
       "      <td>Other</td>\n",
       "      <td>Other</td>\n",
       "      <td>1</td>\n",
       "      <td>1</td>\n",
       "      <td>1</td>\n",
       "      <td>1</td>\n",
       "      <td>...</td>\n",
       "      <td>2</td>\n",
       "      <td>2</td>\n",
       "      <td>2</td>\n",
       "      <td>2</td>\n",
       "      <td>2</td>\n",
       "      <td>2</td>\n",
       "      <td>2</td>\n",
       "      <td>2</td>\n",
       "      <td>Yes</td>\n",
       "      <td>Yes</td>\n",
       "    </tr>\n",
       "    <tr>\n",
       "      <th>2</th>\n",
       "      <td>41 - 55 years</td>\n",
       "      <td>Female</td>\n",
       "      <td>Single</td>\n",
       "      <td>College/university</td>\n",
       "      <td>Manufacturing</td>\n",
       "      <td>Middle management</td>\n",
       "      <td>4</td>\n",
       "      <td>5</td>\n",
       "      <td>4</td>\n",
       "      <td>5</td>\n",
       "      <td>...</td>\n",
       "      <td>3</td>\n",
       "      <td>3</td>\n",
       "      <td>3</td>\n",
       "      <td>4</td>\n",
       "      <td>3</td>\n",
       "      <td>4</td>\n",
       "      <td>4</td>\n",
       "      <td>4</td>\n",
       "      <td>Yes</td>\n",
       "      <td>Yes</td>\n",
       "    </tr>\n",
       "    <tr>\n",
       "      <th>3</th>\n",
       "      <td>&lt; 25 years</td>\n",
       "      <td>Male</td>\n",
       "      <td>Single</td>\n",
       "      <td>College/university</td>\n",
       "      <td>Education</td>\n",
       "      <td>Other</td>\n",
       "      <td>3</td>\n",
       "      <td>3</td>\n",
       "      <td>3</td>\n",
       "      <td>3</td>\n",
       "      <td>...</td>\n",
       "      <td>3</td>\n",
       "      <td>3</td>\n",
       "      <td>3</td>\n",
       "      <td>3</td>\n",
       "      <td>4</td>\n",
       "      <td>4</td>\n",
       "      <td>3</td>\n",
       "      <td>3</td>\n",
       "      <td>No</td>\n",
       "      <td>Yes</td>\n",
       "    </tr>\n",
       "    <tr>\n",
       "      <th>4</th>\n",
       "      <td>&lt; 25 years</td>\n",
       "      <td>Female</td>\n",
       "      <td>Single</td>\n",
       "      <td>College/university</td>\n",
       "      <td>Other</td>\n",
       "      <td>Other</td>\n",
       "      <td>3</td>\n",
       "      <td>3</td>\n",
       "      <td>4</td>\n",
       "      <td>4</td>\n",
       "      <td>...</td>\n",
       "      <td>3</td>\n",
       "      <td>4</td>\n",
       "      <td>4</td>\n",
       "      <td>4</td>\n",
       "      <td>4</td>\n",
       "      <td>5</td>\n",
       "      <td>4</td>\n",
       "      <td>4</td>\n",
       "      <td>Yes</td>\n",
       "      <td>Yes</td>\n",
       "    </tr>\n",
       "    <tr>\n",
       "      <th>...</th>\n",
       "      <td>...</td>\n",
       "      <td>...</td>\n",
       "      <td>...</td>\n",
       "      <td>...</td>\n",
       "      <td>...</td>\n",
       "      <td>...</td>\n",
       "      <td>...</td>\n",
       "      <td>...</td>\n",
       "      <td>...</td>\n",
       "      <td>...</td>\n",
       "      <td>...</td>\n",
       "      <td>...</td>\n",
       "      <td>...</td>\n",
       "      <td>...</td>\n",
       "      <td>...</td>\n",
       "      <td>...</td>\n",
       "      <td>...</td>\n",
       "      <td>...</td>\n",
       "      <td>...</td>\n",
       "      <td>...</td>\n",
       "      <td>...</td>\n",
       "    </tr>\n",
       "    <tr>\n",
       "      <th>281</th>\n",
       "      <td>41 - 55 years</td>\n",
       "      <td>Male</td>\n",
       "      <td>Married</td>\n",
       "      <td>Secondary/High school</td>\n",
       "      <td>Other</td>\n",
       "      <td>Other</td>\n",
       "      <td>3</td>\n",
       "      <td>3</td>\n",
       "      <td>3</td>\n",
       "      <td>3</td>\n",
       "      <td>...</td>\n",
       "      <td>3</td>\n",
       "      <td>3</td>\n",
       "      <td>3</td>\n",
       "      <td>3</td>\n",
       "      <td>3</td>\n",
       "      <td>3</td>\n",
       "      <td>3</td>\n",
       "      <td>3</td>\n",
       "      <td>Yes</td>\n",
       "      <td>Yes</td>\n",
       "    </tr>\n",
       "    <tr>\n",
       "      <th>282</th>\n",
       "      <td>above 55 years</td>\n",
       "      <td>Male</td>\n",
       "      <td>Married</td>\n",
       "      <td>Graduate school</td>\n",
       "      <td>Education</td>\n",
       "      <td>Top management</td>\n",
       "      <td>3</td>\n",
       "      <td>3</td>\n",
       "      <td>3</td>\n",
       "      <td>3</td>\n",
       "      <td>...</td>\n",
       "      <td>3</td>\n",
       "      <td>3</td>\n",
       "      <td>3</td>\n",
       "      <td>3</td>\n",
       "      <td>3</td>\n",
       "      <td>3</td>\n",
       "      <td>3</td>\n",
       "      <td>3</td>\n",
       "      <td>Yes</td>\n",
       "      <td>Yes</td>\n",
       "    </tr>\n",
       "    <tr>\n",
       "      <th>283</th>\n",
       "      <td>above 55 years</td>\n",
       "      <td>Female</td>\n",
       "      <td>Married</td>\n",
       "      <td>College/university</td>\n",
       "      <td>Other</td>\n",
       "      <td>Other</td>\n",
       "      <td>3</td>\n",
       "      <td>3</td>\n",
       "      <td>3</td>\n",
       "      <td>3</td>\n",
       "      <td>...</td>\n",
       "      <td>3</td>\n",
       "      <td>3</td>\n",
       "      <td>3</td>\n",
       "      <td>3</td>\n",
       "      <td>3</td>\n",
       "      <td>3</td>\n",
       "      <td>3</td>\n",
       "      <td>3</td>\n",
       "      <td>Yes</td>\n",
       "      <td>Yes</td>\n",
       "    </tr>\n",
       "    <tr>\n",
       "      <th>284</th>\n",
       "      <td>41 - 55 years</td>\n",
       "      <td>Male</td>\n",
       "      <td>Married</td>\n",
       "      <td>Graduate school</td>\n",
       "      <td>Education</td>\n",
       "      <td>Professional</td>\n",
       "      <td>4</td>\n",
       "      <td>4</td>\n",
       "      <td>4</td>\n",
       "      <td>4</td>\n",
       "      <td>...</td>\n",
       "      <td>4</td>\n",
       "      <td>4</td>\n",
       "      <td>4</td>\n",
       "      <td>4</td>\n",
       "      <td>4</td>\n",
       "      <td>4</td>\n",
       "      <td>4</td>\n",
       "      <td>4</td>\n",
       "      <td>Yes</td>\n",
       "      <td>Yes</td>\n",
       "    </tr>\n",
       "    <tr>\n",
       "      <th>285</th>\n",
       "      <td>&lt; 25 years</td>\n",
       "      <td>Male</td>\n",
       "      <td>Single</td>\n",
       "      <td>College/university</td>\n",
       "      <td>Other</td>\n",
       "      <td>Other</td>\n",
       "      <td>3</td>\n",
       "      <td>3</td>\n",
       "      <td>3</td>\n",
       "      <td>3</td>\n",
       "      <td>...</td>\n",
       "      <td>3</td>\n",
       "      <td>3</td>\n",
       "      <td>3</td>\n",
       "      <td>3</td>\n",
       "      <td>3</td>\n",
       "      <td>3</td>\n",
       "      <td>3</td>\n",
       "      <td>3</td>\n",
       "      <td>Yes</td>\n",
       "      <td>Yes</td>\n",
       "    </tr>\n",
       "  </tbody>\n",
       "</table>\n",
       "<p>286 rows × 44 columns</p>\n",
       "</div>"
      ],
      "text/plain": [
       "                Age  Gender Marital Status        Education Level  \\\n",
       "0        < 25 years  Female         Single     College/university   \n",
       "1        < 25 years  Female         Single     College/university   \n",
       "2     41 - 55 years  Female         Single     College/university   \n",
       "3        < 25 years    Male         Single     College/university   \n",
       "4        < 25 years  Female         Single     College/university   \n",
       "..              ...     ...            ...                    ...   \n",
       "281   41 - 55 years    Male        Married  Secondary/High school   \n",
       "282  above 55 years    Male        Married        Graduate school   \n",
       "283  above 55 years  Female        Married     College/university   \n",
       "284   41 - 55 years    Male        Married        Graduate school   \n",
       "285      < 25 years    Male         Single     College/university   \n",
       "\n",
       "         Work Industry      Work Position  PE1  PE2  PE3  PE4  ...  T1  T2  \\\n",
       "0    Banking / Finance              Other    2    2    2    2  ...   2   1   \n",
       "1                Other              Other    1    1    1    1  ...   2   2   \n",
       "2        Manufacturing  Middle management    4    5    4    5  ...   3   3   \n",
       "3            Education              Other    3    3    3    3  ...   3   3   \n",
       "4                Other              Other    3    3    4    4  ...   3   4   \n",
       "..                 ...                ...  ...  ...  ...  ...  ...  ..  ..   \n",
       "281              Other              Other    3    3    3    3  ...   3   3   \n",
       "282          Education     Top management    3    3    3    3  ...   3   3   \n",
       "283              Other              Other    3    3    3    3  ...   3   3   \n",
       "284          Education       Professional    4    4    4    4  ...   4   4   \n",
       "285              Other              Other    3    3    3    3  ...   3   3   \n",
       "\n",
       "     T3  T4  BI1  BI2  BI3  BI4  \\\n",
       "0     2   3    3    3    3    3   \n",
       "1     2   2    2    2    2    2   \n",
       "2     3   4    3    4    4    4   \n",
       "3     3   3    4    4    3    3   \n",
       "4     4   4    4    5    4    4   \n",
       "..   ..  ..  ...  ...  ...  ...   \n",
       "281   3   3    3    3    3    3   \n",
       "282   3   3    3    3    3    3   \n",
       "283   3   3    3    3    3    3   \n",
       "284   4   4    4    4    4    4   \n",
       "285   3   3    3    3    3    3   \n",
       "\n",
       "     Have you ever purchased anything using the E-payment mode?  \\\n",
       "0                                                  Yes            \n",
       "1                                                  Yes            \n",
       "2                                                  Yes            \n",
       "3                                                   No            \n",
       "4                                                  Yes            \n",
       "..                                                 ...            \n",
       "281                                                Yes            \n",
       "282                                                Yes            \n",
       "283                                                Yes            \n",
       "284                                                Yes            \n",
       "285                                                Yes            \n",
       "\n",
       "     In the next six months, do you plan to purchase anything using the E-payment mode?  \n",
       "0                                                  Yes                                   \n",
       "1                                                  Yes                                   \n",
       "2                                                  Yes                                   \n",
       "3                                                  Yes                                   \n",
       "4                                                  Yes                                   \n",
       "..                                                 ...                                   \n",
       "281                                                Yes                                   \n",
       "282                                                Yes                                   \n",
       "283                                                Yes                                   \n",
       "284                                                Yes                                   \n",
       "285                                                Yes                                   \n",
       "\n",
       "[286 rows x 44 columns]"
      ]
     },
     "execution_count": 11,
     "metadata": {},
     "output_type": "execute_result"
    }
   ],
   "source": [
    "mod_fac_df = pd.DataFrame()\n",
    "\n",
    "column_arr = [\"Age\", \"Gender\", \"Marital Status\", \"Education Level\", \"Work Industry\", \"Work Position\"]\n",
    "\n",
    "for (ind, col_name) in enumerate(column_arr):\n",
    "    mod_fac_df[col_name] = df.iloc[:, 6 + ind]\n",
    "    \n",
    "# Replace Values in Work Industry\n",
    "mod_fac_df = mod_fac_df.replace(\"Baking / Finance\", \"Banking / Finance\")\n",
    "\n",
    "all_df_arr = [mod_fac_df, utaut_fac_df, df.iloc[:, [17, 18]]]\n",
    "\n",
    "all_df = pd.concat(all_df_arr, axis = 1)\n",
    "all_df.columns = all_df.columns.tolist()[:-2] + [col.split(\"[\")[1][4:-1] for col in all_df.columns[-2:]]\n",
    "\n",
    "all_df"
   ]
  },
  {
   "cell_type": "code",
   "execution_count": 19,
   "id": "phantom-athens",
   "metadata": {},
   "outputs": [
    {
     "data": {
      "text/html": [
       "<style  type=\"text/css\" >\n",
       "</style><table id=\"T_29822_\" ><thead>    <tr>        <th class=\"col_heading level0 col0\" >Rank</th>        <th class=\"col_heading level0 col1\" >Factors</th>        <th class=\"col_heading level0 col2\" >Weight For Ranking</th>    </tr></thead><tbody>\n",
       "                <tr>\n",
       "                                <td id=\"T_29822_row0_col0\" class=\"data row0 col0\" >1</td>\n",
       "                        <td id=\"T_29822_row0_col1\" class=\"data row0 col1\" >Marital Status</td>\n",
       "                        <td id=\"T_29822_row0_col2\" class=\"data row0 col2\" >0.074535</td>\n",
       "            </tr>\n",
       "            <tr>\n",
       "                                <td id=\"T_29822_row1_col0\" class=\"data row1 col0\" >2</td>\n",
       "                        <td id=\"T_29822_row1_col1\" class=\"data row1 col1\" >Age</td>\n",
       "                        <td id=\"T_29822_row1_col2\" class=\"data row1 col2\" >0.023166</td>\n",
       "            </tr>\n",
       "            <tr>\n",
       "                                <td id=\"T_29822_row2_col0\" class=\"data row2 col0\" >3</td>\n",
       "                        <td id=\"T_29822_row2_col1\" class=\"data row2 col1\" >Work Industry</td>\n",
       "                        <td id=\"T_29822_row2_col2\" class=\"data row2 col2\" >0.003489</td>\n",
       "            </tr>\n",
       "            <tr>\n",
       "                                <td id=\"T_29822_row3_col0\" class=\"data row3 col0\" >4</td>\n",
       "                        <td id=\"T_29822_row3_col1\" class=\"data row3 col1\" >Gender</td>\n",
       "                        <td id=\"T_29822_row3_col2\" class=\"data row3 col2\" >-0.017387</td>\n",
       "            </tr>\n",
       "            <tr>\n",
       "                                <td id=\"T_29822_row4_col0\" class=\"data row4 col0\" >5</td>\n",
       "                        <td id=\"T_29822_row4_col1\" class=\"data row4 col1\" >Work Position</td>\n",
       "                        <td id=\"T_29822_row4_col2\" class=\"data row4 col2\" >-0.040989</td>\n",
       "            </tr>\n",
       "            <tr>\n",
       "                                <td id=\"T_29822_row5_col0\" class=\"data row5 col0\" >6</td>\n",
       "                        <td id=\"T_29822_row5_col1\" class=\"data row5 col1\" >Education Level</td>\n",
       "                        <td id=\"T_29822_row5_col2\" class=\"data row5 col2\" >-0.118909</td>\n",
       "            </tr>\n",
       "    </tbody></table>"
      ],
      "text/plain": [
       "<pandas.io.formats.style.Styler at 0x205dc634a90>"
      ]
     },
     "execution_count": 19,
     "metadata": {},
     "output_type": "execute_result"
    }
   ],
   "source": [
    "df_X = all_df.iloc[:, :6]\n",
    "df_Y = all_df.iloc[:, -2]\n",
    "\n",
    "func = spearmanr\n",
    "\n",
    "arr_list = []\n",
    "\n",
    "for col_ind in range(df_X.shape[1]):\n",
    "    name = df_X.columns[col_ind]\n",
    "    corr, p_val = func(df_X.iloc[:, col_ind], df_Y)\n",
    "    arr_list.append((col_ind ,name, corr))\n",
    "    \n",
    "# Sort Column By Correlation Value\n",
    "arr_list = sorted(arr_list, key = lambda x : x[2], reverse = True)\n",
    "\n",
    "mbf_df = pd.DataFrame(arr_list, index = [i + 1 for i in range(len(arr_list))], columns = [\"Rank\" ,\"Factors\", \"Weight For Ranking\"])\n",
    "\n",
    "mbf_df[\"Rank\"] = [ind + 1 for ind in range(mbf_df.shape[0])]\n",
    "\n",
    "mbf_df.style.hide_index()"
   ]
  },
  {
   "cell_type": "markdown",
   "id": "environmental-mills",
   "metadata": {},
   "source": [
    "## Moderated Variables"
   ]
  },
  {
   "cell_type": "code",
   "execution_count": 8,
   "id": "practical-syndication",
   "metadata": {},
   "outputs": [
    {
     "data": {
      "text/html": [
       "<style  type=\"text/css\" >\n",
       "</style><table id=\"T_af20c_\" ><thead>    <tr>        <th class=\"col_heading level0 col0\" >Moderated Variables</th>        <th class=\"col_heading level0 col1\" >Significantly Related Variables</th>    </tr></thead><tbody>\n",
       "                <tr>\n",
       "                                <td id=\"T_af20c_row0_col0\" class=\"data row0 col0\" >Age</td>\n",
       "                        <td id=\"T_af20c_row0_col1\" class=\"data row0 col1\" >['PE1', 'PE2', 'PE4', 'EE1', 'EE3', 'EE4', 'AT1', 'AT3', 'AT4', 'SI1', 'SI2', 'SI3', 'SI4', 'FC1', 'FC2', 'FC3', 'SE1', 'SE2', 'SE3', 'SE4', 'AX2', 'AX3', 'T2', 'T4', 'BI1', 'BI2', 'BI3', 'BI4']</td>\n",
       "            </tr>\n",
       "            <tr>\n",
       "                                <td id=\"T_af20c_row1_col0\" class=\"data row1 col0\" >Gender</td>\n",
       "                        <td id=\"T_af20c_row1_col1\" class=\"data row1 col1\" >['PE1', 'PE2', 'EE1', 'EE2', 'EE3', 'EE4', 'AT1', 'AT4', 'SI2', 'SI3', 'SI4', 'FC1', 'FC2', 'FC3', 'FC4', 'SE1', 'SE3', 'SE4', 'AX4', 'T1', 'T3', 'BI1', 'BI2', 'BI3']</td>\n",
       "            </tr>\n",
       "            <tr>\n",
       "                                <td id=\"T_af20c_row2_col0\" class=\"data row2 col0\" >Marital Status</td>\n",
       "                        <td id=\"T_af20c_row2_col1\" class=\"data row2 col1\" >['PE1', 'PE2', 'PE3', 'EE1', 'EE2', 'EE3', 'EE4', 'AT1', 'AT2', 'AT3', 'AT4', 'SI1', 'SI2', 'SI3', 'SI4', 'FC1', 'FC2', 'FC3', 'AX3', 'T1', 'T2', 'T3', 'T4', 'BI1', 'BI2', 'BI3', 'BI4']</td>\n",
       "            </tr>\n",
       "            <tr>\n",
       "                                <td id=\"T_af20c_row3_col0\" class=\"data row3 col0\" >Education Level</td>\n",
       "                        <td id=\"T_af20c_row3_col1\" class=\"data row3 col1\" >['AT1', 'AT2', 'FC1', 'FC4', 'SE2', 'SE3', 'SE4', 'T4', 'BI1', 'BI3']</td>\n",
       "            </tr>\n",
       "            <tr>\n",
       "                                <td id=\"T_af20c_row4_col0\" class=\"data row4 col0\" >Work Industry</td>\n",
       "                        <td id=\"T_af20c_row4_col1\" class=\"data row4 col1\" >['PE1', 'PE2', 'EE1', 'EE3', 'SI2', 'FC1', 'T4']</td>\n",
       "            </tr>\n",
       "            <tr>\n",
       "                                <td id=\"T_af20c_row5_col0\" class=\"data row5 col0\" >Work Position</td>\n",
       "                        <td id=\"T_af20c_row5_col1\" class=\"data row5 col1\" >['PE1', 'PE2', 'PE3', 'PE4', 'EE1', 'AT4', 'SI1', 'SI2', 'SI3', 'SI4', 'FC1', 'FC2', 'FC4', 'AX1', 'AX2', 'AX4', 'T4']</td>\n",
       "            </tr>\n",
       "    </tbody></table>"
      ],
      "text/plain": [
       "<pandas.io.formats.style.Styler at 0x25555375fd0>"
      ]
     },
     "execution_count": 8,
     "metadata": {},
     "output_type": "execute_result"
    }
   ],
   "source": [
    "arr_list = []\n",
    "for col_y in mod_fac_df.columns:\n",
    "    \n",
    "    tmp_X = utaut_fac_df\n",
    "    tmp_Y = mod_fac_df.loc[:, col_y]\n",
    "    \n",
    "    tmp_list = []\n",
    "    \n",
    "    prob = 0.95\n",
    "    \n",
    "    for col_2 in tmp_X.columns:\n",
    "        chi_df = pd.crosstab(tmp_X.loc[:, col_2], tmp_Y)\n",
    "        \n",
    "        stat, p, dof, expected = chi2_contingency(chi_df)\n",
    "        \n",
    "        critical = chi2.ppf(prob, dof)\n",
    "        \n",
    "        alpha = 1.0 - prob\n",
    "        \n",
    "        if abs(stat) >= critical and p <= alpha:\n",
    "            tmp_list.append(col_2)\n",
    "            \n",
    "    arr_list.append((col_y, tmp_list))\n",
    "    \n",
    "tmp_df = pd.DataFrame(arr_list, columns = [\"Moderated Variables\", \"Significantly Related Variables\"])\n",
    "\n",
    "tmp_df.style.hide_index()"
   ]
  },
  {
   "cell_type": "markdown",
   "id": "forbidden-conspiracy",
   "metadata": {},
   "source": [
    "## Use CFS on All UTAUT Factors"
   ]
  },
  {
   "cell_type": "code",
   "execution_count": 9,
   "id": "honey-design",
   "metadata": {},
   "outputs": [],
   "source": [
    "# arr_list = []\n",
    "\n",
    "# model = DecisionTreeClassifier()\n",
    "\n",
    "# for col in utaut_fac_df.columns:\n",
    "#     print(col)\n",
    "#     arr_df = [mod_fac_df, utaut_fac_df.drop([col], axis = 1)]\n",
    "#     df_X = pd.concat(arr_df, axis = 1)\n",
    "#     df_Y = utaut_fac_df.loc[:, col]\n",
    "\n",
    "#     feature_set = forward_selection(df_X, df_Y, model, 8)\n",
    "    \n",
    "#     arr_list.append((col, feature_set, len(feature_set)))\n",
    "\n",
    "# tmp_df = pd.DataFrame(arr_list, columns = [\"UTAUT Factor\", \"Feature Set\", \"Number of Features\"])\n",
    "# tmp_df.style.hide_index()"
   ]
  },
  {
   "cell_type": "markdown",
   "id": "israeli-shell",
   "metadata": {},
   "source": [
    "## Graphs"
   ]
  },
  {
   "cell_type": "code",
   "execution_count": 12,
   "id": "classical-harbor",
   "metadata": {},
   "outputs": [],
   "source": [
    "df = pd.read_csv(\"Dataset/E-payment Cryptocurrency Coin.csv\")\n",
    "\n",
    "mod_fac_df = pd.DataFrame()\n",
    "\n",
    "column_arr = [\"Age\", \"Gender\", \"Marital Status\", \"Education Level\", \"Work Industry\", \"Work Position\"]\n",
    "\n",
    "for (ind, col_name) in enumerate(column_arr):\n",
    "    mod_fac_df[col_name] = df.iloc[:, 6 + ind]\n",
    "    \n",
    "# Replace Values in Work Industry\n",
    "mod_fac_df = mod_fac_df.replace(\"Baking / Finance\", \"Banking / Finance\")"
   ]
  },
  {
   "cell_type": "code",
   "execution_count": 13,
   "id": "needed-attempt",
   "metadata": {},
   "outputs": [
    {
     "data": {
      "text/html": [
       "<div>\n",
       "<style scoped>\n",
       "    .dataframe tbody tr th:only-of-type {\n",
       "        vertical-align: middle;\n",
       "    }\n",
       "\n",
       "    .dataframe tbody tr th {\n",
       "        vertical-align: top;\n",
       "    }\n",
       "\n",
       "    .dataframe thead th {\n",
       "        text-align: right;\n",
       "    }\n",
       "</style>\n",
       "<table border=\"1\" class=\"dataframe\">\n",
       "  <thead>\n",
       "    <tr style=\"text-align: right;\">\n",
       "      <th></th>\n",
       "      <th>Age</th>\n",
       "      <th>Gender</th>\n",
       "      <th>Marital Status</th>\n",
       "      <th>Education Level</th>\n",
       "      <th>Work Industry</th>\n",
       "      <th>Work Position</th>\n",
       "      <th>PE1</th>\n",
       "      <th>PE2</th>\n",
       "      <th>PE3</th>\n",
       "      <th>PE4</th>\n",
       "      <th>...</th>\n",
       "      <th>T1</th>\n",
       "      <th>T2</th>\n",
       "      <th>T3</th>\n",
       "      <th>T4</th>\n",
       "      <th>BI1</th>\n",
       "      <th>BI2</th>\n",
       "      <th>BI3</th>\n",
       "      <th>BI4</th>\n",
       "      <th>Have you ever purchased anything using the E-payment mode?</th>\n",
       "      <th>In the next six months, do you plan to purchase anything using the E-payment mode?</th>\n",
       "    </tr>\n",
       "  </thead>\n",
       "  <tbody>\n",
       "    <tr>\n",
       "      <th>0</th>\n",
       "      <td>&lt; 25 years</td>\n",
       "      <td>Female</td>\n",
       "      <td>Single</td>\n",
       "      <td>College/university</td>\n",
       "      <td>Banking / Finance</td>\n",
       "      <td>Other</td>\n",
       "      <td>2</td>\n",
       "      <td>2</td>\n",
       "      <td>2</td>\n",
       "      <td>2</td>\n",
       "      <td>...</td>\n",
       "      <td>2</td>\n",
       "      <td>1</td>\n",
       "      <td>2</td>\n",
       "      <td>3</td>\n",
       "      <td>3</td>\n",
       "      <td>3</td>\n",
       "      <td>3</td>\n",
       "      <td>3</td>\n",
       "      <td>Yes</td>\n",
       "      <td>Yes</td>\n",
       "    </tr>\n",
       "    <tr>\n",
       "      <th>1</th>\n",
       "      <td>&lt; 25 years</td>\n",
       "      <td>Female</td>\n",
       "      <td>Single</td>\n",
       "      <td>College/university</td>\n",
       "      <td>Other</td>\n",
       "      <td>Other</td>\n",
       "      <td>1</td>\n",
       "      <td>1</td>\n",
       "      <td>1</td>\n",
       "      <td>1</td>\n",
       "      <td>...</td>\n",
       "      <td>2</td>\n",
       "      <td>2</td>\n",
       "      <td>2</td>\n",
       "      <td>2</td>\n",
       "      <td>2</td>\n",
       "      <td>2</td>\n",
       "      <td>2</td>\n",
       "      <td>2</td>\n",
       "      <td>Yes</td>\n",
       "      <td>Yes</td>\n",
       "    </tr>\n",
       "    <tr>\n",
       "      <th>2</th>\n",
       "      <td>41 - 55 years</td>\n",
       "      <td>Female</td>\n",
       "      <td>Single</td>\n",
       "      <td>College/university</td>\n",
       "      <td>Manufacturing</td>\n",
       "      <td>Middle management</td>\n",
       "      <td>4</td>\n",
       "      <td>5</td>\n",
       "      <td>4</td>\n",
       "      <td>5</td>\n",
       "      <td>...</td>\n",
       "      <td>3</td>\n",
       "      <td>3</td>\n",
       "      <td>3</td>\n",
       "      <td>4</td>\n",
       "      <td>3</td>\n",
       "      <td>4</td>\n",
       "      <td>4</td>\n",
       "      <td>4</td>\n",
       "      <td>Yes</td>\n",
       "      <td>Yes</td>\n",
       "    </tr>\n",
       "    <tr>\n",
       "      <th>3</th>\n",
       "      <td>&lt; 25 years</td>\n",
       "      <td>Male</td>\n",
       "      <td>Single</td>\n",
       "      <td>College/university</td>\n",
       "      <td>Education</td>\n",
       "      <td>Other</td>\n",
       "      <td>3</td>\n",
       "      <td>3</td>\n",
       "      <td>3</td>\n",
       "      <td>3</td>\n",
       "      <td>...</td>\n",
       "      <td>3</td>\n",
       "      <td>3</td>\n",
       "      <td>3</td>\n",
       "      <td>3</td>\n",
       "      <td>4</td>\n",
       "      <td>4</td>\n",
       "      <td>3</td>\n",
       "      <td>3</td>\n",
       "      <td>No</td>\n",
       "      <td>Yes</td>\n",
       "    </tr>\n",
       "    <tr>\n",
       "      <th>4</th>\n",
       "      <td>&lt; 25 years</td>\n",
       "      <td>Female</td>\n",
       "      <td>Single</td>\n",
       "      <td>College/university</td>\n",
       "      <td>Other</td>\n",
       "      <td>Other</td>\n",
       "      <td>3</td>\n",
       "      <td>3</td>\n",
       "      <td>4</td>\n",
       "      <td>4</td>\n",
       "      <td>...</td>\n",
       "      <td>3</td>\n",
       "      <td>4</td>\n",
       "      <td>4</td>\n",
       "      <td>4</td>\n",
       "      <td>4</td>\n",
       "      <td>5</td>\n",
       "      <td>4</td>\n",
       "      <td>4</td>\n",
       "      <td>Yes</td>\n",
       "      <td>Yes</td>\n",
       "    </tr>\n",
       "    <tr>\n",
       "      <th>...</th>\n",
       "      <td>...</td>\n",
       "      <td>...</td>\n",
       "      <td>...</td>\n",
       "      <td>...</td>\n",
       "      <td>...</td>\n",
       "      <td>...</td>\n",
       "      <td>...</td>\n",
       "      <td>...</td>\n",
       "      <td>...</td>\n",
       "      <td>...</td>\n",
       "      <td>...</td>\n",
       "      <td>...</td>\n",
       "      <td>...</td>\n",
       "      <td>...</td>\n",
       "      <td>...</td>\n",
       "      <td>...</td>\n",
       "      <td>...</td>\n",
       "      <td>...</td>\n",
       "      <td>...</td>\n",
       "      <td>...</td>\n",
       "      <td>...</td>\n",
       "    </tr>\n",
       "    <tr>\n",
       "      <th>281</th>\n",
       "      <td>41 - 55 years</td>\n",
       "      <td>Male</td>\n",
       "      <td>Married</td>\n",
       "      <td>Secondary/High school</td>\n",
       "      <td>Other</td>\n",
       "      <td>Other</td>\n",
       "      <td>3</td>\n",
       "      <td>3</td>\n",
       "      <td>3</td>\n",
       "      <td>3</td>\n",
       "      <td>...</td>\n",
       "      <td>3</td>\n",
       "      <td>3</td>\n",
       "      <td>3</td>\n",
       "      <td>3</td>\n",
       "      <td>3</td>\n",
       "      <td>3</td>\n",
       "      <td>3</td>\n",
       "      <td>3</td>\n",
       "      <td>Yes</td>\n",
       "      <td>Yes</td>\n",
       "    </tr>\n",
       "    <tr>\n",
       "      <th>282</th>\n",
       "      <td>above 55 years</td>\n",
       "      <td>Male</td>\n",
       "      <td>Married</td>\n",
       "      <td>Graduate school</td>\n",
       "      <td>Education</td>\n",
       "      <td>Top management</td>\n",
       "      <td>3</td>\n",
       "      <td>3</td>\n",
       "      <td>3</td>\n",
       "      <td>3</td>\n",
       "      <td>...</td>\n",
       "      <td>3</td>\n",
       "      <td>3</td>\n",
       "      <td>3</td>\n",
       "      <td>3</td>\n",
       "      <td>3</td>\n",
       "      <td>3</td>\n",
       "      <td>3</td>\n",
       "      <td>3</td>\n",
       "      <td>Yes</td>\n",
       "      <td>Yes</td>\n",
       "    </tr>\n",
       "    <tr>\n",
       "      <th>283</th>\n",
       "      <td>above 55 years</td>\n",
       "      <td>Female</td>\n",
       "      <td>Married</td>\n",
       "      <td>College/university</td>\n",
       "      <td>Other</td>\n",
       "      <td>Other</td>\n",
       "      <td>3</td>\n",
       "      <td>3</td>\n",
       "      <td>3</td>\n",
       "      <td>3</td>\n",
       "      <td>...</td>\n",
       "      <td>3</td>\n",
       "      <td>3</td>\n",
       "      <td>3</td>\n",
       "      <td>3</td>\n",
       "      <td>3</td>\n",
       "      <td>3</td>\n",
       "      <td>3</td>\n",
       "      <td>3</td>\n",
       "      <td>Yes</td>\n",
       "      <td>Yes</td>\n",
       "    </tr>\n",
       "    <tr>\n",
       "      <th>284</th>\n",
       "      <td>41 - 55 years</td>\n",
       "      <td>Male</td>\n",
       "      <td>Married</td>\n",
       "      <td>Graduate school</td>\n",
       "      <td>Education</td>\n",
       "      <td>Professional</td>\n",
       "      <td>4</td>\n",
       "      <td>4</td>\n",
       "      <td>4</td>\n",
       "      <td>4</td>\n",
       "      <td>...</td>\n",
       "      <td>4</td>\n",
       "      <td>4</td>\n",
       "      <td>4</td>\n",
       "      <td>4</td>\n",
       "      <td>4</td>\n",
       "      <td>4</td>\n",
       "      <td>4</td>\n",
       "      <td>4</td>\n",
       "      <td>Yes</td>\n",
       "      <td>Yes</td>\n",
       "    </tr>\n",
       "    <tr>\n",
       "      <th>285</th>\n",
       "      <td>&lt; 25 years</td>\n",
       "      <td>Male</td>\n",
       "      <td>Single</td>\n",
       "      <td>College/university</td>\n",
       "      <td>Other</td>\n",
       "      <td>Other</td>\n",
       "      <td>3</td>\n",
       "      <td>3</td>\n",
       "      <td>3</td>\n",
       "      <td>3</td>\n",
       "      <td>...</td>\n",
       "      <td>3</td>\n",
       "      <td>3</td>\n",
       "      <td>3</td>\n",
       "      <td>3</td>\n",
       "      <td>3</td>\n",
       "      <td>3</td>\n",
       "      <td>3</td>\n",
       "      <td>3</td>\n",
       "      <td>Yes</td>\n",
       "      <td>Yes</td>\n",
       "    </tr>\n",
       "  </tbody>\n",
       "</table>\n",
       "<p>286 rows × 44 columns</p>\n",
       "</div>"
      ],
      "text/plain": [
       "                Age  Gender Marital Status        Education Level  \\\n",
       "0        < 25 years  Female         Single     College/university   \n",
       "1        < 25 years  Female         Single     College/university   \n",
       "2     41 - 55 years  Female         Single     College/university   \n",
       "3        < 25 years    Male         Single     College/university   \n",
       "4        < 25 years  Female         Single     College/university   \n",
       "..              ...     ...            ...                    ...   \n",
       "281   41 - 55 years    Male        Married  Secondary/High school   \n",
       "282  above 55 years    Male        Married        Graduate school   \n",
       "283  above 55 years  Female        Married     College/university   \n",
       "284   41 - 55 years    Male        Married        Graduate school   \n",
       "285      < 25 years    Male         Single     College/university   \n",
       "\n",
       "         Work Industry      Work Position  PE1  PE2  PE3  PE4  ...  T1  T2  \\\n",
       "0    Banking / Finance              Other    2    2    2    2  ...   2   1   \n",
       "1                Other              Other    1    1    1    1  ...   2   2   \n",
       "2        Manufacturing  Middle management    4    5    4    5  ...   3   3   \n",
       "3            Education              Other    3    3    3    3  ...   3   3   \n",
       "4                Other              Other    3    3    4    4  ...   3   4   \n",
       "..                 ...                ...  ...  ...  ...  ...  ...  ..  ..   \n",
       "281              Other              Other    3    3    3    3  ...   3   3   \n",
       "282          Education     Top management    3    3    3    3  ...   3   3   \n",
       "283              Other              Other    3    3    3    3  ...   3   3   \n",
       "284          Education       Professional    4    4    4    4  ...   4   4   \n",
       "285              Other              Other    3    3    3    3  ...   3   3   \n",
       "\n",
       "     T3  T4  BI1  BI2  BI3  BI4  \\\n",
       "0     2   3    3    3    3    3   \n",
       "1     2   2    2    2    2    2   \n",
       "2     3   4    3    4    4    4   \n",
       "3     3   3    4    4    3    3   \n",
       "4     4   4    4    5    4    4   \n",
       "..   ..  ..  ...  ...  ...  ...   \n",
       "281   3   3    3    3    3    3   \n",
       "282   3   3    3    3    3    3   \n",
       "283   3   3    3    3    3    3   \n",
       "284   4   4    4    4    4    4   \n",
       "285   3   3    3    3    3    3   \n",
       "\n",
       "     Have you ever purchased anything using the E-payment mode?  \\\n",
       "0                                                  Yes            \n",
       "1                                                  Yes            \n",
       "2                                                  Yes            \n",
       "3                                                   No            \n",
       "4                                                  Yes            \n",
       "..                                                 ...            \n",
       "281                                                Yes            \n",
       "282                                                Yes            \n",
       "283                                                Yes            \n",
       "284                                                Yes            \n",
       "285                                                Yes            \n",
       "\n",
       "     In the next six months, do you plan to purchase anything using the E-payment mode?  \n",
       "0                                                  Yes                                   \n",
       "1                                                  Yes                                   \n",
       "2                                                  Yes                                   \n",
       "3                                                  Yes                                   \n",
       "4                                                  Yes                                   \n",
       "..                                                 ...                                   \n",
       "281                                                Yes                                   \n",
       "282                                                Yes                                   \n",
       "283                                                Yes                                   \n",
       "284                                                Yes                                   \n",
       "285                                                Yes                                   \n",
       "\n",
       "[286 rows x 44 columns]"
      ]
     },
     "execution_count": 13,
     "metadata": {},
     "output_type": "execute_result"
    }
   ],
   "source": [
    "all_df_arr = [mod_fac_df, utaut_fac_df, df.iloc[:, [17, 18]]]\n",
    "\n",
    "all_df = pd.concat(all_df_arr, axis = 1)\n",
    "all_df.columns = all_df.columns.tolist()[:-2] + [col.split(\"[\")[1][4:-1] for col in all_df.columns[-2:]]\n",
    "\n",
    "all_df"
   ]
  },
  {
   "cell_type": "markdown",
   "id": "received-newspaper",
   "metadata": {},
   "source": [
    "#### Age"
   ]
  },
  {
   "cell_type": "code",
   "execution_count": 14,
   "id": "protecting-trance",
   "metadata": {},
   "outputs": [],
   "source": [
    "col = \"Age\""
   ]
  },
  {
   "cell_type": "code",
   "execution_count": 15,
   "id": "integral-uruguay",
   "metadata": {
    "scrolled": false
   },
   "outputs": [
    {
     "data": {
      "application/vnd.jupyter.widget-view+json": {
       "model_id": "53615c8c32bf4cd3adcb7fbd37ab1bf4",
       "version_major": 2,
       "version_minor": 0
      },
      "text/plain": [
       "HBox(children=(FigureWidget({\n",
       "    'data': [{'name': 'Age',\n",
       "              'textposition': 'outside',\n",
       "          …"
      ]
     },
     "metadata": {},
     "output_type": "display_data"
    }
   ],
   "source": [
    "fig_arr = []\n",
    "\n",
    "tmp_df = pd.DataFrame(mod_fac_df[col].value_counts()).T\n",
    "tmp_df = tmp_df[index_dict[col]]\n",
    "tmp_df.iloc[0, :] = tmp_df.iloc[0, :] / tmp_df.iloc[0, :].sum() * 100.0\n",
    "fig_arr.append(show_bar_graph_percentage(tmp_df, \"\", col, \"\", \"Percentage\"))\n",
    "\n",
    "tmp_df = all_df.loc[:, [col, \"In the next six months, do you plan to purchase anything using the E-payment mode?\"]]\n",
    "\n",
    "tmp_df = pd.crosstab(tmp_df.iloc[:, 1], tmp_df.iloc[:, 0])\n",
    "\n",
    "# for tmp_col in tmp_df.columns:\n",
    "#     tmp_df[tmp_col] = tmp_df[tmp_col] / tmp_df[tmp_col].sum() * 100.0\n",
    "\n",
    "tmp_df = tmp_df[index_dict[col]]\n",
    "\n",
    "fig_arr.append(show_bar_graph(tmp_df, \"\", col, \"Intention?\", \"Count\"))\n",
    "\n",
    "h_arr = [go.FigureWidget(fig) for fig in fig_arr]\n",
    "\n",
    "ipw.HBox(h_arr)"
   ]
  },
  {
   "cell_type": "markdown",
   "id": "impossible-advertiser",
   "metadata": {},
   "source": [
    "#### Gender"
   ]
  },
  {
   "cell_type": "code",
   "execution_count": 16,
   "id": "secret-cigarette",
   "metadata": {},
   "outputs": [],
   "source": [
    "col = \"Gender\""
   ]
  },
  {
   "cell_type": "code",
   "execution_count": 17,
   "id": "legendary-enforcement",
   "metadata": {},
   "outputs": [
    {
     "data": {
      "application/vnd.jupyter.widget-view+json": {
       "model_id": "00458bcdac0943daa236332943b5b2e7",
       "version_major": 2,
       "version_minor": 0
      },
      "text/plain": [
       "HBox(children=(FigureWidget({\n",
       "    'data': [{'name': 'Gender',\n",
       "              'textposition': 'outside',\n",
       "       …"
      ]
     },
     "metadata": {},
     "output_type": "display_data"
    }
   ],
   "source": [
    "fig_arr = []\n",
    "\n",
    "tmp_df = pd.DataFrame(mod_fac_df[col].value_counts()).T\n",
    "tmp_df = tmp_df[index_dict[col]]\n",
    "tmp_df.iloc[0, :] = tmp_df.iloc[0, :] / tmp_df.iloc[0, :].sum() * 100.0\n",
    "fig_arr.append(show_bar_graph_percentage(tmp_df, \"\", col, \"\", \"Percentage\"))\n",
    "\n",
    "tmp_df = all_df.loc[:, [col, \"In the next six months, do you plan to purchase anything using the E-payment mode?\"]]\n",
    "\n",
    "tmp_df = pd.crosstab(tmp_df.iloc[:, 1], tmp_df.iloc[:, 0])\n",
    "\n",
    "# for tmp_col in tmp_df.columns:\n",
    "#     tmp_df[tmp_col] = tmp_df[tmp_col] / tmp_df[tmp_col].sum() * 100.0\n",
    "\n",
    "tmp_df = tmp_df[index_dict[col]]\n",
    "\n",
    "fig_arr.append(show_bar_graph(tmp_df, \"\", col, \"Intention?\", \"Count\"))\n",
    "\n",
    "h_arr = [go.FigureWidget(fig) for fig in fig_arr]\n",
    "\n",
    "ipw.HBox(h_arr)"
   ]
  },
  {
   "cell_type": "markdown",
   "id": "cleared-mandate",
   "metadata": {},
   "source": [
    "#### Marital Status"
   ]
  },
  {
   "cell_type": "code",
   "execution_count": 18,
   "id": "varying-event",
   "metadata": {},
   "outputs": [],
   "source": [
    "col = \"Marital Status\""
   ]
  },
  {
   "cell_type": "code",
   "execution_count": 19,
   "id": "blind-deposit",
   "metadata": {},
   "outputs": [
    {
     "data": {
      "application/vnd.jupyter.widget-view+json": {
       "model_id": "5c92a8b5e4744b398ec520e55b7ef63d",
       "version_major": 2,
       "version_minor": 0
      },
      "text/plain": [
       "HBox(children=(FigureWidget({\n",
       "    'data': [{'name': 'Marital Status',\n",
       "              'textposition': 'outside',…"
      ]
     },
     "metadata": {},
     "output_type": "display_data"
    }
   ],
   "source": [
    "fig_arr = []\n",
    "\n",
    "tmp_df = pd.DataFrame(mod_fac_df[col].value_counts()).T\n",
    "tmp_df = tmp_df[index_dict[col]]\n",
    "tmp_df.iloc[0, :] = tmp_df.iloc[0, :] / tmp_df.iloc[0, :].sum() * 100.0\n",
    "fig_arr.append(show_bar_graph_percentage(tmp_df.iloc[:, :-1], \"\", col, \"\", \"Percentage\"))\n",
    "\n",
    "tmp_df = all_df.loc[:, [col, \"In the next six months, do you plan to purchase anything using the E-payment mode?\"]]\n",
    "\n",
    "tmp_df = pd.crosstab(tmp_df.iloc[:, 1], tmp_df.iloc[:, 0])\n",
    "\n",
    "# for tmp_col in tmp_df.columns:\n",
    "#     tmp_df[tmp_col] = tmp_df[tmp_col] / tmp_df[tmp_col].sum() * 100.0\n",
    "\n",
    "tmp_df = tmp_df[index_dict[col]]\n",
    "\n",
    "fig_arr.append(show_bar_graph(tmp_df.iloc[:, :-1], \"\", col, \"Intention?\", \"Count\"))\n",
    "\n",
    "h_arr = [go.FigureWidget(fig) for fig in fig_arr]\n",
    "\n",
    "ipw.HBox(h_arr)"
   ]
  },
  {
   "cell_type": "markdown",
   "id": "fundamental-bulgaria",
   "metadata": {},
   "source": [
    "#### Education Level"
   ]
  },
  {
   "cell_type": "code",
   "execution_count": 20,
   "id": "behind-passport",
   "metadata": {},
   "outputs": [],
   "source": [
    "col = \"Education Level\""
   ]
  },
  {
   "cell_type": "code",
   "execution_count": 21,
   "id": "designing-zealand",
   "metadata": {},
   "outputs": [
    {
     "data": {
      "application/vnd.jupyter.widget-view+json": {
       "model_id": "405bdad12f774a44a7799a2573d628d8",
       "version_major": 2,
       "version_minor": 0
      },
      "text/plain": [
       "HBox(children=(FigureWidget({\n",
       "    'data': [{'name': 'Education Level',\n",
       "              'textposition': 'outside'…"
      ]
     },
     "metadata": {},
     "output_type": "display_data"
    }
   ],
   "source": [
    "fig_arr = []\n",
    "\n",
    "tmp_df = pd.DataFrame(mod_fac_df[col].value_counts()).T\n",
    "tmp_df = tmp_df[index_dict[col]]\n",
    "tmp_df.iloc[0, :] = tmp_df.iloc[0, :] / tmp_df.iloc[0, :].sum() * 100.0\n",
    "fig_arr.append(show_bar_graph_percentage(tmp_df.iloc[:, :-1], \"\", col, \"\", \"Percentage\"))\n",
    "\n",
    "tmp_df = all_df.loc[:, [col, \"In the next six months, do you plan to purchase anything using the E-payment mode?\"]]\n",
    "\n",
    "tmp_df = pd.crosstab(tmp_df.iloc[:, 1], tmp_df.iloc[:, 0])\n",
    "\n",
    "# for tmp_col in tmp_df.columns:\n",
    "#     tmp_df[tmp_col] = tmp_df[tmp_col] / tmp_df[tmp_col].sum() * 100.0\n",
    "\n",
    "tmp_df = tmp_df[index_dict[col]]\n",
    "\n",
    "fig_arr.append(show_bar_graph(tmp_df.iloc[:, :-1], \"\", col, \"Intention?\", \"Count\"))\n",
    "\n",
    "h_arr = [go.FigureWidget(fig) for fig in fig_arr]\n",
    "\n",
    "ipw.HBox(h_arr)"
   ]
  },
  {
   "cell_type": "markdown",
   "id": "intense-rhythm",
   "metadata": {},
   "source": [
    "#### Work Industry"
   ]
  },
  {
   "cell_type": "code",
   "execution_count": 22,
   "id": "cross-concern",
   "metadata": {},
   "outputs": [],
   "source": [
    "col = \"Work Industry\""
   ]
  },
  {
   "cell_type": "code",
   "execution_count": 23,
   "id": "liquid-output",
   "metadata": {
    "scrolled": false
   },
   "outputs": [
    {
     "data": {
      "application/vnd.jupyter.widget-view+json": {
       "model_id": "1514567ecf7f4cfb8771e1a0ad204a41",
       "version_major": 2,
       "version_minor": 0
      },
      "text/plain": [
       "HBox(children=(FigureWidget({\n",
       "    'data': [{'name': 'Work Industry',\n",
       "              'textposition': 'outside',\n",
       "…"
      ]
     },
     "metadata": {},
     "output_type": "display_data"
    }
   ],
   "source": [
    "fig_arr = []\n",
    "\n",
    "tmp_df = pd.DataFrame(mod_fac_df[col].value_counts()).T\n",
    "tmp_df = tmp_df[index_dict[col]]\n",
    "tmp_df.iloc[0, :] = tmp_df.iloc[0, :] / tmp_df.iloc[0, :].sum() * 100.0\n",
    "fig_arr.append(show_bar_graph_percentage(tmp_df.iloc[:, :-1], \"\", col, \"\", \"Percentage\"))\n",
    "\n",
    "tmp_df = all_df.loc[:, [col, \"In the next six months, do you plan to purchase anything using the E-payment mode?\"]]\n",
    "\n",
    "tmp_df = pd.crosstab(tmp_df.iloc[:, 1], tmp_df.iloc[:, 0])\n",
    "\n",
    "# for tmp_col in tmp_df.columns:\n",
    "#     tmp_df[tmp_col] = tmp_df[tmp_col] / tmp_df[tmp_col].sum() * 100.0\n",
    "\n",
    "tmp_df = tmp_df[index_dict[col]]\n",
    "\n",
    "fig_arr.append(show_bar_graph(tmp_df.iloc[:, :-1], \"\", col, \"Intention?\", \"Count\"))\n",
    "\n",
    "h_arr = [go.FigureWidget(fig) for fig in fig_arr]\n",
    "\n",
    "ipw.HBox(h_arr)"
   ]
  },
  {
   "cell_type": "markdown",
   "id": "hispanic-shareware",
   "metadata": {},
   "source": [
    "#### Work Position"
   ]
  },
  {
   "cell_type": "code",
   "execution_count": 24,
   "id": "unlimited-wallet",
   "metadata": {},
   "outputs": [],
   "source": [
    "col = \"Work Position\""
   ]
  },
  {
   "cell_type": "code",
   "execution_count": 25,
   "id": "synthetic-corruption",
   "metadata": {},
   "outputs": [
    {
     "data": {
      "application/vnd.jupyter.widget-view+json": {
       "model_id": "bb7a52a479154a9f8b152fedc94c3f4a",
       "version_major": 2,
       "version_minor": 0
      },
      "text/plain": [
       "HBox(children=(FigureWidget({\n",
       "    'data': [{'name': 'Work Position',\n",
       "              'textposition': 'outside',\n",
       "…"
      ]
     },
     "metadata": {},
     "output_type": "display_data"
    }
   ],
   "source": [
    "fig_arr = []\n",
    "\n",
    "tmp_df = pd.DataFrame(mod_fac_df[col].value_counts()).T\n",
    "tmp_df = tmp_df[index_dict[col]]\n",
    "tmp_df.iloc[0, :] = tmp_df.iloc[0, :] / tmp_df.iloc[0, :].sum() * 100.0\n",
    "fig_arr.append(show_bar_graph_percentage(tmp_df.iloc[:, :-1], \"\", col, \"\", \"Percentage\"))\n",
    "\n",
    "tmp_df = all_df.loc[:, [col, \"In the next six months, do you plan to purchase anything using the E-payment mode?\"]]\n",
    "\n",
    "tmp_df = pd.crosstab(tmp_df.iloc[:, 1], tmp_df.iloc[:, 0])\n",
    "\n",
    "# for tmp_col in tmp_df.columns:\n",
    "#     tmp_df[tmp_col] = tmp_df[tmp_col] / tmp_df[tmp_col].sum() * 100.0\n",
    "\n",
    "tmp_df = tmp_df[index_dict[col]]\n",
    "\n",
    "fig_arr.append(show_bar_graph(tmp_df.iloc[:, :-1], \"\", col, \"Intention?\", \"Count\"))\n",
    "\n",
    "h_arr = [go.FigureWidget(fig) for fig in fig_arr]\n",
    "\n",
    "ipw.HBox(h_arr)"
   ]
  },
  {
   "cell_type": "markdown",
   "id": "liberal-liquid",
   "metadata": {},
   "source": [
    "### Operating System"
   ]
  },
  {
   "cell_type": "code",
   "execution_count": 45,
   "id": "sophisticated-fluid",
   "metadata": {},
   "outputs": [
    {
     "data": {
      "text/plain": [
       "{'Android (Samsung, etc)': 219, 'iOS (iPhone)': 112, 'Microsoft phone': 3}"
      ]
     },
     "execution_count": 45,
     "metadata": {},
     "output_type": "execute_result"
    }
   ],
   "source": [
    "tmp_dict = {}\n",
    "\n",
    "for val in df.iloc[:, 13]:\n",
    "    tmp_arr = val.split(\";\") if \";\" in val else [val]\n",
    "    for _str in tmp_arr:\n",
    "        if _str not in tmp_dict:\n",
    "            tmp_dict[_str] = 1\n",
    "        else:\n",
    "            tmp_dict[_str] += 1\n",
    "            \n",
    "tmp_dict "
   ]
  },
  {
   "cell_type": "code",
   "execution_count": 57,
   "id": "architectural-flower",
   "metadata": {},
   "outputs": [
    {
     "data": {
      "application/vnd.plotly.v1+json": {
       "config": {
        "plotlyServerURL": "https://plot.ly"
       },
       "data": [
        {
         "name": "What operating system does your smartphone/Tablet operate?",
         "textposition": "outside",
         "texttemplate": "%{value:.2f}%",
         "type": "bar",
         "x": [
          "Android (Samsung, etc)",
          "iOS (iPhone)",
          "Microsoft phone"
         ],
         "y": [
          65.5688622754491,
          33.532934131736525,
          0.8982035928143712
         ]
        }
       ],
       "layout": {
        "legend": {
         "title": {
          "text": ""
         }
        },
        "template": {
         "data": {
          "bar": [
           {
            "error_x": {
             "color": "#2a3f5f"
            },
            "error_y": {
             "color": "#2a3f5f"
            },
            "marker": {
             "line": {
              "color": "#E5ECF6",
              "width": 0.5
             },
             "pattern": {
              "fillmode": "overlay",
              "size": 10,
              "solidity": 0.2
             }
            },
            "type": "bar"
           }
          ],
          "barpolar": [
           {
            "marker": {
             "line": {
              "color": "#E5ECF6",
              "width": 0.5
             },
             "pattern": {
              "fillmode": "overlay",
              "size": 10,
              "solidity": 0.2
             }
            },
            "type": "barpolar"
           }
          ],
          "carpet": [
           {
            "aaxis": {
             "endlinecolor": "#2a3f5f",
             "gridcolor": "white",
             "linecolor": "white",
             "minorgridcolor": "white",
             "startlinecolor": "#2a3f5f"
            },
            "baxis": {
             "endlinecolor": "#2a3f5f",
             "gridcolor": "white",
             "linecolor": "white",
             "minorgridcolor": "white",
             "startlinecolor": "#2a3f5f"
            },
            "type": "carpet"
           }
          ],
          "choropleth": [
           {
            "colorbar": {
             "outlinewidth": 0,
             "ticks": ""
            },
            "type": "choropleth"
           }
          ],
          "contour": [
           {
            "colorbar": {
             "outlinewidth": 0,
             "ticks": ""
            },
            "colorscale": [
             [
              0,
              "#0d0887"
             ],
             [
              0.1111111111111111,
              "#46039f"
             ],
             [
              0.2222222222222222,
              "#7201a8"
             ],
             [
              0.3333333333333333,
              "#9c179e"
             ],
             [
              0.4444444444444444,
              "#bd3786"
             ],
             [
              0.5555555555555556,
              "#d8576b"
             ],
             [
              0.6666666666666666,
              "#ed7953"
             ],
             [
              0.7777777777777778,
              "#fb9f3a"
             ],
             [
              0.8888888888888888,
              "#fdca26"
             ],
             [
              1,
              "#f0f921"
             ]
            ],
            "type": "contour"
           }
          ],
          "contourcarpet": [
           {
            "colorbar": {
             "outlinewidth": 0,
             "ticks": ""
            },
            "type": "contourcarpet"
           }
          ],
          "heatmap": [
           {
            "colorbar": {
             "outlinewidth": 0,
             "ticks": ""
            },
            "colorscale": [
             [
              0,
              "#0d0887"
             ],
             [
              0.1111111111111111,
              "#46039f"
             ],
             [
              0.2222222222222222,
              "#7201a8"
             ],
             [
              0.3333333333333333,
              "#9c179e"
             ],
             [
              0.4444444444444444,
              "#bd3786"
             ],
             [
              0.5555555555555556,
              "#d8576b"
             ],
             [
              0.6666666666666666,
              "#ed7953"
             ],
             [
              0.7777777777777778,
              "#fb9f3a"
             ],
             [
              0.8888888888888888,
              "#fdca26"
             ],
             [
              1,
              "#f0f921"
             ]
            ],
            "type": "heatmap"
           }
          ],
          "heatmapgl": [
           {
            "colorbar": {
             "outlinewidth": 0,
             "ticks": ""
            },
            "colorscale": [
             [
              0,
              "#0d0887"
             ],
             [
              0.1111111111111111,
              "#46039f"
             ],
             [
              0.2222222222222222,
              "#7201a8"
             ],
             [
              0.3333333333333333,
              "#9c179e"
             ],
             [
              0.4444444444444444,
              "#bd3786"
             ],
             [
              0.5555555555555556,
              "#d8576b"
             ],
             [
              0.6666666666666666,
              "#ed7953"
             ],
             [
              0.7777777777777778,
              "#fb9f3a"
             ],
             [
              0.8888888888888888,
              "#fdca26"
             ],
             [
              1,
              "#f0f921"
             ]
            ],
            "type": "heatmapgl"
           }
          ],
          "histogram": [
           {
            "marker": {
             "pattern": {
              "fillmode": "overlay",
              "size": 10,
              "solidity": 0.2
             }
            },
            "type": "histogram"
           }
          ],
          "histogram2d": [
           {
            "colorbar": {
             "outlinewidth": 0,
             "ticks": ""
            },
            "colorscale": [
             [
              0,
              "#0d0887"
             ],
             [
              0.1111111111111111,
              "#46039f"
             ],
             [
              0.2222222222222222,
              "#7201a8"
             ],
             [
              0.3333333333333333,
              "#9c179e"
             ],
             [
              0.4444444444444444,
              "#bd3786"
             ],
             [
              0.5555555555555556,
              "#d8576b"
             ],
             [
              0.6666666666666666,
              "#ed7953"
             ],
             [
              0.7777777777777778,
              "#fb9f3a"
             ],
             [
              0.8888888888888888,
              "#fdca26"
             ],
             [
              1,
              "#f0f921"
             ]
            ],
            "type": "histogram2d"
           }
          ],
          "histogram2dcontour": [
           {
            "colorbar": {
             "outlinewidth": 0,
             "ticks": ""
            },
            "colorscale": [
             [
              0,
              "#0d0887"
             ],
             [
              0.1111111111111111,
              "#46039f"
             ],
             [
              0.2222222222222222,
              "#7201a8"
             ],
             [
              0.3333333333333333,
              "#9c179e"
             ],
             [
              0.4444444444444444,
              "#bd3786"
             ],
             [
              0.5555555555555556,
              "#d8576b"
             ],
             [
              0.6666666666666666,
              "#ed7953"
             ],
             [
              0.7777777777777778,
              "#fb9f3a"
             ],
             [
              0.8888888888888888,
              "#fdca26"
             ],
             [
              1,
              "#f0f921"
             ]
            ],
            "type": "histogram2dcontour"
           }
          ],
          "mesh3d": [
           {
            "colorbar": {
             "outlinewidth": 0,
             "ticks": ""
            },
            "type": "mesh3d"
           }
          ],
          "parcoords": [
           {
            "line": {
             "colorbar": {
              "outlinewidth": 0,
              "ticks": ""
             }
            },
            "type": "parcoords"
           }
          ],
          "pie": [
           {
            "automargin": true,
            "type": "pie"
           }
          ],
          "scatter": [
           {
            "marker": {
             "colorbar": {
              "outlinewidth": 0,
              "ticks": ""
             }
            },
            "type": "scatter"
           }
          ],
          "scatter3d": [
           {
            "line": {
             "colorbar": {
              "outlinewidth": 0,
              "ticks": ""
             }
            },
            "marker": {
             "colorbar": {
              "outlinewidth": 0,
              "ticks": ""
             }
            },
            "type": "scatter3d"
           }
          ],
          "scattercarpet": [
           {
            "marker": {
             "colorbar": {
              "outlinewidth": 0,
              "ticks": ""
             }
            },
            "type": "scattercarpet"
           }
          ],
          "scattergeo": [
           {
            "marker": {
             "colorbar": {
              "outlinewidth": 0,
              "ticks": ""
             }
            },
            "type": "scattergeo"
           }
          ],
          "scattergl": [
           {
            "marker": {
             "colorbar": {
              "outlinewidth": 0,
              "ticks": ""
             }
            },
            "type": "scattergl"
           }
          ],
          "scattermapbox": [
           {
            "marker": {
             "colorbar": {
              "outlinewidth": 0,
              "ticks": ""
             }
            },
            "type": "scattermapbox"
           }
          ],
          "scatterpolar": [
           {
            "marker": {
             "colorbar": {
              "outlinewidth": 0,
              "ticks": ""
             }
            },
            "type": "scatterpolar"
           }
          ],
          "scatterpolargl": [
           {
            "marker": {
             "colorbar": {
              "outlinewidth": 0,
              "ticks": ""
             }
            },
            "type": "scatterpolargl"
           }
          ],
          "scatterternary": [
           {
            "marker": {
             "colorbar": {
              "outlinewidth": 0,
              "ticks": ""
             }
            },
            "type": "scatterternary"
           }
          ],
          "surface": [
           {
            "colorbar": {
             "outlinewidth": 0,
             "ticks": ""
            },
            "colorscale": [
             [
              0,
              "#0d0887"
             ],
             [
              0.1111111111111111,
              "#46039f"
             ],
             [
              0.2222222222222222,
              "#7201a8"
             ],
             [
              0.3333333333333333,
              "#9c179e"
             ],
             [
              0.4444444444444444,
              "#bd3786"
             ],
             [
              0.5555555555555556,
              "#d8576b"
             ],
             [
              0.6666666666666666,
              "#ed7953"
             ],
             [
              0.7777777777777778,
              "#fb9f3a"
             ],
             [
              0.8888888888888888,
              "#fdca26"
             ],
             [
              1,
              "#f0f921"
             ]
            ],
            "type": "surface"
           }
          ],
          "table": [
           {
            "cells": {
             "fill": {
              "color": "#EBF0F8"
             },
             "line": {
              "color": "white"
             }
            },
            "header": {
             "fill": {
              "color": "#C8D4E3"
             },
             "line": {
              "color": "white"
             }
            },
            "type": "table"
           }
          ]
         },
         "layout": {
          "annotationdefaults": {
           "arrowcolor": "#2a3f5f",
           "arrowhead": 0,
           "arrowwidth": 1
          },
          "autotypenumbers": "strict",
          "coloraxis": {
           "colorbar": {
            "outlinewidth": 0,
            "ticks": ""
           }
          },
          "colorscale": {
           "diverging": [
            [
             0,
             "#8e0152"
            ],
            [
             0.1,
             "#c51b7d"
            ],
            [
             0.2,
             "#de77ae"
            ],
            [
             0.3,
             "#f1b6da"
            ],
            [
             0.4,
             "#fde0ef"
            ],
            [
             0.5,
             "#f7f7f7"
            ],
            [
             0.6,
             "#e6f5d0"
            ],
            [
             0.7,
             "#b8e186"
            ],
            [
             0.8,
             "#7fbc41"
            ],
            [
             0.9,
             "#4d9221"
            ],
            [
             1,
             "#276419"
            ]
           ],
           "sequential": [
            [
             0,
             "#0d0887"
            ],
            [
             0.1111111111111111,
             "#46039f"
            ],
            [
             0.2222222222222222,
             "#7201a8"
            ],
            [
             0.3333333333333333,
             "#9c179e"
            ],
            [
             0.4444444444444444,
             "#bd3786"
            ],
            [
             0.5555555555555556,
             "#d8576b"
            ],
            [
             0.6666666666666666,
             "#ed7953"
            ],
            [
             0.7777777777777778,
             "#fb9f3a"
            ],
            [
             0.8888888888888888,
             "#fdca26"
            ],
            [
             1,
             "#f0f921"
            ]
           ],
           "sequentialminus": [
            [
             0,
             "#0d0887"
            ],
            [
             0.1111111111111111,
             "#46039f"
            ],
            [
             0.2222222222222222,
             "#7201a8"
            ],
            [
             0.3333333333333333,
             "#9c179e"
            ],
            [
             0.4444444444444444,
             "#bd3786"
            ],
            [
             0.5555555555555556,
             "#d8576b"
            ],
            [
             0.6666666666666666,
             "#ed7953"
            ],
            [
             0.7777777777777778,
             "#fb9f3a"
            ],
            [
             0.8888888888888888,
             "#fdca26"
            ],
            [
             1,
             "#f0f921"
            ]
           ]
          },
          "colorway": [
           "#636efa",
           "#EF553B",
           "#00cc96",
           "#ab63fa",
           "#FFA15A",
           "#19d3f3",
           "#FF6692",
           "#B6E880",
           "#FF97FF",
           "#FECB52"
          ],
          "font": {
           "color": "#2a3f5f"
          },
          "geo": {
           "bgcolor": "white",
           "lakecolor": "white",
           "landcolor": "#E5ECF6",
           "showlakes": true,
           "showland": true,
           "subunitcolor": "white"
          },
          "hoverlabel": {
           "align": "left"
          },
          "hovermode": "closest",
          "mapbox": {
           "style": "light"
          },
          "paper_bgcolor": "white",
          "plot_bgcolor": "#E5ECF6",
          "polar": {
           "angularaxis": {
            "gridcolor": "white",
            "linecolor": "white",
            "ticks": ""
           },
           "bgcolor": "#E5ECF6",
           "radialaxis": {
            "gridcolor": "white",
            "linecolor": "white",
            "ticks": ""
           }
          },
          "scene": {
           "xaxis": {
            "backgroundcolor": "#E5ECF6",
            "gridcolor": "white",
            "gridwidth": 2,
            "linecolor": "white",
            "showbackground": true,
            "ticks": "",
            "zerolinecolor": "white"
           },
           "yaxis": {
            "backgroundcolor": "#E5ECF6",
            "gridcolor": "white",
            "gridwidth": 2,
            "linecolor": "white",
            "showbackground": true,
            "ticks": "",
            "zerolinecolor": "white"
           },
           "zaxis": {
            "backgroundcolor": "#E5ECF6",
            "gridcolor": "white",
            "gridwidth": 2,
            "linecolor": "white",
            "showbackground": true,
            "ticks": "",
            "zerolinecolor": "white"
           }
          },
          "shapedefaults": {
           "line": {
            "color": "#2a3f5f"
           }
          },
          "ternary": {
           "aaxis": {
            "gridcolor": "white",
            "linecolor": "white",
            "ticks": ""
           },
           "baxis": {
            "gridcolor": "white",
            "linecolor": "white",
            "ticks": ""
           },
           "bgcolor": "#E5ECF6",
           "caxis": {
            "gridcolor": "white",
            "linecolor": "white",
            "ticks": ""
           }
          },
          "title": {
           "x": 0.05
          },
          "xaxis": {
           "automargin": true,
           "gridcolor": "white",
           "linecolor": "white",
           "ticks": "",
           "title": {
            "standoff": 15
           },
           "zerolinecolor": "white",
           "zerolinewidth": 2
          },
          "yaxis": {
           "automargin": true,
           "gridcolor": "white",
           "linecolor": "white",
           "ticks": "",
           "title": {
            "standoff": 15
           },
           "zerolinecolor": "white",
           "zerolinewidth": 2
          }
         }
        },
        "xaxis": {
         "title": {
          "text": "Type of Smart Phone"
         }
        },
        "yaxis": {
         "title": {
          "text": "Percentage"
         }
        }
       }
      },
      "text/html": [
       "<div>                            <div id=\"a757d17b-4602-4c9a-9935-71f2644501a3\" class=\"plotly-graph-div\" style=\"height:525px; width:100%;\"></div>            <script type=\"text/javascript\">                require([\"plotly\"], function(Plotly) {                    window.PLOTLYENV=window.PLOTLYENV || {};                                    if (document.getElementById(\"a757d17b-4602-4c9a-9935-71f2644501a3\")) {                    Plotly.newPlot(                        \"a757d17b-4602-4c9a-9935-71f2644501a3\",                        [{\"name\":\"What operating system does your smartphone/Tablet operate?\",\"x\":[\"Android (Samsung, etc)\",\"iOS (iPhone)\",\"Microsoft phone\"],\"y\":[65.5688622754491,33.532934131736525,0.8982035928143712],\"type\":\"bar\",\"textposition\":\"outside\",\"texttemplate\":\"%{value:.2f}%\"}],                        {\"template\":{\"data\":{\"bar\":[{\"error_x\":{\"color\":\"#2a3f5f\"},\"error_y\":{\"color\":\"#2a3f5f\"},\"marker\":{\"line\":{\"color\":\"#E5ECF6\",\"width\":0.5},\"pattern\":{\"fillmode\":\"overlay\",\"size\":10,\"solidity\":0.2}},\"type\":\"bar\"}],\"barpolar\":[{\"marker\":{\"line\":{\"color\":\"#E5ECF6\",\"width\":0.5},\"pattern\":{\"fillmode\":\"overlay\",\"size\":10,\"solidity\":0.2}},\"type\":\"barpolar\"}],\"carpet\":[{\"aaxis\":{\"endlinecolor\":\"#2a3f5f\",\"gridcolor\":\"white\",\"linecolor\":\"white\",\"minorgridcolor\":\"white\",\"startlinecolor\":\"#2a3f5f\"},\"baxis\":{\"endlinecolor\":\"#2a3f5f\",\"gridcolor\":\"white\",\"linecolor\":\"white\",\"minorgridcolor\":\"white\",\"startlinecolor\":\"#2a3f5f\"},\"type\":\"carpet\"}],\"choropleth\":[{\"colorbar\":{\"outlinewidth\":0,\"ticks\":\"\"},\"type\":\"choropleth\"}],\"contour\":[{\"colorbar\":{\"outlinewidth\":0,\"ticks\":\"\"},\"colorscale\":[[0.0,\"#0d0887\"],[0.1111111111111111,\"#46039f\"],[0.2222222222222222,\"#7201a8\"],[0.3333333333333333,\"#9c179e\"],[0.4444444444444444,\"#bd3786\"],[0.5555555555555556,\"#d8576b\"],[0.6666666666666666,\"#ed7953\"],[0.7777777777777778,\"#fb9f3a\"],[0.8888888888888888,\"#fdca26\"],[1.0,\"#f0f921\"]],\"type\":\"contour\"}],\"contourcarpet\":[{\"colorbar\":{\"outlinewidth\":0,\"ticks\":\"\"},\"type\":\"contourcarpet\"}],\"heatmap\":[{\"colorbar\":{\"outlinewidth\":0,\"ticks\":\"\"},\"colorscale\":[[0.0,\"#0d0887\"],[0.1111111111111111,\"#46039f\"],[0.2222222222222222,\"#7201a8\"],[0.3333333333333333,\"#9c179e\"],[0.4444444444444444,\"#bd3786\"],[0.5555555555555556,\"#d8576b\"],[0.6666666666666666,\"#ed7953\"],[0.7777777777777778,\"#fb9f3a\"],[0.8888888888888888,\"#fdca26\"],[1.0,\"#f0f921\"]],\"type\":\"heatmap\"}],\"heatmapgl\":[{\"colorbar\":{\"outlinewidth\":0,\"ticks\":\"\"},\"colorscale\":[[0.0,\"#0d0887\"],[0.1111111111111111,\"#46039f\"],[0.2222222222222222,\"#7201a8\"],[0.3333333333333333,\"#9c179e\"],[0.4444444444444444,\"#bd3786\"],[0.5555555555555556,\"#d8576b\"],[0.6666666666666666,\"#ed7953\"],[0.7777777777777778,\"#fb9f3a\"],[0.8888888888888888,\"#fdca26\"],[1.0,\"#f0f921\"]],\"type\":\"heatmapgl\"}],\"histogram\":[{\"marker\":{\"pattern\":{\"fillmode\":\"overlay\",\"size\":10,\"solidity\":0.2}},\"type\":\"histogram\"}],\"histogram2d\":[{\"colorbar\":{\"outlinewidth\":0,\"ticks\":\"\"},\"colorscale\":[[0.0,\"#0d0887\"],[0.1111111111111111,\"#46039f\"],[0.2222222222222222,\"#7201a8\"],[0.3333333333333333,\"#9c179e\"],[0.4444444444444444,\"#bd3786\"],[0.5555555555555556,\"#d8576b\"],[0.6666666666666666,\"#ed7953\"],[0.7777777777777778,\"#fb9f3a\"],[0.8888888888888888,\"#fdca26\"],[1.0,\"#f0f921\"]],\"type\":\"histogram2d\"}],\"histogram2dcontour\":[{\"colorbar\":{\"outlinewidth\":0,\"ticks\":\"\"},\"colorscale\":[[0.0,\"#0d0887\"],[0.1111111111111111,\"#46039f\"],[0.2222222222222222,\"#7201a8\"],[0.3333333333333333,\"#9c179e\"],[0.4444444444444444,\"#bd3786\"],[0.5555555555555556,\"#d8576b\"],[0.6666666666666666,\"#ed7953\"],[0.7777777777777778,\"#fb9f3a\"],[0.8888888888888888,\"#fdca26\"],[1.0,\"#f0f921\"]],\"type\":\"histogram2dcontour\"}],\"mesh3d\":[{\"colorbar\":{\"outlinewidth\":0,\"ticks\":\"\"},\"type\":\"mesh3d\"}],\"parcoords\":[{\"line\":{\"colorbar\":{\"outlinewidth\":0,\"ticks\":\"\"}},\"type\":\"parcoords\"}],\"pie\":[{\"automargin\":true,\"type\":\"pie\"}],\"scatter\":[{\"marker\":{\"colorbar\":{\"outlinewidth\":0,\"ticks\":\"\"}},\"type\":\"scatter\"}],\"scatter3d\":[{\"line\":{\"colorbar\":{\"outlinewidth\":0,\"ticks\":\"\"}},\"marker\":{\"colorbar\":{\"outlinewidth\":0,\"ticks\":\"\"}},\"type\":\"scatter3d\"}],\"scattercarpet\":[{\"marker\":{\"colorbar\":{\"outlinewidth\":0,\"ticks\":\"\"}},\"type\":\"scattercarpet\"}],\"scattergeo\":[{\"marker\":{\"colorbar\":{\"outlinewidth\":0,\"ticks\":\"\"}},\"type\":\"scattergeo\"}],\"scattergl\":[{\"marker\":{\"colorbar\":{\"outlinewidth\":0,\"ticks\":\"\"}},\"type\":\"scattergl\"}],\"scattermapbox\":[{\"marker\":{\"colorbar\":{\"outlinewidth\":0,\"ticks\":\"\"}},\"type\":\"scattermapbox\"}],\"scatterpolar\":[{\"marker\":{\"colorbar\":{\"outlinewidth\":0,\"ticks\":\"\"}},\"type\":\"scatterpolar\"}],\"scatterpolargl\":[{\"marker\":{\"colorbar\":{\"outlinewidth\":0,\"ticks\":\"\"}},\"type\":\"scatterpolargl\"}],\"scatterternary\":[{\"marker\":{\"colorbar\":{\"outlinewidth\":0,\"ticks\":\"\"}},\"type\":\"scatterternary\"}],\"surface\":[{\"colorbar\":{\"outlinewidth\":0,\"ticks\":\"\"},\"colorscale\":[[0.0,\"#0d0887\"],[0.1111111111111111,\"#46039f\"],[0.2222222222222222,\"#7201a8\"],[0.3333333333333333,\"#9c179e\"],[0.4444444444444444,\"#bd3786\"],[0.5555555555555556,\"#d8576b\"],[0.6666666666666666,\"#ed7953\"],[0.7777777777777778,\"#fb9f3a\"],[0.8888888888888888,\"#fdca26\"],[1.0,\"#f0f921\"]],\"type\":\"surface\"}],\"table\":[{\"cells\":{\"fill\":{\"color\":\"#EBF0F8\"},\"line\":{\"color\":\"white\"}},\"header\":{\"fill\":{\"color\":\"#C8D4E3\"},\"line\":{\"color\":\"white\"}},\"type\":\"table\"}]},\"layout\":{\"annotationdefaults\":{\"arrowcolor\":\"#2a3f5f\",\"arrowhead\":0,\"arrowwidth\":1},\"autotypenumbers\":\"strict\",\"coloraxis\":{\"colorbar\":{\"outlinewidth\":0,\"ticks\":\"\"}},\"colorscale\":{\"diverging\":[[0,\"#8e0152\"],[0.1,\"#c51b7d\"],[0.2,\"#de77ae\"],[0.3,\"#f1b6da\"],[0.4,\"#fde0ef\"],[0.5,\"#f7f7f7\"],[0.6,\"#e6f5d0\"],[0.7,\"#b8e186\"],[0.8,\"#7fbc41\"],[0.9,\"#4d9221\"],[1,\"#276419\"]],\"sequential\":[[0.0,\"#0d0887\"],[0.1111111111111111,\"#46039f\"],[0.2222222222222222,\"#7201a8\"],[0.3333333333333333,\"#9c179e\"],[0.4444444444444444,\"#bd3786\"],[0.5555555555555556,\"#d8576b\"],[0.6666666666666666,\"#ed7953\"],[0.7777777777777778,\"#fb9f3a\"],[0.8888888888888888,\"#fdca26\"],[1.0,\"#f0f921\"]],\"sequentialminus\":[[0.0,\"#0d0887\"],[0.1111111111111111,\"#46039f\"],[0.2222222222222222,\"#7201a8\"],[0.3333333333333333,\"#9c179e\"],[0.4444444444444444,\"#bd3786\"],[0.5555555555555556,\"#d8576b\"],[0.6666666666666666,\"#ed7953\"],[0.7777777777777778,\"#fb9f3a\"],[0.8888888888888888,\"#fdca26\"],[1.0,\"#f0f921\"]]},\"colorway\":[\"#636efa\",\"#EF553B\",\"#00cc96\",\"#ab63fa\",\"#FFA15A\",\"#19d3f3\",\"#FF6692\",\"#B6E880\",\"#FF97FF\",\"#FECB52\"],\"font\":{\"color\":\"#2a3f5f\"},\"geo\":{\"bgcolor\":\"white\",\"lakecolor\":\"white\",\"landcolor\":\"#E5ECF6\",\"showlakes\":true,\"showland\":true,\"subunitcolor\":\"white\"},\"hoverlabel\":{\"align\":\"left\"},\"hovermode\":\"closest\",\"mapbox\":{\"style\":\"light\"},\"paper_bgcolor\":\"white\",\"plot_bgcolor\":\"#E5ECF6\",\"polar\":{\"angularaxis\":{\"gridcolor\":\"white\",\"linecolor\":\"white\",\"ticks\":\"\"},\"bgcolor\":\"#E5ECF6\",\"radialaxis\":{\"gridcolor\":\"white\",\"linecolor\":\"white\",\"ticks\":\"\"}},\"scene\":{\"xaxis\":{\"backgroundcolor\":\"#E5ECF6\",\"gridcolor\":\"white\",\"gridwidth\":2,\"linecolor\":\"white\",\"showbackground\":true,\"ticks\":\"\",\"zerolinecolor\":\"white\"},\"yaxis\":{\"backgroundcolor\":\"#E5ECF6\",\"gridcolor\":\"white\",\"gridwidth\":2,\"linecolor\":\"white\",\"showbackground\":true,\"ticks\":\"\",\"zerolinecolor\":\"white\"},\"zaxis\":{\"backgroundcolor\":\"#E5ECF6\",\"gridcolor\":\"white\",\"gridwidth\":2,\"linecolor\":\"white\",\"showbackground\":true,\"ticks\":\"\",\"zerolinecolor\":\"white\"}},\"shapedefaults\":{\"line\":{\"color\":\"#2a3f5f\"}},\"ternary\":{\"aaxis\":{\"gridcolor\":\"white\",\"linecolor\":\"white\",\"ticks\":\"\"},\"baxis\":{\"gridcolor\":\"white\",\"linecolor\":\"white\",\"ticks\":\"\"},\"bgcolor\":\"#E5ECF6\",\"caxis\":{\"gridcolor\":\"white\",\"linecolor\":\"white\",\"ticks\":\"\"}},\"title\":{\"x\":0.05},\"xaxis\":{\"automargin\":true,\"gridcolor\":\"white\",\"linecolor\":\"white\",\"ticks\":\"\",\"title\":{\"standoff\":15},\"zerolinecolor\":\"white\",\"zerolinewidth\":2},\"yaxis\":{\"automargin\":true,\"gridcolor\":\"white\",\"linecolor\":\"white\",\"ticks\":\"\",\"title\":{\"standoff\":15},\"zerolinecolor\":\"white\",\"zerolinewidth\":2}}},\"xaxis\":{\"title\":{\"text\":\"Type of Smart Phone\"}},\"yaxis\":{\"title\":{\"text\":\"Percentage\"}},\"legend\":{\"title\":{\"text\":\"\"}}},                        {\"responsive\": true}                    ).then(function(){\n",
       "                            \n",
       "var gd = document.getElementById('a757d17b-4602-4c9a-9935-71f2644501a3');\n",
       "var x = new MutationObserver(function (mutations, observer) {{\n",
       "        var display = window.getComputedStyle(gd).display;\n",
       "        if (!display || display === 'none') {{\n",
       "            console.log([gd, 'removed!']);\n",
       "            Plotly.purge(gd);\n",
       "            observer.disconnect();\n",
       "        }}\n",
       "}});\n",
       "\n",
       "// Listen for the removal of the full notebook cells\n",
       "var notebookContainer = gd.closest('#notebook-container');\n",
       "if (notebookContainer) {{\n",
       "    x.observe(notebookContainer, {childList: true});\n",
       "}}\n",
       "\n",
       "// Listen for the clearing of the current output cell\n",
       "var outputEl = gd.closest('.output');\n",
       "if (outputEl) {{\n",
       "    x.observe(outputEl, {childList: true});\n",
       "}}\n",
       "\n",
       "                        })                };                });            </script>        </div>"
      ]
     },
     "metadata": {},
     "output_type": "display_data"
    }
   ],
   "source": [
    "tmp_df = pd.Series(tmp_dict)\n",
    "tmp_df = pd.DataFrame(pd.Series(tmp_dict), columns = [df.iloc[:, 13].name[3:]]).T\n",
    "tmp_df.iloc[0, :] = tmp_df.iloc[0, :] / tmp_df.iloc[0, :].sum() * 100.0\n",
    "show_bar_graph_percentage(tmp_df, \"\", \"Type of Smart Phone\", \"\", \"Percentage\")"
   ]
  }
 ],
 "metadata": {
  "kernelspec": {
   "display_name": "Python 3",
   "language": "python",
   "name": "python3"
  },
  "language_info": {
   "codemirror_mode": {
    "name": "ipython",
    "version": 3
   },
   "file_extension": ".py",
   "mimetype": "text/x-python",
   "name": "python",
   "nbconvert_exporter": "python",
   "pygments_lexer": "ipython3",
   "version": "3.9.1"
  }
 },
 "nbformat": 4,
 "nbformat_minor": 5
}
