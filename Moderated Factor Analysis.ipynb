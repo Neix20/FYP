{
 "cells": [
  {
   "cell_type": "markdown",
   "id": "developed-keyboard",
   "metadata": {},
   "source": [
    "# Title: CORRELATION MODEL IN THE ADOPTION OF E-PAYMENT SERVICES"
   ]
  },
  {
   "cell_type": "markdown",
   "id": "vulnerable-nomination",
   "metadata": {},
   "source": [
    "## Load Libraries"
   ]
  },
  {
   "cell_type": "code",
   "execution_count": 13,
   "id": "molecular-party",
   "metadata": {},
   "outputs": [],
   "source": [
    "import time\n",
    "import numpy as np\n",
    "import pandas as pd\n",
    "import seaborn as sns\n",
    "import matplotlib.pyplot as plt\n",
    "\n",
    "from sklearn import svm, tree\n",
    "from sklearn.tree import DecisionTreeClassifier\n",
    "from sklearn.ensemble import RandomForestClassifier\n",
    "\n",
    "from sklearn.model_selection import train_test_split, KFold\n",
    "from scipy.stats import pearsonr, spearmanr, kendalltau, pointbiserialr\n",
    "from sklearn.metrics import accuracy_score, classification_report, confusion_matrix, matthews_corrcoef, precision_recall_curve, roc_curve\n",
    "\n",
    "from xgboost import XGBClassifier\n",
    "\n",
    "%matplotlib inline"
   ]
  },
  {
   "cell_type": "markdown",
   "id": "suspected-manual",
   "metadata": {},
   "source": [
    "## Load Custom Made Libraries"
   ]
  },
  {
   "cell_type": "code",
   "execution_count": 3,
   "id": "executed-costume",
   "metadata": {},
   "outputs": [],
   "source": [
    "from Utilities.CFS import *\n",
    "from Utilities.accuracy import *\n",
    "from Utilities.corr_matrix import *\n",
    "from Utilities.forward_selection import *\n",
    "from Utilities.backward_elimination import *\n",
    "\n",
    "from Visualization.model_graph import *\n",
    "from Visualization.network_graph import *"
   ]
  },
  {
   "cell_type": "markdown",
   "id": "driven-frederick",
   "metadata": {},
   "source": [
    "## Load Dataset"
   ]
  },
  {
   "cell_type": "code",
   "execution_count": 4,
   "id": "interior-windows",
   "metadata": {},
   "outputs": [],
   "source": [
    "df = pd.read_csv(\"Dataset/E-payment Cryptocurrency Coin.csv\")"
   ]
  },
  {
   "cell_type": "markdown",
   "id": "reflected-specification",
   "metadata": {},
   "source": [
    "## Label Binarizer"
   ]
  },
  {
   "cell_type": "code",
   "execution_count": 5,
   "id": "cardiovascular-colleague",
   "metadata": {},
   "outputs": [],
   "source": [
    "def convert_nominal(arr, term_arr):\n",
    "    tmp_dict = {val:ind for (ind, val) in enumerate(term_arr)}\n",
    "    return arr.map(lambda x : tmp_dict[x])"
   ]
  },
  {
   "cell_type": "markdown",
   "id": "widespread-exploration",
   "metadata": {},
   "source": [
    "## Split Dataset"
   ]
  },
  {
   "cell_type": "code",
   "execution_count": 6,
   "id": "steady-power",
   "metadata": {},
   "outputs": [],
   "source": [
    "mod_fac_df = pd.DataFrame()\n",
    "\n",
    "column_arr = [\"Age\", \"Gender\", \"Marital Status\", \"Education Level\", \"Work Industry\", \"Work Position\"]\n",
    "\n",
    "for (ind, col_name) in enumerate(column_arr):\n",
    "    mod_fac_df[col_name] = df.iloc[:, 6 + ind]\n",
    "    \n",
    "# Replace Values in Work Industry\n",
    "mod_fac_df = mod_fac_df.replace(\"Baking / Finance\", \"Banking / Finance\")\n",
    "\n",
    "# Label Binarize all columns\n",
    "# Age\n",
    "mod_fac_df[\"Age\"] = convert_nominal(mod_fac_df[\"Age\"], [\"< 25 years\", \"26 - 40 years\", \"41 - 55 years\", \"above 55 years\"])\n",
    "\n",
    "# Gender\n",
    "mod_fac_df[\"Gender\"] = convert_nominal(mod_fac_df[\"Gender\"], [\"Male\", \"Female\"])\n",
    "\n",
    "# Marital Status\n",
    "mod_fac_df[\"Marital Status\"] = convert_nominal(mod_fac_df[\"Marital Status\"], [\"Single\", \"Married\", \"Other\"])\n",
    "\n",
    "# Education Level\n",
    "mod_fac_df[\"Education Level\"] = convert_nominal(mod_fac_df[\"Education Level\"], ['Primary school', 'Secondary/High school', 'College/university', 'Graduate school', 'Other'])\n",
    "\n",
    "# Work Industry\n",
    "mod_fac_df[\"Work Industry\"] = convert_nominal(mod_fac_df[\"Work Industry\"], ['Banking / Finance', 'Education', 'Healthcare', 'Manufacturing', 'Retail / Hypermarket', 'Other'])\n",
    "\n",
    "# Work Position\n",
    "mod_fac_df[\"Work Position\"] = convert_nominal(mod_fac_df[\"Work Position\"], ['Junior management', 'Middle management', 'Top management', 'Professional', 'Other'])\n"
   ]
  },
  {
   "cell_type": "code",
   "execution_count": 7,
   "id": "finnish-demand",
   "metadata": {},
   "outputs": [],
   "source": [
    "utaut_fac_df = pd.DataFrame()\n",
    "\n",
    "column_arr = df.iloc[:, 28:].columns\n",
    "column_arr = [col.split(\": \")[0] for col in column_arr]\n",
    "\n",
    "for (ind, col_name) in enumerate(column_arr):\n",
    "    utaut_fac_df[col_name] = df.iloc[:, 28 + ind]\n",
    "    \n",
    "# Change Data Type to int\n",
    "utaut_fac_df = utaut_fac_df.astype(int)"
   ]
  },
  {
   "cell_type": "markdown",
   "id": "environmental-mills",
   "metadata": {},
   "source": [
    "## Moderated Variables"
   ]
  },
  {
   "cell_type": "code",
   "execution_count": 8,
   "id": "practical-syndication",
   "metadata": {},
   "outputs": [
    {
     "data": {
      "text/html": [
       "<style  type=\"text/css\" >\n",
       "</style><table id=\"T_ade01_\" ><thead>    <tr>        <th class=\"col_heading level0 col0\" >Moderated Variables</th>        <th class=\"col_heading level0 col1\" >Significantly Related Variables</th>    </tr></thead><tbody>\n",
       "                <tr>\n",
       "                                <td id=\"T_ade01_row0_col0\" class=\"data row0 col0\" >Age</td>\n",
       "                        <td id=\"T_ade01_row0_col1\" class=\"data row0 col1\" >AT3, SI2</td>\n",
       "            </tr>\n",
       "            <tr>\n",
       "                                <td id=\"T_ade01_row1_col0\" class=\"data row1 col0\" >Gender</td>\n",
       "                        <td id=\"T_ade01_row1_col1\" class=\"data row1 col1\" >PE1, PE2, PE3, EE1, EE2, EE3, EE4, AT1, AT2, AT3, AT4, SI1, SI3, SI4, FC1, FC2, FC3, FC4, SE1, SE3, SE4, T1, T2, T3, T4, BI1, BI2, BI3, BI4</td>\n",
       "            </tr>\n",
       "            <tr>\n",
       "                                <td id=\"T_ade01_row2_col0\" class=\"data row2 col0\" >Marital Status</td>\n",
       "                        <td id=\"T_ade01_row2_col1\" class=\"data row2 col1\" >SI1</td>\n",
       "            </tr>\n",
       "            <tr>\n",
       "                                <td id=\"T_ade01_row3_col0\" class=\"data row3 col0\" >Education Level</td>\n",
       "                        <td id=\"T_ade01_row3_col1\" class=\"data row3 col1\" >AT1, FC1, FC2, FC4, SE2, SE3, SE4, T4, BI2, BI3</td>\n",
       "            </tr>\n",
       "            <tr>\n",
       "                                <td id=\"T_ade01_row4_col0\" class=\"data row4 col0\" >Work Industry</td>\n",
       "                        <td id=\"T_ade01_row4_col1\" class=\"data row4 col1\" >PE1, EE1, EE3, AT4, SI2, FC1, FC2, FC3, FC4, SE2, T1, T4</td>\n",
       "            </tr>\n",
       "            <tr>\n",
       "                                <td id=\"T_ade01_row5_col0\" class=\"data row5 col0\" >Work Position</td>\n",
       "                        <td id=\"T_ade01_row5_col1\" class=\"data row5 col1\" >PE1, PE2, PE3, PE4, EE1, EE2, EE3, AT4, SI1, SI2, SI4, FC1, FC2, FC3, FC4, SE1, T1, T2, T4, BI1, BI2, BI3, BI4</td>\n",
       "            </tr>\n",
       "    </tbody></table>"
      ],
      "text/plain": [
       "<pandas.io.formats.style.Styler at 0x20cdb7b7250>"
      ]
     },
     "execution_count": 8,
     "metadata": {},
     "output_type": "execute_result"
    }
   ],
   "source": [
    "arr_list = []\n",
    "for col_y in mod_fac_df.columns:\n",
    "    \n",
    "    tmp_list = []\n",
    "    for col_x in utaut_fac_df.columns:\n",
    "        corr, p_val = spearmanr(utaut_fac_df.loc[:, col_x], mod_fac_df.loc[:, col_y])\n",
    "        \n",
    "        if p_val <= 0.05:\n",
    "            tmp_list.append(col_x)\n",
    "            \n",
    "    arr_list.append((col_y, \", \".join(tmp_list)))\n",
    "    \n",
    "tmp_df = pd.DataFrame(arr_list, columns = [\"Moderated Variables\", \"Significantly Related Variables\"])\n",
    "\n",
    "tmp_df.style.hide_index()"
   ]
  },
  {
   "cell_type": "markdown",
   "id": "forbidden-conspiracy",
   "metadata": {},
   "source": [
    "## Use CFS on All UTAUT Factors"
   ]
  },
  {
   "cell_type": "code",
   "execution_count": 12,
   "id": "honey-design",
   "metadata": {},
   "outputs": [
    {
     "name": "stdout",
     "output_type": "stream",
     "text": [
      "PE1\n",
      "PE2\n",
      "PE3\n",
      "PE4\n",
      "EE1\n",
      "EE2\n",
      "EE3\n",
      "EE4\n",
      "AT1\n",
      "AT2\n",
      "AT3\n",
      "AT4\n",
      "SI1\n",
      "SI2\n",
      "SI3\n",
      "SI4\n",
      "FC1\n",
      "FC2\n",
      "FC3\n",
      "FC4\n",
      "SE1\n",
      "SE2\n",
      "SE3\n",
      "SE4\n",
      "AX1\n",
      "AX2\n",
      "AX3\n",
      "AX4\n",
      "T1\n",
      "T2\n",
      "T3\n",
      "T4\n",
      "BI1\n",
      "BI2\n",
      "BI3\n",
      "BI4\n"
     ]
    },
    {
     "data": {
      "text/html": [
       "<style  type=\"text/css\" >\n",
       "</style><table id=\"T_bd0f0_\" ><thead>    <tr>        <th class=\"col_heading level0 col0\" >UTAUT Factor</th>        <th class=\"col_heading level0 col1\" >Feature Set</th>    </tr></thead><tbody>\n",
       "                <tr>\n",
       "                                <td id=\"T_bd0f0_row0_col0\" class=\"data row0 col0\" >PE1</td>\n",
       "                        <td id=\"T_bd0f0_row0_col1\" class=\"data row0 col1\" >['PE2', 'EE1', 'BI3']</td>\n",
       "            </tr>\n",
       "            <tr>\n",
       "                                <td id=\"T_bd0f0_row1_col0\" class=\"data row1 col0\" >PE2</td>\n",
       "                        <td id=\"T_bd0f0_row1_col1\" class=\"data row1 col1\" >['PE1', 'PE3']</td>\n",
       "            </tr>\n",
       "            <tr>\n",
       "                                <td id=\"T_bd0f0_row2_col0\" class=\"data row2 col0\" >PE3</td>\n",
       "                        <td id=\"T_bd0f0_row2_col1\" class=\"data row2 col1\" >['PE2', 'PE4', 'EE2']</td>\n",
       "            </tr>\n",
       "            <tr>\n",
       "                                <td id=\"T_bd0f0_row3_col0\" class=\"data row3 col0\" >PE4</td>\n",
       "                        <td id=\"T_bd0f0_row3_col1\" class=\"data row3 col1\" >['PE2', 'PE3', 'EE4', 'AT2', 'SI3', 'SI4', 'AX4', 'BI3', 'BI4']</td>\n",
       "            </tr>\n",
       "            <tr>\n",
       "                                <td id=\"T_bd0f0_row4_col0\" class=\"data row4 col0\" >EE1</td>\n",
       "                        <td id=\"T_bd0f0_row4_col1\" class=\"data row4 col1\" >['Gender', 'Work Industry', 'PE1', 'EE2', 'EE3', 'AT4', 'FC1', 'FC2', 'T4']</td>\n",
       "            </tr>\n",
       "            <tr>\n",
       "                                <td id=\"T_bd0f0_row5_col0\" class=\"data row5 col0\" >EE2</td>\n",
       "                        <td id=\"T_bd0f0_row5_col1\" class=\"data row5 col1\" >['PE3', 'EE1', 'EE3', 'EE4', 'FC2', 'FC3', 'SE2', 'AX4', 'BI3']</td>\n",
       "            </tr>\n",
       "            <tr>\n",
       "                                <td id=\"T_bd0f0_row6_col0\" class=\"data row6 col0\" >EE3</td>\n",
       "                        <td id=\"T_bd0f0_row6_col1\" class=\"data row6 col1\" >['Gender', 'PE2', 'EE1', 'EE2', 'EE4', 'SI2', 'FC3', 'AX4', 'T1']</td>\n",
       "            </tr>\n",
       "            <tr>\n",
       "                                <td id=\"T_bd0f0_row7_col0\" class=\"data row7 col0\" >EE4</td>\n",
       "                        <td id=\"T_bd0f0_row7_col1\" class=\"data row7 col1\" >['EE2', 'EE3', 'T3']</td>\n",
       "            </tr>\n",
       "            <tr>\n",
       "                                <td id=\"T_bd0f0_row8_col0\" class=\"data row8 col0\" >AT1</td>\n",
       "                        <td id=\"T_bd0f0_row8_col1\" class=\"data row8 col1\" >['PE2', 'AT2', 'AT4', 'SE3', 'BI1', 'BI2']</td>\n",
       "            </tr>\n",
       "            <tr>\n",
       "                                <td id=\"T_bd0f0_row9_col0\" class=\"data row9 col0\" >AT2</td>\n",
       "                        <td id=\"T_bd0f0_row9_col1\" class=\"data row9 col1\" >['PE4', 'AT1', 'AT3', 'SE4', 'BI3']</td>\n",
       "            </tr>\n",
       "            <tr>\n",
       "                                <td id=\"T_bd0f0_row10_col0\" class=\"data row10 col0\" >AT3</td>\n",
       "                        <td id=\"T_bd0f0_row10_col1\" class=\"data row10 col1\" >['AT2', 'AT4']</td>\n",
       "            </tr>\n",
       "            <tr>\n",
       "                                <td id=\"T_bd0f0_row11_col0\" class=\"data row11 col0\" >AT4</td>\n",
       "                        <td id=\"T_bd0f0_row11_col1\" class=\"data row11 col1\" >['Work Industry', 'PE1', 'PE2', 'EE1', 'EE3', 'AT1', 'AT2', 'AT3', 'SI3', 'FC2']</td>\n",
       "            </tr>\n",
       "            <tr>\n",
       "                                <td id=\"T_bd0f0_row12_col0\" class=\"data row12 col0\" >SI1</td>\n",
       "                        <td id=\"T_bd0f0_row12_col1\" class=\"data row12 col1\" >['PE3', 'SI2', 'SI4']</td>\n",
       "            </tr>\n",
       "            <tr>\n",
       "                                <td id=\"T_bd0f0_row13_col0\" class=\"data row13 col0\" >SI2</td>\n",
       "                        <td id=\"T_bd0f0_row13_col1\" class=\"data row13 col1\" >['Work Position', 'EE3', 'SI1', 'SI4', 'FC3', 'FC4', 'AX2']</td>\n",
       "            </tr>\n",
       "            <tr>\n",
       "                                <td id=\"T_bd0f0_row14_col0\" class=\"data row14 col0\" >SI3</td>\n",
       "                        <td id=\"T_bd0f0_row14_col1\" class=\"data row14 col1\" >['PE4', 'SI2', 'SI4', 'SE3', 'T4']</td>\n",
       "            </tr>\n",
       "            <tr>\n",
       "                                <td id=\"T_bd0f0_row15_col0\" class=\"data row15 col0\" >SI4</td>\n",
       "                        <td id=\"T_bd0f0_row15_col1\" class=\"data row15 col1\" >['PE4', 'SI2', 'SI3', 'FC2', 'FC3']</td>\n",
       "            </tr>\n",
       "            <tr>\n",
       "                                <td id=\"T_bd0f0_row16_col0\" class=\"data row16 col0\" >FC1</td>\n",
       "                        <td id=\"T_bd0f0_row16_col1\" class=\"data row16 col1\" >['FC2']</td>\n",
       "            </tr>\n",
       "            <tr>\n",
       "                                <td id=\"T_bd0f0_row17_col0\" class=\"data row17 col0\" >FC2</td>\n",
       "                        <td id=\"T_bd0f0_row17_col1\" class=\"data row17 col1\" >['EE1', 'FC1', 'FC3', 'AX4', 'T1']</td>\n",
       "            </tr>\n",
       "            <tr>\n",
       "                                <td id=\"T_bd0f0_row18_col0\" class=\"data row18 col0\" >FC3</td>\n",
       "                        <td id=\"T_bd0f0_row18_col1\" class=\"data row18 col1\" >['Gender', 'SI2', 'SI4', 'FC1', 'FC2', 'FC4', 'T3']</td>\n",
       "            </tr>\n",
       "            <tr>\n",
       "                                <td id=\"T_bd0f0_row19_col0\" class=\"data row19 col0\" >FC4</td>\n",
       "                        <td id=\"T_bd0f0_row19_col1\" class=\"data row19 col1\" >['Education Level', 'SI2', 'FC2', 'FC3', 'T1', 'T4', 'BI3']</td>\n",
       "            </tr>\n",
       "            <tr>\n",
       "                                <td id=\"T_bd0f0_row20_col0\" class=\"data row20 col0\" >SE1</td>\n",
       "                        <td id=\"T_bd0f0_row20_col1\" class=\"data row20 col1\" >['Gender', 'EE4', 'FC1', 'SE2', 'SE3', 'SE4', 'AX4', 'T1', 'T3', 'BI3']</td>\n",
       "            </tr>\n",
       "            <tr>\n",
       "                                <td id=\"T_bd0f0_row21_col0\" class=\"data row21 col0\" >SE2</td>\n",
       "                        <td id=\"T_bd0f0_row21_col1\" class=\"data row21 col1\" >['SE3', 'SE4']</td>\n",
       "            </tr>\n",
       "            <tr>\n",
       "                                <td id=\"T_bd0f0_row22_col0\" class=\"data row22 col0\" >SE3</td>\n",
       "                        <td id=\"T_bd0f0_row22_col1\" class=\"data row22 col1\" >['EE4', 'SI3', 'SE1', 'SE2', 'SE4']</td>\n",
       "            </tr>\n",
       "            <tr>\n",
       "                                <td id=\"T_bd0f0_row23_col0\" class=\"data row23 col0\" >SE4</td>\n",
       "                        <td id=\"T_bd0f0_row23_col1\" class=\"data row23 col1\" >['SE2', 'SE3', 'BI3']</td>\n",
       "            </tr>\n",
       "            <tr>\n",
       "                                <td id=\"T_bd0f0_row24_col0\" class=\"data row24 col0\" >AX1</td>\n",
       "                        <td id=\"T_bd0f0_row24_col1\" class=\"data row24 col1\" >['AT3', 'AX2', 'AX4']</td>\n",
       "            </tr>\n",
       "            <tr>\n",
       "                                <td id=\"T_bd0f0_row25_col0\" class=\"data row25 col0\" >AX2</td>\n",
       "                        <td id=\"T_bd0f0_row25_col1\" class=\"data row25 col1\" >['AX3']</td>\n",
       "            </tr>\n",
       "            <tr>\n",
       "                                <td id=\"T_bd0f0_row26_col0\" class=\"data row26 col0\" >AX3</td>\n",
       "                        <td id=\"T_bd0f0_row26_col1\" class=\"data row26 col1\" >['AX2']</td>\n",
       "            </tr>\n",
       "            <tr>\n",
       "                                <td id=\"T_bd0f0_row27_col0\" class=\"data row27 col0\" >AX4</td>\n",
       "                        <td id=\"T_bd0f0_row27_col1\" class=\"data row27 col1\" >['FC2', 'AX1', 'AX2', 'AX3']</td>\n",
       "            </tr>\n",
       "            <tr>\n",
       "                                <td id=\"T_bd0f0_row28_col0\" class=\"data row28 col0\" >T1</td>\n",
       "                        <td id=\"T_bd0f0_row28_col1\" class=\"data row28 col1\" >['FC2', 'T2', 'T3', 'BI1']</td>\n",
       "            </tr>\n",
       "            <tr>\n",
       "                                <td id=\"T_bd0f0_row29_col0\" class=\"data row29 col0\" >T2</td>\n",
       "                        <td id=\"T_bd0f0_row29_col1\" class=\"data row29 col1\" >['T1', 'T3', 'BI3']</td>\n",
       "            </tr>\n",
       "            <tr>\n",
       "                                <td id=\"T_bd0f0_row30_col0\" class=\"data row30 col0\" >T3</td>\n",
       "                        <td id=\"T_bd0f0_row30_col1\" class=\"data row30 col1\" >['EE4', 'SI3', 'T1', 'T2']</td>\n",
       "            </tr>\n",
       "            <tr>\n",
       "                                <td id=\"T_bd0f0_row31_col0\" class=\"data row31 col0\" >T4</td>\n",
       "                        <td id=\"T_bd0f0_row31_col1\" class=\"data row31 col1\" >['Work Industry', 'PE1', 'SI3', 'FC4', 'SE2', 'SE4', 'AX2', 'T2', 'BI1', 'BI3']</td>\n",
       "            </tr>\n",
       "            <tr>\n",
       "                                <td id=\"T_bd0f0_row32_col0\" class=\"data row32 col0\" >BI1</td>\n",
       "                        <td id=\"T_bd0f0_row32_col1\" class=\"data row32 col1\" >['T1', 'BI2', 'BI3']</td>\n",
       "            </tr>\n",
       "            <tr>\n",
       "                                <td id=\"T_bd0f0_row33_col0\" class=\"data row33 col0\" >BI2</td>\n",
       "                        <td id=\"T_bd0f0_row33_col1\" class=\"data row33 col1\" >['BI1', 'BI3']</td>\n",
       "            </tr>\n",
       "            <tr>\n",
       "                                <td id=\"T_bd0f0_row34_col0\" class=\"data row34 col0\" >BI3</td>\n",
       "                        <td id=\"T_bd0f0_row34_col1\" class=\"data row34 col1\" >['PE4', 'T4', 'BI2', 'BI4']</td>\n",
       "            </tr>\n",
       "            <tr>\n",
       "                                <td id=\"T_bd0f0_row35_col0\" class=\"data row35 col0\" >BI4</td>\n",
       "                        <td id=\"T_bd0f0_row35_col1\" class=\"data row35 col1\" >['T3', 'BI2', 'BI3']</td>\n",
       "            </tr>\n",
       "    </tbody></table>"
      ],
      "text/plain": [
       "<pandas.io.formats.style.Styler at 0x20cdba09100>"
      ]
     },
     "execution_count": 12,
     "metadata": {},
     "output_type": "execute_result"
    }
   ],
   "source": [
    "col = 'PE1'\n",
    "\n",
    "arr_list = []\n",
    "\n",
    "for col in utaut_fac_df.columns:\n",
    "    print(col)\n",
    "    arr_df = [mod_fac_df, utaut_fac_df.drop([col], axis = 1)]\n",
    "    df_X = pd.concat(arr_df, axis = 1)\n",
    "    df_Y = utaut_fac_df.loc[:, col]\n",
    "\n",
    "    feature_set = CFS(df_X, df_Y, spearmanr)\n",
    "    \n",
    "    arr_list.append((col, feature_set, len(feature_set)))\n",
    "\n",
    "tmp_df = pd.DataFrame(arr_list, columns = [\"UTAUT Factor\", \"Feature Set\", \"Number of Features\"])\n",
    "tmp_df.style.hide_index()"
   ]
  },
  {
   "cell_type": "code",
   "execution_count": null,
   "id": "environmental-spotlight",
   "metadata": {},
   "outputs": [],
   "source": []
  }
 ],
 "metadata": {
  "kernelspec": {
   "display_name": "Python 3",
   "language": "python",
   "name": "python3"
  },
  "language_info": {
   "codemirror_mode": {
    "name": "ipython",
    "version": 3
   },
   "file_extension": ".py",
   "mimetype": "text/x-python",
   "name": "python",
   "nbconvert_exporter": "python",
   "pygments_lexer": "ipython3",
   "version": "3.9.1"
  }
 },
 "nbformat": 4,
 "nbformat_minor": 5
}
