{
 "cells": [
  {
   "cell_type": "markdown",
   "id": "measured-toilet",
   "metadata": {},
   "source": [
    "# Title: CORRELATION MODEL IN THE ADOPTION OF E-PAYMENT SERVICES"
   ]
  },
  {
   "cell_type": "markdown",
   "id": "better-sentence",
   "metadata": {},
   "source": [
    "## Load Libraries"
   ]
  },
  {
   "cell_type": "code",
   "execution_count": 1,
   "id": "democratic-candle",
   "metadata": {},
   "outputs": [],
   "source": [
    "import time\n",
    "import numpy as np\n",
    "import pandas as pd\n",
    "\n",
    "from sklearn import svm\n",
    "from sklearn.tree import DecisionTreeClassifier\n",
    "from sklearn.neighbors import KNeighborsClassifier\n",
    "from sklearn.ensemble import RandomForestClassifier\n",
    "\n",
    "from sklearn.metrics import classification_report, confusion_matrix\n",
    "from scipy.stats import pearsonr, spearmanr, kendalltau, pointbiserialr"
   ]
  },
  {
   "cell_type": "markdown",
   "id": "suspected-manual",
   "metadata": {},
   "source": [
    "## Load Custom Made Libraries"
   ]
  },
  {
   "cell_type": "code",
   "execution_count": 2,
   "id": "executed-costume",
   "metadata": {},
   "outputs": [],
   "source": [
    "from Utilities.CFS import *\n",
    "from Utilities.accuracy import *\n",
    "from Utilities.corr_matrix import *\n",
    "from Utilities.forward_selection import *\n",
    "from Utilities.backward_elimination import *\n",
    "\n",
    "from Visualization.model_graph import *\n",
    "from Visualization.network_graph import *"
   ]
  },
  {
   "cell_type": "markdown",
   "id": "driven-frederick",
   "metadata": {},
   "source": [
    "## Load Dataset"
   ]
  },
  {
   "cell_type": "code",
   "execution_count": 3,
   "id": "interior-windows",
   "metadata": {},
   "outputs": [],
   "source": [
    "df = pd.read_csv(\"Dataset/E-payment Cryptocurrency Coin.csv\")"
   ]
  },
  {
   "cell_type": "markdown",
   "id": "amateur-portal",
   "metadata": {},
   "source": [
    "## Split Dataset"
   ]
  },
  {
   "cell_type": "code",
   "execution_count": 4,
   "id": "chemical-morocco",
   "metadata": {},
   "outputs": [],
   "source": [
    "df_X = pd.DataFrame()\n",
    "\n",
    "column_arr = df.iloc[:, 28:].columns\n",
    "column_arr = [col.split(\": \")[0] for col in column_arr]\n",
    "\n",
    "for (ind, col_name) in enumerate(column_arr):\n",
    "    df_X[col_name] = df.iloc[:, 28 + ind]\n",
    "    \n",
    "# Change Data Type to int\n",
    "df_X = df_X.astype(int)"
   ]
  },
  {
   "cell_type": "code",
   "execution_count": 5,
   "id": "inside-marine",
   "metadata": {},
   "outputs": [],
   "source": [
    "df_Y = df.iloc[:, [17]]\n",
    "\n",
    "# Replace Values\n",
    "df_Y = df_Y.replace(\"Yes\", 1)\n",
    "df_Y = df_Y.replace(\"No\", 0)\n",
    "\n",
    "# Change Data Type to int\n",
    "df_Y = df_Y.astype(int)\n",
    "\n",
    "# Convert Dataframe to Series\n",
    "df_Y = df_Y.iloc[:, 0]"
   ]
  },
  {
   "cell_type": "markdown",
   "id": "narrative-northeast",
   "metadata": {},
   "source": [
    "## Analysis"
   ]
  },
  {
   "cell_type": "markdown",
   "id": "complimentary-rescue",
   "metadata": {},
   "source": [
    "#### Merit Based Ranking\n",
    "\n",
    "![merit_based_ranking.jpg](img/merit_based_ranking.jpg)"
   ]
  },
  {
   "cell_type": "code",
   "execution_count": 6,
   "id": "inclusive-doctor",
   "metadata": {},
   "outputs": [
    {
     "data": {
      "text/html": [
       "<style  type=\"text/css\" >\n",
       "</style><table id=\"T_0066a_\" ><thead>    <tr>        <th class=\"col_heading level0 col0\" >Rank</th>        <th class=\"col_heading level0 col1\" >Factors</th>        <th class=\"col_heading level0 col2\" >Merit</th>    </tr></thead><tbody>\n",
       "                <tr>\n",
       "                                <td id=\"T_0066a_row0_col0\" class=\"data row0 col0\" >1</td>\n",
       "                        <td id=\"T_0066a_row0_col1\" class=\"data row0 col1\" >T4</td>\n",
       "                        <td id=\"T_0066a_row0_col2\" class=\"data row0 col2\" >0.174474</td>\n",
       "            </tr>\n",
       "            <tr>\n",
       "                                <td id=\"T_0066a_row1_col0\" class=\"data row1 col0\" >2</td>\n",
       "                        <td id=\"T_0066a_row1_col1\" class=\"data row1 col1\" >BI1</td>\n",
       "                        <td id=\"T_0066a_row1_col2\" class=\"data row1 col2\" >0.170224</td>\n",
       "            </tr>\n",
       "            <tr>\n",
       "                                <td id=\"T_0066a_row2_col0\" class=\"data row2 col0\" >3</td>\n",
       "                        <td id=\"T_0066a_row2_col1\" class=\"data row2 col1\" >SE4</td>\n",
       "                        <td id=\"T_0066a_row2_col2\" class=\"data row2 col2\" >0.146783</td>\n",
       "            </tr>\n",
       "            <tr>\n",
       "                                <td id=\"T_0066a_row3_col0\" class=\"data row3 col0\" >4</td>\n",
       "                        <td id=\"T_0066a_row3_col1\" class=\"data row3 col1\" >T2</td>\n",
       "                        <td id=\"T_0066a_row3_col2\" class=\"data row3 col2\" >0.138256</td>\n",
       "            </tr>\n",
       "            <tr>\n",
       "                                <td id=\"T_0066a_row4_col0\" class=\"data row4 col0\" >5</td>\n",
       "                        <td id=\"T_0066a_row4_col1\" class=\"data row4 col1\" >SE3</td>\n",
       "                        <td id=\"T_0066a_row4_col2\" class=\"data row4 col2\" >0.130507</td>\n",
       "            </tr>\n",
       "            <tr>\n",
       "                                <td id=\"T_0066a_row5_col0\" class=\"data row5 col0\" >6</td>\n",
       "                        <td id=\"T_0066a_row5_col1\" class=\"data row5 col1\" >SE2</td>\n",
       "                        <td id=\"T_0066a_row5_col2\" class=\"data row5 col2\" >0.128384</td>\n",
       "            </tr>\n",
       "            <tr>\n",
       "                                <td id=\"T_0066a_row6_col0\" class=\"data row6 col0\" >7</td>\n",
       "                        <td id=\"T_0066a_row6_col1\" class=\"data row6 col1\" >T3</td>\n",
       "                        <td id=\"T_0066a_row6_col2\" class=\"data row6 col2\" >0.128300</td>\n",
       "            </tr>\n",
       "            <tr>\n",
       "                                <td id=\"T_0066a_row7_col0\" class=\"data row7 col0\" >8</td>\n",
       "                        <td id=\"T_0066a_row7_col1\" class=\"data row7 col1\" >FC4</td>\n",
       "                        <td id=\"T_0066a_row7_col2\" class=\"data row7 col2\" >0.126647</td>\n",
       "            </tr>\n",
       "            <tr>\n",
       "                                <td id=\"T_0066a_row8_col0\" class=\"data row8 col0\" >9</td>\n",
       "                        <td id=\"T_0066a_row8_col1\" class=\"data row8 col1\" >AT1</td>\n",
       "                        <td id=\"T_0066a_row8_col2\" class=\"data row8 col2\" >0.122876</td>\n",
       "            </tr>\n",
       "            <tr>\n",
       "                                <td id=\"T_0066a_row9_col0\" class=\"data row9 col0\" >10</td>\n",
       "                        <td id=\"T_0066a_row9_col1\" class=\"data row9 col1\" >T1</td>\n",
       "                        <td id=\"T_0066a_row9_col2\" class=\"data row9 col2\" >0.117991</td>\n",
       "            </tr>\n",
       "            <tr>\n",
       "                                <td id=\"T_0066a_row10_col0\" class=\"data row10 col0\" >11</td>\n",
       "                        <td id=\"T_0066a_row10_col1\" class=\"data row10 col1\" >AT2</td>\n",
       "                        <td id=\"T_0066a_row10_col2\" class=\"data row10 col2\" >0.111831</td>\n",
       "            </tr>\n",
       "            <tr>\n",
       "                                <td id=\"T_0066a_row11_col0\" class=\"data row11 col0\" >12</td>\n",
       "                        <td id=\"T_0066a_row11_col1\" class=\"data row11 col1\" >BI4</td>\n",
       "                        <td id=\"T_0066a_row11_col2\" class=\"data row11 col2\" >0.108596</td>\n",
       "            </tr>\n",
       "            <tr>\n",
       "                                <td id=\"T_0066a_row12_col0\" class=\"data row12 col0\" >13</td>\n",
       "                        <td id=\"T_0066a_row12_col1\" class=\"data row12 col1\" >FC2</td>\n",
       "                        <td id=\"T_0066a_row12_col2\" class=\"data row12 col2\" >0.105582</td>\n",
       "            </tr>\n",
       "            <tr>\n",
       "                                <td id=\"T_0066a_row13_col0\" class=\"data row13 col0\" >14</td>\n",
       "                        <td id=\"T_0066a_row13_col1\" class=\"data row13 col1\" >BI2</td>\n",
       "                        <td id=\"T_0066a_row13_col2\" class=\"data row13 col2\" >0.104198</td>\n",
       "            </tr>\n",
       "            <tr>\n",
       "                                <td id=\"T_0066a_row14_col0\" class=\"data row14 col0\" >15</td>\n",
       "                        <td id=\"T_0066a_row14_col1\" class=\"data row14 col1\" >PE1</td>\n",
       "                        <td id=\"T_0066a_row14_col2\" class=\"data row14 col2\" >0.099899</td>\n",
       "            </tr>\n",
       "            <tr>\n",
       "                                <td id=\"T_0066a_row15_col0\" class=\"data row15 col0\" >16</td>\n",
       "                        <td id=\"T_0066a_row15_col1\" class=\"data row15 col1\" >EE3</td>\n",
       "                        <td id=\"T_0066a_row15_col2\" class=\"data row15 col2\" >0.097349</td>\n",
       "            </tr>\n",
       "            <tr>\n",
       "                                <td id=\"T_0066a_row16_col0\" class=\"data row16 col0\" >17</td>\n",
       "                        <td id=\"T_0066a_row16_col1\" class=\"data row16 col1\" >EE1</td>\n",
       "                        <td id=\"T_0066a_row16_col2\" class=\"data row16 col2\" >0.096814</td>\n",
       "            </tr>\n",
       "            <tr>\n",
       "                                <td id=\"T_0066a_row17_col0\" class=\"data row17 col0\" >18</td>\n",
       "                        <td id=\"T_0066a_row17_col1\" class=\"data row17 col1\" >BI3</td>\n",
       "                        <td id=\"T_0066a_row17_col2\" class=\"data row17 col2\" >0.093714</td>\n",
       "            </tr>\n",
       "            <tr>\n",
       "                                <td id=\"T_0066a_row18_col0\" class=\"data row18 col0\" >19</td>\n",
       "                        <td id=\"T_0066a_row18_col1\" class=\"data row18 col1\" >EE4</td>\n",
       "                        <td id=\"T_0066a_row18_col2\" class=\"data row18 col2\" >0.084745</td>\n",
       "            </tr>\n",
       "            <tr>\n",
       "                                <td id=\"T_0066a_row19_col0\" class=\"data row19 col0\" >20</td>\n",
       "                        <td id=\"T_0066a_row19_col1\" class=\"data row19 col1\" >AX2</td>\n",
       "                        <td id=\"T_0066a_row19_col2\" class=\"data row19 col2\" >0.083791</td>\n",
       "            </tr>\n",
       "            <tr>\n",
       "                                <td id=\"T_0066a_row20_col0\" class=\"data row20 col0\" >21</td>\n",
       "                        <td id=\"T_0066a_row20_col1\" class=\"data row20 col1\" >PE2</td>\n",
       "                        <td id=\"T_0066a_row20_col2\" class=\"data row20 col2\" >0.078465</td>\n",
       "            </tr>\n",
       "            <tr>\n",
       "                                <td id=\"T_0066a_row21_col0\" class=\"data row21 col0\" >22</td>\n",
       "                        <td id=\"T_0066a_row21_col1\" class=\"data row21 col1\" >AX4</td>\n",
       "                        <td id=\"T_0066a_row21_col2\" class=\"data row21 col2\" >0.077022</td>\n",
       "            </tr>\n",
       "            <tr>\n",
       "                                <td id=\"T_0066a_row22_col0\" class=\"data row22 col0\" >23</td>\n",
       "                        <td id=\"T_0066a_row22_col1\" class=\"data row22 col1\" >SI1</td>\n",
       "                        <td id=\"T_0066a_row22_col2\" class=\"data row22 col2\" >0.067868</td>\n",
       "            </tr>\n",
       "            <tr>\n",
       "                                <td id=\"T_0066a_row23_col0\" class=\"data row23 col0\" >24</td>\n",
       "                        <td id=\"T_0066a_row23_col1\" class=\"data row23 col1\" >AX1</td>\n",
       "                        <td id=\"T_0066a_row23_col2\" class=\"data row23 col2\" >0.065144</td>\n",
       "            </tr>\n",
       "            <tr>\n",
       "                                <td id=\"T_0066a_row24_col0\" class=\"data row24 col0\" >25</td>\n",
       "                        <td id=\"T_0066a_row24_col1\" class=\"data row24 col1\" >SI4</td>\n",
       "                        <td id=\"T_0066a_row24_col2\" class=\"data row24 col2\" >0.063543</td>\n",
       "            </tr>\n",
       "            <tr>\n",
       "                                <td id=\"T_0066a_row25_col0\" class=\"data row25 col0\" >26</td>\n",
       "                        <td id=\"T_0066a_row25_col1\" class=\"data row25 col1\" >PE4</td>\n",
       "                        <td id=\"T_0066a_row25_col2\" class=\"data row25 col2\" >0.060721</td>\n",
       "            </tr>\n",
       "            <tr>\n",
       "                                <td id=\"T_0066a_row26_col0\" class=\"data row26 col0\" >27</td>\n",
       "                        <td id=\"T_0066a_row26_col1\" class=\"data row26 col1\" >SE1</td>\n",
       "                        <td id=\"T_0066a_row26_col2\" class=\"data row26 col2\" >0.059054</td>\n",
       "            </tr>\n",
       "            <tr>\n",
       "                                <td id=\"T_0066a_row27_col0\" class=\"data row27 col0\" >28</td>\n",
       "                        <td id=\"T_0066a_row27_col1\" class=\"data row27 col1\" >AT4</td>\n",
       "                        <td id=\"T_0066a_row27_col2\" class=\"data row27 col2\" >0.054678</td>\n",
       "            </tr>\n",
       "            <tr>\n",
       "                                <td id=\"T_0066a_row28_col0\" class=\"data row28 col0\" >29</td>\n",
       "                        <td id=\"T_0066a_row28_col1\" class=\"data row28 col1\" >EE2</td>\n",
       "                        <td id=\"T_0066a_row28_col2\" class=\"data row28 col2\" >0.054599</td>\n",
       "            </tr>\n",
       "            <tr>\n",
       "                                <td id=\"T_0066a_row29_col0\" class=\"data row29 col0\" >30</td>\n",
       "                        <td id=\"T_0066a_row29_col1\" class=\"data row29 col1\" >AX3</td>\n",
       "                        <td id=\"T_0066a_row29_col2\" class=\"data row29 col2\" >0.052890</td>\n",
       "            </tr>\n",
       "            <tr>\n",
       "                                <td id=\"T_0066a_row30_col0\" class=\"data row30 col0\" >31</td>\n",
       "                        <td id=\"T_0066a_row30_col1\" class=\"data row30 col1\" >FC1</td>\n",
       "                        <td id=\"T_0066a_row30_col2\" class=\"data row30 col2\" >0.048044</td>\n",
       "            </tr>\n",
       "            <tr>\n",
       "                                <td id=\"T_0066a_row31_col0\" class=\"data row31 col0\" >32</td>\n",
       "                        <td id=\"T_0066a_row31_col1\" class=\"data row31 col1\" >SI3</td>\n",
       "                        <td id=\"T_0066a_row31_col2\" class=\"data row31 col2\" >0.045715</td>\n",
       "            </tr>\n",
       "            <tr>\n",
       "                                <td id=\"T_0066a_row32_col0\" class=\"data row32 col0\" >33</td>\n",
       "                        <td id=\"T_0066a_row32_col1\" class=\"data row32 col1\" >AT3</td>\n",
       "                        <td id=\"T_0066a_row32_col2\" class=\"data row32 col2\" >0.044868</td>\n",
       "            </tr>\n",
       "            <tr>\n",
       "                                <td id=\"T_0066a_row33_col0\" class=\"data row33 col0\" >34</td>\n",
       "                        <td id=\"T_0066a_row33_col1\" class=\"data row33 col1\" >FC3</td>\n",
       "                        <td id=\"T_0066a_row33_col2\" class=\"data row33 col2\" >0.044118</td>\n",
       "            </tr>\n",
       "            <tr>\n",
       "                                <td id=\"T_0066a_row34_col0\" class=\"data row34 col0\" >35</td>\n",
       "                        <td id=\"T_0066a_row34_col1\" class=\"data row34 col1\" >SI2</td>\n",
       "                        <td id=\"T_0066a_row34_col2\" class=\"data row34 col2\" >0.020530</td>\n",
       "            </tr>\n",
       "            <tr>\n",
       "                                <td id=\"T_0066a_row35_col0\" class=\"data row35 col0\" >36</td>\n",
       "                        <td id=\"T_0066a_row35_col1\" class=\"data row35 col1\" >PE3</td>\n",
       "                        <td id=\"T_0066a_row35_col2\" class=\"data row35 col2\" >0.017943</td>\n",
       "            </tr>\n",
       "    </tbody></table>"
      ],
      "text/plain": [
       "<pandas.io.formats.style.Styler at 0x1aa3079c970>"
      ]
     },
     "execution_count": 6,
     "metadata": {},
     "output_type": "execute_result"
    }
   ],
   "source": [
    "arr_list = []\n",
    "\n",
    "for col_ind in range(df_X.shape[1]):\n",
    "    name = df_X.columns[col_ind]\n",
    "    merit = merit_calculation(df_X.iloc[:, [col_ind]], df_Y, pointbiserialr)\n",
    "    arr_list.append((col_ind ,name, merit))\n",
    "    \n",
    "# Sort Column By Merit Value\n",
    "arr_list = sorted(arr_list, key = lambda x : x[2], reverse = True)\n",
    "\n",
    "mbf_df = pd.DataFrame(arr_list, index = [i + 1 for i in range(len(arr_list))], columns = [\"Rank\" ,\"Factors\", \"Merit\"])\n",
    "\n",
    "mbf_df[\"Rank\"] = [ind + 1 for ind in range(mbf_df.shape[0])]\n",
    "\n",
    "mbf_df.style.hide_index()"
   ]
  },
  {
   "cell_type": "markdown",
   "id": "allied-sister",
   "metadata": {},
   "source": [
    "#### Correlation Pairwise Ranking\n",
    "\n",
    "![correlation_pairwise_ranking.jpg](img/correlation_pairwise_ranking.jpg)"
   ]
  },
  {
   "cell_type": "code",
   "execution_count": 7,
   "id": "amazing-wales",
   "metadata": {},
   "outputs": [
    {
     "data": {
      "text/html": [
       "<div>\n",
       "<style scoped>\n",
       "    .dataframe tbody tr th:only-of-type {\n",
       "        vertical-align: middle;\n",
       "    }\n",
       "\n",
       "    .dataframe tbody tr th {\n",
       "        vertical-align: top;\n",
       "    }\n",
       "\n",
       "    .dataframe thead th {\n",
       "        text-align: right;\n",
       "    }\n",
       "</style>\n",
       "<table border=\"1\" class=\"dataframe\">\n",
       "  <thead>\n",
       "    <tr style=\"text-align: right;\">\n",
       "      <th></th>\n",
       "      <th>PE1</th>\n",
       "      <th>PE2</th>\n",
       "      <th>PE3</th>\n",
       "      <th>PE4</th>\n",
       "      <th>EE1</th>\n",
       "      <th>EE2</th>\n",
       "      <th>EE3</th>\n",
       "      <th>EE4</th>\n",
       "      <th>AT1</th>\n",
       "      <th>AT2</th>\n",
       "      <th>...</th>\n",
       "      <th>AX3</th>\n",
       "      <th>AX4</th>\n",
       "      <th>T1</th>\n",
       "      <th>T2</th>\n",
       "      <th>T3</th>\n",
       "      <th>T4</th>\n",
       "      <th>BI1</th>\n",
       "      <th>BI2</th>\n",
       "      <th>BI3</th>\n",
       "      <th>BI4</th>\n",
       "    </tr>\n",
       "  </thead>\n",
       "  <tbody>\n",
       "    <tr>\n",
       "      <th>PE1</th>\n",
       "      <td>NaN</td>\n",
       "      <td>0.835233</td>\n",
       "      <td>0.725600</td>\n",
       "      <td>0.730739</td>\n",
       "      <td>0.780623</td>\n",
       "      <td>0.654947</td>\n",
       "      <td>0.677241</td>\n",
       "      <td>0.617229</td>\n",
       "      <td>0.709411</td>\n",
       "      <td>0.628712</td>\n",
       "      <td>...</td>\n",
       "      <td>-0.123090</td>\n",
       "      <td>-0.184555</td>\n",
       "      <td>0.660050</td>\n",
       "      <td>0.672744</td>\n",
       "      <td>0.627753</td>\n",
       "      <td>0.657686</td>\n",
       "      <td>0.705704</td>\n",
       "      <td>0.719527</td>\n",
       "      <td>0.746661</td>\n",
       "      <td>0.727006</td>\n",
       "    </tr>\n",
       "    <tr>\n",
       "      <th>PE2</th>\n",
       "      <td>NaN</td>\n",
       "      <td>NaN</td>\n",
       "      <td>0.794513</td>\n",
       "      <td>0.765794</td>\n",
       "      <td>0.675508</td>\n",
       "      <td>0.645924</td>\n",
       "      <td>0.661695</td>\n",
       "      <td>0.661066</td>\n",
       "      <td>0.690479</td>\n",
       "      <td>0.647245</td>\n",
       "      <td>...</td>\n",
       "      <td>-0.051329</td>\n",
       "      <td>-0.101325</td>\n",
       "      <td>0.595035</td>\n",
       "      <td>0.675372</td>\n",
       "      <td>0.642348</td>\n",
       "      <td>0.604658</td>\n",
       "      <td>0.636311</td>\n",
       "      <td>0.654216</td>\n",
       "      <td>0.715026</td>\n",
       "      <td>0.718001</td>\n",
       "    </tr>\n",
       "    <tr>\n",
       "      <th>PE3</th>\n",
       "      <td>NaN</td>\n",
       "      <td>NaN</td>\n",
       "      <td>NaN</td>\n",
       "      <td>0.774089</td>\n",
       "      <td>0.608697</td>\n",
       "      <td>0.677799</td>\n",
       "      <td>0.604741</td>\n",
       "      <td>0.622669</td>\n",
       "      <td>0.636145</td>\n",
       "      <td>0.679483</td>\n",
       "      <td>...</td>\n",
       "      <td>-0.090783</td>\n",
       "      <td>-0.016761</td>\n",
       "      <td>0.547468</td>\n",
       "      <td>0.621414</td>\n",
       "      <td>0.630102</td>\n",
       "      <td>0.533779</td>\n",
       "      <td>0.574985</td>\n",
       "      <td>0.586452</td>\n",
       "      <td>0.669027</td>\n",
       "      <td>0.645617</td>\n",
       "    </tr>\n",
       "    <tr>\n",
       "      <th>PE4</th>\n",
       "      <td>NaN</td>\n",
       "      <td>NaN</td>\n",
       "      <td>NaN</td>\n",
       "      <td>NaN</td>\n",
       "      <td>0.636272</td>\n",
       "      <td>0.681118</td>\n",
       "      <td>0.639758</td>\n",
       "      <td>0.702504</td>\n",
       "      <td>0.674317</td>\n",
       "      <td>0.733741</td>\n",
       "      <td>...</td>\n",
       "      <td>-0.043111</td>\n",
       "      <td>-0.137880</td>\n",
       "      <td>0.641736</td>\n",
       "      <td>0.681015</td>\n",
       "      <td>0.697144</td>\n",
       "      <td>0.594439</td>\n",
       "      <td>0.655556</td>\n",
       "      <td>0.621680</td>\n",
       "      <td>0.727400</td>\n",
       "      <td>0.729449</td>\n",
       "    </tr>\n",
       "    <tr>\n",
       "      <th>EE1</th>\n",
       "      <td>NaN</td>\n",
       "      <td>NaN</td>\n",
       "      <td>NaN</td>\n",
       "      <td>NaN</td>\n",
       "      <td>NaN</td>\n",
       "      <td>0.762440</td>\n",
       "      <td>0.750047</td>\n",
       "      <td>0.716287</td>\n",
       "      <td>0.653017</td>\n",
       "      <td>0.596293</td>\n",
       "      <td>...</td>\n",
       "      <td>-0.128873</td>\n",
       "      <td>-0.174636</td>\n",
       "      <td>0.701972</td>\n",
       "      <td>0.674657</td>\n",
       "      <td>0.677308</td>\n",
       "      <td>0.640904</td>\n",
       "      <td>0.634953</td>\n",
       "      <td>0.661093</td>\n",
       "      <td>0.655963</td>\n",
       "      <td>0.656850</td>\n",
       "    </tr>\n",
       "    <tr>\n",
       "      <th>EE2</th>\n",
       "      <td>NaN</td>\n",
       "      <td>NaN</td>\n",
       "      <td>NaN</td>\n",
       "      <td>NaN</td>\n",
       "      <td>NaN</td>\n",
       "      <td>NaN</td>\n",
       "      <td>0.758405</td>\n",
       "      <td>0.797431</td>\n",
       "      <td>0.635274</td>\n",
       "      <td>0.633110</td>\n",
       "      <td>...</td>\n",
       "      <td>-0.168232</td>\n",
       "      <td>-0.225122</td>\n",
       "      <td>0.680571</td>\n",
       "      <td>0.679625</td>\n",
       "      <td>0.673919</td>\n",
       "      <td>0.599671</td>\n",
       "      <td>0.628496</td>\n",
       "      <td>0.608270</td>\n",
       "      <td>0.662576</td>\n",
       "      <td>0.620644</td>\n",
       "    </tr>\n",
       "    <tr>\n",
       "      <th>EE3</th>\n",
       "      <td>NaN</td>\n",
       "      <td>NaN</td>\n",
       "      <td>NaN</td>\n",
       "      <td>NaN</td>\n",
       "      <td>NaN</td>\n",
       "      <td>NaN</td>\n",
       "      <td>NaN</td>\n",
       "      <td>0.806975</td>\n",
       "      <td>0.640132</td>\n",
       "      <td>0.638569</td>\n",
       "      <td>...</td>\n",
       "      <td>-0.116824</td>\n",
       "      <td>-0.235763</td>\n",
       "      <td>0.696280</td>\n",
       "      <td>0.670219</td>\n",
       "      <td>0.700538</td>\n",
       "      <td>0.593044</td>\n",
       "      <td>0.655935</td>\n",
       "      <td>0.585558</td>\n",
       "      <td>0.626968</td>\n",
       "      <td>0.672501</td>\n",
       "    </tr>\n",
       "    <tr>\n",
       "      <th>EE4</th>\n",
       "      <td>NaN</td>\n",
       "      <td>NaN</td>\n",
       "      <td>NaN</td>\n",
       "      <td>NaN</td>\n",
       "      <td>NaN</td>\n",
       "      <td>NaN</td>\n",
       "      <td>NaN</td>\n",
       "      <td>NaN</td>\n",
       "      <td>0.644354</td>\n",
       "      <td>0.638600</td>\n",
       "      <td>...</td>\n",
       "      <td>-0.085887</td>\n",
       "      <td>-0.166941</td>\n",
       "      <td>0.645800</td>\n",
       "      <td>0.654654</td>\n",
       "      <td>0.746758</td>\n",
       "      <td>0.537410</td>\n",
       "      <td>0.629173</td>\n",
       "      <td>0.563520</td>\n",
       "      <td>0.599056</td>\n",
       "      <td>0.663359</td>\n",
       "    </tr>\n",
       "    <tr>\n",
       "      <th>AT1</th>\n",
       "      <td>NaN</td>\n",
       "      <td>NaN</td>\n",
       "      <td>NaN</td>\n",
       "      <td>NaN</td>\n",
       "      <td>NaN</td>\n",
       "      <td>NaN</td>\n",
       "      <td>NaN</td>\n",
       "      <td>NaN</td>\n",
       "      <td>NaN</td>\n",
       "      <td>0.780686</td>\n",
       "      <td>...</td>\n",
       "      <td>-0.013025</td>\n",
       "      <td>-0.139762</td>\n",
       "      <td>0.616839</td>\n",
       "      <td>0.646978</td>\n",
       "      <td>0.650341</td>\n",
       "      <td>0.639711</td>\n",
       "      <td>0.725117</td>\n",
       "      <td>0.704624</td>\n",
       "      <td>0.722441</td>\n",
       "      <td>0.711177</td>\n",
       "    </tr>\n",
       "    <tr>\n",
       "      <th>AT2</th>\n",
       "      <td>NaN</td>\n",
       "      <td>NaN</td>\n",
       "      <td>NaN</td>\n",
       "      <td>NaN</td>\n",
       "      <td>NaN</td>\n",
       "      <td>NaN</td>\n",
       "      <td>NaN</td>\n",
       "      <td>NaN</td>\n",
       "      <td>NaN</td>\n",
       "      <td>NaN</td>\n",
       "      <td>...</td>\n",
       "      <td>0.005595</td>\n",
       "      <td>-0.094146</td>\n",
       "      <td>0.575390</td>\n",
       "      <td>0.639295</td>\n",
       "      <td>0.656581</td>\n",
       "      <td>0.604475</td>\n",
       "      <td>0.644678</td>\n",
       "      <td>0.606890</td>\n",
       "      <td>0.711945</td>\n",
       "      <td>0.691402</td>\n",
       "    </tr>\n",
       "    <tr>\n",
       "      <th>AT3</th>\n",
       "      <td>NaN</td>\n",
       "      <td>NaN</td>\n",
       "      <td>NaN</td>\n",
       "      <td>NaN</td>\n",
       "      <td>NaN</td>\n",
       "      <td>NaN</td>\n",
       "      <td>NaN</td>\n",
       "      <td>NaN</td>\n",
       "      <td>NaN</td>\n",
       "      <td>NaN</td>\n",
       "      <td>...</td>\n",
       "      <td>-0.048506</td>\n",
       "      <td>-0.085700</td>\n",
       "      <td>0.499787</td>\n",
       "      <td>0.574853</td>\n",
       "      <td>0.596611</td>\n",
       "      <td>0.467217</td>\n",
       "      <td>0.529674</td>\n",
       "      <td>0.517741</td>\n",
       "      <td>0.580994</td>\n",
       "      <td>0.585184</td>\n",
       "    </tr>\n",
       "    <tr>\n",
       "      <th>AT4</th>\n",
       "      <td>NaN</td>\n",
       "      <td>NaN</td>\n",
       "      <td>NaN</td>\n",
       "      <td>NaN</td>\n",
       "      <td>NaN</td>\n",
       "      <td>NaN</td>\n",
       "      <td>NaN</td>\n",
       "      <td>NaN</td>\n",
       "      <td>NaN</td>\n",
       "      <td>NaN</td>\n",
       "      <td>...</td>\n",
       "      <td>-0.073499</td>\n",
       "      <td>-0.148126</td>\n",
       "      <td>0.655977</td>\n",
       "      <td>0.668012</td>\n",
       "      <td>0.680116</td>\n",
       "      <td>0.633843</td>\n",
       "      <td>0.646597</td>\n",
       "      <td>0.638044</td>\n",
       "      <td>0.664287</td>\n",
       "      <td>0.650314</td>\n",
       "    </tr>\n",
       "    <tr>\n",
       "      <th>SI1</th>\n",
       "      <td>NaN</td>\n",
       "      <td>NaN</td>\n",
       "      <td>NaN</td>\n",
       "      <td>NaN</td>\n",
       "      <td>NaN</td>\n",
       "      <td>NaN</td>\n",
       "      <td>NaN</td>\n",
       "      <td>NaN</td>\n",
       "      <td>NaN</td>\n",
       "      <td>NaN</td>\n",
       "      <td>...</td>\n",
       "      <td>-0.011994</td>\n",
       "      <td>-0.004980</td>\n",
       "      <td>0.414769</td>\n",
       "      <td>0.397966</td>\n",
       "      <td>0.494973</td>\n",
       "      <td>0.484774</td>\n",
       "      <td>0.445552</td>\n",
       "      <td>0.453917</td>\n",
       "      <td>0.482203</td>\n",
       "      <td>0.470310</td>\n",
       "    </tr>\n",
       "    <tr>\n",
       "      <th>SI2</th>\n",
       "      <td>NaN</td>\n",
       "      <td>NaN</td>\n",
       "      <td>NaN</td>\n",
       "      <td>NaN</td>\n",
       "      <td>NaN</td>\n",
       "      <td>NaN</td>\n",
       "      <td>NaN</td>\n",
       "      <td>NaN</td>\n",
       "      <td>NaN</td>\n",
       "      <td>NaN</td>\n",
       "      <td>...</td>\n",
       "      <td>-0.062772</td>\n",
       "      <td>-0.088320</td>\n",
       "      <td>0.529370</td>\n",
       "      <td>0.508955</td>\n",
       "      <td>0.564247</td>\n",
       "      <td>0.503242</td>\n",
       "      <td>0.556401</td>\n",
       "      <td>0.545359</td>\n",
       "      <td>0.508553</td>\n",
       "      <td>0.533477</td>\n",
       "    </tr>\n",
       "    <tr>\n",
       "      <th>SI3</th>\n",
       "      <td>NaN</td>\n",
       "      <td>NaN</td>\n",
       "      <td>NaN</td>\n",
       "      <td>NaN</td>\n",
       "      <td>NaN</td>\n",
       "      <td>NaN</td>\n",
       "      <td>NaN</td>\n",
       "      <td>NaN</td>\n",
       "      <td>NaN</td>\n",
       "      <td>NaN</td>\n",
       "      <td>...</td>\n",
       "      <td>0.039997</td>\n",
       "      <td>-0.062954</td>\n",
       "      <td>0.503948</td>\n",
       "      <td>0.528293</td>\n",
       "      <td>0.613986</td>\n",
       "      <td>0.573101</td>\n",
       "      <td>0.537477</td>\n",
       "      <td>0.503717</td>\n",
       "      <td>0.582386</td>\n",
       "      <td>0.572372</td>\n",
       "    </tr>\n",
       "    <tr>\n",
       "      <th>SI4</th>\n",
       "      <td>NaN</td>\n",
       "      <td>NaN</td>\n",
       "      <td>NaN</td>\n",
       "      <td>NaN</td>\n",
       "      <td>NaN</td>\n",
       "      <td>NaN</td>\n",
       "      <td>NaN</td>\n",
       "      <td>NaN</td>\n",
       "      <td>NaN</td>\n",
       "      <td>NaN</td>\n",
       "      <td>...</td>\n",
       "      <td>0.013384</td>\n",
       "      <td>-0.071771</td>\n",
       "      <td>0.616139</td>\n",
       "      <td>0.595343</td>\n",
       "      <td>0.645811</td>\n",
       "      <td>0.574862</td>\n",
       "      <td>0.597409</td>\n",
       "      <td>0.519880</td>\n",
       "      <td>0.593852</td>\n",
       "      <td>0.605487</td>\n",
       "    </tr>\n",
       "    <tr>\n",
       "      <th>FC1</th>\n",
       "      <td>NaN</td>\n",
       "      <td>NaN</td>\n",
       "      <td>NaN</td>\n",
       "      <td>NaN</td>\n",
       "      <td>NaN</td>\n",
       "      <td>NaN</td>\n",
       "      <td>NaN</td>\n",
       "      <td>NaN</td>\n",
       "      <td>NaN</td>\n",
       "      <td>NaN</td>\n",
       "      <td>...</td>\n",
       "      <td>-0.066806</td>\n",
       "      <td>-0.119416</td>\n",
       "      <td>0.634166</td>\n",
       "      <td>0.547547</td>\n",
       "      <td>0.573788</td>\n",
       "      <td>0.490951</td>\n",
       "      <td>0.538578</td>\n",
       "      <td>0.511754</td>\n",
       "      <td>0.519343</td>\n",
       "      <td>0.541494</td>\n",
       "    </tr>\n",
       "    <tr>\n",
       "      <th>FC2</th>\n",
       "      <td>NaN</td>\n",
       "      <td>NaN</td>\n",
       "      <td>NaN</td>\n",
       "      <td>NaN</td>\n",
       "      <td>NaN</td>\n",
       "      <td>NaN</td>\n",
       "      <td>NaN</td>\n",
       "      <td>NaN</td>\n",
       "      <td>NaN</td>\n",
       "      <td>NaN</td>\n",
       "      <td>...</td>\n",
       "      <td>-0.138832</td>\n",
       "      <td>-0.255047</td>\n",
       "      <td>0.775803</td>\n",
       "      <td>0.664253</td>\n",
       "      <td>0.687094</td>\n",
       "      <td>0.584418</td>\n",
       "      <td>0.663116</td>\n",
       "      <td>0.627513</td>\n",
       "      <td>0.599100</td>\n",
       "      <td>0.640518</td>\n",
       "    </tr>\n",
       "    <tr>\n",
       "      <th>FC3</th>\n",
       "      <td>NaN</td>\n",
       "      <td>NaN</td>\n",
       "      <td>NaN</td>\n",
       "      <td>NaN</td>\n",
       "      <td>NaN</td>\n",
       "      <td>NaN</td>\n",
       "      <td>NaN</td>\n",
       "      <td>NaN</td>\n",
       "      <td>NaN</td>\n",
       "      <td>NaN</td>\n",
       "      <td>...</td>\n",
       "      <td>-0.044817</td>\n",
       "      <td>-0.087339</td>\n",
       "      <td>0.619314</td>\n",
       "      <td>0.560383</td>\n",
       "      <td>0.619203</td>\n",
       "      <td>0.510113</td>\n",
       "      <td>0.509452</td>\n",
       "      <td>0.464177</td>\n",
       "      <td>0.482593</td>\n",
       "      <td>0.523342</td>\n",
       "    </tr>\n",
       "    <tr>\n",
       "      <th>FC4</th>\n",
       "      <td>NaN</td>\n",
       "      <td>NaN</td>\n",
       "      <td>NaN</td>\n",
       "      <td>NaN</td>\n",
       "      <td>NaN</td>\n",
       "      <td>NaN</td>\n",
       "      <td>NaN</td>\n",
       "      <td>NaN</td>\n",
       "      <td>NaN</td>\n",
       "      <td>NaN</td>\n",
       "      <td>...</td>\n",
       "      <td>-0.007988</td>\n",
       "      <td>-0.124105</td>\n",
       "      <td>0.625000</td>\n",
       "      <td>0.602995</td>\n",
       "      <td>0.604774</td>\n",
       "      <td>0.615602</td>\n",
       "      <td>0.628956</td>\n",
       "      <td>0.572012</td>\n",
       "      <td>0.632597</td>\n",
       "      <td>0.627892</td>\n",
       "    </tr>\n",
       "    <tr>\n",
       "      <th>SE1</th>\n",
       "      <td>NaN</td>\n",
       "      <td>NaN</td>\n",
       "      <td>NaN</td>\n",
       "      <td>NaN</td>\n",
       "      <td>NaN</td>\n",
       "      <td>NaN</td>\n",
       "      <td>NaN</td>\n",
       "      <td>NaN</td>\n",
       "      <td>NaN</td>\n",
       "      <td>NaN</td>\n",
       "      <td>...</td>\n",
       "      <td>-0.105694</td>\n",
       "      <td>-0.178928</td>\n",
       "      <td>0.680245</td>\n",
       "      <td>0.624988</td>\n",
       "      <td>0.655744</td>\n",
       "      <td>0.507675</td>\n",
       "      <td>0.576761</td>\n",
       "      <td>0.551322</td>\n",
       "      <td>0.579290</td>\n",
       "      <td>0.558265</td>\n",
       "    </tr>\n",
       "    <tr>\n",
       "      <th>SE2</th>\n",
       "      <td>NaN</td>\n",
       "      <td>NaN</td>\n",
       "      <td>NaN</td>\n",
       "      <td>NaN</td>\n",
       "      <td>NaN</td>\n",
       "      <td>NaN</td>\n",
       "      <td>NaN</td>\n",
       "      <td>NaN</td>\n",
       "      <td>NaN</td>\n",
       "      <td>NaN</td>\n",
       "      <td>...</td>\n",
       "      <td>0.105645</td>\n",
       "      <td>-0.082540</td>\n",
       "      <td>0.601424</td>\n",
       "      <td>0.577262</td>\n",
       "      <td>0.589713</td>\n",
       "      <td>0.634951</td>\n",
       "      <td>0.601199</td>\n",
       "      <td>0.607590</td>\n",
       "      <td>0.568020</td>\n",
       "      <td>0.575445</td>\n",
       "    </tr>\n",
       "    <tr>\n",
       "      <th>SE3</th>\n",
       "      <td>NaN</td>\n",
       "      <td>NaN</td>\n",
       "      <td>NaN</td>\n",
       "      <td>NaN</td>\n",
       "      <td>NaN</td>\n",
       "      <td>NaN</td>\n",
       "      <td>NaN</td>\n",
       "      <td>NaN</td>\n",
       "      <td>NaN</td>\n",
       "      <td>NaN</td>\n",
       "      <td>...</td>\n",
       "      <td>0.019649</td>\n",
       "      <td>-0.107132</td>\n",
       "      <td>0.651141</td>\n",
       "      <td>0.640057</td>\n",
       "      <td>0.665780</td>\n",
       "      <td>0.640122</td>\n",
       "      <td>0.618809</td>\n",
       "      <td>0.565817</td>\n",
       "      <td>0.617121</td>\n",
       "      <td>0.624799</td>\n",
       "    </tr>\n",
       "    <tr>\n",
       "      <th>SE4</th>\n",
       "      <td>NaN</td>\n",
       "      <td>NaN</td>\n",
       "      <td>NaN</td>\n",
       "      <td>NaN</td>\n",
       "      <td>NaN</td>\n",
       "      <td>NaN</td>\n",
       "      <td>NaN</td>\n",
       "      <td>NaN</td>\n",
       "      <td>NaN</td>\n",
       "      <td>NaN</td>\n",
       "      <td>...</td>\n",
       "      <td>0.034964</td>\n",
       "      <td>-0.094241</td>\n",
       "      <td>0.639471</td>\n",
       "      <td>0.614005</td>\n",
       "      <td>0.641198</td>\n",
       "      <td>0.653666</td>\n",
       "      <td>0.640235</td>\n",
       "      <td>0.590076</td>\n",
       "      <td>0.642656</td>\n",
       "      <td>0.658295</td>\n",
       "    </tr>\n",
       "    <tr>\n",
       "      <th>AX1</th>\n",
       "      <td>NaN</td>\n",
       "      <td>NaN</td>\n",
       "      <td>NaN</td>\n",
       "      <td>NaN</td>\n",
       "      <td>NaN</td>\n",
       "      <td>NaN</td>\n",
       "      <td>NaN</td>\n",
       "      <td>NaN</td>\n",
       "      <td>NaN</td>\n",
       "      <td>NaN</td>\n",
       "      <td>...</td>\n",
       "      <td>0.367353</td>\n",
       "      <td>0.464521</td>\n",
       "      <td>0.127418</td>\n",
       "      <td>0.148305</td>\n",
       "      <td>0.108480</td>\n",
       "      <td>0.166756</td>\n",
       "      <td>0.122218</td>\n",
       "      <td>0.097500</td>\n",
       "      <td>0.179625</td>\n",
       "      <td>0.151673</td>\n",
       "    </tr>\n",
       "    <tr>\n",
       "      <th>AX2</th>\n",
       "      <td>NaN</td>\n",
       "      <td>NaN</td>\n",
       "      <td>NaN</td>\n",
       "      <td>NaN</td>\n",
       "      <td>NaN</td>\n",
       "      <td>NaN</td>\n",
       "      <td>NaN</td>\n",
       "      <td>NaN</td>\n",
       "      <td>NaN</td>\n",
       "      <td>NaN</td>\n",
       "      <td>...</td>\n",
       "      <td>0.792885</td>\n",
       "      <td>0.613253</td>\n",
       "      <td>-0.068957</td>\n",
       "      <td>-0.093495</td>\n",
       "      <td>-0.019157</td>\n",
       "      <td>0.109541</td>\n",
       "      <td>-0.013768</td>\n",
       "      <td>-0.053920</td>\n",
       "      <td>0.001627</td>\n",
       "      <td>-0.011947</td>\n",
       "    </tr>\n",
       "    <tr>\n",
       "      <th>AX3</th>\n",
       "      <td>NaN</td>\n",
       "      <td>NaN</td>\n",
       "      <td>NaN</td>\n",
       "      <td>NaN</td>\n",
       "      <td>NaN</td>\n",
       "      <td>NaN</td>\n",
       "      <td>NaN</td>\n",
       "      <td>NaN</td>\n",
       "      <td>NaN</td>\n",
       "      <td>NaN</td>\n",
       "      <td>...</td>\n",
       "      <td>NaN</td>\n",
       "      <td>0.627521</td>\n",
       "      <td>-0.116128</td>\n",
       "      <td>-0.149700</td>\n",
       "      <td>-0.028884</td>\n",
       "      <td>0.076724</td>\n",
       "      <td>-0.046442</td>\n",
       "      <td>-0.093758</td>\n",
       "      <td>-0.011555</td>\n",
       "      <td>0.000704</td>\n",
       "    </tr>\n",
       "    <tr>\n",
       "      <th>AX4</th>\n",
       "      <td>NaN</td>\n",
       "      <td>NaN</td>\n",
       "      <td>NaN</td>\n",
       "      <td>NaN</td>\n",
       "      <td>NaN</td>\n",
       "      <td>NaN</td>\n",
       "      <td>NaN</td>\n",
       "      <td>NaN</td>\n",
       "      <td>NaN</td>\n",
       "      <td>NaN</td>\n",
       "      <td>...</td>\n",
       "      <td>NaN</td>\n",
       "      <td>NaN</td>\n",
       "      <td>-0.227304</td>\n",
       "      <td>-0.134644</td>\n",
       "      <td>-0.121233</td>\n",
       "      <td>-0.084133</td>\n",
       "      <td>-0.175269</td>\n",
       "      <td>-0.131555</td>\n",
       "      <td>-0.110601</td>\n",
       "      <td>-0.113121</td>\n",
       "    </tr>\n",
       "    <tr>\n",
       "      <th>T1</th>\n",
       "      <td>NaN</td>\n",
       "      <td>NaN</td>\n",
       "      <td>NaN</td>\n",
       "      <td>NaN</td>\n",
       "      <td>NaN</td>\n",
       "      <td>NaN</td>\n",
       "      <td>NaN</td>\n",
       "      <td>NaN</td>\n",
       "      <td>NaN</td>\n",
       "      <td>NaN</td>\n",
       "      <td>...</td>\n",
       "      <td>NaN</td>\n",
       "      <td>NaN</td>\n",
       "      <td>NaN</td>\n",
       "      <td>0.824058</td>\n",
       "      <td>0.787973</td>\n",
       "      <td>0.664006</td>\n",
       "      <td>0.760890</td>\n",
       "      <td>0.656885</td>\n",
       "      <td>0.674247</td>\n",
       "      <td>0.720533</td>\n",
       "    </tr>\n",
       "    <tr>\n",
       "      <th>T2</th>\n",
       "      <td>NaN</td>\n",
       "      <td>NaN</td>\n",
       "      <td>NaN</td>\n",
       "      <td>NaN</td>\n",
       "      <td>NaN</td>\n",
       "      <td>NaN</td>\n",
       "      <td>NaN</td>\n",
       "      <td>NaN</td>\n",
       "      <td>NaN</td>\n",
       "      <td>NaN</td>\n",
       "      <td>...</td>\n",
       "      <td>NaN</td>\n",
       "      <td>NaN</td>\n",
       "      <td>NaN</td>\n",
       "      <td>NaN</td>\n",
       "      <td>0.797707</td>\n",
       "      <td>0.696140</td>\n",
       "      <td>0.717591</td>\n",
       "      <td>0.659772</td>\n",
       "      <td>0.712560</td>\n",
       "      <td>0.715496</td>\n",
       "    </tr>\n",
       "    <tr>\n",
       "      <th>T3</th>\n",
       "      <td>NaN</td>\n",
       "      <td>NaN</td>\n",
       "      <td>NaN</td>\n",
       "      <td>NaN</td>\n",
       "      <td>NaN</td>\n",
       "      <td>NaN</td>\n",
       "      <td>NaN</td>\n",
       "      <td>NaN</td>\n",
       "      <td>NaN</td>\n",
       "      <td>NaN</td>\n",
       "      <td>...</td>\n",
       "      <td>NaN</td>\n",
       "      <td>NaN</td>\n",
       "      <td>NaN</td>\n",
       "      <td>NaN</td>\n",
       "      <td>NaN</td>\n",
       "      <td>0.637812</td>\n",
       "      <td>0.689305</td>\n",
       "      <td>0.587945</td>\n",
       "      <td>0.641572</td>\n",
       "      <td>0.733966</td>\n",
       "    </tr>\n",
       "    <tr>\n",
       "      <th>T4</th>\n",
       "      <td>NaN</td>\n",
       "      <td>NaN</td>\n",
       "      <td>NaN</td>\n",
       "      <td>NaN</td>\n",
       "      <td>NaN</td>\n",
       "      <td>NaN</td>\n",
       "      <td>NaN</td>\n",
       "      <td>NaN</td>\n",
       "      <td>NaN</td>\n",
       "      <td>NaN</td>\n",
       "      <td>...</td>\n",
       "      <td>NaN</td>\n",
       "      <td>NaN</td>\n",
       "      <td>NaN</td>\n",
       "      <td>NaN</td>\n",
       "      <td>NaN</td>\n",
       "      <td>NaN</td>\n",
       "      <td>0.677650</td>\n",
       "      <td>0.620765</td>\n",
       "      <td>0.722763</td>\n",
       "      <td>0.687241</td>\n",
       "    </tr>\n",
       "    <tr>\n",
       "      <th>BI1</th>\n",
       "      <td>NaN</td>\n",
       "      <td>NaN</td>\n",
       "      <td>NaN</td>\n",
       "      <td>NaN</td>\n",
       "      <td>NaN</td>\n",
       "      <td>NaN</td>\n",
       "      <td>NaN</td>\n",
       "      <td>NaN</td>\n",
       "      <td>NaN</td>\n",
       "      <td>NaN</td>\n",
       "      <td>...</td>\n",
       "      <td>NaN</td>\n",
       "      <td>NaN</td>\n",
       "      <td>NaN</td>\n",
       "      <td>NaN</td>\n",
       "      <td>NaN</td>\n",
       "      <td>NaN</td>\n",
       "      <td>NaN</td>\n",
       "      <td>0.828993</td>\n",
       "      <td>0.791700</td>\n",
       "      <td>0.798186</td>\n",
       "    </tr>\n",
       "    <tr>\n",
       "      <th>BI2</th>\n",
       "      <td>NaN</td>\n",
       "      <td>NaN</td>\n",
       "      <td>NaN</td>\n",
       "      <td>NaN</td>\n",
       "      <td>NaN</td>\n",
       "      <td>NaN</td>\n",
       "      <td>NaN</td>\n",
       "      <td>NaN</td>\n",
       "      <td>NaN</td>\n",
       "      <td>NaN</td>\n",
       "      <td>...</td>\n",
       "      <td>NaN</td>\n",
       "      <td>NaN</td>\n",
       "      <td>NaN</td>\n",
       "      <td>NaN</td>\n",
       "      <td>NaN</td>\n",
       "      <td>NaN</td>\n",
       "      <td>NaN</td>\n",
       "      <td>NaN</td>\n",
       "      <td>0.802652</td>\n",
       "      <td>0.766846</td>\n",
       "    </tr>\n",
       "    <tr>\n",
       "      <th>BI3</th>\n",
       "      <td>NaN</td>\n",
       "      <td>NaN</td>\n",
       "      <td>NaN</td>\n",
       "      <td>NaN</td>\n",
       "      <td>NaN</td>\n",
       "      <td>NaN</td>\n",
       "      <td>NaN</td>\n",
       "      <td>NaN</td>\n",
       "      <td>NaN</td>\n",
       "      <td>NaN</td>\n",
       "      <td>...</td>\n",
       "      <td>NaN</td>\n",
       "      <td>NaN</td>\n",
       "      <td>NaN</td>\n",
       "      <td>NaN</td>\n",
       "      <td>NaN</td>\n",
       "      <td>NaN</td>\n",
       "      <td>NaN</td>\n",
       "      <td>NaN</td>\n",
       "      <td>NaN</td>\n",
       "      <td>0.884449</td>\n",
       "    </tr>\n",
       "    <tr>\n",
       "      <th>BI4</th>\n",
       "      <td>NaN</td>\n",
       "      <td>NaN</td>\n",
       "      <td>NaN</td>\n",
       "      <td>NaN</td>\n",
       "      <td>NaN</td>\n",
       "      <td>NaN</td>\n",
       "      <td>NaN</td>\n",
       "      <td>NaN</td>\n",
       "      <td>NaN</td>\n",
       "      <td>NaN</td>\n",
       "      <td>...</td>\n",
       "      <td>NaN</td>\n",
       "      <td>NaN</td>\n",
       "      <td>NaN</td>\n",
       "      <td>NaN</td>\n",
       "      <td>NaN</td>\n",
       "      <td>NaN</td>\n",
       "      <td>NaN</td>\n",
       "      <td>NaN</td>\n",
       "      <td>NaN</td>\n",
       "      <td>NaN</td>\n",
       "    </tr>\n",
       "  </tbody>\n",
       "</table>\n",
       "<p>36 rows × 36 columns</p>\n",
       "</div>"
      ],
      "text/plain": [
       "     PE1       PE2       PE3       PE4       EE1       EE2       EE3  \\\n",
       "PE1  NaN  0.835233  0.725600  0.730739  0.780623  0.654947  0.677241   \n",
       "PE2  NaN       NaN  0.794513  0.765794  0.675508  0.645924  0.661695   \n",
       "PE3  NaN       NaN       NaN  0.774089  0.608697  0.677799  0.604741   \n",
       "PE4  NaN       NaN       NaN       NaN  0.636272  0.681118  0.639758   \n",
       "EE1  NaN       NaN       NaN       NaN       NaN  0.762440  0.750047   \n",
       "EE2  NaN       NaN       NaN       NaN       NaN       NaN  0.758405   \n",
       "EE3  NaN       NaN       NaN       NaN       NaN       NaN       NaN   \n",
       "EE4  NaN       NaN       NaN       NaN       NaN       NaN       NaN   \n",
       "AT1  NaN       NaN       NaN       NaN       NaN       NaN       NaN   \n",
       "AT2  NaN       NaN       NaN       NaN       NaN       NaN       NaN   \n",
       "AT3  NaN       NaN       NaN       NaN       NaN       NaN       NaN   \n",
       "AT4  NaN       NaN       NaN       NaN       NaN       NaN       NaN   \n",
       "SI1  NaN       NaN       NaN       NaN       NaN       NaN       NaN   \n",
       "SI2  NaN       NaN       NaN       NaN       NaN       NaN       NaN   \n",
       "SI3  NaN       NaN       NaN       NaN       NaN       NaN       NaN   \n",
       "SI4  NaN       NaN       NaN       NaN       NaN       NaN       NaN   \n",
       "FC1  NaN       NaN       NaN       NaN       NaN       NaN       NaN   \n",
       "FC2  NaN       NaN       NaN       NaN       NaN       NaN       NaN   \n",
       "FC3  NaN       NaN       NaN       NaN       NaN       NaN       NaN   \n",
       "FC4  NaN       NaN       NaN       NaN       NaN       NaN       NaN   \n",
       "SE1  NaN       NaN       NaN       NaN       NaN       NaN       NaN   \n",
       "SE2  NaN       NaN       NaN       NaN       NaN       NaN       NaN   \n",
       "SE3  NaN       NaN       NaN       NaN       NaN       NaN       NaN   \n",
       "SE4  NaN       NaN       NaN       NaN       NaN       NaN       NaN   \n",
       "AX1  NaN       NaN       NaN       NaN       NaN       NaN       NaN   \n",
       "AX2  NaN       NaN       NaN       NaN       NaN       NaN       NaN   \n",
       "AX3  NaN       NaN       NaN       NaN       NaN       NaN       NaN   \n",
       "AX4  NaN       NaN       NaN       NaN       NaN       NaN       NaN   \n",
       "T1   NaN       NaN       NaN       NaN       NaN       NaN       NaN   \n",
       "T2   NaN       NaN       NaN       NaN       NaN       NaN       NaN   \n",
       "T3   NaN       NaN       NaN       NaN       NaN       NaN       NaN   \n",
       "T4   NaN       NaN       NaN       NaN       NaN       NaN       NaN   \n",
       "BI1  NaN       NaN       NaN       NaN       NaN       NaN       NaN   \n",
       "BI2  NaN       NaN       NaN       NaN       NaN       NaN       NaN   \n",
       "BI3  NaN       NaN       NaN       NaN       NaN       NaN       NaN   \n",
       "BI4  NaN       NaN       NaN       NaN       NaN       NaN       NaN   \n",
       "\n",
       "          EE4       AT1       AT2  ...       AX3       AX4        T1  \\\n",
       "PE1  0.617229  0.709411  0.628712  ... -0.123090 -0.184555  0.660050   \n",
       "PE2  0.661066  0.690479  0.647245  ... -0.051329 -0.101325  0.595035   \n",
       "PE3  0.622669  0.636145  0.679483  ... -0.090783 -0.016761  0.547468   \n",
       "PE4  0.702504  0.674317  0.733741  ... -0.043111 -0.137880  0.641736   \n",
       "EE1  0.716287  0.653017  0.596293  ... -0.128873 -0.174636  0.701972   \n",
       "EE2  0.797431  0.635274  0.633110  ... -0.168232 -0.225122  0.680571   \n",
       "EE3  0.806975  0.640132  0.638569  ... -0.116824 -0.235763  0.696280   \n",
       "EE4       NaN  0.644354  0.638600  ... -0.085887 -0.166941  0.645800   \n",
       "AT1       NaN       NaN  0.780686  ... -0.013025 -0.139762  0.616839   \n",
       "AT2       NaN       NaN       NaN  ...  0.005595 -0.094146  0.575390   \n",
       "AT3       NaN       NaN       NaN  ... -0.048506 -0.085700  0.499787   \n",
       "AT4       NaN       NaN       NaN  ... -0.073499 -0.148126  0.655977   \n",
       "SI1       NaN       NaN       NaN  ... -0.011994 -0.004980  0.414769   \n",
       "SI2       NaN       NaN       NaN  ... -0.062772 -0.088320  0.529370   \n",
       "SI3       NaN       NaN       NaN  ...  0.039997 -0.062954  0.503948   \n",
       "SI4       NaN       NaN       NaN  ...  0.013384 -0.071771  0.616139   \n",
       "FC1       NaN       NaN       NaN  ... -0.066806 -0.119416  0.634166   \n",
       "FC2       NaN       NaN       NaN  ... -0.138832 -0.255047  0.775803   \n",
       "FC3       NaN       NaN       NaN  ... -0.044817 -0.087339  0.619314   \n",
       "FC4       NaN       NaN       NaN  ... -0.007988 -0.124105  0.625000   \n",
       "SE1       NaN       NaN       NaN  ... -0.105694 -0.178928  0.680245   \n",
       "SE2       NaN       NaN       NaN  ...  0.105645 -0.082540  0.601424   \n",
       "SE3       NaN       NaN       NaN  ...  0.019649 -0.107132  0.651141   \n",
       "SE4       NaN       NaN       NaN  ...  0.034964 -0.094241  0.639471   \n",
       "AX1       NaN       NaN       NaN  ...  0.367353  0.464521  0.127418   \n",
       "AX2       NaN       NaN       NaN  ...  0.792885  0.613253 -0.068957   \n",
       "AX3       NaN       NaN       NaN  ...       NaN  0.627521 -0.116128   \n",
       "AX4       NaN       NaN       NaN  ...       NaN       NaN -0.227304   \n",
       "T1        NaN       NaN       NaN  ...       NaN       NaN       NaN   \n",
       "T2        NaN       NaN       NaN  ...       NaN       NaN       NaN   \n",
       "T3        NaN       NaN       NaN  ...       NaN       NaN       NaN   \n",
       "T4        NaN       NaN       NaN  ...       NaN       NaN       NaN   \n",
       "BI1       NaN       NaN       NaN  ...       NaN       NaN       NaN   \n",
       "BI2       NaN       NaN       NaN  ...       NaN       NaN       NaN   \n",
       "BI3       NaN       NaN       NaN  ...       NaN       NaN       NaN   \n",
       "BI4       NaN       NaN       NaN  ...       NaN       NaN       NaN   \n",
       "\n",
       "           T2        T3        T4       BI1       BI2       BI3       BI4  \n",
       "PE1  0.672744  0.627753  0.657686  0.705704  0.719527  0.746661  0.727006  \n",
       "PE2  0.675372  0.642348  0.604658  0.636311  0.654216  0.715026  0.718001  \n",
       "PE3  0.621414  0.630102  0.533779  0.574985  0.586452  0.669027  0.645617  \n",
       "PE4  0.681015  0.697144  0.594439  0.655556  0.621680  0.727400  0.729449  \n",
       "EE1  0.674657  0.677308  0.640904  0.634953  0.661093  0.655963  0.656850  \n",
       "EE2  0.679625  0.673919  0.599671  0.628496  0.608270  0.662576  0.620644  \n",
       "EE3  0.670219  0.700538  0.593044  0.655935  0.585558  0.626968  0.672501  \n",
       "EE4  0.654654  0.746758  0.537410  0.629173  0.563520  0.599056  0.663359  \n",
       "AT1  0.646978  0.650341  0.639711  0.725117  0.704624  0.722441  0.711177  \n",
       "AT2  0.639295  0.656581  0.604475  0.644678  0.606890  0.711945  0.691402  \n",
       "AT3  0.574853  0.596611  0.467217  0.529674  0.517741  0.580994  0.585184  \n",
       "AT4  0.668012  0.680116  0.633843  0.646597  0.638044  0.664287  0.650314  \n",
       "SI1  0.397966  0.494973  0.484774  0.445552  0.453917  0.482203  0.470310  \n",
       "SI2  0.508955  0.564247  0.503242  0.556401  0.545359  0.508553  0.533477  \n",
       "SI3  0.528293  0.613986  0.573101  0.537477  0.503717  0.582386  0.572372  \n",
       "SI4  0.595343  0.645811  0.574862  0.597409  0.519880  0.593852  0.605487  \n",
       "FC1  0.547547  0.573788  0.490951  0.538578  0.511754  0.519343  0.541494  \n",
       "FC2  0.664253  0.687094  0.584418  0.663116  0.627513  0.599100  0.640518  \n",
       "FC3  0.560383  0.619203  0.510113  0.509452  0.464177  0.482593  0.523342  \n",
       "FC4  0.602995  0.604774  0.615602  0.628956  0.572012  0.632597  0.627892  \n",
       "SE1  0.624988  0.655744  0.507675  0.576761  0.551322  0.579290  0.558265  \n",
       "SE2  0.577262  0.589713  0.634951  0.601199  0.607590  0.568020  0.575445  \n",
       "SE3  0.640057  0.665780  0.640122  0.618809  0.565817  0.617121  0.624799  \n",
       "SE4  0.614005  0.641198  0.653666  0.640235  0.590076  0.642656  0.658295  \n",
       "AX1  0.148305  0.108480  0.166756  0.122218  0.097500  0.179625  0.151673  \n",
       "AX2 -0.093495 -0.019157  0.109541 -0.013768 -0.053920  0.001627 -0.011947  \n",
       "AX3 -0.149700 -0.028884  0.076724 -0.046442 -0.093758 -0.011555  0.000704  \n",
       "AX4 -0.134644 -0.121233 -0.084133 -0.175269 -0.131555 -0.110601 -0.113121  \n",
       "T1   0.824058  0.787973  0.664006  0.760890  0.656885  0.674247  0.720533  \n",
       "T2        NaN  0.797707  0.696140  0.717591  0.659772  0.712560  0.715496  \n",
       "T3        NaN       NaN  0.637812  0.689305  0.587945  0.641572  0.733966  \n",
       "T4        NaN       NaN       NaN  0.677650  0.620765  0.722763  0.687241  \n",
       "BI1       NaN       NaN       NaN       NaN  0.828993  0.791700  0.798186  \n",
       "BI2       NaN       NaN       NaN       NaN       NaN  0.802652  0.766846  \n",
       "BI3       NaN       NaN       NaN       NaN       NaN       NaN  0.884449  \n",
       "BI4       NaN       NaN       NaN       NaN       NaN       NaN       NaN  \n",
       "\n",
       "[36 rows x 36 columns]"
      ]
     },
     "execution_count": 7,
     "metadata": {},
     "output_type": "execute_result"
    }
   ],
   "source": [
    "corr = create_corr_matrix(df_X, spearmanr)\n",
    "corr.values[np.tril_indices_from(corr.values)] = np.nan\n",
    "\n",
    "corr"
   ]
  },
  {
   "cell_type": "markdown",
   "id": "entertaining-penetration",
   "metadata": {},
   "source": [
    "#### Correlation Based Ranking\n",
    "\n",
    "![correlation_based_ranking.jpg](img/correlation_based_ranking.jpg)"
   ]
  },
  {
   "cell_type": "code",
   "execution_count": 8,
   "id": "floating-mexican",
   "metadata": {},
   "outputs": [
    {
     "data": {
      "text/html": [
       "<style  type=\"text/css\" >\n",
       "</style><table id=\"T_1d4de_\" ><thead>    <tr>        <th class=\"col_heading level0 col0\" >Rank</th>        <th class=\"col_heading level0 col1\" >Factors</th>        <th class=\"col_heading level0 col2\" >Weight For Ranking</th>    </tr></thead><tbody>\n",
       "                <tr>\n",
       "                                <td id=\"T_1d4de_row0_col0\" class=\"data row0 col0\" >1</td>\n",
       "                        <td id=\"T_1d4de_row0_col1\" class=\"data row0 col1\" >T4</td>\n",
       "                        <td id=\"T_1d4de_row0_col2\" class=\"data row0 col2\" >0.174474</td>\n",
       "            </tr>\n",
       "            <tr>\n",
       "                                <td id=\"T_1d4de_row1_col0\" class=\"data row1 col0\" >2</td>\n",
       "                        <td id=\"T_1d4de_row1_col1\" class=\"data row1 col1\" >BI1</td>\n",
       "                        <td id=\"T_1d4de_row1_col2\" class=\"data row1 col2\" >0.170224</td>\n",
       "            </tr>\n",
       "            <tr>\n",
       "                                <td id=\"T_1d4de_row2_col0\" class=\"data row2 col0\" >3</td>\n",
       "                        <td id=\"T_1d4de_row2_col1\" class=\"data row2 col1\" >SE4</td>\n",
       "                        <td id=\"T_1d4de_row2_col2\" class=\"data row2 col2\" >0.146783</td>\n",
       "            </tr>\n",
       "            <tr>\n",
       "                                <td id=\"T_1d4de_row3_col0\" class=\"data row3 col0\" >4</td>\n",
       "                        <td id=\"T_1d4de_row3_col1\" class=\"data row3 col1\" >T2</td>\n",
       "                        <td id=\"T_1d4de_row3_col2\" class=\"data row3 col2\" >0.138256</td>\n",
       "            </tr>\n",
       "            <tr>\n",
       "                                <td id=\"T_1d4de_row4_col0\" class=\"data row4 col0\" >5</td>\n",
       "                        <td id=\"T_1d4de_row4_col1\" class=\"data row4 col1\" >SE3</td>\n",
       "                        <td id=\"T_1d4de_row4_col2\" class=\"data row4 col2\" >0.130507</td>\n",
       "            </tr>\n",
       "            <tr>\n",
       "                                <td id=\"T_1d4de_row5_col0\" class=\"data row5 col0\" >6</td>\n",
       "                        <td id=\"T_1d4de_row5_col1\" class=\"data row5 col1\" >SE2</td>\n",
       "                        <td id=\"T_1d4de_row5_col2\" class=\"data row5 col2\" >0.128384</td>\n",
       "            </tr>\n",
       "            <tr>\n",
       "                                <td id=\"T_1d4de_row6_col0\" class=\"data row6 col0\" >7</td>\n",
       "                        <td id=\"T_1d4de_row6_col1\" class=\"data row6 col1\" >T3</td>\n",
       "                        <td id=\"T_1d4de_row6_col2\" class=\"data row6 col2\" >0.128300</td>\n",
       "            </tr>\n",
       "            <tr>\n",
       "                                <td id=\"T_1d4de_row7_col0\" class=\"data row7 col0\" >8</td>\n",
       "                        <td id=\"T_1d4de_row7_col1\" class=\"data row7 col1\" >FC4</td>\n",
       "                        <td id=\"T_1d4de_row7_col2\" class=\"data row7 col2\" >0.126647</td>\n",
       "            </tr>\n",
       "            <tr>\n",
       "                                <td id=\"T_1d4de_row8_col0\" class=\"data row8 col0\" >9</td>\n",
       "                        <td id=\"T_1d4de_row8_col1\" class=\"data row8 col1\" >AT1</td>\n",
       "                        <td id=\"T_1d4de_row8_col2\" class=\"data row8 col2\" >0.122876</td>\n",
       "            </tr>\n",
       "            <tr>\n",
       "                                <td id=\"T_1d4de_row9_col0\" class=\"data row9 col0\" >10</td>\n",
       "                        <td id=\"T_1d4de_row9_col1\" class=\"data row9 col1\" >T1</td>\n",
       "                        <td id=\"T_1d4de_row9_col2\" class=\"data row9 col2\" >0.117991</td>\n",
       "            </tr>\n",
       "            <tr>\n",
       "                                <td id=\"T_1d4de_row10_col0\" class=\"data row10 col0\" >11</td>\n",
       "                        <td id=\"T_1d4de_row10_col1\" class=\"data row10 col1\" >AT2</td>\n",
       "                        <td id=\"T_1d4de_row10_col2\" class=\"data row10 col2\" >0.111831</td>\n",
       "            </tr>\n",
       "            <tr>\n",
       "                                <td id=\"T_1d4de_row11_col0\" class=\"data row11 col0\" >12</td>\n",
       "                        <td id=\"T_1d4de_row11_col1\" class=\"data row11 col1\" >BI4</td>\n",
       "                        <td id=\"T_1d4de_row11_col2\" class=\"data row11 col2\" >0.108596</td>\n",
       "            </tr>\n",
       "            <tr>\n",
       "                                <td id=\"T_1d4de_row12_col0\" class=\"data row12 col0\" >13</td>\n",
       "                        <td id=\"T_1d4de_row12_col1\" class=\"data row12 col1\" >FC2</td>\n",
       "                        <td id=\"T_1d4de_row12_col2\" class=\"data row12 col2\" >0.105582</td>\n",
       "            </tr>\n",
       "            <tr>\n",
       "                                <td id=\"T_1d4de_row13_col0\" class=\"data row13 col0\" >14</td>\n",
       "                        <td id=\"T_1d4de_row13_col1\" class=\"data row13 col1\" >BI2</td>\n",
       "                        <td id=\"T_1d4de_row13_col2\" class=\"data row13 col2\" >0.104198</td>\n",
       "            </tr>\n",
       "            <tr>\n",
       "                                <td id=\"T_1d4de_row14_col0\" class=\"data row14 col0\" >15</td>\n",
       "                        <td id=\"T_1d4de_row14_col1\" class=\"data row14 col1\" >PE1</td>\n",
       "                        <td id=\"T_1d4de_row14_col2\" class=\"data row14 col2\" >0.099899</td>\n",
       "            </tr>\n",
       "            <tr>\n",
       "                                <td id=\"T_1d4de_row15_col0\" class=\"data row15 col0\" >16</td>\n",
       "                        <td id=\"T_1d4de_row15_col1\" class=\"data row15 col1\" >EE3</td>\n",
       "                        <td id=\"T_1d4de_row15_col2\" class=\"data row15 col2\" >0.097349</td>\n",
       "            </tr>\n",
       "            <tr>\n",
       "                                <td id=\"T_1d4de_row16_col0\" class=\"data row16 col0\" >17</td>\n",
       "                        <td id=\"T_1d4de_row16_col1\" class=\"data row16 col1\" >EE1</td>\n",
       "                        <td id=\"T_1d4de_row16_col2\" class=\"data row16 col2\" >0.096814</td>\n",
       "            </tr>\n",
       "            <tr>\n",
       "                                <td id=\"T_1d4de_row17_col0\" class=\"data row17 col0\" >18</td>\n",
       "                        <td id=\"T_1d4de_row17_col1\" class=\"data row17 col1\" >BI3</td>\n",
       "                        <td id=\"T_1d4de_row17_col2\" class=\"data row17 col2\" >0.093714</td>\n",
       "            </tr>\n",
       "            <tr>\n",
       "                                <td id=\"T_1d4de_row18_col0\" class=\"data row18 col0\" >19</td>\n",
       "                        <td id=\"T_1d4de_row18_col1\" class=\"data row18 col1\" >EE4</td>\n",
       "                        <td id=\"T_1d4de_row18_col2\" class=\"data row18 col2\" >0.084745</td>\n",
       "            </tr>\n",
       "            <tr>\n",
       "                                <td id=\"T_1d4de_row19_col0\" class=\"data row19 col0\" >20</td>\n",
       "                        <td id=\"T_1d4de_row19_col1\" class=\"data row19 col1\" >AX2</td>\n",
       "                        <td id=\"T_1d4de_row19_col2\" class=\"data row19 col2\" >0.083791</td>\n",
       "            </tr>\n",
       "            <tr>\n",
       "                                <td id=\"T_1d4de_row20_col0\" class=\"data row20 col0\" >21</td>\n",
       "                        <td id=\"T_1d4de_row20_col1\" class=\"data row20 col1\" >PE2</td>\n",
       "                        <td id=\"T_1d4de_row20_col2\" class=\"data row20 col2\" >0.078465</td>\n",
       "            </tr>\n",
       "            <tr>\n",
       "                                <td id=\"T_1d4de_row21_col0\" class=\"data row21 col0\" >22</td>\n",
       "                        <td id=\"T_1d4de_row21_col1\" class=\"data row21 col1\" >AX1</td>\n",
       "                        <td id=\"T_1d4de_row21_col2\" class=\"data row21 col2\" >0.065144</td>\n",
       "            </tr>\n",
       "            <tr>\n",
       "                                <td id=\"T_1d4de_row22_col0\" class=\"data row22 col0\" >23</td>\n",
       "                        <td id=\"T_1d4de_row22_col1\" class=\"data row22 col1\" >SI4</td>\n",
       "                        <td id=\"T_1d4de_row22_col2\" class=\"data row22 col2\" >0.063543</td>\n",
       "            </tr>\n",
       "            <tr>\n",
       "                                <td id=\"T_1d4de_row23_col0\" class=\"data row23 col0\" >24</td>\n",
       "                        <td id=\"T_1d4de_row23_col1\" class=\"data row23 col1\" >PE4</td>\n",
       "                        <td id=\"T_1d4de_row23_col2\" class=\"data row23 col2\" >0.060721</td>\n",
       "            </tr>\n",
       "            <tr>\n",
       "                                <td id=\"T_1d4de_row24_col0\" class=\"data row24 col0\" >25</td>\n",
       "                        <td id=\"T_1d4de_row24_col1\" class=\"data row24 col1\" >SE1</td>\n",
       "                        <td id=\"T_1d4de_row24_col2\" class=\"data row24 col2\" >0.059054</td>\n",
       "            </tr>\n",
       "            <tr>\n",
       "                                <td id=\"T_1d4de_row25_col0\" class=\"data row25 col0\" >26</td>\n",
       "                        <td id=\"T_1d4de_row25_col1\" class=\"data row25 col1\" >AT4</td>\n",
       "                        <td id=\"T_1d4de_row25_col2\" class=\"data row25 col2\" >0.054678</td>\n",
       "            </tr>\n",
       "            <tr>\n",
       "                                <td id=\"T_1d4de_row26_col0\" class=\"data row26 col0\" >27</td>\n",
       "                        <td id=\"T_1d4de_row26_col1\" class=\"data row26 col1\" >EE2</td>\n",
       "                        <td id=\"T_1d4de_row26_col2\" class=\"data row26 col2\" >0.054599</td>\n",
       "            </tr>\n",
       "            <tr>\n",
       "                                <td id=\"T_1d4de_row27_col0\" class=\"data row27 col0\" >28</td>\n",
       "                        <td id=\"T_1d4de_row27_col1\" class=\"data row27 col1\" >AX3</td>\n",
       "                        <td id=\"T_1d4de_row27_col2\" class=\"data row27 col2\" >0.052890</td>\n",
       "            </tr>\n",
       "            <tr>\n",
       "                                <td id=\"T_1d4de_row28_col0\" class=\"data row28 col0\" >29</td>\n",
       "                        <td id=\"T_1d4de_row28_col1\" class=\"data row28 col1\" >FC1</td>\n",
       "                        <td id=\"T_1d4de_row28_col2\" class=\"data row28 col2\" >0.048044</td>\n",
       "            </tr>\n",
       "            <tr>\n",
       "                                <td id=\"T_1d4de_row29_col0\" class=\"data row29 col0\" >30</td>\n",
       "                        <td id=\"T_1d4de_row29_col1\" class=\"data row29 col1\" >SI3</td>\n",
       "                        <td id=\"T_1d4de_row29_col2\" class=\"data row29 col2\" >0.045715</td>\n",
       "            </tr>\n",
       "            <tr>\n",
       "                                <td id=\"T_1d4de_row30_col0\" class=\"data row30 col0\" >31</td>\n",
       "                        <td id=\"T_1d4de_row30_col1\" class=\"data row30 col1\" >AT3</td>\n",
       "                        <td id=\"T_1d4de_row30_col2\" class=\"data row30 col2\" >0.044868</td>\n",
       "            </tr>\n",
       "            <tr>\n",
       "                                <td id=\"T_1d4de_row31_col0\" class=\"data row31 col0\" >32</td>\n",
       "                        <td id=\"T_1d4de_row31_col1\" class=\"data row31 col1\" >FC3</td>\n",
       "                        <td id=\"T_1d4de_row31_col2\" class=\"data row31 col2\" >0.044118</td>\n",
       "            </tr>\n",
       "            <tr>\n",
       "                                <td id=\"T_1d4de_row32_col0\" class=\"data row32 col0\" >33</td>\n",
       "                        <td id=\"T_1d4de_row32_col1\" class=\"data row32 col1\" >SI2</td>\n",
       "                        <td id=\"T_1d4de_row32_col2\" class=\"data row32 col2\" >0.020530</td>\n",
       "            </tr>\n",
       "            <tr>\n",
       "                                <td id=\"T_1d4de_row33_col0\" class=\"data row33 col0\" >34</td>\n",
       "                        <td id=\"T_1d4de_row33_col1\" class=\"data row33 col1\" >PE3</td>\n",
       "                        <td id=\"T_1d4de_row33_col2\" class=\"data row33 col2\" >0.017943</td>\n",
       "            </tr>\n",
       "            <tr>\n",
       "                                <td id=\"T_1d4de_row34_col0\" class=\"data row34 col0\" >35</td>\n",
       "                        <td id=\"T_1d4de_row34_col1\" class=\"data row34 col1\" >SI1</td>\n",
       "                        <td id=\"T_1d4de_row34_col2\" class=\"data row34 col2\" >-0.067868</td>\n",
       "            </tr>\n",
       "            <tr>\n",
       "                                <td id=\"T_1d4de_row35_col0\" class=\"data row35 col0\" >36</td>\n",
       "                        <td id=\"T_1d4de_row35_col1\" class=\"data row35 col1\" >AX4</td>\n",
       "                        <td id=\"T_1d4de_row35_col2\" class=\"data row35 col2\" >-0.077022</td>\n",
       "            </tr>\n",
       "    </tbody></table>"
      ],
      "text/plain": [
       "<pandas.io.formats.style.Styler at 0x1aa30771430>"
      ]
     },
     "execution_count": 8,
     "metadata": {},
     "output_type": "execute_result"
    }
   ],
   "source": [
    "func = pointbiserialr\n",
    "\n",
    "arr_list = []\n",
    "\n",
    "for col_ind in range(df_X.shape[1]):\n",
    "    name = df_X.columns[col_ind]\n",
    "    corr, p_val = func(df_X.iloc[:, col_ind], df_Y)\n",
    "    arr_list.append((col_ind ,name, corr))\n",
    "    \n",
    "# Sort Column By Correlation Value\n",
    "arr_list = sorted(arr_list, key = lambda x : x[2], reverse = True)\n",
    "\n",
    "mbf_df = pd.DataFrame(arr_list, index = [i + 1 for i in range(len(arr_list))], columns = [\"Rank\" ,\"Factors\", \"Weight For Ranking\"])\n",
    "\n",
    "mbf_df[\"Rank\"] = [ind + 1 for ind in range(mbf_df.shape[0])]\n",
    "\n",
    "mbf_df.style.hide_index()"
   ]
  },
  {
   "cell_type": "markdown",
   "id": "suspected-curtis",
   "metadata": {},
   "source": [
    "## Network Graph\n",
    "\n",
    "![correlation_based_network.jpg](img/correlation_based_network.jpg)"
   ]
  },
  {
   "cell_type": "code",
   "execution_count": 12,
   "id": "operational-ultimate",
   "metadata": {},
   "outputs": [
    {
     "data": {
      "application/vnd.plotly.v1+json": {
       "config": {
        "plotlyServerURL": "https://plot.ly"
       },
       "data": [
        {
         "hoverinfo": "none",
         "line": {
          "color": "#DCDCDC",
          "width": 1
         },
         "mode": "lines",
         "showlegend": false,
         "type": "scatter",
         "x": [
          0.34926741024825814,
          0.6459450329235469,
          null,
          0.34926741024825814,
          0.023656581624931,
          null,
          0.6459450329235469,
          0.8673251254468195,
          null,
          0.6459450329235469,
          0.7867017704557981,
          null,
          0.023656581624931,
          -0.04179763441363742,
          null,
          0.023656581624931,
          -0.1432408743696964,
          null,
          0.023656581624931,
          -0.1535691811071078,
          null,
          -0.04179763441363742,
          -0.1059501437015521,
          null,
          -0.1535691811071078,
          -0.3392714246591986,
          null,
          -0.1535691811071078,
          -0.2601283781775063,
          null,
          -0.2601283781775063,
          -0.47068087084085586,
          null,
          -0.2601283781775063,
          -0.41679034153759725,
          null,
          -0.2601283781775063,
          -0.20259216794838436,
          null,
          -0.20259216794838436,
          -0.170888899321115,
          null,
          -0.20259216794838436,
          -0.3553638418118556,
          null,
          -0.20259216794838436,
          -0.012622162810847107,
          null
         ],
         "y": [
          0.48785488517549264,
          0.5952207065856475,
          null,
          0.48785488517549264,
          0.3630681000376536,
          null,
          0.5952207065856475,
          0.5681166767275818,
          null,
          0.5952207065856475,
          0.7689482998919633,
          null,
          0.3630681000376536,
          0.6564696928047086,
          null,
          0.3630681000376536,
          0.4584294063449215,
          null,
          0.3630681000376536,
          0.0003991561267158038,
          null,
          0.6564696928047086,
          0.8788120176065664,
          null,
          0.0003991561267158038,
          0.06740903370652289,
          null,
          0.0003991561267158038,
          -0.38994513380718654,
          null,
          -0.38994513380718654,
          -0.34944133870190736,
          null,
          -0.38994513380718654,
          -0.5224375096889669,
          null,
          -0.38994513380718654,
          -0.7592124096083447,
          null,
          -0.7592124096083447,
          -0.9999999999999999,
          null,
          -0.7592124096083447,
          -0.9409016672978816,
          null,
          -0.7592124096083447,
          -0.8827899159034872,
          null
         ]
        },
        {
         "marker": {
          "color": [
           "#9eccb7",
           "#9eccb7",
           "#9eccb7",
           "#9eccb7",
           "#9eccb7",
           "#9eccb7",
           "#9eccb7",
           "#9eccb7",
           "#9eccb7",
           "#9eccb7",
           "#9eccb7",
           "#9eccb7",
           "#9eccb7",
           "#9eccb7",
           "#9eccb7",
           "#9eccb7"
          ],
          "line": {
           "width": 1
          },
          "size": [
           10,
           15,
           20,
           5,
           5,
           10,
           5,
           15,
           5,
           5,
           20,
           5,
           5,
           20,
           5,
           5,
           5
          ]
         },
         "mode": "markers+text",
         "showlegend": false,
         "text": [
          "PE1",
          "PE2",
          "EE1",
          "PE3",
          "PE4",
          "EE2",
          "EE3",
          "FC2",
          "EE4",
          "FC1",
          "T1",
          "T2",
          "T3",
          "BI1",
          "BI2",
          "BI3",
          "BI4"
         ],
         "textfont": {
          "size": 7
         },
         "textposition": "top center",
         "type": "scatter",
         "x": [
          0.34926741024825814,
          0.6459450329235469,
          0.023656581624931,
          0.8673251254468195,
          0.7867017704557981,
          -0.04179763441363742,
          -0.1432408743696964,
          -0.1535691811071078,
          -0.1059501437015521,
          -0.3392714246591986,
          -0.2601283781775063,
          -0.47068087084085586,
          -0.41679034153759725,
          -0.20259216794838436,
          -0.170888899321115,
          -0.3553638418118556,
          -0.012622162810847107
         ],
         "y": [
          0.48785488517549264,
          0.5952207065856475,
          0.3630681000376536,
          0.5681166767275818,
          0.7689482998919633,
          0.6564696928047086,
          0.4584294063449215,
          0.0003991561267158038,
          0.8788120176065664,
          0.06740903370652289,
          -0.38994513380718654,
          -0.34944133870190736,
          -0.5224375096889669,
          -0.7592124096083447,
          -0.9999999999999999,
          -0.9409016672978816,
          -0.8827899159034872
         ]
        }
       ],
       "layout": {
        "autosize": false,
        "height": 800,
        "hovermode": "closest",
        "plot_bgcolor": "#fff",
        "showlegend": false,
        "template": {
         "data": {
          "bar": [
           {
            "error_x": {
             "color": "#2a3f5f"
            },
            "error_y": {
             "color": "#2a3f5f"
            },
            "marker": {
             "line": {
              "color": "#E5ECF6",
              "width": 0.5
             },
             "pattern": {
              "fillmode": "overlay",
              "size": 10,
              "solidity": 0.2
             }
            },
            "type": "bar"
           }
          ],
          "barpolar": [
           {
            "marker": {
             "line": {
              "color": "#E5ECF6",
              "width": 0.5
             },
             "pattern": {
              "fillmode": "overlay",
              "size": 10,
              "solidity": 0.2
             }
            },
            "type": "barpolar"
           }
          ],
          "carpet": [
           {
            "aaxis": {
             "endlinecolor": "#2a3f5f",
             "gridcolor": "white",
             "linecolor": "white",
             "minorgridcolor": "white",
             "startlinecolor": "#2a3f5f"
            },
            "baxis": {
             "endlinecolor": "#2a3f5f",
             "gridcolor": "white",
             "linecolor": "white",
             "minorgridcolor": "white",
             "startlinecolor": "#2a3f5f"
            },
            "type": "carpet"
           }
          ],
          "choropleth": [
           {
            "colorbar": {
             "outlinewidth": 0,
             "ticks": ""
            },
            "type": "choropleth"
           }
          ],
          "contour": [
           {
            "colorbar": {
             "outlinewidth": 0,
             "ticks": ""
            },
            "colorscale": [
             [
              0,
              "#0d0887"
             ],
             [
              0.1111111111111111,
              "#46039f"
             ],
             [
              0.2222222222222222,
              "#7201a8"
             ],
             [
              0.3333333333333333,
              "#9c179e"
             ],
             [
              0.4444444444444444,
              "#bd3786"
             ],
             [
              0.5555555555555556,
              "#d8576b"
             ],
             [
              0.6666666666666666,
              "#ed7953"
             ],
             [
              0.7777777777777778,
              "#fb9f3a"
             ],
             [
              0.8888888888888888,
              "#fdca26"
             ],
             [
              1,
              "#f0f921"
             ]
            ],
            "type": "contour"
           }
          ],
          "contourcarpet": [
           {
            "colorbar": {
             "outlinewidth": 0,
             "ticks": ""
            },
            "type": "contourcarpet"
           }
          ],
          "heatmap": [
           {
            "colorbar": {
             "outlinewidth": 0,
             "ticks": ""
            },
            "colorscale": [
             [
              0,
              "#0d0887"
             ],
             [
              0.1111111111111111,
              "#46039f"
             ],
             [
              0.2222222222222222,
              "#7201a8"
             ],
             [
              0.3333333333333333,
              "#9c179e"
             ],
             [
              0.4444444444444444,
              "#bd3786"
             ],
             [
              0.5555555555555556,
              "#d8576b"
             ],
             [
              0.6666666666666666,
              "#ed7953"
             ],
             [
              0.7777777777777778,
              "#fb9f3a"
             ],
             [
              0.8888888888888888,
              "#fdca26"
             ],
             [
              1,
              "#f0f921"
             ]
            ],
            "type": "heatmap"
           }
          ],
          "heatmapgl": [
           {
            "colorbar": {
             "outlinewidth": 0,
             "ticks": ""
            },
            "colorscale": [
             [
              0,
              "#0d0887"
             ],
             [
              0.1111111111111111,
              "#46039f"
             ],
             [
              0.2222222222222222,
              "#7201a8"
             ],
             [
              0.3333333333333333,
              "#9c179e"
             ],
             [
              0.4444444444444444,
              "#bd3786"
             ],
             [
              0.5555555555555556,
              "#d8576b"
             ],
             [
              0.6666666666666666,
              "#ed7953"
             ],
             [
              0.7777777777777778,
              "#fb9f3a"
             ],
             [
              0.8888888888888888,
              "#fdca26"
             ],
             [
              1,
              "#f0f921"
             ]
            ],
            "type": "heatmapgl"
           }
          ],
          "histogram": [
           {
            "marker": {
             "pattern": {
              "fillmode": "overlay",
              "size": 10,
              "solidity": 0.2
             }
            },
            "type": "histogram"
           }
          ],
          "histogram2d": [
           {
            "colorbar": {
             "outlinewidth": 0,
             "ticks": ""
            },
            "colorscale": [
             [
              0,
              "#0d0887"
             ],
             [
              0.1111111111111111,
              "#46039f"
             ],
             [
              0.2222222222222222,
              "#7201a8"
             ],
             [
              0.3333333333333333,
              "#9c179e"
             ],
             [
              0.4444444444444444,
              "#bd3786"
             ],
             [
              0.5555555555555556,
              "#d8576b"
             ],
             [
              0.6666666666666666,
              "#ed7953"
             ],
             [
              0.7777777777777778,
              "#fb9f3a"
             ],
             [
              0.8888888888888888,
              "#fdca26"
             ],
             [
              1,
              "#f0f921"
             ]
            ],
            "type": "histogram2d"
           }
          ],
          "histogram2dcontour": [
           {
            "colorbar": {
             "outlinewidth": 0,
             "ticks": ""
            },
            "colorscale": [
             [
              0,
              "#0d0887"
             ],
             [
              0.1111111111111111,
              "#46039f"
             ],
             [
              0.2222222222222222,
              "#7201a8"
             ],
             [
              0.3333333333333333,
              "#9c179e"
             ],
             [
              0.4444444444444444,
              "#bd3786"
             ],
             [
              0.5555555555555556,
              "#d8576b"
             ],
             [
              0.6666666666666666,
              "#ed7953"
             ],
             [
              0.7777777777777778,
              "#fb9f3a"
             ],
             [
              0.8888888888888888,
              "#fdca26"
             ],
             [
              1,
              "#f0f921"
             ]
            ],
            "type": "histogram2dcontour"
           }
          ],
          "mesh3d": [
           {
            "colorbar": {
             "outlinewidth": 0,
             "ticks": ""
            },
            "type": "mesh3d"
           }
          ],
          "parcoords": [
           {
            "line": {
             "colorbar": {
              "outlinewidth": 0,
              "ticks": ""
             }
            },
            "type": "parcoords"
           }
          ],
          "pie": [
           {
            "automargin": true,
            "type": "pie"
           }
          ],
          "scatter": [
           {
            "marker": {
             "colorbar": {
              "outlinewidth": 0,
              "ticks": ""
             }
            },
            "type": "scatter"
           }
          ],
          "scatter3d": [
           {
            "line": {
             "colorbar": {
              "outlinewidth": 0,
              "ticks": ""
             }
            },
            "marker": {
             "colorbar": {
              "outlinewidth": 0,
              "ticks": ""
             }
            },
            "type": "scatter3d"
           }
          ],
          "scattercarpet": [
           {
            "marker": {
             "colorbar": {
              "outlinewidth": 0,
              "ticks": ""
             }
            },
            "type": "scattercarpet"
           }
          ],
          "scattergeo": [
           {
            "marker": {
             "colorbar": {
              "outlinewidth": 0,
              "ticks": ""
             }
            },
            "type": "scattergeo"
           }
          ],
          "scattergl": [
           {
            "marker": {
             "colorbar": {
              "outlinewidth": 0,
              "ticks": ""
             }
            },
            "type": "scattergl"
           }
          ],
          "scattermapbox": [
           {
            "marker": {
             "colorbar": {
              "outlinewidth": 0,
              "ticks": ""
             }
            },
            "type": "scattermapbox"
           }
          ],
          "scatterpolar": [
           {
            "marker": {
             "colorbar": {
              "outlinewidth": 0,
              "ticks": ""
             }
            },
            "type": "scatterpolar"
           }
          ],
          "scatterpolargl": [
           {
            "marker": {
             "colorbar": {
              "outlinewidth": 0,
              "ticks": ""
             }
            },
            "type": "scatterpolargl"
           }
          ],
          "scatterternary": [
           {
            "marker": {
             "colorbar": {
              "outlinewidth": 0,
              "ticks": ""
             }
            },
            "type": "scatterternary"
           }
          ],
          "surface": [
           {
            "colorbar": {
             "outlinewidth": 0,
             "ticks": ""
            },
            "colorscale": [
             [
              0,
              "#0d0887"
             ],
             [
              0.1111111111111111,
              "#46039f"
             ],
             [
              0.2222222222222222,
              "#7201a8"
             ],
             [
              0.3333333333333333,
              "#9c179e"
             ],
             [
              0.4444444444444444,
              "#bd3786"
             ],
             [
              0.5555555555555556,
              "#d8576b"
             ],
             [
              0.6666666666666666,
              "#ed7953"
             ],
             [
              0.7777777777777778,
              "#fb9f3a"
             ],
             [
              0.8888888888888888,
              "#fdca26"
             ],
             [
              1,
              "#f0f921"
             ]
            ],
            "type": "surface"
           }
          ],
          "table": [
           {
            "cells": {
             "fill": {
              "color": "#EBF0F8"
             },
             "line": {
              "color": "white"
             }
            },
            "header": {
             "fill": {
              "color": "#C8D4E3"
             },
             "line": {
              "color": "white"
             }
            },
            "type": "table"
           }
          ]
         },
         "layout": {
          "annotationdefaults": {
           "arrowcolor": "#2a3f5f",
           "arrowhead": 0,
           "arrowwidth": 1
          },
          "autotypenumbers": "strict",
          "coloraxis": {
           "colorbar": {
            "outlinewidth": 0,
            "ticks": ""
           }
          },
          "colorscale": {
           "diverging": [
            [
             0,
             "#8e0152"
            ],
            [
             0.1,
             "#c51b7d"
            ],
            [
             0.2,
             "#de77ae"
            ],
            [
             0.3,
             "#f1b6da"
            ],
            [
             0.4,
             "#fde0ef"
            ],
            [
             0.5,
             "#f7f7f7"
            ],
            [
             0.6,
             "#e6f5d0"
            ],
            [
             0.7,
             "#b8e186"
            ],
            [
             0.8,
             "#7fbc41"
            ],
            [
             0.9,
             "#4d9221"
            ],
            [
             1,
             "#276419"
            ]
           ],
           "sequential": [
            [
             0,
             "#0d0887"
            ],
            [
             0.1111111111111111,
             "#46039f"
            ],
            [
             0.2222222222222222,
             "#7201a8"
            ],
            [
             0.3333333333333333,
             "#9c179e"
            ],
            [
             0.4444444444444444,
             "#bd3786"
            ],
            [
             0.5555555555555556,
             "#d8576b"
            ],
            [
             0.6666666666666666,
             "#ed7953"
            ],
            [
             0.7777777777777778,
             "#fb9f3a"
            ],
            [
             0.8888888888888888,
             "#fdca26"
            ],
            [
             1,
             "#f0f921"
            ]
           ],
           "sequentialminus": [
            [
             0,
             "#0d0887"
            ],
            [
             0.1111111111111111,
             "#46039f"
            ],
            [
             0.2222222222222222,
             "#7201a8"
            ],
            [
             0.3333333333333333,
             "#9c179e"
            ],
            [
             0.4444444444444444,
             "#bd3786"
            ],
            [
             0.5555555555555556,
             "#d8576b"
            ],
            [
             0.6666666666666666,
             "#ed7953"
            ],
            [
             0.7777777777777778,
             "#fb9f3a"
            ],
            [
             0.8888888888888888,
             "#fdca26"
            ],
            [
             1,
             "#f0f921"
            ]
           ]
          },
          "colorway": [
           "#636efa",
           "#EF553B",
           "#00cc96",
           "#ab63fa",
           "#FFA15A",
           "#19d3f3",
           "#FF6692",
           "#B6E880",
           "#FF97FF",
           "#FECB52"
          ],
          "font": {
           "color": "#2a3f5f"
          },
          "geo": {
           "bgcolor": "white",
           "lakecolor": "white",
           "landcolor": "#E5ECF6",
           "showlakes": true,
           "showland": true,
           "subunitcolor": "white"
          },
          "hoverlabel": {
           "align": "left"
          },
          "hovermode": "closest",
          "mapbox": {
           "style": "light"
          },
          "paper_bgcolor": "white",
          "plot_bgcolor": "#E5ECF6",
          "polar": {
           "angularaxis": {
            "gridcolor": "white",
            "linecolor": "white",
            "ticks": ""
           },
           "bgcolor": "#E5ECF6",
           "radialaxis": {
            "gridcolor": "white",
            "linecolor": "white",
            "ticks": ""
           }
          },
          "scene": {
           "xaxis": {
            "backgroundcolor": "#E5ECF6",
            "gridcolor": "white",
            "gridwidth": 2,
            "linecolor": "white",
            "showbackground": true,
            "ticks": "",
            "zerolinecolor": "white"
           },
           "yaxis": {
            "backgroundcolor": "#E5ECF6",
            "gridcolor": "white",
            "gridwidth": 2,
            "linecolor": "white",
            "showbackground": true,
            "ticks": "",
            "zerolinecolor": "white"
           },
           "zaxis": {
            "backgroundcolor": "#E5ECF6",
            "gridcolor": "white",
            "gridwidth": 2,
            "linecolor": "white",
            "showbackground": true,
            "ticks": "",
            "zerolinecolor": "white"
           }
          },
          "shapedefaults": {
           "line": {
            "color": "#2a3f5f"
           }
          },
          "ternary": {
           "aaxis": {
            "gridcolor": "white",
            "linecolor": "white",
            "ticks": ""
           },
           "baxis": {
            "gridcolor": "white",
            "linecolor": "white",
            "ticks": ""
           },
           "bgcolor": "#E5ECF6",
           "caxis": {
            "gridcolor": "white",
            "linecolor": "white",
            "ticks": ""
           }
          },
          "title": {
           "x": 0.05
          },
          "xaxis": {
           "automargin": true,
           "gridcolor": "white",
           "linecolor": "white",
           "ticks": "",
           "title": {
            "standoff": 15
           },
           "zerolinecolor": "white",
           "zerolinewidth": 2
          },
          "yaxis": {
           "automargin": true,
           "gridcolor": "white",
           "linecolor": "white",
           "ticks": "",
           "title": {
            "standoff": 15
           },
           "zerolinecolor": "white",
           "zerolinewidth": 2
          }
         }
        },
        "title": {
         "text": "Important Features"
        },
        "width": 800,
        "xaxis": {
         "showgrid": false,
         "showline": false,
         "showticklabels": false,
         "ticks": "",
         "title": {
          "font": {
           "size": 20
          },
          "text": ""
         },
         "zeroline": false
        },
        "yaxis": {
         "showgrid": false,
         "showline": false,
         "showticklabels": false,
         "ticks": "",
         "title": {
          "font": {
           "size": 20
          },
          "text": ""
         },
         "zeroline": false
        }
       }
      },
      "text/html": [
       "<div>                            <div id=\"b6a1c332-b600-42b6-9211-6c24e508cd8b\" class=\"plotly-graph-div\" style=\"height:800px; width:800px;\"></div>            <script type=\"text/javascript\">                require([\"plotly\"], function(Plotly) {                    window.PLOTLYENV=window.PLOTLYENV || {};                                    if (document.getElementById(\"b6a1c332-b600-42b6-9211-6c24e508cd8b\")) {                    Plotly.newPlot(                        \"b6a1c332-b600-42b6-9211-6c24e508cd8b\",                        [{\"hoverinfo\":\"none\",\"line\":{\"color\":\"#DCDCDC\",\"width\":1},\"mode\":\"lines\",\"showlegend\":false,\"x\":[0.34926741024825814,0.6459450329235469,null,0.34926741024825814,0.023656581624931,null,0.6459450329235469,0.8673251254468195,null,0.6459450329235469,0.7867017704557981,null,0.023656581624931,-0.04179763441363742,null,0.023656581624931,-0.1432408743696964,null,0.023656581624931,-0.1535691811071078,null,-0.04179763441363742,-0.1059501437015521,null,-0.1535691811071078,-0.3392714246591986,null,-0.1535691811071078,-0.2601283781775063,null,-0.2601283781775063,-0.47068087084085586,null,-0.2601283781775063,-0.41679034153759725,null,-0.2601283781775063,-0.20259216794838436,null,-0.20259216794838436,-0.170888899321115,null,-0.20259216794838436,-0.3553638418118556,null,-0.20259216794838436,-0.012622162810847107,null],\"y\":[0.48785488517549264,0.5952207065856475,null,0.48785488517549264,0.3630681000376536,null,0.5952207065856475,0.5681166767275818,null,0.5952207065856475,0.7689482998919633,null,0.3630681000376536,0.6564696928047086,null,0.3630681000376536,0.4584294063449215,null,0.3630681000376536,0.0003991561267158038,null,0.6564696928047086,0.8788120176065664,null,0.0003991561267158038,0.06740903370652289,null,0.0003991561267158038,-0.38994513380718654,null,-0.38994513380718654,-0.34944133870190736,null,-0.38994513380718654,-0.5224375096889669,null,-0.38994513380718654,-0.7592124096083447,null,-0.7592124096083447,-0.9999999999999999,null,-0.7592124096083447,-0.9409016672978816,null,-0.7592124096083447,-0.8827899159034872,null],\"type\":\"scatter\"},{\"marker\":{\"color\":[\"#9eccb7\",\"#9eccb7\",\"#9eccb7\",\"#9eccb7\",\"#9eccb7\",\"#9eccb7\",\"#9eccb7\",\"#9eccb7\",\"#9eccb7\",\"#9eccb7\",\"#9eccb7\",\"#9eccb7\",\"#9eccb7\",\"#9eccb7\",\"#9eccb7\",\"#9eccb7\"],\"line\":{\"width\":1},\"size\":[10,15,20,5,5,10,5,15,5,5,20,5,5,20,5,5,5]},\"mode\":\"markers+text\",\"showlegend\":false,\"text\":[\"PE1\",\"PE2\",\"EE1\",\"PE3\",\"PE4\",\"EE2\",\"EE3\",\"FC2\",\"EE4\",\"FC1\",\"T1\",\"T2\",\"T3\",\"BI1\",\"BI2\",\"BI3\",\"BI4\"],\"textfont\":{\"size\":7},\"textposition\":\"top center\",\"x\":[0.34926741024825814,0.6459450329235469,0.023656581624931,0.8673251254468195,0.7867017704557981,-0.04179763441363742,-0.1432408743696964,-0.1535691811071078,-0.1059501437015521,-0.3392714246591986,-0.2601283781775063,-0.47068087084085586,-0.41679034153759725,-0.20259216794838436,-0.170888899321115,-0.3553638418118556,-0.012622162810847107],\"y\":[0.48785488517549264,0.5952207065856475,0.3630681000376536,0.5681166767275818,0.7689482998919633,0.6564696928047086,0.4584294063449215,0.0003991561267158038,0.8788120176065664,0.06740903370652289,-0.38994513380718654,-0.34944133870190736,-0.5224375096889669,-0.7592124096083447,-0.9999999999999999,-0.9409016672978816,-0.8827899159034872],\"type\":\"scatter\"}],                        {\"template\":{\"data\":{\"bar\":[{\"error_x\":{\"color\":\"#2a3f5f\"},\"error_y\":{\"color\":\"#2a3f5f\"},\"marker\":{\"line\":{\"color\":\"#E5ECF6\",\"width\":0.5},\"pattern\":{\"fillmode\":\"overlay\",\"size\":10,\"solidity\":0.2}},\"type\":\"bar\"}],\"barpolar\":[{\"marker\":{\"line\":{\"color\":\"#E5ECF6\",\"width\":0.5},\"pattern\":{\"fillmode\":\"overlay\",\"size\":10,\"solidity\":0.2}},\"type\":\"barpolar\"}],\"carpet\":[{\"aaxis\":{\"endlinecolor\":\"#2a3f5f\",\"gridcolor\":\"white\",\"linecolor\":\"white\",\"minorgridcolor\":\"white\",\"startlinecolor\":\"#2a3f5f\"},\"baxis\":{\"endlinecolor\":\"#2a3f5f\",\"gridcolor\":\"white\",\"linecolor\":\"white\",\"minorgridcolor\":\"white\",\"startlinecolor\":\"#2a3f5f\"},\"type\":\"carpet\"}],\"choropleth\":[{\"colorbar\":{\"outlinewidth\":0,\"ticks\":\"\"},\"type\":\"choropleth\"}],\"contour\":[{\"colorbar\":{\"outlinewidth\":0,\"ticks\":\"\"},\"colorscale\":[[0.0,\"#0d0887\"],[0.1111111111111111,\"#46039f\"],[0.2222222222222222,\"#7201a8\"],[0.3333333333333333,\"#9c179e\"],[0.4444444444444444,\"#bd3786\"],[0.5555555555555556,\"#d8576b\"],[0.6666666666666666,\"#ed7953\"],[0.7777777777777778,\"#fb9f3a\"],[0.8888888888888888,\"#fdca26\"],[1.0,\"#f0f921\"]],\"type\":\"contour\"}],\"contourcarpet\":[{\"colorbar\":{\"outlinewidth\":0,\"ticks\":\"\"},\"type\":\"contourcarpet\"}],\"heatmap\":[{\"colorbar\":{\"outlinewidth\":0,\"ticks\":\"\"},\"colorscale\":[[0.0,\"#0d0887\"],[0.1111111111111111,\"#46039f\"],[0.2222222222222222,\"#7201a8\"],[0.3333333333333333,\"#9c179e\"],[0.4444444444444444,\"#bd3786\"],[0.5555555555555556,\"#d8576b\"],[0.6666666666666666,\"#ed7953\"],[0.7777777777777778,\"#fb9f3a\"],[0.8888888888888888,\"#fdca26\"],[1.0,\"#f0f921\"]],\"type\":\"heatmap\"}],\"heatmapgl\":[{\"colorbar\":{\"outlinewidth\":0,\"ticks\":\"\"},\"colorscale\":[[0.0,\"#0d0887\"],[0.1111111111111111,\"#46039f\"],[0.2222222222222222,\"#7201a8\"],[0.3333333333333333,\"#9c179e\"],[0.4444444444444444,\"#bd3786\"],[0.5555555555555556,\"#d8576b\"],[0.6666666666666666,\"#ed7953\"],[0.7777777777777778,\"#fb9f3a\"],[0.8888888888888888,\"#fdca26\"],[1.0,\"#f0f921\"]],\"type\":\"heatmapgl\"}],\"histogram\":[{\"marker\":{\"pattern\":{\"fillmode\":\"overlay\",\"size\":10,\"solidity\":0.2}},\"type\":\"histogram\"}],\"histogram2d\":[{\"colorbar\":{\"outlinewidth\":0,\"ticks\":\"\"},\"colorscale\":[[0.0,\"#0d0887\"],[0.1111111111111111,\"#46039f\"],[0.2222222222222222,\"#7201a8\"],[0.3333333333333333,\"#9c179e\"],[0.4444444444444444,\"#bd3786\"],[0.5555555555555556,\"#d8576b\"],[0.6666666666666666,\"#ed7953\"],[0.7777777777777778,\"#fb9f3a\"],[0.8888888888888888,\"#fdca26\"],[1.0,\"#f0f921\"]],\"type\":\"histogram2d\"}],\"histogram2dcontour\":[{\"colorbar\":{\"outlinewidth\":0,\"ticks\":\"\"},\"colorscale\":[[0.0,\"#0d0887\"],[0.1111111111111111,\"#46039f\"],[0.2222222222222222,\"#7201a8\"],[0.3333333333333333,\"#9c179e\"],[0.4444444444444444,\"#bd3786\"],[0.5555555555555556,\"#d8576b\"],[0.6666666666666666,\"#ed7953\"],[0.7777777777777778,\"#fb9f3a\"],[0.8888888888888888,\"#fdca26\"],[1.0,\"#f0f921\"]],\"type\":\"histogram2dcontour\"}],\"mesh3d\":[{\"colorbar\":{\"outlinewidth\":0,\"ticks\":\"\"},\"type\":\"mesh3d\"}],\"parcoords\":[{\"line\":{\"colorbar\":{\"outlinewidth\":0,\"ticks\":\"\"}},\"type\":\"parcoords\"}],\"pie\":[{\"automargin\":true,\"type\":\"pie\"}],\"scatter\":[{\"marker\":{\"colorbar\":{\"outlinewidth\":0,\"ticks\":\"\"}},\"type\":\"scatter\"}],\"scatter3d\":[{\"line\":{\"colorbar\":{\"outlinewidth\":0,\"ticks\":\"\"}},\"marker\":{\"colorbar\":{\"outlinewidth\":0,\"ticks\":\"\"}},\"type\":\"scatter3d\"}],\"scattercarpet\":[{\"marker\":{\"colorbar\":{\"outlinewidth\":0,\"ticks\":\"\"}},\"type\":\"scattercarpet\"}],\"scattergeo\":[{\"marker\":{\"colorbar\":{\"outlinewidth\":0,\"ticks\":\"\"}},\"type\":\"scattergeo\"}],\"scattergl\":[{\"marker\":{\"colorbar\":{\"outlinewidth\":0,\"ticks\":\"\"}},\"type\":\"scattergl\"}],\"scattermapbox\":[{\"marker\":{\"colorbar\":{\"outlinewidth\":0,\"ticks\":\"\"}},\"type\":\"scattermapbox\"}],\"scatterpolar\":[{\"marker\":{\"colorbar\":{\"outlinewidth\":0,\"ticks\":\"\"}},\"type\":\"scatterpolar\"}],\"scatterpolargl\":[{\"marker\":{\"colorbar\":{\"outlinewidth\":0,\"ticks\":\"\"}},\"type\":\"scatterpolargl\"}],\"scatterternary\":[{\"marker\":{\"colorbar\":{\"outlinewidth\":0,\"ticks\":\"\"}},\"type\":\"scatterternary\"}],\"surface\":[{\"colorbar\":{\"outlinewidth\":0,\"ticks\":\"\"},\"colorscale\":[[0.0,\"#0d0887\"],[0.1111111111111111,\"#46039f\"],[0.2222222222222222,\"#7201a8\"],[0.3333333333333333,\"#9c179e\"],[0.4444444444444444,\"#bd3786\"],[0.5555555555555556,\"#d8576b\"],[0.6666666666666666,\"#ed7953\"],[0.7777777777777778,\"#fb9f3a\"],[0.8888888888888888,\"#fdca26\"],[1.0,\"#f0f921\"]],\"type\":\"surface\"}],\"table\":[{\"cells\":{\"fill\":{\"color\":\"#EBF0F8\"},\"line\":{\"color\":\"white\"}},\"header\":{\"fill\":{\"color\":\"#C8D4E3\"},\"line\":{\"color\":\"white\"}},\"type\":\"table\"}]},\"layout\":{\"annotationdefaults\":{\"arrowcolor\":\"#2a3f5f\",\"arrowhead\":0,\"arrowwidth\":1},\"autotypenumbers\":\"strict\",\"coloraxis\":{\"colorbar\":{\"outlinewidth\":0,\"ticks\":\"\"}},\"colorscale\":{\"diverging\":[[0,\"#8e0152\"],[0.1,\"#c51b7d\"],[0.2,\"#de77ae\"],[0.3,\"#f1b6da\"],[0.4,\"#fde0ef\"],[0.5,\"#f7f7f7\"],[0.6,\"#e6f5d0\"],[0.7,\"#b8e186\"],[0.8,\"#7fbc41\"],[0.9,\"#4d9221\"],[1,\"#276419\"]],\"sequential\":[[0.0,\"#0d0887\"],[0.1111111111111111,\"#46039f\"],[0.2222222222222222,\"#7201a8\"],[0.3333333333333333,\"#9c179e\"],[0.4444444444444444,\"#bd3786\"],[0.5555555555555556,\"#d8576b\"],[0.6666666666666666,\"#ed7953\"],[0.7777777777777778,\"#fb9f3a\"],[0.8888888888888888,\"#fdca26\"],[1.0,\"#f0f921\"]],\"sequentialminus\":[[0.0,\"#0d0887\"],[0.1111111111111111,\"#46039f\"],[0.2222222222222222,\"#7201a8\"],[0.3333333333333333,\"#9c179e\"],[0.4444444444444444,\"#bd3786\"],[0.5555555555555556,\"#d8576b\"],[0.6666666666666666,\"#ed7953\"],[0.7777777777777778,\"#fb9f3a\"],[0.8888888888888888,\"#fdca26\"],[1.0,\"#f0f921\"]]},\"colorway\":[\"#636efa\",\"#EF553B\",\"#00cc96\",\"#ab63fa\",\"#FFA15A\",\"#19d3f3\",\"#FF6692\",\"#B6E880\",\"#FF97FF\",\"#FECB52\"],\"font\":{\"color\":\"#2a3f5f\"},\"geo\":{\"bgcolor\":\"white\",\"lakecolor\":\"white\",\"landcolor\":\"#E5ECF6\",\"showlakes\":true,\"showland\":true,\"subunitcolor\":\"white\"},\"hoverlabel\":{\"align\":\"left\"},\"hovermode\":\"closest\",\"mapbox\":{\"style\":\"light\"},\"paper_bgcolor\":\"white\",\"plot_bgcolor\":\"#E5ECF6\",\"polar\":{\"angularaxis\":{\"gridcolor\":\"white\",\"linecolor\":\"white\",\"ticks\":\"\"},\"bgcolor\":\"#E5ECF6\",\"radialaxis\":{\"gridcolor\":\"white\",\"linecolor\":\"white\",\"ticks\":\"\"}},\"scene\":{\"xaxis\":{\"backgroundcolor\":\"#E5ECF6\",\"gridcolor\":\"white\",\"gridwidth\":2,\"linecolor\":\"white\",\"showbackground\":true,\"ticks\":\"\",\"zerolinecolor\":\"white\"},\"yaxis\":{\"backgroundcolor\":\"#E5ECF6\",\"gridcolor\":\"white\",\"gridwidth\":2,\"linecolor\":\"white\",\"showbackground\":true,\"ticks\":\"\",\"zerolinecolor\":\"white\"},\"zaxis\":{\"backgroundcolor\":\"#E5ECF6\",\"gridcolor\":\"white\",\"gridwidth\":2,\"linecolor\":\"white\",\"showbackground\":true,\"ticks\":\"\",\"zerolinecolor\":\"white\"}},\"shapedefaults\":{\"line\":{\"color\":\"#2a3f5f\"}},\"ternary\":{\"aaxis\":{\"gridcolor\":\"white\",\"linecolor\":\"white\",\"ticks\":\"\"},\"baxis\":{\"gridcolor\":\"white\",\"linecolor\":\"white\",\"ticks\":\"\"},\"bgcolor\":\"#E5ECF6\",\"caxis\":{\"gridcolor\":\"white\",\"linecolor\":\"white\",\"ticks\":\"\"}},\"title\":{\"x\":0.05},\"xaxis\":{\"automargin\":true,\"gridcolor\":\"white\",\"linecolor\":\"white\",\"ticks\":\"\",\"title\":{\"standoff\":15},\"zerolinecolor\":\"white\",\"zerolinewidth\":2},\"yaxis\":{\"automargin\":true,\"gridcolor\":\"white\",\"linecolor\":\"white\",\"ticks\":\"\",\"title\":{\"standoff\":15},\"zerolinecolor\":\"white\",\"zerolinewidth\":2}}},\"xaxis\":{\"title\":{\"text\":\"\",\"font\":{\"size\":20}},\"showgrid\":false,\"zeroline\":false,\"showline\":false,\"ticks\":\"\",\"showticklabels\":false},\"yaxis\":{\"title\":{\"text\":\"\",\"font\":{\"size\":20}},\"showgrid\":false,\"zeroline\":false,\"showline\":false,\"ticks\":\"\",\"showticklabels\":false},\"title\":{\"text\":\"Important Features\"},\"width\":800,\"height\":800,\"autosize\":false,\"showlegend\":false,\"hovermode\":\"closest\",\"plot_bgcolor\":\"#fff\"},                        {\"responsive\": true}                    ).then(function(){\n",
       "                            \n",
       "var gd = document.getElementById('b6a1c332-b600-42b6-9211-6c24e508cd8b');\n",
       "var x = new MutationObserver(function (mutations, observer) {{\n",
       "        var display = window.getComputedStyle(gd).display;\n",
       "        if (!display || display === 'none') {{\n",
       "            console.log([gd, 'removed!']);\n",
       "            Plotly.purge(gd);\n",
       "            observer.disconnect();\n",
       "        }}\n",
       "}});\n",
       "\n",
       "// Listen for the removal of the full notebook cells\n",
       "var notebookContainer = gd.closest('#notebook-container');\n",
       "if (notebookContainer) {{\n",
       "    x.observe(notebookContainer, {childList: true});\n",
       "}}\n",
       "\n",
       "// Listen for the clearing of the current output cell\n",
       "var outputEl = gd.closest('.output');\n",
       "if (outputEl) {{\n",
       "    x.observe(outputEl, {childList: true});\n",
       "}}\n",
       "\n",
       "                        })                };                });            </script>        </div>"
      ]
     },
     "metadata": {},
     "output_type": "display_data"
    }
   ],
   "source": [
    "# Create Pairwise Correlation Matrix\n",
    "corr_df = pairwise_correlation(df_X, spearmanr)\n",
    "\n",
    "# \"Winner Takes All Method\"\n",
    "threshold = 0.75\n",
    "\n",
    "# Retain Features where correlation is above threshold\n",
    "corr_df = corr_df.loc[abs(corr_df[\"correlation\"]) >= threshold]\n",
    "\n",
    "network_graph(corr_df, \"Important Features\")"
   ]
  },
  {
   "cell_type": "code",
   "execution_count": null,
   "id": "greater-melissa",
   "metadata": {},
   "outputs": [],
   "source": []
  }
 ],
 "metadata": {
  "kernelspec": {
   "display_name": "Python 3",
   "language": "python",
   "name": "python3"
  },
  "language_info": {
   "codemirror_mode": {
    "name": "ipython",
    "version": 3
   },
   "file_extension": ".py",
   "mimetype": "text/x-python",
   "name": "python",
   "nbconvert_exporter": "python",
   "pygments_lexer": "ipython3",
   "version": "3.9.1"
  }
 },
 "nbformat": 4,
 "nbformat_minor": 5
}
