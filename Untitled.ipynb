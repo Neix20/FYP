{
 "cells": [
  {
   "cell_type": "markdown",
   "id": "expired-arabic",
   "metadata": {},
   "source": [
    "## Load Libraries"
   ]
  },
  {
   "cell_type": "code",
   "execution_count": 1,
   "id": "essential-timeline",
   "metadata": {},
   "outputs": [],
   "source": [
    "import math\n",
    "import time\n",
    "import numpy as np\n",
    "import pandas as pd\n",
    "\n",
    "from sklearn import svm\n",
    "from sklearn.tree import DecisionTreeClassifier\n",
    "from sklearn.neighbors import KNeighborsClassifier\n",
    "from sklearn.ensemble import RandomForestClassifier\n",
    "from scipy.stats import pearsonr, spearmanr, kendalltau, pointbiserialr"
   ]
  },
  {
   "cell_type": "markdown",
   "id": "agricultural-flush",
   "metadata": {},
   "source": [
    "## Load Custom Made Libraries"
   ]
  },
  {
   "cell_type": "code",
   "execution_count": 2,
   "id": "tracked-manual",
   "metadata": {},
   "outputs": [],
   "source": [
    "from Utilities.accuracy import *\n",
    "from Utilities.CFS import *"
   ]
  },
  {
   "cell_type": "markdown",
   "id": "imported-medication",
   "metadata": {},
   "source": [
    "## Load Dataset"
   ]
  },
  {
   "cell_type": "code",
   "execution_count": 3,
   "id": "labeled-nudist",
   "metadata": {},
   "outputs": [],
   "source": [
    "df = pd.read_csv(\"Dataset/E-payment Cryptocurrency Coin.csv\")"
   ]
  },
  {
   "cell_type": "markdown",
   "id": "contemporary-configuration",
   "metadata": {},
   "source": [
    "## Split Dataset"
   ]
  },
  {
   "cell_type": "code",
   "execution_count": 4,
   "id": "amateur-nepal",
   "metadata": {},
   "outputs": [],
   "source": [
    "df_X = pd.DataFrame()\n",
    "\n",
    "column_arr = df.iloc[:, 28:].columns\n",
    "column_arr = [col.split(\": \")[0] for col in column_arr]\n",
    "\n",
    "for (ind, col_name) in enumerate(column_arr):\n",
    "    df_X[col_name] = df.iloc[:, 28 + ind]\n",
    "    \n",
    "# Change Data Type to int\n",
    "df_X = df_X.astype(int)"
   ]
  },
  {
   "cell_type": "code",
   "execution_count": 5,
   "id": "mighty-pricing",
   "metadata": {},
   "outputs": [],
   "source": [
    "df_Y = df.iloc[:, 17]\n",
    "\n",
    "# Replace Values\n",
    "df_Y = df_Y.replace(\"No\", 0)\n",
    "df_Y = df_Y.replace(\"Yes\", 1)\n",
    "\n",
    "# Change Data Type to int\n",
    "df_Y = df_Y.astype(int)"
   ]
  },
  {
   "cell_type": "markdown",
   "id": "sized-spine",
   "metadata": {},
   "source": [
    "## Accuracy.py"
   ]
  },
  {
   "cell_type": "code",
   "execution_count": 6,
   "id": "split-orleans",
   "metadata": {},
   "outputs": [
    {
     "name": "stdout",
     "output_type": "stream",
     "text": [
      "Accuracy Score: 87.21%\n"
     ]
    }
   ],
   "source": [
    "# Train Model\n",
    "rf_model = RandomForestClassifier()\n",
    "\n",
    "# Accuracy\n",
    "acc_score = get_acc_score(df_X, df_Y, rf_model)\n",
    "\n",
    "print(f\"Accuracy Score: {round(acc_score, 2)}%\")"
   ]
  },
  {
   "cell_type": "markdown",
   "id": "alpha-appearance",
   "metadata": {},
   "source": [
    "## CFS.py"
   ]
  },
  {
   "cell_type": "code",
   "execution_count": 7,
   "id": "delayed-provider",
   "metadata": {},
   "outputs": [
    {
     "data": {
      "text/plain": [
       "0.0973494535216039"
      ]
     },
     "execution_count": 7,
     "metadata": {},
     "output_type": "execute_result"
    }
   ],
   "source": [
    "tmp_X = df_X.iloc[:, [6]]\n",
    "tmp_Y = df_Y\n",
    "\n",
    "merit_calculation(tmp_X, tmp_Y, pearsonr)"
   ]
  },
  {
   "cell_type": "code",
   "execution_count": 8,
   "id": "turkish-merit",
   "metadata": {},
   "outputs": [],
   "source": [
    "feature_set = CFS(df_X, df_Y, pointbiserialr, 15)"
   ]
  },
  {
   "cell_type": "code",
   "execution_count": 9,
   "id": "electoral-volume",
   "metadata": {},
   "outputs": [
    {
     "data": {
      "text/plain": [
       "['AX2', 'T4', 'BI1']"
      ]
     },
     "execution_count": 9,
     "metadata": {},
     "output_type": "execute_result"
    }
   ],
   "source": [
    "feature_set"
   ]
  },
  {
   "cell_type": "code",
   "execution_count": null,
   "id": "funded-encounter",
   "metadata": {},
   "outputs": [],
   "source": []
  }
 ],
 "metadata": {
  "kernelspec": {
   "display_name": "Python 3",
   "language": "python",
   "name": "python3"
  },
  "language_info": {
   "codemirror_mode": {
    "name": "ipython",
    "version": 3
   },
   "file_extension": ".py",
   "mimetype": "text/x-python",
   "name": "python",
   "nbconvert_exporter": "python",
   "pygments_lexer": "ipython3",
   "version": "3.9.1"
  }
 },
 "nbformat": 4,
 "nbformat_minor": 5
}
