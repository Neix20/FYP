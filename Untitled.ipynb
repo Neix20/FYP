{
 "cells": [
  {
   "cell_type": "markdown",
   "id": "positive-meter",
   "metadata": {},
   "source": [
    "## Load Libraries"
   ]
  },
  {
   "cell_type": "code",
   "execution_count": 1,
   "id": "refined-executive",
   "metadata": {},
   "outputs": [],
   "source": [
    "import math\n",
    "import time\n",
    "import numpy as np\n",
    "import pandas as pd\n",
    "\n",
    "from sklearn import svm\n",
    "from sklearn.tree import DecisionTreeClassifier\n",
    "from sklearn.neighbors import KNeighborsClassifier\n",
    "from sklearn.ensemble import RandomForestClassifier\n",
    "from scipy.stats import pearsonr, spearmanr, kendalltau, pointbiserialr"
   ]
  },
  {
   "cell_type": "markdown",
   "id": "wireless-alert",
   "metadata": {},
   "source": [
    "## Load Custom Made Libraries"
   ]
  },
  {
   "cell_type": "code",
   "execution_count": 12,
   "id": "persistent-relations",
   "metadata": {},
   "outputs": [],
   "source": [
    "from Utilities.accuracy import *\n",
    "from Utilities.CFS import *\n",
    "from Utilities.corr_matrix import *\n",
    "from Visualization.network_graph import *"
   ]
  },
  {
   "cell_type": "markdown",
   "id": "pending-wedding",
   "metadata": {},
   "source": [
    "## Load Dataset"
   ]
  },
  {
   "cell_type": "code",
   "execution_count": 3,
   "id": "systematic-mouse",
   "metadata": {},
   "outputs": [],
   "source": [
    "df = pd.read_csv(\"Dataset/E-payment Cryptocurrency Coin.csv\")"
   ]
  },
  {
   "cell_type": "markdown",
   "id": "ranking-alberta",
   "metadata": {},
   "source": [
    "## Split Dataset"
   ]
  },
  {
   "cell_type": "code",
   "execution_count": 4,
   "id": "leading-costs",
   "metadata": {},
   "outputs": [],
   "source": [
    "df_X = pd.DataFrame()\n",
    "\n",
    "column_arr = df.iloc[:, 28:].columns\n",
    "column_arr = [col.split(\": \")[0] for col in column_arr]\n",
    "\n",
    "for (ind, col_name) in enumerate(column_arr):\n",
    "    df_X[col_name] = df.iloc[:, 28 + ind]\n",
    "    \n",
    "# Change Data Type to int\n",
    "df_X = df_X.astype(int)"
   ]
  },
  {
   "cell_type": "code",
   "execution_count": 5,
   "id": "absolute-confidentiality",
   "metadata": {},
   "outputs": [],
   "source": [
    "df_Y = df.iloc[:, 17]\n",
    "\n",
    "# Replace Values\n",
    "df_Y = df_Y.replace(\"No\", 0)\n",
    "df_Y = df_Y.replace(\"Yes\", 1)\n",
    "\n",
    "# Change Data Type to int\n",
    "df_Y = df_Y.astype(int)"
   ]
  },
  {
   "cell_type": "markdown",
   "id": "thousand-collect",
   "metadata": {},
   "source": [
    "## Accuracy.py"
   ]
  },
  {
   "cell_type": "code",
   "execution_count": 6,
   "id": "mineral-integrity",
   "metadata": {},
   "outputs": [
    {
     "name": "stdout",
     "output_type": "stream",
     "text": [
      "Accuracy Score: 87.21%\n"
     ]
    }
   ],
   "source": [
    "# Train Model\n",
    "rf_model = RandomForestClassifier()\n",
    "\n",
    "# Accuracy\n",
    "acc_score = get_acc_score(df_X, df_Y, rf_model)\n",
    "\n",
    "print(f\"Accuracy Score: {round(acc_score, 2)}%\")"
   ]
  },
  {
   "cell_type": "markdown",
   "id": "nominated-renewal",
   "metadata": {},
   "source": [
    "## CFS.py"
   ]
  },
  {
   "cell_type": "code",
   "execution_count": 7,
   "id": "unlikely-scotland",
   "metadata": {},
   "outputs": [
    {
     "data": {
      "text/plain": [
       "0.0973494535216039"
      ]
     },
     "execution_count": 7,
     "metadata": {},
     "output_type": "execute_result"
    }
   ],
   "source": [
    "tmp_X = df_X.iloc[:, [6]]\n",
    "tmp_Y = df_Y\n",
    "\n",
    "merit_calculation(tmp_X, tmp_Y, pearsonr)"
   ]
  },
  {
   "cell_type": "code",
   "execution_count": 8,
   "id": "daily-forwarding",
   "metadata": {},
   "outputs": [],
   "source": [
    "feature_set = CFS(df_X, df_Y, pointbiserialr, 15)"
   ]
  },
  {
   "cell_type": "code",
   "execution_count": 9,
   "id": "contemporary-greene",
   "metadata": {},
   "outputs": [
    {
     "data": {
      "text/plain": [
       "['AX2', 'T4', 'BI1']"
      ]
     },
     "execution_count": 9,
     "metadata": {},
     "output_type": "execute_result"
    }
   ],
   "source": [
    "feature_set"
   ]
  },
  {
   "cell_type": "markdown",
   "id": "regular-coupon",
   "metadata": {},
   "source": [
    "## Network Graph"
   ]
  },
  {
   "cell_type": "code",
   "execution_count": 14,
   "id": "digital-neutral",
   "metadata": {},
   "outputs": [
    {
     "data": {
      "text/html": [
       "<div>\n",
       "<style scoped>\n",
       "    .dataframe tbody tr th:only-of-type {\n",
       "        vertical-align: middle;\n",
       "    }\n",
       "\n",
       "    .dataframe tbody tr th {\n",
       "        vertical-align: top;\n",
       "    }\n",
       "\n",
       "    .dataframe thead th {\n",
       "        text-align: right;\n",
       "    }\n",
       "</style>\n",
       "<table border=\"1\" class=\"dataframe\">\n",
       "  <thead>\n",
       "    <tr style=\"text-align: right;\">\n",
       "      <th></th>\n",
       "      <th>Var A</th>\n",
       "      <th>Var B</th>\n",
       "      <th>correlation</th>\n",
       "    </tr>\n",
       "  </thead>\n",
       "  <tbody>\n",
       "    <tr>\n",
       "      <th>0</th>\n",
       "      <td>PE1</td>\n",
       "      <td>PE2</td>\n",
       "      <td>0.862990</td>\n",
       "    </tr>\n",
       "    <tr>\n",
       "      <th>1</th>\n",
       "      <td>PE1</td>\n",
       "      <td>PE3</td>\n",
       "      <td>0.772275</td>\n",
       "    </tr>\n",
       "    <tr>\n",
       "      <th>2</th>\n",
       "      <td>PE1</td>\n",
       "      <td>PE4</td>\n",
       "      <td>0.772238</td>\n",
       "    </tr>\n",
       "    <tr>\n",
       "      <th>3</th>\n",
       "      <td>PE1</td>\n",
       "      <td>EE1</td>\n",
       "      <td>0.770145</td>\n",
       "    </tr>\n",
       "    <tr>\n",
       "      <th>4</th>\n",
       "      <td>PE1</td>\n",
       "      <td>EE2</td>\n",
       "      <td>0.689365</td>\n",
       "    </tr>\n",
       "    <tr>\n",
       "      <th>...</th>\n",
       "      <td>...</td>\n",
       "      <td>...</td>\n",
       "      <td>...</td>\n",
       "    </tr>\n",
       "    <tr>\n",
       "      <th>625</th>\n",
       "      <td>BI1</td>\n",
       "      <td>BI3</td>\n",
       "      <td>0.820671</td>\n",
       "    </tr>\n",
       "    <tr>\n",
       "      <th>626</th>\n",
       "      <td>BI1</td>\n",
       "      <td>BI4</td>\n",
       "      <td>0.821714</td>\n",
       "    </tr>\n",
       "    <tr>\n",
       "      <th>627</th>\n",
       "      <td>BI2</td>\n",
       "      <td>BI3</td>\n",
       "      <td>0.810049</td>\n",
       "    </tr>\n",
       "    <tr>\n",
       "      <th>628</th>\n",
       "      <td>BI2</td>\n",
       "      <td>BI4</td>\n",
       "      <td>0.793440</td>\n",
       "    </tr>\n",
       "    <tr>\n",
       "      <th>629</th>\n",
       "      <td>BI3</td>\n",
       "      <td>BI4</td>\n",
       "      <td>0.892083</td>\n",
       "    </tr>\n",
       "  </tbody>\n",
       "</table>\n",
       "<p>630 rows × 3 columns</p>\n",
       "</div>"
      ],
      "text/plain": [
       "    Var A Var B  correlation\n",
       "0     PE1   PE2     0.862990\n",
       "1     PE1   PE3     0.772275\n",
       "2     PE1   PE4     0.772238\n",
       "3     PE1   EE1     0.770145\n",
       "4     PE1   EE2     0.689365\n",
       "..    ...   ...          ...\n",
       "625   BI1   BI3     0.820671\n",
       "626   BI1   BI4     0.821714\n",
       "627   BI2   BI3     0.810049\n",
       "628   BI2   BI4     0.793440\n",
       "629   BI3   BI4     0.892083\n",
       "\n",
       "[630 rows x 3 columns]"
      ]
     },
     "execution_count": 14,
     "metadata": {},
     "output_type": "execute_result"
    }
   ],
   "source": [
    "corr_matrix = pairwise_correlation(df_X, pearsonr)\n",
    "\n",
    "# 'winner takes all' method - set minium correlation threshold to remove some\n",
    "threshold = 0.75\n",
    "\n",
    "# Retain Correlation Above a Certain Threshold\n",
    "corr_matrix = corr_matrix[abs(edges[\"correlation\"]) >= threshold]"
   ]
  },
  {
   "cell_type": "code",
   "execution_count": null,
   "id": "alpha-improvement",
   "metadata": {},
   "outputs": [],
   "source": []
  }
 ],
 "metadata": {
  "kernelspec": {
   "display_name": "Python 3",
   "language": "python",
   "name": "python3"
  },
  "language_info": {
   "codemirror_mode": {
    "name": "ipython",
    "version": 3
   },
   "file_extension": ".py",
   "mimetype": "text/x-python",
   "name": "python",
   "nbconvert_exporter": "python",
   "pygments_lexer": "ipython3",
   "version": "3.9.1"
  }
 },
 "nbformat": 4,
 "nbformat_minor": 5
}
